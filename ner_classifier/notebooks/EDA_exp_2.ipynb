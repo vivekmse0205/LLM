{
  "nbformat": 4,
  "nbformat_minor": 0,
  "metadata": {
    "colab": {
      "provenance": [],
      "gpuType": "T4"
    },
    "kernelspec": {
      "name": "python3",
      "display_name": "Python 3"
    },
    "language_info": {
      "name": "python"
    },
    "accelerator": "GPU"
  },
  "cells": [
    {
      "cell_type": "markdown",
      "source": [
        "# Project Sections\n",
        "\n",
        "1.   Data Collection\n",
        "2.   Business understanding\n",
        "3.   Data Annotation\n",
        "4.   EDA Lifecyle\n",
        "5.   Model experiments/improvement (Python code)\n",
        "\n",
        "\n",
        "**Data Collection:**\n",
        "\n",
        "Data is collected as sentences in a csv file. Source of data - sapient.\n",
        "\n",
        "**Meta data understanding**\n",
        "\n",
        "Each sentence is split as word with their corresponding POS and NER tags.\n",
        "\n",
        "**Business understanding:**\n",
        "\n",
        "  The scope of the problem is limited to find the NER tags for a given sentence.\n",
        "\n",
        "**Data Annotation**\n",
        "Each word in sentences are annotated by NER tags.\n",
        "\n",
        "  \n",
        "\n",
        "\n",
        "\n",
        "\n",
        "\n",
        "\n"
      ],
      "metadata": {
        "id": "-qgM0NORUSq6"
      }
    },
    {
      "cell_type": "markdown",
      "source": [
        "## NER Entity information\n",
        "\n",
        "\n",
        "    geo = Geographical Entity\n",
        "    org = Organization\n",
        "    per = Person\n",
        "    gpe = Geopolitical Entity\n",
        "    tim = Time indicator\n",
        "    art = Artifact\n",
        "    eve = Event\n",
        "    nat = Natural Phenomenon\n",
        "\n",
        "## Components of IOB2 Format\n",
        "\n",
        "- **B-**: Indicates the Beginning of an entity.\n",
        "- **I-**: Indicates the Inside of an entity.\n",
        "- **O**: Indicates that the token is Outside of any entity.\n",
        "\n",
        "## How It Works\n",
        "\n",
        "1. **Entity Start**: Tokens that start an entity are tagged with `B-` followed by the entity type (e.g., `B-LOC` for a location, `B-PER` for a person).\n",
        "2. **Entity Continuation**: Tokens that are part of the entity but not at the start are tagged with `I-` followed by the same entity type.\n",
        "3. **Non-Entity Tokens**: Tokens that do not belong to any entity are tagged with `O`."
      ],
      "metadata": {
        "id": "12UFEhY1U_dE"
      }
    },
    {
      "cell_type": "markdown",
      "source": [
        "Mout the google drive (Where the dataset is located)"
      ],
      "metadata": {
        "id": "oX38MgvpVcM6"
      }
    },
    {
      "cell_type": "code",
      "execution_count": 28,
      "metadata": {
        "id": "_no5Bl8NHUiu",
        "colab": {
          "base_uri": "https://localhost:8080/"
        },
        "outputId": "d7eb845a-738c-421d-9227-e731edbe0cc1"
      },
      "outputs": [
        {
          "output_type": "stream",
          "name": "stdout",
          "text": [
            "Drive already mounted at /content/drive; to attempt to forcibly remount, call drive.mount(\"/content/drive\", force_remount=True).\n"
          ]
        }
      ],
      "source": [
        "from google.colab import drive\n",
        "drive.mount('/content/drive')\n",
        "dataset_path = '/content/drive/MyDrive/sapient'\n",
        "dataset_name = 'ner_dataset.csv'"
      ]
    },
    {
      "cell_type": "markdown",
      "source": [
        "## Import all the necessary library"
      ],
      "metadata": {
        "id": "WhRSP37_Wd9Q"
      }
    },
    {
      "cell_type": "code",
      "source": [
        "from __future__ import unicode_literals, print_function\n",
        "\n",
        "import csv\n",
        "import json\n",
        "import os\n",
        "import random\n",
        "import string\n",
        "from collections import Counter\n",
        "from datetime import datetime, timedelta\n",
        "from itertools import combinations\n",
        "from pathlib import Path\n",
        "\n",
        "import numpy as np\n",
        "import pandas as pd\n",
        "import plotly.express as px\n",
        "import plotly.graph_objects as go\n",
        "import seaborn as sns\n",
        "import matplotlib.pyplot as plt\n",
        "import spacy\n",
        "from spacy.tokens import DocBin\n",
        "from spacy.util import filter_spans\n",
        "from tqdm import tqdm\n",
        "from sklearn.model_selection import train_test_split"
      ],
      "metadata": {
        "id": "R__XnUrf5VtV"
      },
      "execution_count": 29,
      "outputs": []
    },
    {
      "cell_type": "code",
      "source": [
        "ner_dataset_path = os.path.join(dataset_path, dataset_name)"
      ],
      "metadata": {
        "id": "O-i-9bOy5y9x"
      },
      "execution_count": 30,
      "outputs": []
    },
    {
      "cell_type": "code",
      "source": [
        "# Reading CSV file using csv.reader\n",
        "file_path = ner_dataset_path\n",
        "with open(file_path, 'r', encoding='utf-8', errors='ignore') as file:\n",
        "    reader = csv.reader(file)\n",
        "    data = list(reader)"
      ],
      "metadata": {
        "id": "YgBNoaJb6Pxu"
      },
      "execution_count": 31,
      "outputs": []
    },
    {
      "cell_type": "code",
      "source": [
        "data[0:20]"
      ],
      "metadata": {
        "colab": {
          "base_uri": "https://localhost:8080/"
        },
        "id": "xzKljo1m_XNq",
        "outputId": "cbe95255-1ebd-4d40-d372-df625c4adf38"
      },
      "execution_count": null,
      "outputs": [
        {
          "output_type": "execute_result",
          "data": {
            "text/plain": [
              "[['Sentence #', 'Word', 'POS', 'Tag'],\n",
              " ['Sentence: 1', 'Thousands', 'NNS', 'O'],\n",
              " ['', 'of', 'IN', 'O'],\n",
              " ['', 'demonstrators', 'NNS', 'O'],\n",
              " ['', 'have', 'VBP', 'O'],\n",
              " ['', 'marched', 'VBN', 'O'],\n",
              " ['', 'through', 'IN', 'O'],\n",
              " ['', 'London', 'NNP', 'B-geo'],\n",
              " ['', 'to', 'TO', 'O'],\n",
              " ['', 'protest', 'VB', 'O'],\n",
              " ['', 'the', 'DT', 'O'],\n",
              " ['', 'war', 'NN', 'O'],\n",
              " ['', 'in', 'IN', 'O'],\n",
              " ['', 'Iraq', 'NNP', 'B-geo'],\n",
              " ['', 'and', 'CC', 'O'],\n",
              " ['', 'demand', 'VB', 'O'],\n",
              " ['', 'the', 'DT', 'O'],\n",
              " ['', 'withdrawal', 'NN', 'O'],\n",
              " ['', 'of', 'IN', 'O'],\n",
              " ['', 'British', 'JJ', 'B-gpe']]"
            ]
          },
          "metadata": {},
          "execution_count": 5
        }
      ]
    },
    {
      "cell_type": "code",
      "source": [
        "def parse_csv(file_path):\n",
        "    sentences = []\n",
        "    current_sentence = []\n",
        "\n",
        "    with open(file_path, 'r', encoding='utf-8', errors='ignore') as file:\n",
        "        reader = list(csv.reader(file))[1:]\n",
        "        for row in reader:\n",
        "            if row[0].startswith('Sentence:'):\n",
        "                if current_sentence:\n",
        "                    sentences.append(current_sentence)\n",
        "                    current_sentence = []\n",
        "                # Append the first token of the new sentence\n",
        "                if row[1]:\n",
        "                    current_sentence.append((row[1], row[3]))\n",
        "            else:\n",
        "                if row[1]:  # Ignore rows with empty token\n",
        "                    current_sentence.append((row[1], row[3]))\n",
        "\n",
        "        if current_sentence:\n",
        "            sentences.append(current_sentence)\n",
        "\n",
        "    return sentences"
      ],
      "metadata": {
        "id": "2qpOWbJ4_rga"
      },
      "execution_count": 32,
      "outputs": []
    },
    {
      "cell_type": "code",
      "source": [
        "sentences = parse_csv(file_path)"
      ],
      "metadata": {
        "id": "zyZnX3eEBajE"
      },
      "execution_count": 33,
      "outputs": []
    },
    {
      "cell_type": "code",
      "source": [
        "len(sentences)"
      ],
      "metadata": {
        "colab": {
          "base_uri": "https://localhost:8080/"
        },
        "id": "I30WhskIBbpz",
        "outputId": "a9c7955a-490c-43a9-dd55-459450e7ecb2"
      },
      "execution_count": null,
      "outputs": [
        {
          "output_type": "execute_result",
          "data": {
            "text/plain": [
              "47959"
            ]
          },
          "metadata": {},
          "execution_count": 8
        }
      ]
    },
    {
      "cell_type": "code",
      "source": [
        "sentences[2]"
      ],
      "metadata": {
        "colab": {
          "base_uri": "https://localhost:8080/"
        },
        "id": "xMhx82e1BfdQ",
        "outputId": "b9b8bce9-fb4a-4b3f-a451-dd3195174ee2"
      },
      "execution_count": null,
      "outputs": [
        {
          "output_type": "execute_result",
          "data": {
            "text/plain": [
              "[('They', 'O'),\n",
              " ('marched', 'O'),\n",
              " ('from', 'O'),\n",
              " ('the', 'O'),\n",
              " ('Houses', 'O'),\n",
              " ('of', 'O'),\n",
              " ('Parliament', 'O'),\n",
              " ('to', 'O'),\n",
              " ('a', 'O'),\n",
              " ('rally', 'O'),\n",
              " ('in', 'O'),\n",
              " ('Hyde', 'B-geo'),\n",
              " ('Park', 'I-geo'),\n",
              " ('.', 'O')]"
            ]
          },
          "metadata": {},
          "execution_count": 9
        }
      ]
    },
    {
      "cell_type": "code",
      "source": [
        "def sentences_to_dataframe(sentences):\n",
        "    data = []\n",
        "    for i, sentence in enumerate(sentences):\n",
        "        for token, ner in sentence:\n",
        "            data.append([i, token, ner])\n",
        "    df = pd.DataFrame(data, columns=['Sentence #', 'Token', 'NER'])\n",
        "    return df"
      ],
      "metadata": {
        "id": "FGnPfBNADAWC"
      },
      "execution_count": 34,
      "outputs": []
    },
    {
      "cell_type": "code",
      "source": [
        "df = sentences_to_dataframe(sentences)"
      ],
      "metadata": {
        "id": "_sSAa-D3EeTZ"
      },
      "execution_count": 35,
      "outputs": []
    },
    {
      "cell_type": "code",
      "source": [
        "print(df.head())"
      ],
      "metadata": {
        "colab": {
          "base_uri": "https://localhost:8080/"
        },
        "id": "7AjcuAkgEheP",
        "outputId": "e99f55eb-9ad6-4990-fea3-8f75fb89df64"
      },
      "execution_count": 36,
      "outputs": [
        {
          "output_type": "stream",
          "name": "stdout",
          "text": [
            "   Sentence #          Token NER\n",
            "0           0      Thousands   O\n",
            "1           0             of   O\n",
            "2           0  demonstrators   O\n",
            "3           0           have   O\n",
            "4           0        marched   O\n"
          ]
        }
      ]
    },
    {
      "cell_type": "code",
      "source": [
        "# Display basic information about the DataFrame\n",
        "print(df.info())"
      ],
      "metadata": {
        "colab": {
          "base_uri": "https://localhost:8080/"
        },
        "id": "-Oj_03H3EkFh",
        "outputId": "2b4bd8f5-03e4-4f38-a41c-b1d9d9d9d9ea"
      },
      "execution_count": null,
      "outputs": [
        {
          "output_type": "stream",
          "name": "stdout",
          "text": [
            "<class 'pandas.core.frame.DataFrame'>\n",
            "RangeIndex: 1048554 entries, 0 to 1048553\n",
            "Data columns (total 3 columns):\n",
            " #   Column      Non-Null Count    Dtype \n",
            "---  ------      --------------    ----- \n",
            " 0   Sentence #  1048554 non-null  int64 \n",
            " 1   Token       1048554 non-null  object\n",
            " 2   NER         1048554 non-null  object\n",
            "dtypes: int64(1), object(2)\n",
            "memory usage: 24.0+ MB\n",
            "None\n"
          ]
        }
      ]
    },
    {
      "cell_type": "code",
      "source": [
        "# Display the distribution of NER tags\n",
        "ner_counts = df['NER'].value_counts().reset_index()\n",
        "ner_counts.columns = ['NER', 'Count']"
      ],
      "metadata": {
        "id": "CV5qLsXxFK0T"
      },
      "execution_count": 37,
      "outputs": []
    },
    {
      "cell_type": "code",
      "source": [
        "fig = px.bar(ner_counts, x='NER', y='Count', title='Distribution of NER Tags')\n",
        "fig.show()"
      ],
      "metadata": {
        "colab": {
          "base_uri": "https://localhost:8080/",
          "height": 542
        },
        "id": "msworKtYFOqQ",
        "outputId": "5aaf936e-bdfb-4ae1-ba6c-eac3f79fe8ee"
      },
      "execution_count": 38,
      "outputs": [
        {
          "output_type": "display_data",
          "data": {
            "text/html": [
              "<html>\n",
              "<head><meta charset=\"utf-8\" /></head>\n",
              "<body>\n",
              "    <div>            <script src=\"https://cdnjs.cloudflare.com/ajax/libs/mathjax/2.7.5/MathJax.js?config=TeX-AMS-MML_SVG\"></script><script type=\"text/javascript\">if (window.MathJax && window.MathJax.Hub && window.MathJax.Hub.Config) {window.MathJax.Hub.Config({SVG: {font: \"STIX-Web\"}});}</script>                <script type=\"text/javascript\">window.PlotlyConfig = {MathJaxConfig: 'local'};</script>\n",
              "        <script charset=\"utf-8\" src=\"https://cdn.plot.ly/plotly-2.24.1.min.js\"></script>                <div id=\"cfe3b298-ea83-4d5a-887d-6d7d67fb02dc\" class=\"plotly-graph-div\" style=\"height:525px; width:100%;\"></div>            <script type=\"text/javascript\">                                    window.PLOTLYENV=window.PLOTLYENV || {};                                    if (document.getElementById(\"cfe3b298-ea83-4d5a-887d-6d7d67fb02dc\")) {                    Plotly.newPlot(                        \"cfe3b298-ea83-4d5a-887d-6d7d67fb02dc\",                        [{\"alignmentgroup\":\"True\",\"hovertemplate\":\"NER=%{x}\\u003cbr\\u003eCount=%{y}\\u003cextra\\u003e\\u003c\\u002fextra\\u003e\",\"legendgroup\":\"\",\"marker\":{\"color\":\"#636efa\",\"pattern\":{\"shape\":\"\"}},\"name\":\"\",\"offsetgroup\":\"\",\"orientation\":\"v\",\"showlegend\":false,\"textposition\":\"auto\",\"x\":[\"O\",\"B-geo\",\"B-tim\",\"B-org\",\"I-per\",\"B-per\",\"I-org\",\"B-gpe\",\"I-geo\",\"I-tim\",\"B-art\",\"B-eve\",\"I-art\",\"I-eve\",\"B-nat\",\"I-gpe\",\"I-nat\"],\"xaxis\":\"x\",\"y\":[887889,37644,20333,20143,17251,16990,16783,15870,7414,6527,402,308,297,253,201,198,51],\"yaxis\":\"y\",\"type\":\"bar\"}],                        {\"template\":{\"data\":{\"histogram2dcontour\":[{\"type\":\"histogram2dcontour\",\"colorbar\":{\"outlinewidth\":0,\"ticks\":\"\"},\"colorscale\":[[0.0,\"#0d0887\"],[0.1111111111111111,\"#46039f\"],[0.2222222222222222,\"#7201a8\"],[0.3333333333333333,\"#9c179e\"],[0.4444444444444444,\"#bd3786\"],[0.5555555555555556,\"#d8576b\"],[0.6666666666666666,\"#ed7953\"],[0.7777777777777778,\"#fb9f3a\"],[0.8888888888888888,\"#fdca26\"],[1.0,\"#f0f921\"]]}],\"choropleth\":[{\"type\":\"choropleth\",\"colorbar\":{\"outlinewidth\":0,\"ticks\":\"\"}}],\"histogram2d\":[{\"type\":\"histogram2d\",\"colorbar\":{\"outlinewidth\":0,\"ticks\":\"\"},\"colorscale\":[[0.0,\"#0d0887\"],[0.1111111111111111,\"#46039f\"],[0.2222222222222222,\"#7201a8\"],[0.3333333333333333,\"#9c179e\"],[0.4444444444444444,\"#bd3786\"],[0.5555555555555556,\"#d8576b\"],[0.6666666666666666,\"#ed7953\"],[0.7777777777777778,\"#fb9f3a\"],[0.8888888888888888,\"#fdca26\"],[1.0,\"#f0f921\"]]}],\"heatmap\":[{\"type\":\"heatmap\",\"colorbar\":{\"outlinewidth\":0,\"ticks\":\"\"},\"colorscale\":[[0.0,\"#0d0887\"],[0.1111111111111111,\"#46039f\"],[0.2222222222222222,\"#7201a8\"],[0.3333333333333333,\"#9c179e\"],[0.4444444444444444,\"#bd3786\"],[0.5555555555555556,\"#d8576b\"],[0.6666666666666666,\"#ed7953\"],[0.7777777777777778,\"#fb9f3a\"],[0.8888888888888888,\"#fdca26\"],[1.0,\"#f0f921\"]]}],\"heatmapgl\":[{\"type\":\"heatmapgl\",\"colorbar\":{\"outlinewidth\":0,\"ticks\":\"\"},\"colorscale\":[[0.0,\"#0d0887\"],[0.1111111111111111,\"#46039f\"],[0.2222222222222222,\"#7201a8\"],[0.3333333333333333,\"#9c179e\"],[0.4444444444444444,\"#bd3786\"],[0.5555555555555556,\"#d8576b\"],[0.6666666666666666,\"#ed7953\"],[0.7777777777777778,\"#fb9f3a\"],[0.8888888888888888,\"#fdca26\"],[1.0,\"#f0f921\"]]}],\"contourcarpet\":[{\"type\":\"contourcarpet\",\"colorbar\":{\"outlinewidth\":0,\"ticks\":\"\"}}],\"contour\":[{\"type\":\"contour\",\"colorbar\":{\"outlinewidth\":0,\"ticks\":\"\"},\"colorscale\":[[0.0,\"#0d0887\"],[0.1111111111111111,\"#46039f\"],[0.2222222222222222,\"#7201a8\"],[0.3333333333333333,\"#9c179e\"],[0.4444444444444444,\"#bd3786\"],[0.5555555555555556,\"#d8576b\"],[0.6666666666666666,\"#ed7953\"],[0.7777777777777778,\"#fb9f3a\"],[0.8888888888888888,\"#fdca26\"],[1.0,\"#f0f921\"]]}],\"surface\":[{\"type\":\"surface\",\"colorbar\":{\"outlinewidth\":0,\"ticks\":\"\"},\"colorscale\":[[0.0,\"#0d0887\"],[0.1111111111111111,\"#46039f\"],[0.2222222222222222,\"#7201a8\"],[0.3333333333333333,\"#9c179e\"],[0.4444444444444444,\"#bd3786\"],[0.5555555555555556,\"#d8576b\"],[0.6666666666666666,\"#ed7953\"],[0.7777777777777778,\"#fb9f3a\"],[0.8888888888888888,\"#fdca26\"],[1.0,\"#f0f921\"]]}],\"mesh3d\":[{\"type\":\"mesh3d\",\"colorbar\":{\"outlinewidth\":0,\"ticks\":\"\"}}],\"scatter\":[{\"fillpattern\":{\"fillmode\":\"overlay\",\"size\":10,\"solidity\":0.2},\"type\":\"scatter\"}],\"parcoords\":[{\"type\":\"parcoords\",\"line\":{\"colorbar\":{\"outlinewidth\":0,\"ticks\":\"\"}}}],\"scatterpolargl\":[{\"type\":\"scatterpolargl\",\"marker\":{\"colorbar\":{\"outlinewidth\":0,\"ticks\":\"\"}}}],\"bar\":[{\"error_x\":{\"color\":\"#2a3f5f\"},\"error_y\":{\"color\":\"#2a3f5f\"},\"marker\":{\"line\":{\"color\":\"#E5ECF6\",\"width\":0.5},\"pattern\":{\"fillmode\":\"overlay\",\"size\":10,\"solidity\":0.2}},\"type\":\"bar\"}],\"scattergeo\":[{\"type\":\"scattergeo\",\"marker\":{\"colorbar\":{\"outlinewidth\":0,\"ticks\":\"\"}}}],\"scatterpolar\":[{\"type\":\"scatterpolar\",\"marker\":{\"colorbar\":{\"outlinewidth\":0,\"ticks\":\"\"}}}],\"histogram\":[{\"marker\":{\"pattern\":{\"fillmode\":\"overlay\",\"size\":10,\"solidity\":0.2}},\"type\":\"histogram\"}],\"scattergl\":[{\"type\":\"scattergl\",\"marker\":{\"colorbar\":{\"outlinewidth\":0,\"ticks\":\"\"}}}],\"scatter3d\":[{\"type\":\"scatter3d\",\"line\":{\"colorbar\":{\"outlinewidth\":0,\"ticks\":\"\"}},\"marker\":{\"colorbar\":{\"outlinewidth\":0,\"ticks\":\"\"}}}],\"scattermapbox\":[{\"type\":\"scattermapbox\",\"marker\":{\"colorbar\":{\"outlinewidth\":0,\"ticks\":\"\"}}}],\"scatterternary\":[{\"type\":\"scatterternary\",\"marker\":{\"colorbar\":{\"outlinewidth\":0,\"ticks\":\"\"}}}],\"scattercarpet\":[{\"type\":\"scattercarpet\",\"marker\":{\"colorbar\":{\"outlinewidth\":0,\"ticks\":\"\"}}}],\"carpet\":[{\"aaxis\":{\"endlinecolor\":\"#2a3f5f\",\"gridcolor\":\"white\",\"linecolor\":\"white\",\"minorgridcolor\":\"white\",\"startlinecolor\":\"#2a3f5f\"},\"baxis\":{\"endlinecolor\":\"#2a3f5f\",\"gridcolor\":\"white\",\"linecolor\":\"white\",\"minorgridcolor\":\"white\",\"startlinecolor\":\"#2a3f5f\"},\"type\":\"carpet\"}],\"table\":[{\"cells\":{\"fill\":{\"color\":\"#EBF0F8\"},\"line\":{\"color\":\"white\"}},\"header\":{\"fill\":{\"color\":\"#C8D4E3\"},\"line\":{\"color\":\"white\"}},\"type\":\"table\"}],\"barpolar\":[{\"marker\":{\"line\":{\"color\":\"#E5ECF6\",\"width\":0.5},\"pattern\":{\"fillmode\":\"overlay\",\"size\":10,\"solidity\":0.2}},\"type\":\"barpolar\"}],\"pie\":[{\"automargin\":true,\"type\":\"pie\"}]},\"layout\":{\"autotypenumbers\":\"strict\",\"colorway\":[\"#636efa\",\"#EF553B\",\"#00cc96\",\"#ab63fa\",\"#FFA15A\",\"#19d3f3\",\"#FF6692\",\"#B6E880\",\"#FF97FF\",\"#FECB52\"],\"font\":{\"color\":\"#2a3f5f\"},\"hovermode\":\"closest\",\"hoverlabel\":{\"align\":\"left\"},\"paper_bgcolor\":\"white\",\"plot_bgcolor\":\"#E5ECF6\",\"polar\":{\"bgcolor\":\"#E5ECF6\",\"angularaxis\":{\"gridcolor\":\"white\",\"linecolor\":\"white\",\"ticks\":\"\"},\"radialaxis\":{\"gridcolor\":\"white\",\"linecolor\":\"white\",\"ticks\":\"\"}},\"ternary\":{\"bgcolor\":\"#E5ECF6\",\"aaxis\":{\"gridcolor\":\"white\",\"linecolor\":\"white\",\"ticks\":\"\"},\"baxis\":{\"gridcolor\":\"white\",\"linecolor\":\"white\",\"ticks\":\"\"},\"caxis\":{\"gridcolor\":\"white\",\"linecolor\":\"white\",\"ticks\":\"\"}},\"coloraxis\":{\"colorbar\":{\"outlinewidth\":0,\"ticks\":\"\"}},\"colorscale\":{\"sequential\":[[0.0,\"#0d0887\"],[0.1111111111111111,\"#46039f\"],[0.2222222222222222,\"#7201a8\"],[0.3333333333333333,\"#9c179e\"],[0.4444444444444444,\"#bd3786\"],[0.5555555555555556,\"#d8576b\"],[0.6666666666666666,\"#ed7953\"],[0.7777777777777778,\"#fb9f3a\"],[0.8888888888888888,\"#fdca26\"],[1.0,\"#f0f921\"]],\"sequentialminus\":[[0.0,\"#0d0887\"],[0.1111111111111111,\"#46039f\"],[0.2222222222222222,\"#7201a8\"],[0.3333333333333333,\"#9c179e\"],[0.4444444444444444,\"#bd3786\"],[0.5555555555555556,\"#d8576b\"],[0.6666666666666666,\"#ed7953\"],[0.7777777777777778,\"#fb9f3a\"],[0.8888888888888888,\"#fdca26\"],[1.0,\"#f0f921\"]],\"diverging\":[[0,\"#8e0152\"],[0.1,\"#c51b7d\"],[0.2,\"#de77ae\"],[0.3,\"#f1b6da\"],[0.4,\"#fde0ef\"],[0.5,\"#f7f7f7\"],[0.6,\"#e6f5d0\"],[0.7,\"#b8e186\"],[0.8,\"#7fbc41\"],[0.9,\"#4d9221\"],[1,\"#276419\"]]},\"xaxis\":{\"gridcolor\":\"white\",\"linecolor\":\"white\",\"ticks\":\"\",\"title\":{\"standoff\":15},\"zerolinecolor\":\"white\",\"automargin\":true,\"zerolinewidth\":2},\"yaxis\":{\"gridcolor\":\"white\",\"linecolor\":\"white\",\"ticks\":\"\",\"title\":{\"standoff\":15},\"zerolinecolor\":\"white\",\"automargin\":true,\"zerolinewidth\":2},\"scene\":{\"xaxis\":{\"backgroundcolor\":\"#E5ECF6\",\"gridcolor\":\"white\",\"linecolor\":\"white\",\"showbackground\":true,\"ticks\":\"\",\"zerolinecolor\":\"white\",\"gridwidth\":2},\"yaxis\":{\"backgroundcolor\":\"#E5ECF6\",\"gridcolor\":\"white\",\"linecolor\":\"white\",\"showbackground\":true,\"ticks\":\"\",\"zerolinecolor\":\"white\",\"gridwidth\":2},\"zaxis\":{\"backgroundcolor\":\"#E5ECF6\",\"gridcolor\":\"white\",\"linecolor\":\"white\",\"showbackground\":true,\"ticks\":\"\",\"zerolinecolor\":\"white\",\"gridwidth\":2}},\"shapedefaults\":{\"line\":{\"color\":\"#2a3f5f\"}},\"annotationdefaults\":{\"arrowcolor\":\"#2a3f5f\",\"arrowhead\":0,\"arrowwidth\":1},\"geo\":{\"bgcolor\":\"white\",\"landcolor\":\"#E5ECF6\",\"subunitcolor\":\"white\",\"showland\":true,\"showlakes\":true,\"lakecolor\":\"white\"},\"title\":{\"x\":0.05},\"mapbox\":{\"style\":\"light\"}}},\"xaxis\":{\"anchor\":\"y\",\"domain\":[0.0,1.0],\"title\":{\"text\":\"NER\"}},\"yaxis\":{\"anchor\":\"x\",\"domain\":[0.0,1.0],\"title\":{\"text\":\"Count\"}},\"legend\":{\"tracegroupgap\":0},\"title\":{\"text\":\"Distribution of NER Tags\"},\"barmode\":\"relative\"},                        {\"responsive\": true}                    ).then(function(){\n",
              "                            \n",
              "var gd = document.getElementById('cfe3b298-ea83-4d5a-887d-6d7d67fb02dc');\n",
              "var x = new MutationObserver(function (mutations, observer) {{\n",
              "        var display = window.getComputedStyle(gd).display;\n",
              "        if (!display || display === 'none') {{\n",
              "            console.log([gd, 'removed!']);\n",
              "            Plotly.purge(gd);\n",
              "            observer.disconnect();\n",
              "        }}\n",
              "}});\n",
              "\n",
              "// Listen for the removal of the full notebook cells\n",
              "var notebookContainer = gd.closest('#notebook-container');\n",
              "if (notebookContainer) {{\n",
              "    x.observe(notebookContainer, {childList: true});\n",
              "}}\n",
              "\n",
              "// Listen for the clearing of the current output cell\n",
              "var outputEl = gd.closest('.output');\n",
              "if (outputEl) {{\n",
              "    x.observe(outputEl, {childList: true});\n",
              "}}\n",
              "\n",
              "                        })                };                            </script>        </div>\n",
              "</body>\n",
              "</html>"
            ]
          },
          "metadata": {}
        }
      ]
    },
    {
      "cell_type": "markdown",
      "source": [
        "## Number of tokens per sentence"
      ],
      "metadata": {
        "id": "UiJSSrETeJn-"
      }
    },
    {
      "cell_type": "code",
      "source": [
        "# Display the number of tokens per sentence\n",
        "tokens_per_sentence = df.groupby('Sentence #')['Token'].count().reset_index()\n",
        "tokens_per_sentence.columns = ['Sentence #', 'Token Count']\n",
        "\n",
        "fig = px.histogram(tokens_per_sentence, x='Token Count', nbins=20, title='Distribution of Tokens per Sentence')\n",
        "fig.show()"
      ],
      "metadata": {
        "colab": {
          "base_uri": "https://localhost:8080/"
        },
        "id": "2eJDkEJCFRfi",
        "outputId": "577ffd1a-2e23-4618-f4d7-364197fe78db"
      },
      "execution_count": null,
      "outputs": [
        {
          "output_type": "display_data",
          "data": {
            "text/html": [
              "<html>\n",
              "<head><meta charset=\"utf-8\" /></head>\n",
              "<body>\n",
              "    <div>            <script src=\"https://cdnjs.cloudflare.com/ajax/libs/mathjax/2.7.5/MathJax.js?config=TeX-AMS-MML_SVG\"></script><script type=\"text/javascript\">if (window.MathJax && window.MathJax.Hub && window.MathJax.Hub.Config) {window.MathJax.Hub.Config({SVG: {font: \"STIX-Web\"}});}</script>                <script type=\"text/javascript\">window.PlotlyConfig = {MathJaxConfig: 'local'};</script>\n",
              "        <script charset=\"utf-8\" src=\"https://cdn.plot.ly/plotly-2.24.1.min.js\"></script>                <div id=\"c108dcc0-c93e-4ec1-ad07-3c9c6ac8a36b\" class=\"plotly-graph-div\" style=\"height:525px; width:100%;\"></div>            <script type=\"text/javascript\">                                    window.PLOTLYENV=window.PLOTLYENV || {};                                    if (document.getElementById(\"c108dcc0-c93e-4ec1-ad07-3c9c6ac8a36b\")) {                    Plotly.newPlot(                        \"c108dcc0-c93e-4ec1-ad07-3c9c6ac8a36b\",                        [{\"alignmentgroup\":\"True\",\"bingroup\":\"x\",\"hovertemplate\":\"Token Count=%{x}\\u003cbr\\u003ecount=%{y}\\u003cextra\\u003e\\u003c\\u002fextra\\u003e\",\"legendgroup\":\"\",\"marker\":{\"color\":\"#636efa\",\"pattern\":{\"shape\":\"\"}},\"name\":\"\",\"nbinsx\":20,\"offsetgroup\":\"\",\"orientation\":\"v\",\"showlegend\":false,\"x\":[24,30,14,15,25,24,21,28,15,25,12,34,29,26,40,10,22,34,20,24,23,29,25,32,14,23,19,19,25,7,29,22,25,26,35,30,21,34,10,21,27,19,35,29,24,24,26,10,9,23,22,38,39,14,17,20,24,31,22,9,15,7,24,34,8,41,26,34,32,21,7,17,14,29,21,30,37,22,14,24,30,20,18,25,11,17,20,21,29,14,28,24,20,27,7,34,12,32,25,32,13,16,18,13,28,9,18,18,20,12,26,10,28,32,22,20,26,21,11,34,27,14,15,24,14,34,26,18,19,23,21,24,28,13,23,22,23,18,23,38,26,15,24,25,33,25,20,36,19,9,16,20,27,4,36,24,40,32,18,21,24,11,17,11,17,28,21,15,26,14,20,17,25,28,7,21,22,10,12,20,6,10,28,17,21,41,25,19,35,23,23,17,25,18,20,27,25,18,21,28,30,20,6,31,17,30,18,27,25,15,24,11,25,26,40,17,26,30,30,29,21,22,30,21,15,14,15,22,12,22,20,27,17,27,30,26,28,24,8,21,21,15,15,27,30,34,20,18,17,13,23,10,12,14,12,6,15,29,29,32,30,30,28,15,7,11,28,15,21,32,22,24,17,16,22,16,27,26,23,22,23,23,14,24,21,17,10,26,38,29,16,23,17,11,20,11,29,19,31,22,25,20,16,26,18,22,18,15,21,22,27,31,23,25,17,20,32,23,24,29,14,26,15,21,15,29,19,12,15,19,16,12,30,27,30,46,22,23,14,27,23,24,26,14,15,22,30,27,31,18,29,26,19,15,12,20,19,19,7,9,40,27,26,14,12,12,20,36,29,21,17,19,19,15,40,29,34,34,35,19,13,25,18,27,17,30,28,23,18,9,9,14,27,32,31,16,20,26,22,10,26,23,11,25,18,13,29,27,27,44,31,26,25,14,22,11,21,31,20,16,17,33,21,10,23,13,32,28,26,36,23,9,11,18,17,28,13,19,20,21,38,16,13,9,26,12,13,20,19,40,24,31,23,6,28,14,21,20,18,23,24,22,20,36,25,13,27,10,26,15,21,12,19,17,18,18,25,24,29,29,26,24,24,25,37,34,15,15,17,19,19,21,25,17,9,25,41,25,24,29,26,22,18,12,12,21,37,18,32,24,27,12,21,26,29,17,16,18,15,22,21,26,15,31,24,25,23,8,25,27,15,32,25,24,14,29,22,23,24,28,27,20,11,21,20,33,34,33,15,20,28,17,20,18,21,17,11,27,19,24,43,24,25,20,31,31,21,42,25,27,36,13,31,27,35,19,31,14,29,13,14,27,38,41,23,14,17,26,24,39,18,18,15,19,18,16,27,13,6,22,14,11,32,32,36,29,28,62,12,46,9,15,29,29,17,17,30,30,15,31,26,28,26,29,13,19,12,24,13,24,32,27,12,12,17,39,9,26,18,39,16,16,36,23,17,24,27,18,23,40,32,25,20,21,17,19,21,10,16,29,23,27,10,15,32,15,19,20,9,11,10,12,15,34,15,20,15,15,16,20,13,27,19,21,13,17,25,40,41,22,20,11,28,26,43,30,38,28,28,10,25,36,14,9,25,14,28,20,15,21,18,10,6,30,18,32,12,20,36,30,9,34,18,24,32,32,8,33,33,24,27,30,12,32,29,25,23,23,13,19,22,22,11,12,17,21,20,17,15,32,26,19,17,29,21,20,16,25,25,27,30,32,27,22,18,31,26,10,5,22,21,24,25,38,28,12,28,27,27,18,21,17,11,22,34,21,22,30,18,27,25,37,13,43,20,26,26,31,12,24,27,25,31,32,6,25,36,36,19,28,19,19,18,9,20,23,33,23,18,28,11,31,8,27,17,15,14,26,22,29,37,26,13,31,4,20,24,24,12,9,12,21,27,31,23,24,18,14,14,23,22,11,14,16,18,13,32,18,25,27,12,21,12,16,22,25,19,19,27,20,10,25,18,28,6,14,20,28,22,24,22,31,37,16,23,13,18,22,37,21,25,28,16,30,27,30,15,11,19,42,15,21,30,34,27,21,18,9,34,25,24,28,29,23,24,17,11,7,28,26,13,33,13,19,24,21,21,32,27,12,21,15,38,18,28,15,22,16,21,23,15,22,21,23,20,15,9,13,13,20,17,17,20,40,30,28,36,17,16,32,27,15,10,11,20,24,13,35,22,13,10,24,37,26,7,11,15,14,24,17,24,30,15,17,16,14,35,25,25,28,26,34,17,22,24,23,18,24,12,11,12,19,14,10,18,22,23,17,20,10,25,28,26,43,34,26,24,24,27,19,34,7,28,29,22,13,41,26,21,21,21,16,36,28,13,22,27,34,22,26,32,17,15,23,25,8,24,30,12,18,18,19,16,16,18,32,27,30,22,35,28,29,29,20,24,20,28,20,27,18,17,10,31,24,24,23,21,16,25,21,31,17,19,26,35,31,19,19,22,18,28,27,21,9,21,21,16,24,19,20,29,16,21,24,22,10,15,24,20,11,26,28,17,13,23,15,11,18,25,34,21,16,20,23,25,22,6,35,11,9,23,27,40,10,17,19,25,33,47,16,22,17,31,24,17,18,14,22,34,45,38,25,11,28,30,30,14,14,13,9,33,23,32,27,27,34,38,30,26,24,27,40,36,28,11,11,16,36,24,35,37,31,22,28,30,24,10,25,21,12,15,14,13,21,37,18,24,24,24,28,14,15,10,20,24,17,24,34,21,26,13,27,15,20,19,13,15,20,14,26,38,33,9,18,20,19,28,17,12,28,16,26,33,20,13,10,27,22,22,7,29,20,10,22,5,23,25,19,21,13,25,34,14,5,21,36,28,19,20,23,23,29,18,29,16,28,43,48,32,15,14,33,49,46,30,48,33,18,29,17,34,21,26,17,27,25,12,39,25,39,16,47,34,60,21,25,16,24,28,28,13,20,21,8,25,24,27,18,13,19,43,20,24,20,20,23,24,19,18,20,24,34,35,16,23,21,9,15,22,13,24,28,17,28,18,26,12,25,34,30,24,29,25,24,33,18,16,10,27,30,22,5,12,11,19,22,26,13,18,34,20,36,44,23,29,14,23,25,35,20,14,20,6,20,25,17,16,27,25,26,22,15,22,23,22,29,40,27,28,21,30,18,23,28,22,23,28,26,10,19,19,16,21,25,19,13,8,21,8,28,28,24,16,39,10,21,43,25,13,28,24,32,10,23,26,25,18,22,26,18,21,20,19,24,10,21,13,19,25,34,27,38,20,31,19,23,25,19,16,25,18,10,20,26,13,29,21,23,20,23,38,30,14,15,27,21,43,23,20,23,34,28,27,19,28,8,16,12,19,16,8,22,12,10,14,26,33,23,21,25,18,29,22,26,25,14,25,10,27,15,29,19,28,37,19,29,35,18,20,24,23,22,24,8,37,22,24,27,15,27,15,37,33,35,15,14,8,20,27,25,17,13,22,17,32,19,18,22,11,15,34,17,11,21,14,24,10,13,11,17,31,17,24,14,23,27,15,23,31,20,19,30,30,39,30,25,31,24,24,23,23,27,14,18,22,20,33,20,14,11,30,21,27,24,13,27,18,12,31,24,7,22,13,11,2,35,28,24,26,15,33,15,14,19,23,19,21,13,21,21,20,29,32,24,20,19,11,22,12,28,24,19,21,14,23,16,20,26,28,19,20,11,32,25,23,23,26,18,20,21,27,34,22,30,24,27,9,16,21,32,31,30,23,11,27,21,14,17,25,17,19,28,46,16,12,22,25,15,18,9,30,24,28,27,32,29,31,13,37,20,19,22,26,15,13,13,28,29,22,11,19,23,17,15,17,31,24,21,17,11,17,16,25,8,16,28,24,13,28,17,21,18,29,18,24,25,21,38,29,37,32,34,7,32,15,19,41,22,20,14,26,28,11,24,28,24,16,18,40,27,33,29,28,25,14,18,31,22,17,22,13,19,27,39,21,36,16,30,10,22,14,23,22,18,27,18,12,11,18,36,23,15,23,16,22,8,23,20,17,35,11,22,35,23,10,35,29,29,29,18,17,9,16,15,21,9,25,37,23,18,40,20,28,26,19,29,38,28,25,30,29,18,20,12,28,17,15,36,16,21,22,18,23,14,12,22,17,26,14,18,20,31,31,21,9,26,30,26,13,35,16,9,17,21,21,19,34,49,12,22,33,25,29,30,14,21,9,24,18,47,15,17,25,14,36,32,31,18,13,15,11,16,38,25,25,42,24,26,24,21,35,34,16,8,22,29,12,30,9,24,16,18,19,17,27,16,23,20,30,18,19,31,14,10,24,26,22,33,33,20,21,6,25,25,17,17,31,25,16,27,28,8,25,25,16,11,10,8,34,36,14,36,13,24,13,33,41,17,24,21,28,11,17,18,19,8,28,22,21,21,21,11,15,22,28,30,18,18,30,15,23,22,24,15,32,15,31,22,15,22,11,18,15,31,20,18,29,10,11,15,30,20,11,21,29,25,20,20,18,11,16,23,13,29,24,23,15,24,6,21,7,16,20,23,19,22,19,26,23,29,21,15,27,14,27,14,29,25,27,29,19,28,28,20,23,19,30,13,21,31,24,33,17,18,23,29,15,24,21,27,12,9,24,21,18,21,8,18,13,14,27,26,14,16,16,13,9,9,14,31,23,16,32,20,20,7,26,23,18,14,10,25,28,23,15,29,22,12,9,26,18,12,15,27,22,18,10,32,13,13,7,27,24,17,26,10,14,19,14,13,20,10,24,18,31,17,18,10,30,24,18,9,24,11,25,20,19,16,13,14,21,20,23,12,22,24,33,20,23,22,22,15,8,35,24,23,41,24,32,28,22,25,25,6,32,23,13,20,33,21,26,26,15,18,25,17,19,32,14,12,23,27,35,26,26,11,21,21,17,13,23,7,14,19,17,28,26,11,13,18,27,23,20,11,21,36,13,10,13,24,24,16,21,13,25,24,33,25,18,8,13,7,14,18,25,6,29,10,36,32,22,19,31,26,12,9,11,9,17,9,16,31,23,15,31,37,31,24,19,9,33,31,25,30,14,19,18,22,34,15,17,18,21,15,40,16,23,31,11,37,26,34,23,29,24,33,15,16,37,23,28,19,34,12,20,21,35,30,19,41,15,28,25,23,31,23,16,28,8,34,18,38,9,19,25,16,15,22,24,16,32,40,28,38,17,23,12,19,19,16,32,13,20,33,16,35,23,28,23,29,10,22,22,25,22,24,19,22,13,28,16,30,18,30,28,26,17,30,10,33,18,22,22,34,30,37,24,15,19,10,21,29,40,14,19,16,29,28,15,19,24,18,34,33,22,9,25,17,19,22,19,22,17,20,12,17,21,18,23,15,10,33,17,10,8,12,23,27,13,32,28,41,44,19,32,16,38,28,20,36,24,27,39,52,9,11,25,22,28,25,35,8,13,24,21,31,35,22,19,41,17,11,19,20,9,17,14,21,32,18,24,15,21,25,30,21,29,18,27,19,27,15,15,15,20,13,28,33,38,20,19,26,30,12,19,11,22,33,23,21,32,6,22,24,18,27,18,16,32,23,20,24,30,17,6,24,26,26,13,27,27,22,17,18,15,18,14,19,14,30,25,21,31,27,20,20,20,12,16,33,10,4,22,22,4,21,29,14,18,20,15,19,31,13,15,15,21,18,26,28,13,29,19,21,22,28,27,16,36,38,8,29,26,23,24,21,33,15,17,22,32,23,22,56,20,31,24,17,33,6,25,27,21,33,11,9,21,25,70,24,13,18,32,14,21,46,6,23,12,28,25,30,14,15,25,17,15,21,29,25,22,14,28,18,25,22,28,14,9,25,40,27,29,34,31,30,36,37,18,31,26,15,27,33,19,15,13,26,33,24,25,6,22,24,23,25,14,27,20,30,27,11,17,22,27,15,11,38,28,19,12,29,15,10,16,29,28,35,38,29,20,33,33,20,36,23,28,22,18,15,24,29,16,33,20,20,27,21,13,20,16,28,37,34,16,15,8,20,17,25,25,29,24,21,21,37,21,6,31,10,13,20,14,18,20,25,28,43,26,33,27,28,29,15,16,17,22,19,21,31,26,9,21,20,25,27,19,33,25,37,36,31,23,24,29,19,19,29,22,19,24,23,12,30,34,28,23,35,19,8,24,20,20,40,18,28,14,29,28,36,11,13,21,19,38,21,8,33,5,29,8,10,23,25,16,12,18,13,11,13,16,29,23,29,20,15,32,19,26,27,15,27,22,15,32,25,22,30,10,24,26,15,19,18,11,32,7,21,18,19,13,27,18,19,29,26,8,31,27,14,26,30,9,14,10,11,13,25,22,21,20,26,16,29,23,17,25,19,25,35,21,15,25,24,20,18,16,13,14,21,27,24,17,16,19,20,20,31,22,28,22,17,26,35,26,16,22,21,15,25,26,20,20,22,17,16,18,21,48,7,21,32,31,19,15,14,20,24,19,28,17,25,16,38,12,7,20,29,8,32,6,30,24,28,22,27,22,15,14,10,12,19,27,20,21,26,25,21,31,19,18,31,10,30,25,31,22,27,20,11,28,27,21,22,20,14,29,28,12,18,12,32,22,17,26,34,11,21,29,23,13,33,16,22,20,31,22,11,22,20,27,31,30,32,21,12,26,16,15,26,16,23,27,16,10,30,22,20,23,13,20,30,21,19,19,22,10,19,18,22,29,27,23,23,30,21,37,21,11,22,17,17,17,28,28,7,13,12,22,31,17,9,11,22,22,19,8,9,31,26,24,20,12,12,16,49,24,15,13,13,23,36,15,33,13,20,22,20,8,30,27,27,14,25,11,16,10,26,39,23,31,16,16,23,10,20,15,14,16,13,20,18,14,21,31,22,28,27,20,35,16,17,26,23,21,15,25,27,15,16,25,24,15,10,5,13,18,9,13,25,8,22,17,21,14,16,24,25,31,30,12,12,26,23,17,21,27,10,12,5,23,14,20,12,23,22,16,8,12,9,21,13,28,29,16,30,18,23,23,25,20,20,21,16,15,29,29,27,25,41,19,31,22,20,18,22,23,24,22,15,13,19,7,8,22,31,18,10,31,19,24,27,23,30,38,16,26,32,26,9,26,13,24,38,33,17,20,23,31,24,23,9,9,17,13,9,14,19,32,21,24,26,23,22,22,21,16,18,8,26,22,10,20,31,24,32,14,40,29,38,15,22,18,35,34,15,16,30,24,42,26,20,27,19,20,25,27,23,31,20,21,14,21,13,23,11,18,60,41,40,28,25,44,34,30,40,29,23,24,26,24,15,37,21,24,11,12,21,24,13,17,9,18,34,13,11,25,19,17,18,28,15,20,35,31,33,28,44,19,28,33,16,23,17,21,30,22,9,36,16,16,21,12,14,14,23,19,23,31,32,16,20,28,26,41,14,24,27,26,16,18,14,16,21,22,27,31,20,9,12,21,28,26,20,13,25,30,31,30,19,28,15,9,16,29,13,31,18,19,19,31,25,20,25,23,18,10,8,40,27,39,26,15,18,14,18,42,44,36,25,25,19,15,27,23,21,19,27,23,14,10,22,18,18,10,18,20,16,6,19,30,34,18,27,13,18,29,30,17,24,26,15,17,27,28,32,23,18,28,18,22,22,39,18,18,26,17,23,21,20,7,15,27,28,27,32,27,25,21,34,14,17,6,10,22,13,35,29,29,32,30,17,33,24,27,25,35,30,10,14,27,18,25,26,27,14,19,27,19,41,34,17,14,27,16,25,6,29,32,18,32,29,7,26,24,13,7,31,21,22,27,19,35,23,22,22,28,16,16,21,12,18,13,26,18,29,19,21,20,16,27,30,31,11,15,31,26,16,14,9,14,23,15,6,30,12,20,20,23,26,23,39,36,23,13,18,28,21,30,32,26,30,35,18,33,36,14,14,25,38,19,20,16,15,25,23,29,10,24,29,15,9,18,20,30,15,11,16,19,12,13,29,15,15,22,12,21,24,20,18,15,14,18,21,23,21,19,11,12,11,30,21,27,25,34,23,31,52,22,22,15,23,14,20,19,22,19,14,25,5,16,17,38,24,23,25,18,24,10,25,11,25,21,9,8,21,21,15,23,16,28,18,20,19,20,12,13,17,37,33,32,28,11,28,12,9,13,15,26,22,15,31,36,15,25,11,25,27,28,18,31,27,21,15,11,15,25,27,35,26,6,23,27,7,11,27,22,10,10,22,20,24,25,13,17,18,28,16,18,24,27,13,33,16,28,20,19,21,16,9,21,20,24,29,20,23,27,21,16,24,11,21,33,23,5,22,16,35,29,9,35,9,18,20,31,22,23,19,25,8,22,18,11,11,15,14,14,16,13,26,24,20,15,9,22,25,35,19,35,39,34,32,32,20,15,28,26,24,37,11,27,26,26,14,13,25,25,16,12,16,20,17,18,13,25,20,28,28,12,35,33,31,28,21,20,33,22,11,29,21,27,26,29,16,21,35,39,19,26,18,19,17,23,23,14,11,38,20,11,23,21,27,25,16,14,20,27,11,14,15,11,10,17,16,17,28,25,15,11,23,29,24,26,33,19,23,20,26,14,23,34,35,21,17,35,20,18,31,12,25,13,30,7,35,27,31,39,25,24,32,19,28,8,14,6,22,21,31,26,10,23,7,31,22,20,31,14,23,19,14,34,21,39,25,16,20,25,21,16,34,19,16,22,19,7,19,19,16,33,10,24,33,14,28,26,34,24,15,23,27,21,22,14,18,30,13,30,28,39,15,17,11,20,33,19,21,29,20,29,10,27,14,24,11,14,21,32,11,24,34,17,36,16,26,21,31,20,27,21,33,24,28,26,23,23,24,17,22,20,14,11,6,22,18,25,27,16,24,11,24,36,24,40,32,23,15,12,24,19,28,21,33,13,21,38,21,22,18,33,30,29,36,13,48,24,37,12,30,22,45,28,20,14,15,25,26,16,15,19,15,20,19,15,28,31,18,19,17,15,16,30,15,30,27,38,23,21,10,10,8,14,25,12,20,36,11,22,22,31,12,29,29,19,20,20,20,16,29,28,14,12,13,24,14,13,21,21,20,30,29,9,18,24,15,17,28,16,12,21,20,28,18,24,24,23,24,42,22,17,30,17,9,27,38,18,24,18,26,24,23,9,26,8,14,24,27,11,17,11,19,21,28,5,16,10,11,20,19,17,30,21,26,24,14,20,20,25,24,24,17,17,16,26,19,31,40,25,15,16,20,6,30,24,38,14,36,25,21,21,21,17,21,9,27,26,27,23,19,7,16,18,26,20,25,21,23,13,24,12,35,33,13,29,20,22,27,21,13,13,9,10,19,15,24,29,35,18,17,32,29,15,29,37,17,18,16,5,22,32,19,24,16,29,10,27,34,41,21,12,22,29,27,31,29,16,15,9,17,27,13,14,15,17,14,15,19,33,23,17,28,17,26,33,25,21,39,14,31,17,16,25,20,22,21,22,27,15,29,16,19,21,28,22,20,26,27,16,39,29,19,21,42,24,17,34,25,21,26,10,26,22,22,16,17,28,20,14,27,21,7,26,13,31,14,21,14,13,16,26,31,10,15,32,24,15,31,25,26,16,12,15,25,29,21,27,28,17,38,20,28,7,23,18,20,38,25,14,12,32,22,14,29,27,19,27,14,27,25,7,15,27,25,14,25,17,30,22,32,13,32,11,42,25,32,9,18,24,32,19,31,18,32,24,23,21,27,31,39,19,14,7,28,12,29,14,17,14,21,18,34,22,18,27,19,21,19,12,14,20,19,9,20,26,29,15,26,21,20,18,20,21,29,39,15,18,24,28,22,15,33,14,36,24,19,16,17,21,17,18,29,24,6,19,37,12,34,34,28,28,31,10,13,23,22,27,20,22,32,33,17,32,29,30,27,42,13,19,17,18,28,13,16,29,15,16,22,31,18,15,16,33,28,18,23,15,21,24,21,19,20,17,25,9,17,25,12,30,30,19,21,15,29,24,23,18,34,25,33,25,45,19,41,18,24,27,19,14,29,23,18,32,21,31,18,29,31,11,30,14,18,22,16,14,24,31,13,43,17,37,23,9,17,25,26,14,17,18,26,16,14,44,17,28,8,10,11,30,30,34,30,17,27,23,27,33,23,25,22,35,34,32,14,24,32,36,35,19,28,21,26,28,14,15,30,30,19,21,26,20,15,17,26,18,39,28,18,20,12,13,16,29,23,22,22,20,27,35,23,29,12,15,23,22,11,28,17,22,16,24,20,36,27,29,22,21,22,16,17,20,30,29,37,19,24,24,24,20,15,17,28,21,8,25,39,24,29,29,26,53,19,29,21,28,18,18,17,11,20,46,19,26,16,26,10,27,10,19,29,26,26,21,20,13,32,24,31,21,39,10,23,15,27,29,23,19,18,24,29,33,25,24,10,19,27,27,27,17,14,32,19,33,9,14,27,29,25,9,14,17,18,24,14,16,12,6,18,32,20,11,30,19,36,25,14,29,23,14,26,15,13,25,6,23,26,20,18,14,21,12,28,26,18,14,28,19,18,13,6,21,28,18,20,17,26,34,16,26,7,16,19,22,14,15,23,5,28,40,16,24,23,22,24,27,19,24,18,29,31,22,11,13,30,19,15,30,19,13,35,21,18,18,20,21,21,25,37,22,14,21,19,15,20,52,39,36,35,30,17,38,17,27,11,17,26,17,25,19,6,23,24,8,8,7,25,28,20,15,11,9,8,17,21,27,30,19,23,19,16,17,29,31,24,22,23,24,31,24,22,30,22,20,16,26,7,30,24,19,19,18,31,20,21,28,28,22,32,13,13,23,33,22,25,19,15,34,21,24,24,15,17,25,28,18,34,15,20,28,29,31,7,32,18,23,27,32,6,30,28,18,2,27,29,25,18,26,14,25,30,21,30,25,14,18,15,11,16,13,11,35,40,26,11,19,20,28,15,28,32,24,20,26,22,20,32,18,33,23,12,36,14,14,29,21,28,17,24,27,36,12,21,19,11,25,17,18,8,20,27,23,17,38,29,26,20,8,7,28,20,18,22,27,28,19,22,13,29,15,14,17,18,25,36,19,23,17,13,10,31,35,13,17,16,26,22,21,17,10,14,20,29,16,18,20,21,19,12,19,6,17,12,15,16,17,32,11,27,16,19,14,24,39,16,24,23,36,22,21,18,6,29,13,12,15,19,11,31,22,26,19,27,13,21,24,14,16,20,31,25,28,28,26,27,32,15,22,20,21,16,26,11,23,27,5,19,19,9,24,26,28,26,23,24,32,10,23,26,28,16,27,32,34,36,18,14,32,26,24,30,26,29,24,15,18,14,15,20,31,13,29,9,27,15,23,24,18,16,25,21,17,25,20,16,5,20,14,25,33,26,6,26,36,25,23,18,25,11,5,20,15,14,14,10,25,21,26,10,24,25,20,29,16,21,32,14,27,24,17,21,22,19,25,18,33,35,19,27,22,23,29,20,30,25,10,19,22,25,28,29,22,25,15,23,19,24,14,14,19,11,21,19,20,17,33,10,13,16,20,23,23,34,31,23,20,15,29,34,12,27,32,22,21,22,18,32,27,30,24,28,6,26,17,17,28,18,32,17,15,19,16,21,25,26,25,25,29,18,24,27,21,25,31,23,23,26,36,19,16,18,20,22,17,31,11,32,29,30,24,29,31,21,13,15,18,30,22,12,27,11,30,23,25,28,29,19,38,20,8,20,36,22,38,35,28,26,19,10,23,21,18,21,12,8,7,29,30,26,21,16,18,17,9,33,17,15,12,17,20,20,20,29,27,27,43,29,27,13,31,33,18,23,20,25,23,25,29,19,18,14,20,39,28,31,31,12,12,12,13,25,14,22,29,12,21,18,20,14,17,34,18,40,22,27,23,25,24,17,20,14,18,26,22,31,33,11,27,12,22,31,31,12,14,29,20,27,28,26,38,27,5,15,32,14,28,19,29,21,17,28,8,17,26,20,11,20,13,24,23,22,25,20,27,23,20,17,22,16,14,19,14,15,23,15,18,18,19,19,8,8,33,24,35,28,25,20,17,16,23,33,18,34,23,27,20,16,17,27,19,12,10,21,20,16,36,20,24,24,30,19,18,12,7,31,29,12,10,30,29,18,28,32,14,26,20,25,15,15,20,23,35,21,20,10,19,10,18,16,8,28,12,17,39,11,19,7,27,23,22,26,20,21,13,26,26,25,26,23,16,23,24,22,12,16,16,23,24,25,15,8,12,27,15,20,19,23,26,12,18,24,32,32,46,17,8,28,42,22,10,10,25,9,30,29,10,21,16,21,21,13,28,20,24,35,8,21,20,26,34,32,16,17,27,26,22,19,8,25,13,12,28,29,26,27,26,18,31,30,18,16,21,29,8,11,31,37,31,21,27,15,21,39,21,15,20,19,12,16,16,23,19,6,19,30,30,38,19,17,34,24,20,15,13,13,27,20,27,24,27,25,27,23,15,7,15,21,14,29,27,26,24,20,16,14,19,24,20,7,23,21,20,22,19,11,30,40,31,7,19,20,26,21,24,16,14,34,47,29,23,14,31,27,24,24,19,23,32,28,15,18,25,16,14,17,12,27,26,27,21,13,14,7,19,6,31,21,34,23,15,13,18,9,16,25,12,16,33,7,15,22,9,21,6,31,29,30,28,20,32,17,19,24,13,8,27,12,18,19,15,15,24,30,21,14,22,20,32,12,13,26,33,38,27,50,35,24,22,22,11,24,29,11,19,14,13,13,40,12,9,26,11,25,19,28,21,37,25,13,11,10,23,18,9,19,29,40,31,21,25,39,24,20,12,13,12,23,17,23,23,24,26,19,27,16,31,19,16,19,19,25,17,16,17,17,23,27,30,25,9,17,7,29,30,25,13,10,22,29,26,11,15,28,30,39,12,26,28,18,11,26,21,30,11,15,18,16,14,32,25,36,20,12,27,27,19,19,28,24,35,10,28,27,27,25,32,37,38,25,16,28,26,29,14,34,15,38,13,17,28,25,6,21,20,17,16,26,15,11,9,22,25,11,30,22,17,20,14,28,18,15,13,16,21,18,26,12,21,18,24,18,20,20,25,24,11,11,31,14,18,15,21,20,10,24,20,39,25,20,23,18,27,14,36,21,32,33,61,30,27,27,22,18,9,17,11,23,16,14,15,21,11,24,33,29,31,16,26,39,20,14,6,23,27,29,17,12,27,16,43,19,33,10,24,28,20,28,21,19,21,23,16,18,16,19,18,36,14,39,23,14,37,16,19,28,22,25,25,15,12,26,22,18,30,28,13,23,16,23,15,10,19,28,33,32,23,18,30,20,21,30,16,12,7,21,19,6,21,14,30,22,18,20,10,32,32,35,23,26,19,22,11,18,18,10,39,30,12,23,16,25,23,16,22,9,20,19,29,36,17,31,14,15,19,17,25,11,13,31,22,19,22,25,15,18,17,23,23,44,14,24,14,19,22,28,15,13,19,35,19,21,34,26,19,7,19,24,12,18,20,30,20,17,17,8,29,27,31,16,22,20,17,14,15,23,36,13,43,11,32,28,15,16,13,13,18,31,34,25,30,35,25,13,15,33,10,23,23,22,18,35,6,26,23,7,14,22,21,23,23,28,15,19,19,19,26,30,20,21,45,25,25,17,28,29,27,22,28,10,31,28,25,29,16,18,18,34,15,21,32,38,23,22,20,21,15,9,27,21,19,14,22,13,22,18,24,39,35,17,29,25,23,17,31,23,18,25,18,18,22,13,16,15,30,34,23,11,22,17,34,24,25,20,35,29,34,8,31,12,18,22,28,36,17,26,47,25,30,14,18,17,19,23,25,25,20,17,26,25,24,26,16,31,13,21,29,35,19,16,23,26,24,30,24,23,17,25,28,21,29,18,30,24,16,28,25,9,28,39,31,17,31,15,18,24,23,12,20,25,16,12,25,23,26,31,20,31,18,24,13,25,12,28,20,11,22,28,30,19,16,17,26,37,26,14,18,26,22,24,23,32,26,32,16,33,22,14,20,26,22,39,15,11,13,15,35,26,26,21,28,17,19,15,12,30,21,31,30,27,23,3,28,18,30,35,30,28,19,31,27,27,16,27,22,17,14,24,23,22,26,22,23,37,29,14,37,13,13,13,24,11,17,24,21,26,31,20,21,22,12,30,7,21,28,31,15,25,20,12,9,25,25,37,12,20,18,28,15,12,30,17,26,15,22,15,16,25,19,20,28,23,22,21,17,20,21,22,12,14,8,15,25,28,18,8,9,24,8,10,8,23,23,24,9,18,19,30,18,18,30,23,31,26,42,37,13,11,14,27,25,12,43,16,32,29,30,27,24,36,31,23,30,21,28,25,23,60,17,29,18,22,19,23,10,30,27,13,25,33,14,18,29,9,23,21,22,21,18,41,29,21,20,19,9,29,27,19,32,31,31,13,22,18,9,22,31,28,20,14,26,37,10,13,18,24,9,17,26,15,24,21,17,24,19,18,25,23,15,26,32,28,18,22,24,20,25,20,21,21,24,19,30,20,25,15,27,21,36,14,27,8,21,18,16,15,14,22,43,35,21,32,18,21,25,14,11,24,11,30,13,28,42,36,24,32,33,30,18,24,25,31,8,22,10,36,27,32,16,15,30,17,28,44,20,34,30,31,40,27,12,14,19,20,23,35,6,18,36,22,16,20,29,32,18,23,14,19,19,12,18,22,14,16,26,20,20,30,42,16,22,21,6,10,17,13,23,18,39,13,19,12,9,24,35,15,12,11,15,17,17,32,31,27,13,22,29,22,29,20,20,14,26,17,33,31,11,18,19,11,51,15,29,34,24,23,32,23,18,26,31,23,21,8,16,11,19,26,19,15,29,22,22,28,23,20,19,11,9,27,11,18,28,24,22,10,39,41,18,26,31,21,12,11,7,13,14,25,14,44,13,27,14,24,19,17,22,20,23,25,49,24,33,11,20,21,36,26,13,22,22,20,27,26,15,23,24,16,33,24,16,15,11,28,30,25,17,21,18,23,14,9,23,19,29,20,17,15,20,22,23,38,21,24,15,18,18,21,16,21,4,31,48,10,14,40,13,8,19,21,15,24,4,25,18,41,15,22,17,17,17,17,17,26,27,32,31,33,26,28,32,11,12,18,26,9,18,27,14,14,38,17,24,28,13,14,23,25,18,28,25,26,14,36,38,13,24,21,21,20,13,25,28,23,25,22,24,24,34,38,27,29,26,23,23,22,18,16,28,27,25,23,28,14,26,22,33,14,15,35,25,37,37,31,18,34,32,19,17,17,31,14,30,18,16,12,25,7,28,15,30,18,28,15,24,32,22,29,24,29,6,18,11,14,15,26,27,28,23,20,22,19,14,12,16,29,14,27,33,24,23,24,38,15,25,15,19,11,25,31,28,25,18,12,18,21,17,33,21,34,10,27,20,13,36,8,42,30,18,20,35,16,14,9,23,25,8,11,34,37,29,22,19,26,19,21,11,21,19,22,23,20,17,19,25,7,13,21,22,25,23,13,32,12,23,9,29,15,29,25,8,26,22,26,33,17,18,39,17,29,22,30,22,21,22,34,20,18,21,23,21,15,16,23,14,17,15,12,36,22,21,9,24,11,25,20,23,11,28,23,11,13,19,21,23,28,22,14,28,9,18,22,30,19,7,26,29,25,14,26,25,18,28,17,43,11,11,22,17,27,26,19,16,18,32,26,27,17,15,23,17,23,26,11,40,33,25,17,17,19,18,21,25,18,20,25,11,26,20,32,19,26,24,32,24,23,20,26,27,15,23,18,30,19,27,14,34,15,13,16,24,21,25,32,9,13,18,17,29,17,28,23,50,34,16,26,29,28,14,22,31,27,14,19,39,15,22,48,25,37,25,12,34,27,28,35,21,22,20,18,39,40,33,22,28,11,7,17,13,22,10,38,11,20,34,22,31,24,25,12,31,12,25,19,14,18,31,11,19,12,38,33,13,34,17,25,28,16,23,11,16,9,24,28,34,13,30,16,12,17,22,16,10,18,15,22,25,16,24,23,29,19,12,15,28,29,14,29,26,30,25,18,28,22,25,35,23,20,20,24,20,45,26,12,15,18,21,31,18,25,29,23,27,17,31,34,15,21,33,15,11,21,18,26,21,32,12,43,14,17,14,17,25,22,12,11,14,24,12,10,14,28,21,20,22,18,27,28,16,17,13,30,30,18,26,25,34,11,25,30,24,20,20,27,34,24,28,21,25,21,20,24,24,15,16,21,16,20,20,18,16,16,19,15,20,13,20,21,21,16,16,43,32,33,25,22,12,18,11,22,22,24,27,21,15,14,23,22,28,34,14,28,16,25,25,20,11,34,14,21,24,15,18,31,28,7,15,31,22,31,26,28,32,26,27,27,21,17,16,14,19,32,25,20,22,12,22,22,16,14,12,15,25,24,23,18,10,24,16,22,32,32,14,16,28,22,17,20,15,8,19,13,9,36,28,16,13,10,14,19,27,30,36,17,23,23,18,23,15,13,25,20,25,24,14,22,26,18,10,11,10,13,31,29,36,9,23,16,20,25,19,17,18,12,17,17,12,11,21,16,17,18,25,16,20,23,17,20,12,9,26,27,8,9,28,23,14,12,31,20,15,20,28,14,24,12,16,21,8,23,12,18,16,24,22,14,18,17,18,19,34,31,19,30,12,30,12,24,20,16,15,12,27,31,15,10,24,19,16,24,41,26,35,5,26,18,29,16,29,28,27,21,30,17,37,47,26,33,23,33,20,29,26,23,22,11,27,16,28,34,32,15,20,15,24,18,22,26,17,13,18,13,12,20,15,31,10,17,27,21,28,11,18,26,26,26,24,34,25,19,15,18,19,27,18,19,16,21,14,16,24,16,19,19,19,16,14,23,19,21,21,12,20,34,25,22,16,37,31,18,25,14,17,24,23,25,7,30,37,29,16,21,31,23,17,23,20,14,23,14,29,5,12,12,29,30,13,18,23,28,9,10,18,20,9,29,34,14,17,16,17,22,15,21,33,18,28,21,26,19,27,17,24,24,26,21,24,16,15,27,9,24,16,26,36,38,21,25,27,34,19,27,29,18,11,26,9,23,18,31,18,25,31,10,15,23,16,16,33,31,24,32,14,39,22,12,22,28,12,16,32,34,21,26,22,27,14,23,21,10,26,21,15,32,26,11,28,24,22,10,23,33,9,22,23,27,31,27,27,19,35,24,11,16,15,42,17,29,18,20,21,12,28,20,21,19,24,17,16,24,17,25,19,28,22,9,15,19,22,11,22,25,13,19,28,4,25,12,42,28,18,24,24,9,18,29,10,15,31,47,46,34,38,21,31,27,24,14,26,22,20,25,26,24,31,14,15,18,12,18,30,18,8,25,14,13,28,17,42,33,12,26,26,31,20,30,19,21,21,13,20,21,27,27,20,12,47,13,17,24,21,31,12,28,25,38,22,17,17,5,26,24,22,21,22,20,31,16,34,24,15,9,20,22,29,22,7,24,28,24,34,22,19,12,21,24,35,17,19,25,13,15,13,11,11,26,23,30,18,19,6,22,22,21,29,17,50,36,27,15,20,9,26,42,11,35,14,8,25,9,8,30,27,8,12,31,32,19,18,27,17,15,24,31,40,24,15,4,35,16,26,19,24,21,4,7,17,28,18,35,21,16,9,20,32,29,25,27,24,27,19,15,8,19,22,20,19,21,19,25,17,29,26,8,26,17,23,13,11,23,15,21,16,26,32,14,5,25,32,29,21,14,26,8,17,31,22,14,15,11,18,19,19,25,38,21,16,27,32,39,21,23,23,24,21,13,14,13,15,11,29,29,19,12,18,24,18,24,20,18,20,25,26,40,27,28,22,30,19,33,23,22,35,13,10,24,32,26,29,32,20,26,20,16,12,20,17,26,14,17,23,18,26,10,21,11,20,13,17,22,15,18,29,28,10,31,19,11,18,7,20,14,19,18,25,26,17,25,9,8,15,10,21,29,25,29,15,10,29,17,27,21,13,13,17,24,11,25,28,32,18,9,28,25,22,15,21,8,12,8,20,32,20,26,23,16,15,31,32,10,15,19,34,17,20,11,27,24,20,21,16,23,18,20,25,21,26,23,18,19,21,28,29,40,18,19,15,15,26,19,25,20,16,25,24,14,22,21,27,36,22,32,9,19,19,31,25,12,18,18,17,25,18,19,23,22,13,19,31,23,8,25,22,10,22,20,28,17,30,16,38,35,37,19,22,19,27,31,28,18,17,15,14,20,20,12,20,17,12,18,29,26,9,26,19,28,31,10,17,17,15,12,16,23,9,26,21,22,25,24,15,34,29,8,22,23,19,23,27,10,6,5,27,27,11,13,20,20,20,49,8,21,23,14,32,6,26,21,20,15,8,26,25,16,17,25,20,17,15,24,20,21,16,29,16,13,34,37,16,29,18,12,20,39,31,34,21,19,12,22,7,17,17,24,28,36,22,35,7,29,24,16,18,30,13,15,33,26,17,13,9,23,22,36,22,32,19,26,34,16,19,22,35,21,22,9,18,31,8,6,18,14,18,22,5,32,26,13,32,6,18,16,18,33,18,7,10,10,20,9,22,29,24,16,14,19,18,24,23,30,27,20,13,39,36,20,9,22,16,23,27,26,30,36,29,23,21,26,22,25,8,25,29,14,24,24,20,33,31,30,12,13,16,5,23,11,30,15,20,22,21,16,9,20,18,15,24,40,18,18,27,30,18,28,19,33,29,28,15,20,11,22,31,19,25,10,15,18,22,27,11,14,14,9,14,14,15,22,37,9,31,22,25,30,17,18,17,5,23,19,15,23,19,17,55,26,14,23,32,34,17,24,15,26,8,11,25,31,14,15,26,16,18,6,16,18,19,27,6,18,38,11,18,24,22,27,24,21,6,34,29,19,42,34,14,33,21,16,21,20,17,13,25,15,17,22,21,12,31,21,26,35,27,20,22,27,23,32,22,22,9,14,30,15,19,28,12,41,16,20,32,14,12,33,40,34,34,34,46,42,29,17,16,33,34,1,28,24,20,38,15,28,28,16,21,15,32,14,31,8,30,31,23,24,26,26,35,15,24,24,11,23,36,9,17,21,19,18,14,32,30,25,16,19,13,14,32,18,18,16,16,13,37,22,37,28,18,17,33,27,38,23,38,21,25,16,21,10,25,22,20,10,21,26,23,27,12,32,12,24,22,24,16,14,17,15,9,19,18,39,29,17,45,21,31,29,32,22,9,9,28,23,29,21,24,14,18,21,20,21,18,12,24,25,24,22,11,21,14,25,16,25,33,35,19,29,29,38,23,26,16,16,22,23,25,12,11,19,15,35,27,38,17,32,16,22,16,16,12,16,16,25,8,27,30,21,16,26,25,17,26,23,25,19,17,25,23,11,26,25,28,23,30,26,30,26,18,9,19,19,17,25,23,21,20,10,30,18,22,25,22,12,20,16,26,17,29,20,25,22,21,20,26,30,23,26,22,13,41,20,26,33,31,15,21,23,27,22,8,15,23,17,13,27,22,26,17,10,10,27,8,10,24,23,24,23,19,29,21,19,16,20,38,26,25,28,27,20,15,25,7,27,20,9,17,14,25,15,6,14,23,24,15,24,34,23,17,9,26,19,24,13,12,10,7,19,31,11,26,29,32,30,10,16,22,17,17,22,12,31,20,37,18,24,22,23,6,16,20,13,11,28,25,11,33,25,31,21,22,18,18,36,30,17,31,32,12,14,10,13,14,17,13,23,22,14,22,18,23,16,16,24,19,20,13,16,33,22,21,18,20,22,10,22,26,27,18,13,15,28,17,23,23,13,29,26,38,17,14,31,41,20,20,42,12,28,14,22,22,19,18,30,31,35,13,18,18,23,36,18,25,11,16,9,8,15,20,22,24,18,26,24,22,26,24,25,23,22,7,18,18,25,34,26,22,36,17,13,25,26,23,22,32,16,19,33,27,15,15,23,33,22,10,20,23,11,24,20,33,25,25,28,20,18,17,29,19,11,22,16,23,22,18,22,14,32,26,14,13,22,23,27,25,25,23,9,31,12,16,29,28,21,29,7,31,28,31,15,7,40,30,17,32,22,19,16,35,37,16,28,23,8,28,35,20,33,13,28,17,29,19,30,28,8,24,24,11,10,21,15,15,10,12,34,34,19,30,21,18,31,20,6,23,27,25,33,16,18,20,37,23,26,36,22,8,29,10,19,22,24,25,28,24,26,25,31,18,17,20,31,28,36,21,35,23,19,14,20,23,25,27,12,19,19,26,26,24,22,22,14,16,11,25,36,30,23,37,35,27,52,25,36,36,24,16,34,14,18,46,31,21,11,21,28,18,14,11,21,15,12,10,25,32,17,26,13,39,34,15,20,50,24,18,12,14,21,14,17,32,28,30,28,11,19,5,37,10,29,20,47,28,23,20,26,21,11,17,24,27,20,13,10,21,13,25,7,9,19,13,14,15,14,11,16,13,21,16,29,38,23,38,20,21,15,8,15,26,25,28,20,15,12,17,34,21,5,17,6,24,24,12,31,29,21,8,19,30,27,17,22,5,35,10,7,10,7,27,19,35,23,22,22,27,26,20,13,16,13,29,17,28,38,29,15,34,34,15,21,30,23,28,19,23,11,15,24,12,22,27,27,41,16,25,18,11,33,19,20,14,24,27,22,15,21,25,27,12,26,23,21,27,23,20,36,13,8,8,10,10,15,9,16,21,24,31,26,13,17,33,30,35,26,35,26,16,6,23,35,8,24,18,28,18,22,17,7,29,20,31,17,21,35,15,31,12,18,19,24,20,16,21,25,26,28,9,25,7,19,17,24,20,20,16,18,30,26,29,39,26,13,29,8,20,16,11,26,15,15,21,13,14,27,39,33,25,18,25,16,17,34,10,31,20,24,11,18,21,35,23,23,26,36,16,22,23,20,17,7,14,23,30,25,22,13,24,27,16,37,28,13,19,33,19,20,18,10,11,35,32,17,26,26,9,16,27,31,12,31,26,20,19,17,15,11,25,36,14,32,25,14,25,15,11,21,32,19,21,13,28,20,35,29,25,36,25,33,32,22,9,26,48,26,38,26,28,13,29,20,40,28,30,26,20,21,17,22,28,29,16,17,19,4,20,35,41,21,26,22,23,31,14,10,8,17,13,19,21,19,12,20,15,16,14,13,19,10,15,35,30,26,11,14,29,29,19,12,29,11,29,9,23,31,9,22,13,18,26,29,12,30,36,29,24,41,11,25,25,23,18,14,20,20,27,16,27,26,13,21,19,17,21,28,24,13,14,26,22,16,25,22,25,15,21,29,22,11,27,24,29,27,17,32,22,23,13,32,25,17,13,18,31,22,18,23,25,11,24,27,28,19,11,14,24,19,22,22,17,7,6,29,30,31,25,25,20,9,23,32,21,14,23,9,26,8,19,21,19,26,24,25,10,22,32,13,23,36,17,16,27,20,17,29,25,23,23,24,12,22,28,23,11,27,16,15,21,25,12,21,8,23,29,22,13,32,13,26,19,22,32,8,21,22,9,22,25,21,8,31,27,6,21,29,18,17,26,17,14,14,27,29,33,33,20,15,18,12,30,21,13,21,33,22,28,14,19,41,36,28,33,24,26,13,31,25,31,30,27,18,24,37,22,21,32,25,24,18,38,32,21,12,20,11,37,32,5,28,39,37,24,23,32,22,17,25,6,16,22,41,20,11,20,36,23,13,12,11,6,22,25,57,11,17,6,21,21,18,26,28,21,17,19,32,25,25,19,14,24,5,20,21,18,15,19,32,24,14,18,25,29,19,8,21,6,20,30,11,20,10,21,10,31,8,10,9,23,12,17,14,10,13,24,7,33,18,22,18,14,14,7,34,27,27,22,29,21,24,7,18,17,13,17,23,29,14,16,31,31,28,21,28,16,15,12,17,16,17,9,18,17,18,23,34,33,13,27,22,25,25,16,15,24,18,19,10,25,20,30,15,14,28,15,15,22,29,12,29,13,18,15,21,18,23,14,30,16,15,8,20,24,12,35,19,21,12,31,24,9,21,30,19,29,21,26,24,22,26,26,50,10,28,24,18,27,25,38,17,29,20,34,16,28,30,13,5,10,10,21,36,32,36,20,35,56,26,20,26,30,22,16,13,23,22,15,35,22,37,11,41,26,23,29,19,13,18,18,31,16,24,18,14,10,19,32,38,20,39,12,21,29,18,13,34,31,15,20,21,16,30,18,25,15,25,28,19,14,16,28,13,28,31,25,29,31,11,21,26,20,21,37,19,22,25,35,25,10,29,31,15,29,18,20,22,29,25,20,17,19,15,31,21,6,20,9,27,12,15,23,18,27,27,15,12,27,30,30,14,24,27,30,20,23,15,29,17,17,19,25,30,34,18,16,20,14,23,40,19,13,19,20,14,20,13,27,10,33,39,25,26,21,15,7,16,10,16,14,10,24,14,31,23,12,14,19,29,7,13,17,17,9,32,20,15,5,19,31,28,25,27,17,22,17,22,28,35,23,31,18,36,24,31,16,19,27,47,32,29,28,45,39,28,20,11,20,10,17,21,25,16,30,15,13,18,15,21,8,26,20,20,21,21,22,29,32,41,19,16,21,25,32,25,27,21,32,35,32,22,7,24,27,40,25,25,35,32,27,29,12,16,11,25,30,26,20,14,20,23,10,20,10,22,22,23,35,8,13,17,21,17,25,35,35,20,30,34,39,12,16,19,14,9,12,37,18,25,12,50,34,41,25,19,18,24,27,22,25,29,30,28,21,28,29,25,29,28,10,24,29,19,29,23,17,12,19,16,24,16,29,18,25,8,16,19,28,20,21,29,34,17,34,18,27,16,21,22,28,25,29,41,15,13,21,29,13,20,19,21,21,24,20,40,22,9,29,27,27,16,23,14,29,14,34,10,18,20,11,31,27,37,19,23,22,17,17,25,17,15,38,18,44,25,11,16,48,34,33,21,16,23,34,10,19,31,15,7,14,20,38,15,40,24,11,34,30,23,4,13,7,10,34,39,54,27,49,26,32,18,12,14,24,22,19,22,18,21,11,28,33,15,18,14,16,14,17,23,35,15,23,19,20,33,9,18,19,30,31,29,22,27,33,20,21,19,25,34,24,19,9,21,13,36,29,8,31,28,30,23,21,17,27,14,22,14,16,21,14,18,22,4,20,32,25,40,20,16,29,24,19,23,18,16,23,15,7,16,31,37,29,24,18,11,31,30,17,31,28,10,17,17,23,13,18,8,24,32,31,16,15,20,31,11,14,16,16,13,21,30,15,10,11,20,20,31,26,24,35,24,18,23,31,20,11,22,13,22,31,6,29,28,23,22,17,22,10,22,40,20,24,26,25,41,33,26,30,15,17,30,24,30,10,26,17,21,25,20,24,17,16,9,25,22,20,8,22,17,24,10,20,21,17,24,36,28,13,16,23,26,8,18,6,31,31,10,18,28,19,19,7,7,34,23,27,16,30,24,18,24,23,38,23,21,18,32,6,20,27,28,22,18,29,17,30,32,36,25,27,27,21,24,15,11,11,16,24,14,10,8,17,37,26,24,25,27,15,10,39,22,27,33,31,15,35,33,24,16,23,20,24,25,39,38,29,28,20,19,26,15,29,24,25,27,11,17,18,27,23,20,19,19,30,19,29,29,24,37,15,20,17,21,18,21,14,38,18,13,28,17,21,21,27,28,9,7,7,15,7,12,20,23,4,25,22,12,21,21,16,16,13,20,21,17,15,20,20,25,19,27,16,8,27,27,26,30,16,16,12,26,17,16,26,18,6,24,21,17,24,15,14,23,18,25,17,23,26,29,25,12,27,24,26,27,37,27,29,15,17,28,11,16,29,27,28,29,21,32,11,43,20,26,8,10,29,22,23,28,10,13,9,27,25,23,24,20,31,25,18,17,28,12,29,16,9,31,14,30,25,19,11,23,22,20,23,16,20,19,23,18,32,27,22,34,39,21,31,16,21,24,16,29,33,24,25,16,23,22,34,33,6,28,9,26,20,16,28,17,22,22,20,24,24,23,17,27,25,23,18,6,22,15,37,37,23,25,18,26,18,28,26,13,11,8,10,8,19,22,42,32,22,14,20,12,14,15,22,35,16,9,34,37,10,25,30,23,22,27,27,18,20,20,27,22,33,23,20,24,44,21,13,20,30,20,10,23,8,5,10,42,28,19,19,24,28,28,21,33,22,21,12,26,12,19,13,30,14,12,22,29,26,21,43,28,34,24,35,23,22,22,6,31,18,23,25,23,29,14,20,27,30,18,6,23,9,17,7,29,20,27,18,22,23,18,15,27,15,19,23,15,14,11,32,24,30,11,18,24,12,11,19,18,17,14,11,31,25,21,26,13,25,26,23,23,36,20,16,18,27,23,29,39,30,9,20,19,30,13,13,23,17,26,19,20,30,21,19,13,22,12,44,7,10,28,17,20,24,17,15,14,24,13,36,20,9,20,22,17,42,26,16,19,15,24,26,20,18,10,28,23,35,13,29,24,10,18,31,24,16,25,21,21,27,20,18,13,16,32,20,14,20,31,25,38,17,22,28,25,20,18,18,23,32,16,31,17,13,17,11,19,20,24,28,33,29,22,26,25,20,22,18,22,27,25,29,16,31,13,17,10,11,11,26,25,22,16,34,14,18,14,23,17,32,10,17,26,31,25,12,37,12,31,37,24,20,19,25,30,28,23,33,15,29,29,17,12,20,22,17,41,24,18,25,20,15,28,18,20,22,22,23,27,24,25,11,16,23,18,28,15,30,11,28,26,25,19,13,24,10,30,20,23,18,27,19,13,27,9,24,22,21,15,25,21,10,25,25,19,23,23,35,21,27,39,25,17,32,15,12,16,21,19,30,24,16,33,14,26,17,16,10,18,16,21,6,23,21,16,23,44,18,19,22,17,21,15,13,12,28,21,8,22,22,33,13,21,13,13,30,26,33,24,10,12,24,26,28,30,20,19,18,19,28,21,21,21,14,20,15,23,16,26,21,9,27,19,23,7,24,23,15,20,22,25,25,13,8,19,20,19,15,22,20,21,27,29,26,16,26,27,6,17,11,20,30,27,9,26,13,18,26,14,19,20,14,19,22,27,33,37,35,30,21,26,16,16,27,23,33,12,23,19,25,7,22,25,25,11,27,14,26,22,13,17,27,10,21,21,22,40,31,16,10,32,31,30,7,34,12,24,29,26,24,13,13,13,16,33,14,17,29,24,18,34,6,31,17,8,20,12,25,20,41,30,15,32,28,22,25,18,17,32,27,10,16,16,34,28,17,39,13,16,22,23,25,27,23,14,18,22,14,22,20,25,24,20,21,11,25,20,12,30,9,12,12,26,19,27,23,20,18,26,35,25,15,18,21,28,23,34,26,28,19,17,26,25,12,24,24,20,29,28,34,25,20,23,37,26,36,29,17,19,11,16,17,9,20,35,29,26,19,27,18,15,25,25,23,28,22,22,22,19,20,38,27,10,19,46,30,19,49,48,29,13,38,9,33,33,37,24,36,33,12,49,28,40,21,22,6,29,40,50,39,29,35,31,10,14,26,36,56,29,31,10,9,44,25,45,17,29,21,20,23,12,22,23,19,25,14,23,15,19,8,21,10,7,9,24,24,14,22,39,25,37,22,23,14,17,19,35,14,32,38,27,27,16,25,12,31,32,28,16,15,23,8,24,28,18,22,22,10,31,24,37,36,24,24,16,24,24,20,22,22,19,27,29,25,18,33,24,19,27,11,19,20,19,16,12,22,23,23,27,33,20,23,25,25,30,18,24,14,32,15,39,9,23,32,18,17,25,26,18,29,33,8,18,24,7,17,21,29,16,8,20,14,20,25,17,28,26,26,18,35,15,17,28,30,29,21,25,25,21,24,17,22,7,27,20,25,27,28,21,24,31,22,29,24,14,20,19,25,31,12,24,31,25,30,31,15,39,18,32,25,23,22,27,19,26,11,12,25,26,23,23,19,14,16,13,16,39,33,20,21,20,13,31,36,19,35,28,23,25,26,22,28,25,17,44,30,28,26,18,31,18,12,16,16,17,32,32,20,22,23,13,19,28,30,25,11,14,8,13,16,29,24,23,15,9,9,15,18,27,28,23,22,24,22,30,8,25,22,16,5,18,15,27,13,25,20,22,12,22,28,10,37,15,19,21,19,27,43,34,23,27,5,27,12,24,16,23,18,16,22,27,33,12,24,23,20,23,26,21,13,16,12,12,10,17,21,21,30,22,15,24,23,9,32,19,14,12,25,32,18,22,26,22,20,14,16,14,25,34,39,25,27,21,12,19,34,17,11,14,29,21,22,30,21,14,14,40,15,44,29,34,24,23,34,24,20,11,19,14,9,20,29,31,33,17,10,12,35,24,15,29,10,27,30,9,22,22,25,36,22,19,24,17,29,21,19,30,12,19,37,22,33,29,15,30,10,23,17,35,26,26,7,23,25,22,35,37,22,36,18,7,22,11,7,24,10,20,18,31,18,22,28,34,20,28,14,29,13,19,33,34,23,22,18,14,11,5,11,20,16,15,20,28,24,18,36,20,32,18,20,20,11,35,33,11,13,12,13,15,15,32,28,32,20,11,21,20,16,8,12,26,11,23,26,31,22,43,17,26,30,19,23,26,18,37,34,21,34,23,9,27,27,11,16,24,23,22,24,6,22,24,26,14,27,12,9,27,8,25,44,20,29,34,14,16,16,23,20,24,22,25,21,32,10,24,21,10,19,7,9,14,13,27,23,16,25,23,12,23,18,22,24,21,18,30,12,21,11,13,21,21,19,26,19,32,27,9,19,18,15,29,39,9,18,31,15,21,20,21,21,30,18,25,12,10,22,14,19,17,21,25,35,22,20,17,28,23,17,21,23,17,24,23,29,23,35,25,32,32,21,28,13,28,15,24,27,38,17,29,30,20,25,18,7,28,26,8,20,12,26,21,21,31,20,22,21,29,29,24,18,14,17,12,27,26,20,18,24,30,25,23,20,8,21,27,14,25,9,24,24,28,39,12,34,30,13,22,21,32,19,29,16,10,21,11,19,12,24,23,10,22,24,25,26,25,21,39,30,49,33,27,30,15,11,32,13,36,8,39,25,29,13,39,24,24,12,15,29,66,16,37,12,23,19,13,45,29,8,11,15,15,17,23,33,11,11,13,6,9,23,24,22,27,25,16,35,19,8,19,22,22,22,11,27,26,22,26,29,7,8,25,14,8,15,27,30,19,23,10,14,29,27,19,31,35,20,17,38,15,13,13,28,17,35,15,27,20,18,28,11,18,21,11,19,21,32,35,22,18,26,28,17,16,27,20,13,16,17,24,34,20,28,11,28,22,26,18,19,21,11,24,20,9,29,20,18,27,18,15,23,11,34,11,19,26,25,21,26,34,34,28,17,22,18,22,15,13,25,18,19,15,21,7,20,36,16,29,27,16,13,12,22,24,22,14,35,24,21,33,25,22,27,12,15,16,13,14,13,25,21,32,15,18,16,28,25,27,14,36,17,22,12,18,11,24,33,11,15,21,24,35,27,27,19,19,30,23,27,25,21,16,19,20,27,19,20,24,7,23,34,29,34,25,24,28,20,18,19,16,20,25,18,14,16,27,13,23,12,35,22,30,10,34,20,34,19,17,19,22,18,30,16,18,11,25,32,15,25,32,21,32,28,12,15,24,10,28,25,7,5,6,12,13,24,37,15,19,25,29,18,35,28,22,24,22,14,12,10,21,19,8,30,27,21,10,30,17,22,22,21,18,16,16,18,13,12,10,21,9,9,26,12,15,18,19,27,20,9,28,21,21,30,15,12,21,18,33,10,23,9,11,18,9,21,17,34,25,8,20,19,17,24,21,6,18,13,16,33,27,23,22,18,24,14,22,40,25,24,25,29,25,11,29,35,27,24,16,25,23,19,25,12,33,25,29,31,9,13,21,24,20,27,13,34,20,26,28,18,17,29,35,20,35,16,8,22,20,20,12,12,22,21,26,17,19,21,25,44,21,35,21,20,10,26,22,25,36,15,29,26,13,29,8,15,23,34,29,19,25,28,16,20,13,19,19,15,24,22,17,31,32,21,20,31,26,25,27,31,33,19,32,30,22,26,12,28,29,23,13,24,15,32,32,30,34,23,18,20,32,34,39,33,16,20,20,24,19,32,14,29,15,16,28,17,6,25,29,35,17,30,21,30,11,37,19,28,8,19,9,29,12,24,11,21,20,9,26,19,27,19,24,37,25,18,8,23,30,28,18,14,32,13,14,36,24,24,17,6,24,18,22,16,6,23,16,21,19,21,7,26,20,6,30,26,10,38,22,26,22,22,19,30,16,19,29,23,15,33,20,11,16,28,18,16,23,9,28,11,24,16,16,28,17,36,36,22,30,39,24,13,15,14,18,20,22,27,47,39,17,23,21,29,11,25,32,30,32,27,23,19,15,29,22,27,17,14,46,10,31,32,22,12,26,12,21,22,11,14,11,14,6,14,11,14,15,30,41,39,24,15,33,25,27,26,26,34,20,21,16,17,39,45,20,24,26,48,41,20,31,28,27,30,28,17,8,4,20,25,29,20,13,7,41,20,19,27,18,15,16,18,18,19,21,18,18,9,31,25,23,21,27,9,34,18,31,22,33,21,32,31,37,11,22,32,21,48,29,13,13,19,12,28,18,21,32,22,28,12,12,7,17,26,13,10,19,17,11,29,11,22,27,26,17,7,21,24,11,35,20,16,29,16,31,17,17,16,10,26,24,24,16,15,18,15,26,16,28,23,32,29,16,10,26,21,23,8,25,20,9,16,10,11,22,17,29,20,16,21,22,16,20,25,19,21,38,19,21,16,27,13,23,16,32,31,31,9,27,36,21,39,16,19,23,18,30,24,29,23,22,16,28,9,29,36,21,17,11,28,17,13,28,8,22,28,27,18,20,17,23,19,14,20,24,21,13,16,20,18,15,20,21,8,15,22,25,31,20,28,15,22,21,25,10,23,30,12,28,25,23,22,11,16,15,9,14,17,25,31,24,34,31,20,8,21,19,30,13,7,21,24,27,27,19,12,16,33,15,19,26,42,20,27,23,15,15,11,14,37,27,16,35,21,29,13,23,12,22,16,22,26,22,20,24,27,33,13,10,20,26,33,28,23,32,15,9,22,30,20,12,20,27,23,21,15,27,22,34,20,17,17,19,33,28,31,30,15,14,27,9,32,35,14,13,20,7,10,14,18,34,23,16,35,9,40,19,21,17,8,23,23,12,31,23,16,10,26,28,16,5,20,23,23,28,25,10,36,17,9,40,19,35,15,29,20,21,11,22,9,12,15,28,25,23,10,25,36,7,29,16,29,25,23,24,26,20,20,14,36,26,12,12,33,15,29,15,9,43,18,34,22,31,23,27,9,14,31,29,14,30,29,24,39,26,31,35,24,25,11,17,18,29,26,11,23,24,22,18,28,35,14,19,20,33,16,26,42,17,13,10,21,16,13,30,24,15,29,32,25,23,14,17,18,26,22,31,22,25,24,30,25,17,13,25,11,21,22,15,13,17,22,16,27,24,11,11,25,23,26,16,34,14,27,36,35,11,23,27,26,12,28,37,19,24,45,16,21,24,25,23,15,13,29,35,26,21,13,25,23,18,29,17,25,25,34,12,18,14,32,21,8,21,24,31,19,23,22,38,5,27,34,47,39,12,25,11,41,14,23,18,11,23,22,15,12,17,40,30,20,19,25,12,33,24,24,8,18,12,11,15,21,9,18,35,20,17,23,27,26,22,27,18,20,21,19,15,15,26,8,18,17,20,13,21,22,21,22,16,7,18,20,5,23,26,21,20,27,20,10,23,23,11,26,20,28,25,20,38,30,21,14,34,18,10,25,13,17,28,16,33,30,9,16,18,25,12,21,23,23,14,11,27,18,27,27,14,20,20,24,16,15,32,22,22,32,12,21,28,28,15,32,28,17,17,28,17,13,38,12,13,17,19,21,19,47,21,9,21,25,18,18,27,19,26,11,24,18,13,20,23,25,27,27,13,20,23,23,11,15,30,22,30,17,35,16,23,27,10,25,11,13,28,28,23,12,17,19,24,31,23,11,24,21,34,28,22,35,21,37,24,19,19,27,16,28,27,18,25,19,36,30,22,22,26,23,23,16,11,36,24,19,25,16,23,12,7,26,13,19,30,28,29,29,31,28,19,13,30,22,35,28,25,18,17,29,25,23,21,24,9,18,11,19,27,29,21,8,22,25,27,19,10,24,15,25,26,27,24,25,15,22,18,24,19,10,30,34,17,36,9,21,29,14,27,8,18,28,26,25,26,13,18,24,19,31,18,23,23,24,29,36,29,30,15,26,18,14,17,15,14,26,27,20,27,27,17,27,29,25,14,7,20,14,27,35,25,25,9,15,11,25,31,18,22,23,19,15,13,32,31,18,24,23,16,21,30,26,20,22,16,32,19,17,6,8,9,28,22,21,28,37,27,28,31,17,23,34,10,34,34,10,32,15,35,9,34,17,12,28,15,10,26,35,26,27,12,30,18,31,16,23,25,18,25,27,22,22,19,23,17,19,19,24,21,29,14,21,24,13,13,12,21,26,17,13,29,20,28,47,20,25,19,15,19,25,19,26,14,28,14,21,15,24,25,11,21,10,12,15,29,29,23,28,16,25,15,29,12,25,35,19,11,29,28,20,17,31,15,33,21,26,22,18,17,17,14,20,35,20,9,20,19,37,19,27,34,29,24,26,27,25,19,24,15,15,22,33,34,9,13,25,17,27,11,18,26,19,16,23,22,33,24,10,24,8,25,32,20,16,21,11,17,25,22,20,13,27,22,13,19,29,19,15,15,27,20,25,29,29,36,35,18,22,14,14,24,23,29,25,12,33,24,20,12,27,22,29,17,26,34,6,27,21,16,10,19,22,28,14,24,32,12,19,19,20,22,25,25,20,28,24,16,18,22,35,24,18,11,15,20,15,14,15,28,9,32,18,17,28,21,31,9,23,19,17,18,7,21,17,24,22,10,12,14,15,16,21,21,20,29,17,9,25,18,19,21,11,16,22,18,24,24,26,26,33,17,27,28,13,24,22,35,14,20,17,10,30,41,32,15,27,24,12,17,19,15,16,13,26,11,24,18,16,16,11,14,18,13,12,17,16,8,23,17,28,27,39,7,22,22,16,35,16,30,16,27,14,29,31,23,34,37,40,26,25,30,15,23,7,35,15,28,16,24,6,38,14,26,27,19,12,30,29,8,28,37,27,44,24,16,45,25,8,8,25,14,33,10,21,10,10,8,8,12,18,4,4,4,5,6,5,10,5,6,4,8,5,11,44,38,21,17,15,25,31,25,25,23,14,31,35,33,28,27,27,34,20,8,13,20,33,23,24,24,14,18,38,44,15,34,32,34,13,19,28,30,24,12,18,16,12,23,31,22,21,18,21,19,19,29,18,21,28,26,26,18,25,19,15,18,26,13,22,22,52,32,24,33,30,16,14,28,18,18,7,9,19,29,29,21,17,17,28,17,27,11,18,24,18,22,20,18,19,36,14,10,22,15,8,28,19,41,31,25,19,15,40,27,26,39,26,32,18,25,17,22,9,31,31,18,20,23,23,31,19,9,8,8,12,17,25,7,28,22,33,11,13,28,22,23,8,17,20,31,20,32,27,9,27,22,29,21,24,6,19,15,30,19,27,47,43,40,27,24,25,5,31,20,16,14,29,31,23,29,15,25,32,15,17,11,28,30,43,37,27,15,26,18,18,22,11,14,10,24,24,36,26,16,27,30,11,22,18,8,17,24,50,23,11,40,34,13,20,12,19,22,16,28,38,14,24,17,26,24,23,13,21,22,14,10,24,25,21,25,16,16,19,29,18,23,20,13,20,28,24,33,33,16,21,22,24,31,21,19,10,26,18,27,23,20,15,13,18,23,34,32,20,23,9,26,31,16,17,14,18,32,28,17,26,33,27,15,24,30,11,32,35,31,26,18,21,32,13,26,21,27,32,27,31,24,7,21,27,17,35,29,24,32,28,18,24,23,21,14,10,23,30,41,19,23,19,28,15,16,22,23,30,26,25,12,30,18,16,20,24,23,22,23,28,23,21,24,27,24,27,23,19,30,27,19,9,26,25,15,10,15,18,22,23,22,21,21,26,26,25,9,43,29,7,8,10,28,9,25,11,27,28,13,18,14,23,19,32,7,16,19,19,15,4,25,15,27,21,24,26,27,13,13,16,29,13,13,9,34,37,26,25,19,28,17,18,25,16,16,17,14,22,33,12,40,16,24,22,15,20,9,25,12,15,14,21,26,16,29,9,19,44,15,17,9,18,14,19,21,25,25,16,35,26,8,32,12,20,26,12,15,24,36,30,29,17,23,37,30,16,26,24,26,25,18,28,31,29,31,7,20,25,24,10,26,22,17,17,25,24,25,15,24,16,15,27,26,32,12,34,23,30,13,35,24,28,26,42,22,11,22,11,9,21,22,14,30,22,30,22,20,8,21,21,22,19,24,29,21,9,26,12,27,17,22,27,16,20,24,22,21,10,34,14,29,30,10,39,14,34,19,11,34,16,24,15,38,19,23,26,24,32,30,26,42,62,42,41,48,51,15,11,14,19,29,35,14,17,39,29,54,17,29,18,34,46,35,24,42,14,17,15,38,20,14,13,24,33,31,38,21,33,11,22,21,18,21,18,33,30,22,15,21,31,14,28,37,23,25,41,12,26,22,26,38,32,27,31,16,8,26,12,16,10,29,14,18,20,18,16,16,10,27,26,15,23,14,25,16,17,26,35,19,24,20,20,17,18,16,31,34,12,7,22,18,38,26,17,17,13,35,17,10,16,22,14,12,12,27,22,10,34,29,28,22,22,19,30,21,25,30,24,23,17,12,21,22,15,15,21,27,23,22,28,23,17,13,20,11,7,9,24,15,27,30,36,24,26,29,33,22,25,8,22,25,15,11,20,18,15,15,44,7,17,28,21,24,26,30,30,23,23,17,19,15,8,6,16,22,18,12,21,23,32,13,20,23,26,29,25,7,24,30,13,25,14,40,6,28,28,18,20,18,14,47,28,34,11,27,23,11,16,20,20,25,6,24,29,13,23,17,21,21,23,19,7,17,26,36,26,13,35,14,26,29,27,24,24,22,15,10,38,24,24,25,14,15,22,15,34,14,17,12,36,22,31,24,21,24,10,25,19,9,17,25,40,26,19,16,30,13,14,22,17,29,19,11,22,29,15,14,23,13,20,26,27,11,18,9,10,23,30,10,15,18,23,24,24,27,31,19,12,25,14,12,11,19,6,26,19,8,30,16,22,29,24,28,28,19,8,25,30,27,27,13,10,23,11,14,26,39,20,20,28,17,26,17,15,35,28,18,28,24,20,14,32,16,29,24,20,26,23,26,30,26,21,10,25,19,33,22,25,30,31,8,20,37,20,10,8,23,25,27,22,13,23,12,36,32,24,17,25,27,29,16,28,14,19,35,15,19,19,29,25,15,27,43,24,23,25,38,39,41,26,20,19,14,20,25,34,32,33,17,28,9,10,15,20,29,25,26,15,13,12,11,10,15,15,27,10,30,17,18,32,27,24,20,14,18,28,29,26,23,35,28,19,18,19,20,17,24,27,32,19,19,17,16,9,30,21,23,25,33,16,20,30,29,31,7,17,14,24,21,19,12,33,13,26,18,30,18,28,15,15,28,15,25,26,6,16,13,15,23,60,20,35,6,17,42,18,18,41,10,14,24,15,9,10,31,27,30,38,27,13,32,31,35,10,32,13,18,20,24,33,35,31,23,21,24,19,18,22,27,25,28,29,28,22,19,20,10,22,19,24,14,21,22,23,33,12,24,18,21,20,33,12,14,31,23,28,17,30,36,33,16,26,23,27,26,24,9,8,17,24,31,25,17,11,26,36,18,35,29,9,24,16,24,34,46,16,25,28,21,23,23,26,33,35,31,45,28,43,23,25,14,31,24,14,10,23,12,12,26,29,11,24,28,35,18,26,19,18,30,16,22,29,20,19,17,31,14,12,30,18,36,43,31,8,21,26,27,29,11,23,19,19,28,10,28,24,12,6,6,9,20,22,29,21,13,16,30,19,21,30,28,27,35,22,43,20,32,33,30,17,22,28,23,29,26,13,18,35,26,17,14,24,24,18,20,21,32,31,31,19,28,20,13,16,21,14,9,13,14,12,18,24,27,24,19,20,12,19,22,29,30,8,24,22,20,39,20,16,35,23,26,33,26,18,29,20,23,14,39,19,19,23,17,20,15,33,18,19,19,28,23,13,26,21,16,26,27,27,24,19,25,23,27,31,15,19,10,12,23,24,37,20,13,36,25,26,35,20,17,17,12,32,34,26,15,11,21,7,29,4,10,11,34,14,18,12,7,18,20,22,20,32,17,30,14,18,17,21,28,34,24,25,28,26,27,28,25,15,24,22,21,18,23,15,12,33,16,23,26,15,13,16,28,23,16,24,11,8,22,8,25,24,13,18,25,28,22,21,41,12,19,29,26,26,22,20,34,22,19,13,20,20,15,30,19,17,17,26,26,25,11,27,22,5,14,16,23,24,11,28,24,17,16,11,27,31,24,36,39,14,14,23,28,33,33,24,21,12,21,31,19,18,30,11,30,25,19,20,13,26,14,33,30,13,24,17,22,31,16,19,32,28,24,18,19,26,11,15,13,36,25,14,17,28,19,30,31,9,12,26,25,35,25,32,10,25,25,18,22,18,24,15,29,17,24,15,19,20,13,18,20,34,25,17,21,24,37,28,35,21,25,18,16,35,25,28,31,20,10,28,13,26,25,39,16,20,19,29,16,17,23,35,35,30,27,19,17,28,18,18,13,21,23,8,10,15,6,24,13,23,24,22,6,26,9,17,20,19,36,22,31,34,35,38,24,15,25,11,35,26,34,26,20,31,43,8,20,22,11,22,17,24,29,17,13,24,30,40,35,39,26,29,16,21,25,24,30,22,21,21,31,12,16,30,30,25,18,28,15,14,32,26,24,29,21,13,19,18,22,23,19,18,26,23,30,10,31,22,26,14,15,12,12,16,21,24,18,29,29,11,23,14,24,35,33,25,25,21,13,5,21,24,11,14,36,14,10,11,14,34,14,35,18,31,17,24,10,19,26,14,28,25,22,34,19,9,16,34,24,37,25,22,20,31,19,48,13,10,22,19,26,28,18,10,15,27,24,39,15,18,17,20,22,39,32,13,19,16,25,20,25,18,12,21,13,27,18,39,21,17,14,22,27,14,23,22,31,18,12,31,20,33,31,28,25,22,27,18,13,18,8,22,35,7,22,9,37,18,24,18,19,26,36,37,33,46,50,20,18,29,13,26,13,19,34,13,34,22,30,17,26,22,40,39,29,20,34,33,33,13,22,18,18,40,38,13,25,14,34,10,17,34,17,15,28,11,15,17,24,10,15,20,35,13,20,36,14,19,23,18,27,34,12,9,22,12,9,29,23,29,26,17,23,21,33,29,24,24,20,24,22,29,12,28,14,8,29,24,23,18,17,28,16,20,25,20,20,27,10,20,29,18,14,22,21,22,29,9,13,20,13,26,24,26,13,18,25,13,15,18,18,16,19,22,17,42,23,17,13,21,22,13,21,27,25,18,23,11,10,22,35,27,24,19,14,12,17,21,11,23,16,20,28,21,14,34,25,28,19,29,25,20,28,28,21,12,21,20,11,36,17,22,27,30,23,15,11,22,26,22,18,32,16,21,11,20,34,23,27,20,18,19,12,17,27,15,22,25,19,14,34,26,34,31,13,20,17,33,24,22,22,26,20,10,41,22,24,25,11,19,18,18,23,22,23,36,12,7,21,17,20,17,19,26,23,27,18,27,9,17,27,24,7,16,23,22,37,16,22,22,33,21,12,28,32,15,24,26,27,28,27,16,18,31,28,17,36,21,27,24,16,31,20,11,24,25,26,13,26,29,24,29,30,20,33,32,25,23,40,26,15,7,22,31,17,28,36,22,20,36,12,19,25,18,30,6,26,13,35,13,32,17,18,21,25,24,15,25,14,33,24,41,11,33,21,25,30,22,13,13,29,9,19,30,38,9,23,27,13,33,20,33,22,28,38,28,21,19,12,20,18,22,22,20,37,14,26,25,20,21,7,21,25,22,24,27,20,23,16,27,9,17,10,14,21,19,9,16,19,18,21,25,32,26,33,19,28,12,21,26,27,13,16,30,15,21,22,22,8,14,32,22,14,13,24,26,28,24,19,12,17,21,18,15,7,20,24,13,26,15,21,36,14,28,26,11,6,28,10,27,8,17,18,25,37,35,25,34,28,13,28,18,12,23,16,29,17,32,25,30,30,24,14,31,42,29,20,17,23,30,29,17,24,31,20,19,20,14,13,21,28,20,23,9,23,26,24,23,34,31,20,32,24,17,11,19,23,24,30,25,29,15,35,21,19,19,32,21,29,29,12,13,23,18,15,18,15,13,25,17,9,11,15,19,23,24,27,15,32,17,25,27,16,17,31,17,12,11,17,24,26,22,17,31,23,14,23,17,13,15,4,18,13,31,18,14,23,24,23,20,18,11,7,12,24,20,25,22,23,10,16,28,22,25,30,20,33,26,21,10,8,25,17,22,26,5,13,12,16,29,9,11,13,26,30,28,14,22,35,31,29,34,24,14,8,23,19,17,5,20,9,16,31,12,25,8,32,17,6,23,37,21,16,24,22,19,16,26,23,16,22,19,17,17,16,20,16,10,22,26,9,19,14,13,18,8,49,26,27,23,43,20,9,14,42,16,22,45,39,46,14,31,18,16,31,22,28,21,12,18,18,23,15,17,28,14,18,14,29,24,22,27,45,38,23,49,19,30,9,25,25,24,10,22,8,31,34,9,36,35,24,18,17,14,29,22,13,21,44,4,38,59,28,18,22,7,20,22,31,23,38,21,42,22,14,23,13,9,30,14,25,4,20,31,19,17,20,11,17,29,24,27,25,24,20,34,18,16,22,20,22,16,15,15,17,11,22,27,36,15,18,23,19,15,16,12,30,27,20,20,22,20,22,22,31,33,8,45,20,22,20,25,45,30,22,23,28,11,17,21,31,34,18,46,23,15,15,17,19,29,18,15,22,18,21,28,14,19,22,24,11,19,18,22,12,21,21,9,19,26,28,8,24,23,26,24,22,25,18,19,18,18,30,21,9,8,32,13,10,23,22,26,18,26,23,30,24,22,25,26,23,5,33,35,24,35,34,28,31,31,6,11,20,32,20,35,20,17,15,14,24,22,26,19,20,38,16,16,18,29,18,32,25,23,23,31,20,35,21,29,14,32,19,30,28,19,21,30,28,41,35,32,15,24,32,30,7,18,25,8,14,22,26,30,20,20,18,21,25,16,28,30,20,12,8,28,26,23,12,16,17,18,8,18,20,29,18,19,23,18,30,23,18,20,25,26,23,27,26,18,10,12,6,24,18,18,21,23,17,26,26,8,26,17,14,19,19,27,25,25,14,30,27,15,22,21,33,33,9,28,21,8,33,21,25,18,28,9,29,22,33,24,15,13,34,23,8,18,15,34,23,6,26,24,24,6,28,31,19,19,16,25,22,32,37,16,23,19,15,10,22,37,25,13,21,19,16,21,23,48,32,36,11,26,25,18,39,18,27,9,23,20,11,24,25,32,21,19,32,27,20,8,14,18,31,9,26,27,35,34,24,30,26,25,40,27,19,39,28,19,26,16,21,18,14,9,13,19,18,13,41,15,34,28,25,15,21,30,6,28,12,23,35,8,26,26,15,9,23,27,8,14,20,26,17,18,25,20,36,21,10,20,22,20,28,29,17,20,22,33,30,21,22,13,15,24,13,18,17,20,31,33,13,26,35,39,37,15,17,25,29,25,27,30,26,34,11,17,20,19,21,21,17,23,17,18,22,30,13,25,28,24,35,21,15,13,24,27,18,30,18,9,17,20,21,28,12,12,15,10,17,9,25,11,22,22,20,21,14,10,37,7,16,27,27,9,25,25,17,14,27,7,34,17,34,39,30,37,21,22,14,22,20,23,21,10,19,33,24,19,21,22,8,11,24,31,27,18,12,6,38,29,27,21,27,39,31,19,19,24,25,18,22,17,12,14,22,11,18,34,16,29,7,19,30,21,27,17,39,16,28,35,21,20,21,12,25,15,33,19,17,26,28,23,33,46,20,39,27,17,13,7,7,22,36,38,26,28,17,20,24,35,29,19,23,6,17,9,19,26,23,13,8,21,22,16,13,22,30,19,16,15,26,21,22,10,16,17,25,31,19,22,10,33,35,17,36,33,22,25,29,14,12,10,16,23,26,30,10,31,17,14,31,18,7,30,9,8,25,8,13,13,25,19,24,21,23,19,27,13,30,5,29,33,18,22,20,6,22,29,21,27,14,22,31,20,17,20,19,9,35,22,65,11,13,15,11,21,24,27,18,23,18,29,23,23,15,19,23,33,35,26,16,27,23,25,32,16,34,32,26,16,28,22,18,28,10,17,21,26,8,25,31,16,31,16,31,27,12,21,13,21,15,17,18,10,18,21,17,21,17,10,21,28,20,18,8,30,22,9,16,34,27,9,29,15,17,31,31,31,21,30,30,26,12,12,7,17,14,15,20,26,32,28,11,24,24,23,24,20,25,15,24,18,21,37,16,31,26,28,18,21,6,29,30,19,25,31,12,12,32,40,34,11,21,19,38,21,20,19,14,17,15,19,13,29,34,31,27,32,26,8,35,29,22,20,11,19,13,12,21,12,17,32,25,29,28,26,25,24,20,22,15,37,19,23,13,35,27,33,30,36,32,16,24,22,47,37,18,23,19,26,12,29,24,24,12,27,27,30,18,25,32,22,33,14,23,22,28,30,27,12,15,25,32,25,22,16,31,13,10,14,23,13,21,20,26,30,7,14,16,21,23,21,31,11,34,19,11,30,15,34,31,32,16,14,10,21,12,27,18,26,16,13,22,39,21,18,24,20,12,32,26,17,29,20,21,18,26,12,25,23,26,19,22,13,12,11,20,21,18,14,13,20,29,9,19,23,17,19,19,22,17,24,25,29,18,23,22,24,18,17,7,27,18,25,12,30,22,30,25,20,25,27,41,25,25,17,39,26,28,19,29,13,15,22,13,25,25,20,15,24,22,18,8,16,27,18,38,23,31,28,26,13,28,32,10,23,7,24,15,19,28,17,27,20,24,25,36,11,11,29,27,26,11,13,25,25,20,34,26,26,18,30,31,15,24,17,12,28,28,39,37,27,16,19,31,18,13,18,19,28,22,16,19,12,15,25,23,35,39,25,13,26,24,24,19,19,12,13,32,38,28,15,26,23,25,29,17,13,16,13,15,23,28,29,15,26,9,33,20,35,36,11,15,35,29,31,34,33,28,19,22,20,15,15,21,22,24,16,16,21,35,29,27,27,31,28,35,35,26,27,18,30,28,25,22,18,30,14,21,19,20,20,28,34,17,12,7,15,14,10,14,31,34,15,16,15,37,34,21,21,22,15,20,17,28,29,10,30,44,14,29,17,28,38,27,25,15,26,20,12,42,16,12,22,20,30,22,18,48,26,10,13,17,25,33,35,32,21,25,16,14,9,17,31,38,24,33,20,23,22,21,24,29,17,16,33,29,19,13,12,15,21,25,17,13,21,25,22,35,15,15,18,33,21,29,19,16,19,9,27,12,24,21,24,26,38,17,32,18,19,26,21,19,22,24,21,14,23,21,20,19,21,28,27,11,9,16,20,20,26,35,36,39,29,23,7,13,8,19,11,12,19,29,24,21,19,13,21,27,35,42,27,21,20,22,14,15,13,14,14,18,23,26,24,17,25,9,17,17,22,37,35,19,28,38,32,31,20,20,31,25,23,29,24,26,20,21,25,25,5,21,7,31,29,15,17,23,29,30,30,17,30,30,17,24,22,32,11,22,16,31,21,28,30,19,19,19,22,27,13,19,23,17,14,9,23,25,17,26,31,27,26,25,17,17,27,13,20,19,19,11,10,27,36,26,39,18,28,32,12,30,26,14,13,25,12,14,11,9,25,20,22,19,14,19,10,17,24,23,25,22,28,23,26,17,23,27,17,14,31,21,21,25,33,13,34,30,19,29,7,4,23,11,23,12,20,20,21,34,23,16,35,23,26,16,15,21,8,25,28,11,24,25,19,30,23,19,10,17,24,19,27,16,17,20,29,8,29,22,7,14,29,22,11,27,34,18,36,20,18,19,22,17,18,7,26,22,26,20,7,6,24,15,32,14,26,27,14,24,32,17,22,24,38,27,23,27,18,18,19,32,35,29,22,15,27,16,28,21,21,24,30,31,33,19,17,15,22,28,24,33,25,27,21,17,23,16,17,14,26,28,21,24,16,16,25,10,24,18,19,25,25,25,38,24,31,25,36,36,30,18,28,25,14,33,32,16,30,29,19,13,32,16,19,25,15,19,26,20,26,13,8,21,26,29,27,16,12,24,29,19,30,32,10,30,23,20,44,15,22,22,19,15,15,16,20,18,29,19,11,21,26,14,21,21,10,21,31,30,26,28,15,18,29,22,42,23,18,33,17,17,22,19,15,23,37,18,17,12,18,24,26,20,13,33,18,24,15,38,44,34,20,8,21,26,20,25,18,26,22,10,28,17,17,24,13,21,18,31,20,19,38,28,24,19,14,31,21,15,19,19,18,23,28,38,22,36,18,10,33,34,14,21,29,21,26,17,27,15,15,25,18,12,30,20,24,22,24,14,23,24,17,7,24,12,27,11,23,12,27,22,30,21,19,19,32,30,37,24,19,18,28,27,39,36,20,24,33,25,28,15,24,22,23,22,19,54,46,22,14,21,14,17,34,14,15,24,20,29,14,31,29,31,10,25,26,11,31,34,27,24,44,24,17,13,23,23,25,30,21,15,20,40,21,24,19,10,33,29,25,18,24,23,18,16,29,13,29,20,30,38,34,35,15,24,26,23,25,20,19,36,17,14,21,25,25,27,28,8,19,15,17,11,20,35,15,12,28,25,31,19,20,45,27,19,21,31,27,21,17,10,15,35,40,23,28,28,34,25,22,12,29,33,18,8,24,23,12,17,25,25,29,16,10,13,23,23,20,35,13,28,17,29,27,26,12,27,27,18,17,28,25,28,12,23,24,21,13,23,19,27,22,28,11,32,21,23,24,17,19,23,9,22,19,21,17,24,25,16,10,22,21,19,11,38,32,32,26,33,14,12,23,32,33,17,31,16,24,12,17,27,31,23,8,6,21,24,28,25,18,20,24,17,7,14,12,8,11,14,29,34,29,20,14,21,22,23,21,27,20,17,16,28,18,18,35,15,19,35,23,26,18,22,12,16,25,34,18,27,23,17,33,21,21,22,15,15,18,12,18,18,18,31,40,28,30,21,17,36,11,9,11,23,18,20,18,22,16,21,13,21,19,17,23,37,26,28,24,15,22,25,28,23,22,39,35,34,20,24,36,14,19,25,20,28,21,17,18,20,19,14,27,12,25,8,22,18,19,21,20,8,18,37,15,20,33,27,27,26,12,21,25,22,9,20,26,7,18,6,32,39,28,41,24,29,21,14,25,13,16,21,24,13,24,21,18,25,17,23,16,7,16,37,14,29,15,14,32,15,28,17,23,21,39,19,20,35,21,16,20,24,27,35,14,18,15,25,18,30,13,17,14,20,23,13,12,18,19,24,30,31,22,26,15,28,18,17,16,35,23,30,31,22,20,21,21,19,15,34,21,29,25,8,25,22,22,11,27,19,19,32,18,11,17,13,30,30,40,25,21,17,32,23,19,20,21,13,18,29,16,32,16,27,22,26,33,14,11,13,38,14,29,34,20,23,18,11,25,24,16,18,24,8,14,23,22,26,9,31,19,17,18,14,32,32,25,17,32,25,20,24,6,27,30,30,25,16,7,30,28,28,19,12,34,27,40,31,16,27,28,30,30,29,25,27,34,31,21,11,33,35,19,20,16,23,18,28,33,28,25,25,27,28,30,26,23,23,23,16,30,24,18,16,33,31,20,24,32,17,18,27,22,10,16,29,12,33,29,39,31,24,25,27,10,29,9,28,20,28,27,25,15,19,16,13,24,28,17,21,12,9,19,23,43,12,22,43,32,25,22,40,17,23,12,44,33,18,22,13,14,19,55,31,41,10,37,35,33,33,35,43,12,20,18,19,20,31,33,26,25,34,11,29,29,14,26,36,13,23,32,11,19,3,39,20,30,11,24,21,30,17,28,29,12,24,9,15,8,20,35,27,27,24,20,21,17,34,35,41,28,23,30,18,16,12,17,30,32,27,17,12,18,19,13,6,24,18,25,22,30,25,19,8,15,32,22,21,33,24,19,29,17,14,18,41,23,29,19,23,28,15,14,13,17,26,18,8,30,22,26,13,11,26,24,31,20,33,20,28,25,28,18,16,27,27,22,21,23,26,19,24,6,10,23,18,15,24,16,21,25,19,28,21,27,24,26,20,6,28,31,18,14,25,26,11,33,18,6,23,20,20,17,17,41,32,23,17,13,31,19,10,24,8,23,11,18,21,11,18,24,20,19,19,18,14,8,33,34,18,25,30,33,28,20,35,11,14,30,31,15,21,21,21,24,25,29,26,21,16,22,25,21,18,15,21,22,29,21,24,30,24,24,25,31,24,25,11,19,20,40,27,25,21,24,29,19,11,12,18,18,24,10,20,15,36,27,18,15,20,34,10,28,19,32,18,23,8,34,28,24,24,17,30,31,7,35,17,17,20,25,20,27,18,18,19,18,24,30,13,9,7,16,7,29,20,24,18,19,34,21,20,29,34,23,31,18,19,19,12,33,23,32,21,29,30,31,21,18,22,25,20,26,22,20,16,14,20,21,25,10,19,15,23,4,42,18,29,16,25,28,21,32,14,25,18,35,21,13,30,37,29,25,14,33,13,12,21,20,10,14,20,20,22,32,23,23,23,18,17,19,27,23,27,23,26,11,14,13,26,31,19,32,20,18,14,26,38,14,26,24,23,20,32,5,34,22,31,27,30,10,16,8,7,11,20,28,32,20,25,12,29,18,35,17,16,25,19,24,25,34,8,15,30,21,20,16,16,19,18,15,12,23,24,22,25,24,22,23,33,7,22,25,16,17,13,10,17,24,23,25,29,19,37,31,10,31,35,29,17,18,6,7,30,19,10,16,25,20,15,34,10,23,23,30,13,19,22,13,23,33,20,24,16,25,28,15,17,14,33,29,37,33,28,19,41,25,24,44,29,28,20,10,25,24,25,18,33,20,25,23,19,18,31,29,17,12,28,11,28,29,9,12,15,23,11,33,26,26,19,21,15,19,18,27,27,23,10,23,27,21,26,19,17,8,26,30,34,28,21,20,30,37,22,17,12,12,22,8,23,33,20,14,28,23,20,12,19,25,13,29,22,34,24,22,33,16,12,26,23,30,21,14,20,15,22,23,24,30,18,34,19,17,17,17,17,18,23,17,14,22,15,32,25,27,28,16,33,26,26,42,11,31,19,23,26,29,24,33,22,20,26,27,21,33,28,28,24,16,10,16,28,19,22,18,24,14,26,18,30,13,28,35,26,8,28,29,27,13,20,33,31,28,25,42,15,22,17,21,33,21,19,15,10,32,32,22,32,17,14,11,29,26,41,15,36,23,24,31,13,17,21,27,23,22,28,31,11,27,29,5,22,38,19,25,23,24,14,14,16,7,21,34,19,17,39,19,21,15,20,21,27,32,12,31,10,14,14,19,5,31,30,24,13,19,23,9,16,21,13,13,28,10,14,19,24,34,34,20,22,40,53,32,46,27,25,19,22,17,28,21,13,9,8,17,45,22,31,14,19,18,54,23,35,47,51,9,38,24,10,31,33,7,14,11,18,20,18,23,45,36,17,25,23,22,17,19,11,22,17,20,26,19,14,26,24,15,20,7,25,20,19,26,15,33,20,25,26,19,13,12,28,17,25,17,32,27,32,9,29,19,18,22,24,17,15,22,15,20,28,20,17,22,24,17,21,30,21,13,33,34,24,24,23,14,30,16,17,21,19,6,15,20,19,25,12,7,12,19,18,19,11,28,26,16,11,21,8,20,33,19,21,24,24,10,31,23,18,19,20,21,17,25,27,24,31,29,27,26,20,16,28,14,42,19,24,27,29,13,16,19,27,22,19,36,31,39,19,20,35,33,15,20,27,21,25,17,19,11,26,14,41,40,25,10,25,23,26,15,15,18,24,19,29,32,16,10,29,29,17,22,19,15,22,18,22,29,21,26,31,21,30,9,24,27,21,25,26,18,24,13,26,31,32,7,29,34,6,28,28,18,21,20,18,19,29,28,18,17,12,18,26,36,27,20,26,24,24,12,22,18,24,20,19,20,14,19,20,10,39,34,13,7,34,22,10,19,16,23,25,15,22,9,15,12,21,22,26,21,13,16,17,17,30,38,21,34,10,11,19,26,14,18,21,22,44,13,21,17,14,17,22,38,32,34,35,19,43,19,24,8,20,10,9,26,14,20,10,37,36,23,24,20,21,26,17,5,35,30,20,20,27,20,21,27,23,25,33,22,18,22,29,51,13,30,24,31,8,9,21,37,10,11,26,26,17,22,12,9,9,21,29,21,9,28,21,28,21,26,14,15,26,11,22,9,26,16,19,13,13,13,20,33,31,38,22,12,14,13,32,32,36,30,15,19,20,29,21,26,10,17,12,23,27,11,13,27,17,31,32,22,26,26,34,17,38,12,33,19,16,14,20,15,24,8,34,25,18,20,25,8,15,17,22,10,19,11,23,44,5,20,13,14,28,20,31,14,35,13,20,29,16,15,27,11,14,27,25,31,7,23,28,40,26,31,16,18,23,21,13,23,26,21,20,24,24,14,27,28,22,22,23,25,21,15,22,18,25,30,24,36,21,26,16,22,22,8,21,13,37,22,28,24,15,18,17,18,14,14,13,32,17,17,22,24,26,26,12,16,22,11,20,16,16,21,14,32,19,19,28,20,6,22,22,8,13,16,17,6,21,14,23,31,11,16,24,26,33,28,24,19,23,22,13,15,18,20,20,15,15,20,10,12,13,20,22,16,13,21,19,19,25,22,23,17,20,31,27,22,21,29,21,26,28,24,18,11,34,13,35,29,13,26,22,20,26,24,16,18,21,20,17,16,20,23,18,26,16,11,9,20,32,16,36,26,15,23,22,40,30,19,34,20,29,27,21,8,13,26,9,30,22,23,36,34,30,11,31,16,30,25,24,22,27,25,25,17,18,21,35,12,12,14,30,17,18,18,17,17,17,17,32,9,15,26,17,16,17,21,14,15,9,15,30,21,20,22,22,18,19,22,19,37,19,16,22,19,25,12,21,19,14,29,12,19,12,19,24,9,11,22,28,19,42,19,24,31,27,12,24,24,20,31,19,12,6,16,10,20,10,26,31,22,25,20,21,19,13,17,19,24,22,29,13,16,12,27,25,29,35,29,10,18,26,19,25,13,21,13,24,12,21,18,14,11,26,29,27,26,22,12,19,14,20,28,12,15,13,23,26,26,14,17,16,25,20,14,19,27,16,18,20,20,25,30,29,17,22,21,15,34,19,22,28,15,10,10,8,23,20,22,23,20,21,27,23,17,21,32,30,24,20,16,13,23,32,20,26,21,21,19,27,23,16,42,27,7,24,30,15,35,26,18,13,18,13,15,8,33,22,18,28,15,22,14,31,24,15,27,13,21,26,23,17,16,21,31,13,28,25,9,22,16,41,19,22,22,35,26,32,31,25,26,34,16,12,19,23,29,20,20,12,27,16,29,15,15,15,26,6,27,29,21,19,25,31,13,23,25,16,19,9,24,7,23,10,12,21,21,23,11,17,20,17,16,26,24,32,23,32,17,17,25,25,32,30,14,20,15,31,29,9,26,12,24,27,30,21,8,28,22,27,21,25,18,18,25,18,36,27,35,25,14,21,21,25,21,27,7,21,23,24,13,23,21,11,12,23,31,15,15,32,22,14,17,18,26,17,29,27,21,31,22,24,22,21,11,25,19,29,22,22,17,28,26,18,11,31,17,26,12,27,22,22,19,20,35,23,25,10,9,24,27,31,24,19,17,23,21,26,33,27,31,6,19,21,29,15,15,25,11,22,26,28,24,17,26,18,24,11,25,17,20,16,21,25,23,22,13,27,14,24,13,25,22,24,21,13,10,20,18,15,6,25,23,11,18,22,19,22,29,23,23,9,11,27,17,31,19,18,20,22,37,11,34,24,15,15,21,31,13,30,10,21,14,16,22,13,29,18,22,25,18,16,16,24,30,23,21,31,25,24,17,13,23,31,29,12,21,8,25,15,19,13,10,18,26,24,31,21,21,19,32,50,19,15,14,27,11,36,23,21,22,20,36,55,49,32,21,11,30,12,25,14,10,15,45,25,39,22,19,20,22,14,14,22,22,37,27,18,35,35,37,10,27,26,35,21,19,28,24,22,10,16,13,32,10,26,35,32,16,8,17,42,27,20,15,21,28,30,28,17,22,33,21,17,7,19,27,24,11,17,17,13,17,18,27,12,29,26,24,19,19,14,18,11,20,15,18,17,20,14,20,26,30,17,33,23,14,28,16,11,15,12,30,18,25,26,21,15,22,17,18,26,18,31,23,22,32,24,35,19,27,33,33,32,17,18,26,31,26,22,21,20,18,24,14,23,15,23,25,14,18,24,21,14,16,29,15,14,22,29,28,23,14,20,21,32,46,26,24,18,6,34,21,11,27,24,18,22,19,24,15,18,25,21,13,35,13,38,20,23,13,20,28,30,14,13,23,29,33,15,23,23,11,15,28,23,20,23,19,16,14,32,9,22,21,13,20,12,15,16,27,20,39,8,25,26,15,27,15,20,24,18,21,20,19,23,27,15,27,11,14,20,19,21,17,23,29,17,8,19,27,25,17,29,19,15,11,11,13,15,21,17,15,17,23,27,19,17,11,17,28,23,19,20,22,11,10,33,17,28,22,15,22,26,10,21,8,20,25,24,27,17,17,20,24,28,37,17,20,21,20,30,31,25,11,12,19,13,17,21,8,16,22,25,14,21,22,13,22,39,14,22,37,33,15,12,6,37,40,46,32,43,26,34,14,18,28,13,15,25,28,29,28,31,28,24,12,27,21,29,17,25,16,14,22,27,14,26,14,30,24,12,20,36,26,22,5,20,33,32,20,31,10,21,14,30,26,13,23,21,28,19,32,27,25,9,23,25,14,13,30,14,26,27,22,18,10,23,22,29,18,30,36,8,23,29,9,20,26,24,23,11,29,17,25,23,19,25,20,14,31,17,13,17,17,13,22,12,19,37,29,11,15,12,20,4,17,23,12,15,23,19,37,13,19,23,28,31,19,16,32,18,14,18,25,19,8,22,21,16,26,11,24,19,20,20,10,12,28,36,17,20,16,24,18,30,37,18,33,18,19,22,31,29,12,27,25,31,30,30,35,12,14,27,24,15,22,18,17,24,23,18,19,39,23,14,19,8,26,14,8,15,15,23,18,12,22,26,16,34,36,27,16,13,30,17,26,25,33,25,20,17,13,13,16,22,24,15,17,13,22,20,24,7,28,10,18,35,13,29,28,20,10,14,28,18,20,35,22,15,20,26,17,17,15,19,37,26,23,26,8,11,24,14,25,22,28,19,19,22,28,20,15,39,15,8,17,22,22,30,25,16,18,16,25,22,14,14,11,23,10,25,28,11,29,10,8,25,27,35,16,26,20,17,10,21,22,17,12,24,22,20,22,30,28,23,21,11,34,35,37,30,30,47,16,36,19,22,21,38,30,25,55,37,31,32,21,20,38,14,22,26,12,30,19,34,31,22,38,22,72,32,32,23,30,25,35,15,34,18,23,27,14,19,26,22,20,28,31,24,39,20,32,23,34,23,20,31,12,27,36,14,20,63,34,13,24,29,33,16,38,8,28,30,17,25,23,12,21,24,27,22,23,32,28,40,13,14,21,38,28,13,28,37,33,27,21,25,30,23,13,27,18,9,11,22,17,35,17,28,15,27,22,22,18,35,21,16,25,29,11,31,22,9,28,28,20,21,24,23,17,9,21,20,24,28,19,15,35,24,13,21,24,25,15,27,19,25,16,16,43,22,22,26,29,27,23,16,25,13,20,27,25,24,22,13,18,34,33,15,9,18,20,19,13,22,13,13,34,20,10,19,25,22,15,21,10,14,21,18,30,29,24,17,21,34,28,14,11,15,31,10,24,11,6,22,16,15,23,11,12,28,20,14,23,18,19,18,21,20,48,12,16,25,5,25,22,29,22,24,22,15,18,19,29,26,13,41,26,25,20,21,17,10,32,11,21,37,13,20,11,19,11,17,25,25,9,14,10,19,21,31,20,33,23,18,23,13,16,21,19,15,12,16,20,41,10,21,26,34,18,15,22,21,26,34,29,19,38,18,22,22,13,24,13,16,14,37,31,14,21,12,18,20,17,16,24,25,37,29,29,22,20,10,19,15,17,7,19,15,12,22,17,21,16,27,18,19,14,35,25,13,18,18,10,24,29,27,15,18,27,13,22,22,22,19,21,22,16,37,18,13,21,24,46,32,29,18,25,29,30,23,23,18,7,25,7,17,14,7,21,19,15,26,24,19,9,14,19,11,19,8,15,16,18,15,20,32,37,14,25,23,17,12,18,26,9,17,6,12,16,29,32,14,13,21,17,25,25,29,23,26,22,29,29,33,24,19,10,16,40,17,17,19,15,22,28,20,23,9,16,19,11,18,27,20,17,29,11,13,17,22,27,26,35,24,25,18,23,12,40,31,16,27,9,29,17,12,12,22,10,13,21,18,20,27,51,42,25,23,31,14,14,28,18,34,30,26,18,18,20,31,20,32,26,25,25,34,14,19,21,15,18,30,17,20,18,23,13,16,13,27,32,15,12,14,19,22,27,38,31,10,20,25,28,20,22,16,14,22,9,29,26,18,11,25,15,12,8,26,28,11,19,16,25,19,12,22,12,20,16,19,24,20,20,21,18,34,47,32,11,19,21,10,26,23,55,33,30,22,11,24,27,26,25,12,18,14,28,12,36,9,15,17,26,10,21,15,7,29,23,15,27,19,22,23,21,17,14,20,13,25,17,22,22,25,13,20,29,21,18,22,25,33,22,19,33,36,29,13,17,34,13,34,26,15,20,14,12,17,29,23,17,21,11,18,20,11,10,21,16,17,12,20,12,41,14,35,25,70,32,40,33,41,25,20,18,41,13,8,23,17,23,17,28,34,8,45,28,27,25,14,14,36,11,18,22,36,34,30,13,17,31,22,31,36,40,21,15,17,35,7,14,15,24,12,37,18,11,24,26,24,20,22,21,23,25,19,24,16,14,24,21,20,14,23,8,34,15,27,26,15,24,16,22,10,27,39,39,21,30,35,33,23,19,23,20,16,14,26,14,17,20,24,21,20,27,29,17,27,20,13,15,26,19,14,10,16,27,5,21,20,13,25,7,18,18,32,19,9,22,25,19,36,6,17,10,17,22,12,20,14,29,14,26,20,31,11,14,14,18,16,17,8,22,25,20,20,12,28,33,32,11,32,18,29,23,6,29,21,22,23,32,35,19,19,37,26,14,15,34,23,20,32,29,13,21,19,26,22,13,15,15,14,19,33,33,21,21,28,27,24,22,12,25,40,34,25,20,10,23,12,21,16,28,23,26,34,30,13,27,21,30,27,28,19,22,8,18,13,12,9,29,7,22,31,30,29,19,20,9,13,21,17,12,14,14,15,27,18,6,19,10,15,21,17,25,20,24,21,35,12,21,9,20,13,20,29,16,13,21,12,25,32,25,17,24,34,31,24,29,29,23,33,12,27,10,27,20,39,16,29,28,27,25,21,9,25,2,10,9,28,23,25,21,29,18,37,27,12,31,24,28,17,22,25,14,31,24,17,16,18,20,28,17,19,22,33,12,23,20,19,25,6,22,23,22,10,17,25,30,28,7,29,21,16,28,19,19,21,18,16,15,7,27,25,28,21,14,14,16,28,8,21,8,33,23,29,16,29,22,29,21,26,26,10,18,22,23,30,18,11,11,27,10,5,19,22,28,31,15,27,22,30,23,21,21,22,25,26,14,27,19,24,7,24,19,17,16,15,24,23,23,25,17,14,31,20,21,33,34,21,26,29,24,16,22,23,23,24,16,27,22,11,35,13,12,11,17,21,11,14,16,9,33,20,18,13,19,7,15,21,19,23,19,36,17,22,14,15,27,20,13,26,24,5,7,9,23,7,26,35,19,9,30,10,13,22,18,19,25,25,17,20,19,35,16,27,31,33,24,31,23,22,35,19,29,55,18,29,13,19,27,15,10,27,14,18,42,18,13,36,20,23,31,13,18,15,21,12,35,30,26,15,36,30,29,24,40,14,26,32,19,23,15,34,15,9,11,20,18,26,27,25,9,26,20,26,20,20,19,23,25,30,11,31,29,12,17,10,21,9,7,11,33,14,24,27,19,13,26,15,20,15,20,19,12,14,22,16,22,19,20,17,15,20,15,23,25,9,38,18,26,11,27,24,10,28,23,8,28,22,25,17,26,22,26,19,24,31,23,24,27,21,22,25,13,16,16,22,36,27,20,18,31,10,25,24,20,21,22,19,17,23,25,21,24,15,9,15,40,25,26,36,16,20,26,24,23,19,16,11,25,32,33,25,13,16,18,30,33,24,16,25,19,19,25,11,27,31,20,12,21,23,6,16,15,36,35,44,35,41,36,23,13,16,14,7,19,34,37,24,29,13,13,8,18,30,31,53,25,24,40,20,25,43,25,28,27,47,21,10,37,104,39,66,39,34,40,18,20,27,22,47,39,28,26,25,18,37,13,16,12,54,27,11,11,35,16,40,26,17,8,14,9,13,34,13,26,13,13,23,36,25,32,35,27,21,20,22,28,15,32,20,12,24,21,19,18,24,18,19,34,30,27,15,15,17,15,40,30,20,14,15,29,25,30,28,24,21,22,26,12,17,27,35,23,23,26,14,15,15,16,21,29,37,31,35,25,24,21,11,16,15,13,16,29,15,30,28,41,23,25,18,21,13,16,23,18,21,20,10,10,23,36,32,12,16,37,25,24,31,24,17,15,20,15,27,22,23,24,21,4,18,20,20,31,21,28,26,18,16,10,21,17,15,11,23,22,24,18,24,12,19,26,39,20,22,28,18,27,33,37,25,28,21,33,36,20,22,20,26,40,28,18,24,24,28,21,19,42,20,28,17,26,28,18,19,18,35,37,15,23,13,22,33,22,19,19,14,23,43,21,18,13,23,29,33,24,21,11,20,27,20,12,19,46,11,26,26,15,33,25,19,29,29,31,8,13,30,14,23,18,16,8,8,21,23,31,25,33,14,12,30,9,27,32,26,13,30,19,8,39,26,25,28,10,22,21,47,14,15,11,33,6,23,34,31,28,9,26,23,28,33,9,19,24,27,13,21,35,12,30,31,12,26,31,26,10,18,26,23,15,30,32,18,12,16,10,16,34,20,15,18,12,19,15,15,26,22,25,20,21,15,27,24,23,16,20,26,15,23,9,20,16,22,14,20,13,30,27,21,17,20,16,33,17,30,11,27,13,15,32,18,17,27,20,21,31,24,24,7,26,37,20,12,13,19,20,9,16,30,18,13,18,23,15,29,11,41,29,36,21,20,17,13,21,20,7,21,29,26,35,23,20,26,18,17,17,18,13,24,17,23,19,8,14,29,18,28,29,21,34,29,18,14,10,10,12,28,13,24,30,21,28,24,14,9,22,20,31,16,30,24,33,31,7,26,24,17,30,23,14,19,22,9,18,32,40,16,34,28,6,19,11,18,13,21,24,12,28,24,33,16,25,13,7,20,14,18,35,29,26,31,12,32,31,28,13,33,13,29,17,37,27,20,26,14,16,23,20,33,20,19,12,18,9,35,12,26,31,15,30,16,24,26,33,30,20,28,18,15,21,27,19,19,31,26,41,31,19,40,43,29,27,24,13,20,23,24,12,29,29,18,19,16,18,28,21,27,18,35,14,29,18,29,27,13,27,18,13,17,28,32,13,26,17,15,11,14,34,23,24,21,25,12,24,25,17,10,18,19,20,12,14,26,9,22,22,22,30,11,13,11,9,10,21,32,23,25,20,25,28,20,21,13,19,28,30,27,18,25,23,21,16,24,28,16,24,20,34,28,25,15,33,33,51,24,17,22,26,16,21,10,24,16,16,29,27,17,23,18,28,23,31,23,20,17,23,23,29,22,15,32,12,28,26,24,21,9,23,47,23,33,17,28,20,31,16,30,17,9,51,33,34,47,28,16,42,48,28,23,28,15,18,31,45,23,18,24,8,16,12,22,21,31,20,19,21,24,18,34,17,33,21,33,24,19,22,37,22,25,18,29,23,29,18,19,24,35,17,17,6,19,28,17,34,15,20,26,17,36,26,24,24,10,21,19,31,14,14,22,16,15,36,16,16,13,25,10,22,22,11,12,19,5,20,11,20,9,21,22,18,18,29,25,14,19,17,12,22,24,10,28,16,29,27,32,26,23,17,15,18,33,12,15,25,24,18,33,15,28,24,26,40,23,17,23,30,11,27,19,24,25,17,23,20,5,13,25,35,22,20,26,28,27,13,15,7,27,21,24,26,18,13,33,14,23,10,18,14,8,16,23,23,34,20,33,15,10,18,10,9,23,31,29,20,30,10,16,37,9,12,19,12,11,31,14,19,22,14,19,11,27,23,26,23,23,16,15,24,34,24,33,23,23,24,31,43,26,13,24,28,27,19,23,9,16,17,18,36,27,13,19,12,21,30,10,21,22,27,23,18,20,7,35,42,5,31,23,19,25,25,18,14,21,11,19,33,22,25,18,35,28,27,15,12,35,13,28,30,24,9,16,16,22,19,17,30,19,16,27,29,26,22,30,18,18,35,18,13,25,29,19,25,29,16,24,25,26,24,35,16,33,33,22,16,20,16,21,26,21,15,22,7,14,21,14,24,12,22,24,22,22,15,18,18,27,9,15,20,23,32,13,20,35,25,13,15,9,20,22,25,28,11,12,39,23,11,4,24,18,16,19,11,13,10,21,23,25,10,12,28,25,32,30,34,19,23,15,20,22,25,29,12,15,33,30,19,26,5,18,22,15,24,19,15,36,21,38,29,22,20,28,21,19,23,19,20,22,23,14,27,19,23,28,24,31,9,31,31,16,22,14,20,21,17,20,11,13,31,21,15,17,16,16,32,20,27,15,11,24,24,41,21,14,13,27,13,18,22,32,9,24,19,24,23,17,13,24,15,17,28,33,28,31,25,13,28,41,19,12,14,23,17,26,18,26,11,14,38,22,30,16,19,25,20,17,23,27,8,21,35,35,33,9,31,19,21,25,22,31,15,10,29,12,27,20,14,12,9,14,29,32,23,9,38,30,26,30,21,10,25,19,26,34,13,26,20,37,34,28,17,16,23,26,24,13,16,25,19,13,16,26,21,14,20,9,14,34,8,16,11,27,21,12,27,27,15,17,21,21,24,25,22,21,26,16,15,17,19,23,16,25,7,19,28,16,13,20,22,18,22,40,24,14,31,31,13,27,23,10,26,29,27,26,9,20,22,37,10,39,24,23,22,17,16,20,29,15,27,23,28,15,17,21,28,36,8,19,18,29,21,44,24,10,26,20,10,25,23,32,23,32,32,26,21,23,7,31,23,18,22,20,20,12,11,29,48,27,16,24,44,17,34,21,17,16,13,9,23,11,17,24,26,19,29,60,31,31,33,44,20,22,25,36,38,23,40,11,14,37,17,15,18,21,12,27,23,22,9,22,31,9,18,13,9,10,15,28,20,27,10,26,25,11,13,20,16,18,6,26,31,20,23,20,29,23,22,16,20,11,22,24,35,10,25,32,11,13,34,20,12,13,9,21,16,17,22,25,25,20,22,16,12,20,23,14,25,36,33,20,9,35,27,43,20,22,31,10,35,13,17,16,26,21,22,12,19,24,16,17,31,32,40,21,19,7,16,14,25,29,16,27,30,23,20,17,25,26,31,36,17,14,13,12,33,28,27,15,22,20,28,25,20,15,21,27,29,17,18,24,21,17,16,30,12,16,23,32,21,29,22,26,20,29,23,20,21,24,28,21,21,6,8,14,17,13,29,21,25,20,11,22,38,10,13,28,26,25,9,31,19,20,26,26,33,10,28,15,25,14,20,23,22,6,12,15,21,33,19,26,19,17,11,26,32,28,24,21,20,20,35,37,15,21,17,28,30,22,21,19,13,14,25,24,26,11,25,16,20,33,12,24,14,10,16,18,25,31,10,22,14,23,24,23,24,31,15,22,33,31,29,31,15,13,17,26,13,26,30,13,13,19,20,33,49,25,20,18,21,22,25,36,37,22,14,31,25,27,15,27,28,15,24,22,23,8,24,30,20,17,17,18,23,26,32,32,11,16,39,26,26,20,33,21,30,17,22,10,24,19,25,25,24,12,19,10,12,22,21,21,21,12,16,8,18,17,19,23,26,26,28,20,30,32,26,22,14,32,30,42,17,17,28,7,22,22,9,12,24,13,19,14,13,6,15,17,19,23,11,18,15,30,17,19,27,12,17,32,9,27,30,23,10,26,19,22,31,23,14,25,26,18,20,31,20,16,15,18,20,17,27,36,9,30,6,26,29,12,28,35,14,18,20,17,15,16,24,33,23,11,10,26,14,11,13,25,27,24,28,19,32,8,19,23,13,16,21,18,19,18,23,18,12,31,13,17,32,6,16,16,17,22,21,15,12,23,31,28,14,12,20,22,31,13,32,23,24,25,27,10,15,27,25,22,17,21,22,26,18,8,7,24,28,32,43,26,28,16,7,12,23,14,18,14,16,30,26,11,19,20,6,14,22,15,33,28,21,24,43,25,27,24,29,35,16,14,10,19,7,28,35,33,15,13,31,25,17,23,7,28,18,25,34,29,23,16,24,23,27,28,16,31,31,32,26,16,23,25,17,30,19,19,26,14,20,17,16,17,15,19,24,39,22,36,28,13,28,23,34,30,19,20,23,28,39,24,33,10,11,25,22,27,16,24,13,13,10,26,26,24,23,31,28,36,33,14,33,26,15,20,26,15,16,9,19,20,27,39,25,15,27,36,23,17,25,18,18,32,52,10,24,11,20,24,15,12,34,30,34,13,20,21,40,11,21,20,30,20,11,3,17,13,20,25,17,16,18,20,25,21,16,28,14,26,19,19,11,28,10,16,23,20,13,11,21,33,12,25,31,43,24,22,20,29,16,19,10,25,16,17,35,22,38,22,22,15,31,25,37,20,29,10,24,33,16,21,15,21,20,34,15,26,20,36,31,28,19,21,18,30,16,14,30,20,17,21,13,26,21,7,41,32,15,9,23,25,22,28,21,11,21,23,32,7,9,8,27,14,18,22,18,17,22,24,30,12,16,17,39,13,25,22,25,13,17,15,27,20,30,19,26,32,22,15,19,30,17,30,9,40,24,8,21,22,21,13,13,10,18,10,15,16,28,22,24,31,17,21,21,26,21,24,28,20,15,15,34,23,15,10,6,24,11,24,12,25,30,26,11,27,26,30,13,16,44,26,20,28,22,31,12,21,5,22,18,27,13,31,16,22,25,12,25,19,14,14,18,25,16,25,19,16,17,23,15,21,8,11,27,15,10,27,19,36,25,28,31,28,11,24,7,15,15,19,34,27,28,26,33,34,11,24,22,17,21,14,14,23,25,26,18,32,24,11,8,21,20,30,34,22,18,29,24,22,21,21,16,9,12,23,33,23,20,29,26,29,22,23,34,24,28,22,15,23,24,22,25,21,16,13,24,35,10,7,22,32,19,28,23,14,19,24,31,20,26,23,12,27,20,18,36,23,20,7,31,25,25,28,29,25,27,22,33,16,31,26,22,22,27,19,16,29,25,29,33,29,25,22,17,34,20,19,34,21,29,17,13,19,24,30,27,18,8,26,30,21,26,25,14,20,23,21,14,26,28,30,23,23,20,29,20,10,24,26,17,16,17,26,28,19,34,12,20,31,18,17,16,31,35,38,23,37,22,22,14,23,26,33,34,20,20,21,15,18,24,26,14,17,35,19,16,35,22,23,11,15,21,19,27,27,36,28,23,22,25,25,15,31,19,18,25,25,24,14,16,14,25,21,21,12,32,19,19,14,34,34,23,29,19,33,13,32,26,24,14,12,18,30,22,22,27,22,19,14,16,19,27,26,16,28,21,10,24,28,31,29,17,16,18,25,38,14,12,20,29,27,22,18,23,31,24,28,40,7,19,14,16,19,30,29,18,12,21,12,20,24,28,19,30,12,23,38,36,25,17,12,20,23,11,23,26,27,27,34,18,37,23,22,15,21,23,19,33,26,27,21,19,27,25,13,38,11,40,11,37,21,26,15,28,34,14,31,58,49,18,21,19,9,14,21,21,17,13,23,35,18,30,35,32,46,31,15,26,22,20,28,44,33,35,35,24,19,21,21,25,24,11,18,21,15,21,25,37,9,28,42,22,22,16,21,30,18,31,35,28,22,21,25,16,9,24,11,19,12,30,28,30,29,19,34,19,37,9,14,19,24,24,19,25,24,25,19,22,16,22,21,18,20,23,10,27,26,28,23,25,24,24,24,18,21,15,16,11,27,22,17,6,53,22,15,26,24,23,13,18,7,41,17,24,23,16,19,32,31,24,36,17,34,15,20,21,17,25,27,23,23,25,23,14,28,11,24,26,14,32,26,22,14,21,25,19,26,16,10,18,12,27,36,11,16,25,14,9,30,19,9,30,6,20,17,25,42,38,16,29,18,29,26,25,23,9,27,26,36,21,11,15,17,21,34,24,30,22,22,27,29,6,30,25,23,32,11,15,27,26,28,13,16,16,12,12,10,11,19,22,34,18,11,16,24,25,24,8,21,36,23,20,20,17,30,22,25,23,36,34,30,16,16,21,34,29,32,12,35,22,27,10,33,19,23,15,22,16,17,26,18,27,15,16,32,6,19,33,15,18,24,30,20,24,29,10,10,27,21,18,24,23,15,23,16,15,29,24,14,5,22,29,35,11,24,21,26,9,20,31,29,22,28,11,21,26,17,16,11,13,17,22,34,19,20,9,8,18,30,20,32,27,17,17,27,25,26,33,22,17,15,25,28,33,8,21,10,22,19,23,24,11,7,16,28,21,7,22,13,26,25,10,26,24,17,10,14,17,10,29,21,18,28,16,29,9,18,6,21,19,23,16,17,18,20,25,15,19,15,15,22,18,11,26,25,27,25,20,32,20,28,22,20,22,29,19,19,23,19,15,21,16,21,16,14,10,23,28,20,24,21,24,30,19,12,17,25,14,20,10,22,9,18,28,8,26,16,14,25,30,15,16,31,17,38,28,28,31,8,19,35,29,22,10,11,19,11,30,16,31,16,17,28,48,41,27,19,32,20,19,13,14,23,14,22,31,18,19,15,30,25,21,20,39,13,13,14,16,9,23,17,33,26,16,22,18,16,19,20,24,17,15,11,19,38,25,25,20,10,11,26,14,37,35,30,16,31,28,28,13,7,22,26,15,22,29,15,21,26,28,9,33,21,9,40,28,21,39,30,16,18,12,8,23,32,16,20,27,17,32,27,24,22,11,10,24,22,30,21,26,21,12,30,26,19,26,24,26,21,22,27,11,21,17,24,46,14,22,22,19,14,19,22,23,11,9,27,26,18,27,17,23,16,15,24,27,30,25,19,27,26,22,19,19,27,17,20,23,13,27,38,21,16,24,18,35,13,14,22,31,20,26,35,29,9,24,22,28,25,14,20,21,11,21,20,16,25,18,29,22,32,28,14,16,16,21,26,35,36,24,24,19,29,11,28,20,26,57,19,9,21,19,34,20,43,50,34,15,33,42,10,22,20,14,25,28,9,14,11,17,14,24,23,39,27,23,12,46,35,24,23,17,24,16,19,29,15,26,11,14,38,30,17,9,44,30,5,11,6,45,46,39,27,27,27,11,13,13,22,24,25,44,18,10,19,31,20,24,32,30,11,19,17,20,21,20,23,21,15,24,36,11,25,25,23,26,20,29,8,25,34,25,13,35,19,31,17,21,18,18,26,26,20,19,14,19,15,26,18,18,22,15,21,32,31,19,22,16,16,19,25,9,26,19,39,31,26,29,20,32,26,18,26,26,27,22,25,30,23,27,16,32,29,24,13,28,30,27,23,34,14,19,17,26,19,25,14,27,24,10,19,13,14,30,15,17,17,10,18,18,31,38,38,23,32,27,38,21,22,33,14,26,27,15,18,32,25,22,7,40,20,17,16,28,10,29,10,26,25,25,24,27,30,33,18,21,13,21,8,6,15,29,42,30,35,30,21,11,31,14,18,13,9,31,28,17,29,39,27,39,29,24,25,27,18,10,19,23,14,24,17,21,10,16,30,14,18,18,29,20,23,16,21,36,17,37,10,19,25,38,18,12,21,16,14,33,38,25,18,25,35,14,15,22,12,12,13,27,19,11,29,32,14,30,21,6,9,26,13,16,23,24,6,29,25,12,18,25,16,26,19,13,23,30,19,26,21,17,20,23,24,15,44,21,22,19,20,27,23,30,27,27,26,31,25,8,26,10,23,26,21,18,20,19,22,17,17,24,27,20,13,19,14,26,12,12,14,11,17,31,13,25,14,27,39,18,26,30,15,22,9,17,19,27,20,23,16,20,18,17,13,15,17,22,25,23,18,29,22,30,20,14,11,25,20,22,24,11,23,12,15,12,24,14,11,20,9,22,18,20,27,24,26,16,29,33,26,21,29,14,29,4,20,12,23,22,23,23,34,35,31,34,21,20,23,22,18,8,19,23,7,22,15,18,29,20,18,24,24,20,19,10,16,8,19,19,18,15,15,22,31,8,20,22,19,22,13,30,9,27,23,13,18,12,25,28,19,28,32,27,25,28,29,26,19,26,35,14,19,18,27,27,19,22,18,21,24,11,14,8,18,23,27,16,10,10,9,14,30,23,25,31,21,13,21,10,20,17,21,23,16,22,21,29,25,20,11,39,15,35,18,27,21,26,16,10,7,17,20,23,25,34,16,35,22,28,27,17,38,28,21,27,25,26,26,22,25,27,18,13,37,28,28,26,33,15,23,8,19,25,25,23,14,37,36,30,34,27,8,24,35,23,28,28,58,7,19,26,25,15,13,36,34,17,28,22,27,41,49,34,32,28,14,34,23,26,46,28,50,37,33,24,24,21,33,34,21,17,35,27,21,34,40,33,28,36,21,27,30,27,28,21,49,18,10,33,16,12,22,8,13,37,25,17,14,29,11,21,20,11,16,21,20,17,31,61,12,11,7,21,33,23,33,20,12,21,23,23,26,24,17,21,28,20,18,17,22,22,20,14,22,20,14,26,25,23,15,20,39,27,12,4,33,16,23,22,15,28,21,28,28,17,20,23,14,32,37,24,31,26,18,17,41,18,25,24,7,26,10,17,24,24,29,33,23,35,30,18,25,12,18,8,13,16,12,19,30,13,17,10,18,15,14,29,32,46,25,18,11,30,36,21,30,12,17,14,27,30,23,9,19,24,21,14,25,11,12,26,18,26,10,24,26,48,15,7,23,22,20,24,20,16,19,27,19,30,24,26,30,16,17,8,18,31,26,29,26,15,8,8,29,21,24,31,16,19,14,14,13,19,17,21,14,21,19,25,28,29,16,8,22,26,38,32,8,26,22,23,29,18,27,15,23,26,17,29,8,22,19,13,18,25,33,8,23,14,28,19,15,28,18,16,38,26,15,27,32,31,20,18,23,27,18,24,28,15,21,30,13,29,24,9,20,16,28,42,27,31,29,22,22,31,19,23,26,21,5,26,9,19,9,24,23,10,22,30,8,13,27,28,17,29,17,12,11,11,22,23,8,16,17,15,18,18,21,31,28,11,27,28,15,16,17,19,11,19,34,21,15,13,25,12,18,26,11,14,28,26,14,32,12,29,15,9,15,19,32,12,38,29,16,13,32,13,21,24,22,14,30,17,20,45,22,16,12,17,22,21,23,15,8,31,15,22,23,24,11,18,13,19,37,21,22,12,21,16,18,25,26,25,25,24,26,37,15,27,24,28,15,28,16,8,25,18,19,23,18,22,24,27,24,34,23,6,24,11,15,22,10,17,26,24,24,16,17,17,26,18,9,28,36,19,21,31,31,12,18,13,23,28,18,26,18,17,24,31,17,20,27,26,12,30,39,22,29,16,20,25,26,18,12,10,23,11,12,14,27,27,27,34,17,16,18,18,11,35,21,18,8,12,21,31,31,24,17,25,9,19,22,23,23,15,18,19,16,33,32,33,22,27,22,19,35,36,28,24,13,18,17,12,16,32,26,28,32,30,24,28,14,27,11,28,26,28,36,7,14,33,23,26,18,39,23,19,14,32,20,24,29,25,20,12,33,20,20,10,28,22,23,10,19,9,16,16,35,23,23,23,12,29,25,23,27,17,28,22,13,15,9,26,24,26,23,15,20,10,12,25,26,13,26,27,29,13,10,32,19,12,19,24,23,21,18,29,8,16,16,7,30,19,29,24,34,16,20,29,9,23,9,16,28,26,15,37,36,20,23,19,10,30,41,25,50,15,30,25,23,15,11,27,39,31,12,43,22,27,29,18,25,12,21,23,24,15,28,14,11,20,23,26,18,39,15,29,35,13,15,24,25,19,33,40,24,25,20,28,12,28,21,9,11,16,26,23,25,19,25,25,39,18,28,13,8,10,9,32,18,16,20,29,29,11,19,23,32,43,38,29,27,17,16,24,36,36,16,19,17,34,16,14,19,10,22,28,28,37,22,29,26,30,24,20,27,18,23,17,17,18,46,17,21,23,20,27,22,28,20,34,11,13,6,23,27,22,32,27,11,12,17,16,31,37,18,25,22,31,16,17,16,23,27,19,14,18,33,16,30,23,22,18,17,9,21,31,28,7,20,14,19,28,15,12,23,22,15,29,11,26,25,32,11,22,23,24,24,22,17,26,27,27,43,36,22,18,16,21,27,24,34,6,18,15,20,39,21,16,24,26,34,17,17,10,23,14,21,41,29,11,17,21,21,17,26,18,14,16,27,19,16,20,20,19,15,26,23,10,20,19,23,40,32,40,19,15,11,18,24,18,27,26,13,14,24,22,32,24,42,25,35,23,23,22,19,21,31,16,23,29,25,18,13,12,17,18,19,19,25,30,30,27,25,33,30,31,20,20,22,28,7,20,24,13,16,20,18,49,22,27,20,10,17,23,20,26,13,31,30,24,37,24,30,15,25,28,25,12,23,32,26,12,23,21,24,26,39,34,21,50,26,22,22,13,38,22,37,18,31,23,29,25,23,23,29,16,21,30,36,35,33,30,18,20,29,30,26,35,20,40,24,25,13,27,25,20,11,25,32,21,17,16,26,28,31,20,25,28,23,31,22,24,29,33,22,25,8,22,26,42,24,14,22,10,19,35,8,23,27,35,30,22,21,17,15,28,24,21,30,29,22,30,26,25,13,30,32,39,4,15,9,27,26,22,19,17,10,7,26,23,22,21,22,25,20,20,25,23,10,23,14,23,31,26,19,19,17,18,32,11,35,13,27,10,15,24,14,16,10,26,31,16,27,18,24,32,27,16,10,11,11,7,28,22,21,20,18,20,14,9,22,23,20,31,34,6,22,23,26,17,10,34,17,25,29,17,33,21,19,10,22,31,18,28,25,27,36,30,26,8,11,13,9,22,19,34,21,25,18,17,34,25,29,23,10,19,23,24,18,17,12,26,29,8,43,11,23,31,17,27,28,18,19,10,18,27,24,9,15,18,20,26,31,21,17,7,23,13,26,21,32,12,27,22,17,42,15,12,23,32,16,9,29,16,26,14,37,14,37,18,23,23,17,15,35,28,9,19,32,43,35,39,19,19,20,21,16,37,31,16,26,15,41,13,31,23,27,35,34,22,34,31,26,20,26,58,12,6,14,10,21,18,14,18,22,19,10,19,12,29,22,39,38,35,24,20,22,16,27,17,19,12,11,12,18,16,18,38,31,20,26,34,27,25,24,24,14,25,11,13,23,17,10,24,11,21,24,31,25,4,34,36,11,14,12,39,30,33,12,22,26,27,24,34,24,24,12,30,25,27,14,9,10,30,16,21,30,17,10,34,34,14,15,24,32,19,23,10,18,22,24,30,17,12,17,8,5,16,12,17,10,33,17,16,36,26,5,23,22,19,19,15,21,25,20,13,14,22,26,33,13,6,22,15,18,15,23,25,17,21,32,22,13,29,28,24,35,17,10,10,23,27,14,10,22,24,14,20,16,24,23,17,17,10,5,20,18,21,18,23,11,13,27,22,18,26,25,12,14,28,28,29,21,28,25,13,18,19,12,31,13,35,30,19,16,14,37,30,40,14,28,18,5,14,19,11,24,33,15,10,26,21,24,23,16,19,21,15,15,12,18,18,27,22,21,18,28,10,25,25,18,23,36,25,19,20,22,11,17,20,23,23,26,12,17,25,32,21,25,35,27,14,32,26,27,29,19,24,27,12,16,29,25,23,38,6,20,34,22,17,20,41,34,21,14,16,39,16,23,14,20,34,18,20,12,19,19,16,18,23,13,18,19,25,24,27,32,29,29,16,25,18,11,25,15,26,30,12,19,28,18,23,10,17,9,22,15,8,16,27,14,14,27,6,19,19,28,20,24,34,18,9,26,27,18,12,32,25,22,18,12,34,19,21,27,39,11,15,26,18,25,26,22,20,25,31,15,15,18,24,23,7,27,25,20,27,25,29,14,15,30,27,25,16,14,10,11,21,21,30,19,16,29,30,29,10,14,15,21,21,27,12,17,19,9,29,18,10,25,29,14,24,26,21,17,22,20,24,33,37,19,30,14,15,32,26,15,27,15,22,24,17,22,16,11,23,28,30,14,23,20,12,26,28,28,21,21,25,17,24,21,16,18,23,12,20,30,42,19,21,28,19,30,22,21,31,20,22,15,14,16,30,8,26,11,21,22,15,17,31,19,26,18,11,23,25,17,15,27,26,13,22,7,23,23,19,27,12,12,31,26,27,26,21,33,30,18,23,44,17,27,15,22,21,17,25,18,32,33,38,35,39,39,32,20,18,35,22,23,23,18,14,43,18,13,35,36,11,48,43,44,22,34,26,54,32,34,30,24,21,21,22,34,17,20,15,28,21,15,13,16,22,34,30,14,32,12,40,45,25,46,35,49,36,18,23,5,10,15,9,10,17,13,26,18,32,21,13,17,12,19,28,32,32,13,22,35,34,16,15,11,17,5,31,18,23,19,26,24,19,26,29,8,13,17,28,36,24,30,23,11,36,19,23,31,16,13,15,10,21,19,30,27,27,26,24,29,22,14,15,12,27,14,23,25,20,37,10,12,30,25,22,21,26,24,18,15,26,25,16,30,31,6,20,15,27,22,11,29,22,36,16,26,23,18,11,12,13,15,17,21,7,30,20,17,17,16,17,20,13,24,15,23,14,12,18,27,22,11,24,14,29,37,20,23,24,31,18,22,20,26,16,12,6,26,9,16,27,30,41,24,19,27,8,20,30,29,18,17,13,31,29,22,28,19,22,13,20,20,11,8,23,32,25,20,24,34,19,20,16,27,17,26,36,19,13,34,15,9,16,27,14,19,10,17,8,10,23,17,28,21,21,20,27,22,36,17,12,14,27,24,32,21,18,30,32,29,22,21,21,34,13,26,18,20,9,17,38,13,35,22,9,21,29,24,13,24,21,17,17,9,31,21,24,11,11,21,22,26,21,17,8,13,24,14,22,25,18,17,21,22,16,25,11,16,15,28,17,20,23,7,27,21,18,10,23,17,25,8,39,29,15,12,11,17,28,15,23,23,25,26,14,29,23,12,28,5,15,20,17,23,31,22,22,25,27,30,24,8,28,32,20,10,14,19,26,24,30,17,37,23,21,13,29,30,19,37,23,20,31,32,29,10,22,34,27,30,10,16,11,10,26,33,31,18,20,35,22,33,16,17,23,34,27,27,20,28,31,16,10,30,23,34,27,12,21,14,22,24,19,23,13,24,20,23,11,16,27,14,15,25,11,25,26,30,9,21,24,30,33,24,22,17,12,22,20,22,13,33,21,17,27,24,26,30,23,17,16,11,30,14,21,27,21,7,29,34,12,19,19,25,20,21,22,11,14,14,19,32,27,32,22,31,25,21,31,6,20,22,20,13,22,20,23,19,7,15,25,17,22,30,19,18,15,5,20,7,21,18,33,22,24,24,10,23,29,8,21,32,18,25,34,19,11,20,14,21,18,21,26,19,26,32,17,21,21,29,28,12,27,13,18,16,11,28,22,12,33,18,14,34,12,39,13,33,17,23,13,17,10,24,17,25,28,27,24,19,20,26,10,22,55,29,32,15,17,25,21,22,19,24,43,36,15,42,38,14,28,34,38,37,33,30,14,39,13,41,13,32,31,22,21,26,14,16,67,8,22,28,8,41,26,27,47,14,14,15,16,21,17,16,17,22,34,25,29,15,34,26,38,32,29,18,18,19,33,17,22,37,20,13,25,27,26,36,13,21,22,19,24,16,16,24,6,11,26,28,30,14,20,35,7,22,25,24,15,19,23,25,14,21,36,27,28,29,16,26,16,27,29,24,12,11,23,26,17,21,16,23,23,33,24,22,25,7,21,29,19,13,34,20,34,30,20,27,12,29,38,25,22,16,13,24,13,27,31,25,17,14,23,19,24,21,29,22,23,29,26,28,12,17,33,21,21,32,10,21,22,41,21,35,19,15,23,28,22,26,30,19,34,17,14,16,17,27,40,7,30,6,26,16,26,21,14,17,15,6,14,33,52,18,10,28,9,20,23,25,7,18,17,28,13,25,21,13,28,14,20,7,7,22,21,15,23,23,23,24,19,17,25,25,41,24,20,21,22,26,28,30,19,20,17,22,15,11,33,35,33,35,18,22,15,21,7,23,9,16,14,24,23,18,22,42,23,24,27,19,29,16,25,17,32,15,11,12,27,32,12,20,32,24,17,22,10,28,25,12,21,21,23,36,12,35,18,25,32,13,9,19,24,25,9,29,24,28,15,12,25,25,13,27,26,22,23,25,15,13,30,31,25,24,22,17,13,18,29,14,22,24,21,11,19,33,44,18,29,18,29,20,27,20,12,15,11,15,8,22,13,5,24,24,26,14,27,12,19,18,27,31,26,20,29,21,28,14,9,30,19,19,24,10,9,22,6,19,12,23,18,22,19,11,34,14,18,21,31,27,20,20,19,29,16,30,13,9,10,20,25,27,26,21,27,20,43,19,14,32,22,33,24,32,20,8,24,26,15,20,21,23,17,21,10,16,20,22,11,16,20,23,26,12,39,25,29,29,21,30,31,13,18,27,15,27,22,32,27,36,16,13,20,19,34,32,31,23,24,19,19,35,17,22,21,20,27,21,23,29,26,26,9,30,20,20,13,26,28,17,32,15,31,19,21,23,19,27,23,23,17,4,27,19,27,27,20,27,22,18,22,29,26,18,28,10,27,22,26,7,37,30,19,18,16,10,26,19,29,13,22,9,22,33,40,28,19,13,31,30,10,33,20,20,19,8,12,11,29,19,21,26,13,28,23,22,16,11,27,29,26,33,26,18,23,17,22,20,15,10,15,11,16,10,18,21,16,29,18,15,25,16,26,17,10,18,20,13,15,26,29,32,25,28,35,35,10,22,8,25,18,20,23,14,22,29,24,36,25,14,41,35,10,31,20,35,21,17,18,21,14,33,15,35,14,31,17,24,15,24,16,14,18,36,24,15,17,23,20,18,10,12,6,14,9,28,12,20,21,41,39,21,21,27,28,15,12,20,7,29,17,31,37,24,13,20,28,21,27,26,27,15,19,35,15,18,11,14,21,16,12,15,9,18,16,35,17,22,24,32,20,20,23,30,22,12,24,13,22,18,22,22,20,17,12,22,20,9,41,21,27,25,20,19,26,33,24,12,36,24,28,28,16,8,18,17,19,26,31,19,21,14,20,8,17,19,9,31,19,20,23,30,18,15,11,11,18,20,32,12,33,22,21,24,26,32,21,36,13,25,20,22,35,22,19,8,8,34,29,15,23,39,22,18,27,19,18,20,23,20,28,34,34,26,29,32,35,30,21,24,28,31,25,22,24,27,23,24,12,23,28,31,28,14,26,39,23,23,25,20,26,14,25,16,18,30,29,11,12,18,24,14,8,10,24,27,23,20,24,13,20,22,28,12,22,23,25,27,19,26,28,24,18,31,17,27,12,25,18,18,21,29,14,20,21,24,25,16,28,44,38,13,23,18,23,26,15,29,19,43,19,15,24,35,12,34,26,31,18,29,23,23,6,20,19,36,23,30,27,8,27,29,22,34,22,13,28,16,26,20,40,20,22,34,29,17,13,21,20,45,20,13,19,17,18,20,18,10,30,23,23,33,13,20,24,25,29,19,5,38,35,32,21,14,26,25,22,24,34,19,38,20,28,25,23,16,20,18,33,9,22,27,27,40,9,27,19,33,19,21,27,30,37,19,24,14,22,19,7,38,14,9,19,26,21,14,23,28,28,15,22,7,25,27,25,28,10,16,17,18,23,16,24,20,21,35,19,36,45,18,19,11,37,27,19,15,27,16,23,29,28,14,12,34,19,19,8,18,25,28,15,21,21,22,23,26,18,9,21,15,16,30,19,25,19,35,22,11,28,32,10,18,25,21,28,20,20,12,18,9,31,15,15,26,28,55,28,23,20,28,14,26,13,26,34,21,25,19,31,27,14,8,17,20,31,14,14,30,29,16,18,30,15,15,27,21,14,15,37,18,26,12,8,19,29,21,26,10,14,23,40,9,19,15,25,16,15,27,10,32,23,16,18,15,30,22,23,16,13,18,23,13,44,24,21,18,16,20,13,22,28,26,26,19,27,22,23,29,24,24,29,12,28,14,21,25,39,27,21,27,18,19,13,16,15,31,19,23,20,27,16,15,29,29,5,21,13,26,15,27,23,25,12,24,19,20,20,13,11,11,18,14,18,28,38,18,22,28,43,25,24,17,9,31,29,29,27,14,22,13,12,15,8,19,28,9,7,29,24,14,21,32,37,13,27,26,28,29,25,26,18,25,24,18,24,19,21,21,39,15,17,13,16,31,11,20,24,30,26,47,16,59,15,24,51,8,10,28,21,46,14,14,8,29,33,36,13,46,17,26,19,12,26,22,25,9,37,10,22,36,11,23,25,39,18,18,14,28,12,27,13,21,40,10,10,16,21,22,25,24,47,15,10,13,15,13,7,22,18,33,16,21,21,30,19,32,30,17,10,20,12,22,37,33,11,31,41,24,24,19,34,33,10,35,29,23,20,15,25,25,24,24,18,27,27,16,6,28,6,12,23,29,29,19,11,20,15,27,38,7,20,26,21,24,31,32,21,24,8,22,19,27,32,17,33,16,18,20,16,12,37,17,18,16,15,18,33,36,43,20,23,15,20,19,18,25,22,21,14,27,15,19,22,27,17,30,27,22,19,24,28,28,24,30,18,26,26,8,21,23,10,34,32,26,5,37,27,13,17,23,25,29,19,28,32,23,22,31,24,23,14,14,25,17,15,21,10,22,25,24,31,16,21,38,13,29,17,21,9,24,12,27,26,27,25,29,22,28,13,36,29,32,21,9,16,19,12,26,20,24,21,18,30,16,24,18,17,16,11,22,19,9,15,26,20,22,21,32,35,31,26,25,18,19,22,13,25,19,27,27,22,19,23,25,11,9,24,15,21,17,28,33,21,22,18,24,29,16,27,15,23,21,25,33,12,16,31,20,28,12,23,14,19,29,18,24,28,25,12,18,25,25,24,21,25,20,14,10,16,28,14,26,25,20,39,21,24,18,34,15,11,28,25,10,28,24,18,38,22,12,21,25,26,15,20,29,24,14,26,20,30,25,16,19,31,26,30,26,26,15,27,22,29,19,22,10,20,16,18,32,28,23,30,20,22,18,19,20,13,17,23,22,18,48,40,21,33,37,22,18,20,26,28,20,7,23,21,13,13,13,32,29,28,24,24,15,23,22,17,23,16,16,33,16,22,22,21,19,24,26,19,27,27,31,13,33,27,23,11,33,12,22,30,22,21,26,26,27,9,16,24,23,31,17,26,21,11,20,24,30,13,38,23,18,13,20,30,21,29,20,16,30,26,19,12,26,35,25,15,17,24,23,18,16,16,27,9,28,36,22,27,16,19,27,26,20,37,18,33,25,21,17,30,31,12,19,31,22,31,23,25,15,20,44,16,20,25,33,19,25,14,28,28,34,22,14,30,36,20,9,20,24,26,26,26,22,29,19,28,28,19,33,14,30,23,34,15,21,23,24,31,29,32,31,10,19,18,23,19,21,14,17,22,7,34,9,24,17,21,20,27,23,18,11,22,19,29,29,14,18,26,15,26,27,22,22,18,25,29,17,24,11,22,14,24,24,32,17,22,28,28,29,13,23,24,29,37,27,21,25,23,15,22,18,27,15,33,36,36,16,26,18,24,18,16,11,20,30,14,15,20,12,32,17,17,18,32,20,17,20,30,21,18,15,37,21,28,14,28,19,40,14,18,23,22,22,19,10,15,17,26,29,33,21,20,24,13,10,31,21,20,19,32,20,29,9,22,38,17,9,30,24,18,41,20,30,25,17,14,15,30,16,34,26,14,27,29,9,23,24,14,32,29,42,27,26,17,20,20,20,24,29,25,20,30,21,16,24,23,26,29,20,14,18,13,31,26,26,28,18,13,22,30,22,27,21,5,24,15,10,15,21,23,23,9,16,17,11,17,12,18,25,13,18,26,32,26,25,30,24,35,41,12,8,13,16,30,41,11,19,19,17,16,34,34,27,14,28,25,25,26,12,10,14,27,16,22,25,12,18,30,29,24,24,21,15,10,24,35,12,34,38,18,27,22,20,14,10,14,18,17,14,13,24,21,9,24,12,24,35,20,21,18,19,29,38,20,23,32,20,23,32,17,23,26,11,29,31,50,13,16,29,30,18,12,24,26,22,24,24,19,27,27,27,18,21,19,29,23,23,22,16,22,22,21,14,20,38,35,14,16,23,20,19,20,15,18,23,15,13,9,8,20,22,12,20,26,13,31,45,22,31,25,18,11,35,22,30,26,29,25,24,19,17,4,8,28,6,16,27,18,17,7,15,13,27,11,30,13,13,19,15,10,31,20,13,21,27,22,30,18,21,19,21,29,18,23,13,18,33,21,16,28,12,34,26,32,17,23,14,22,26,31,32,23,14,25,23,27,27,22,9,18,13,18,18,23,17,27,13,21,31,14,8,23,16,24,29,34,30,27,10,20,21,8,16,22,25,28,35,13,14,34,27,15,19,8,15,17,12,18,23,23,25,24,25,35,23,24,23,26,23,18,19,26,18,24,18,37,25,27,14,25,22,18,16,30,13,16,19,18,17,23,11,9,14,22,15,24,24,29,31,18,17,28,21,16,41,26,25,26,25,23,15,26,17,20,20,30,8,19,25,9,18,24,15,25,17,30,35,13,27,24,27,31,19,26,22,17,20,12,24,11,21,29,14,6,18,28,24,27,13,11,15,23,46,25,25,14,18,8,13,25,29,22,39,10,17,19,44,30,10,11,21,20,19,8,27,23,21,19,25,33,29,10,27,16,25,21,11,15,23,25,21,23,20,16,23,24,22,22,20,22,31,21,22,27,27,24,23,16,14,18,38,15,42,20,8,6,21,17,20,34,21,38,28,28,20,23,28,22,12,13,22,16,17,31,24,17,14,5,28,23,21,29,9,8,13,16,18,29,25,23,20,20,9,37,34,40,15,12,32,24,20,36,31,18,30,22,18,17,37,11,41,20,12,29,13,14,3,24,26,24,34,15,32,36,32,26,33,24,29,17,25,19,15,29,21,11,18,18,13,9,26,15,32,20,23,18,17,10,15,15,20,13,18,30,11,16,23,16,21,28,20,19,25,22,29,39,41,19,18,22,27,21,23,19,28,18,15,13,15,25,24,17,25,20,33,25,19,18,27,39,39,36,16,18,35,18,10,25,12,30,11,9,26,20,15,25,11,20,21,35,24,14,29,29,25,18,41,29,20,18,39,7,30,15,13,11,10,32,30,26,8,35,17,26,36,33,20,14,24,31,30,17,15,28,10,17,27,23,26,29,38,25,31,22,33,18,18,36,28,28,14,18,19,16,20,21,21,20,19,8,17,13,34,16,17,21,19,18,21,56,32,57,21,37,37,15,20,6,21,35,21,16,39,19,23,37,12,36,16,11,25,20,16,9,25,23,19,30,18,17,28,29,21,17,22,37,18,21,33,22,17,14,19,19,17,22,27,32,12,49,28,15,17,17,48,12,15,16,22,38,13,17,8,24,26,38,15,9,13,15,25,18,30,18,24,22,26,25,9,38,22,18,17,28,23,13,27,19,22,12,19,14,33,24,44,28,20,23,30,23,19,20,22,15,9,8,27,28,16,28,22,21,16,26,36,43,21,22,21,16,21,27,21,13,16,28,36,32,28,30,21,26,12,15,8,38,21,20,15,26,9,23,27,19,23,38,18,23,20,26,16,28,18,16,12,19,25,21,18,19,33,26,19,35,17,23,32,23,17,24,31,27,19,14,11,15,24,30,30,34,39,23,27,18,17,21,30,25,19,19,11,17,25,19,25,15,29,11,10,17,17,20,11,33,24,42,36,29,16,27,11,27,31,14,12,25,22,30,27,31,16,27,13,24,23,36,23,17,21,21,21,25,27,22,10,18,9,15,13,21,25,11,15,14,17,22,15,17,31,25,15,17,24,14,31,37,7,17,15,28,18,23,15,13,26,9,24,22,23,12,29,26,30,12,34,18,29,31,19,14,14,21,13,12,18,27,11,13,13,6,16,17,10,14,16,42,27,39,37,30,30,18,20,21,20,15,25,21,24,28,19,20,27,23,7,24,29,15,15,16,14,24,19,21,14,13,18,21,29,25,12,36,29,22,19,16,17,19,18,20,7,28,12,22,21,14,22,18,21,34,32,15,9,17,24,11,27,36,19,24,23,10,7,14,26,18,21,11,31,26,33,33,21,21,29,20,15,8,50,16,27,21,23,30,24,19,27,22,12,18,17,16,31,36,19,11,27,24,25,15,9,14,41,18,21,29,33,11,20,15,25,45,21,13,23,7,7,23,12,17,29,16,29,31,31,28,20,24,29,18,38,22,29,22,21,13,17,27,24,15,12,9,26,22,9,13,28,19,22,35,16,20,24,32,5,22,24,17,18,17,26,37,16,11,15,12,15,24,39,28,24,16,22,20,17,28,15,15,17,12,30,18,21,30,20,11,23,18,13,24,14,11,21,14,22,18,15,18,28,22,32,15,11,20,16,20,31,26,24,11,24,29,11,15,14,20,22,24,19,21,20,28,17,30,18,39,16,18,40,21,15,11,12,37,21,23,31,9,42,19,30,14,25,28,15,18,26,19,24,14,16,11,22,27,12,24,25,27,28,22,24,13,32,23,13,17,19,29,35,9,26,17,18,25,34,11,24,18,21,21,21,28,20,20,25,19,19,7,23,27,35,23,25,18,21,19,32,28,25,12,31,21,19,20,25,28,22,16,21,24,23,16,25,19,34,13,11,17,19,38,18,13,19,12,19,7,26,27,13,28,15,15,46,33,9,25,33,4,12,31,8,11,18,27,23,30,13,17,26,14,15,27,17,13,34,20,13,19,17,20,16,24,32,35,17,21,15,19,21,22,20,33,23,20,18,26,27,20,14,13,26,10,11,28,8,20,26,35,22,30,31,7,28,26,18,6,4,13,6,22,16,32,13,12,23,19,33,25,16,13,14,22,18,26,27,19,22,25,40,30,39,18,26,27,13,27,27,29,32,33,18,21,30,15,22,15,20,31,22,16,26,18,35,21,36,34,15,23,24,13,10,25,20,30,29,32,29,21,17,22,22,15,19,25,21,15,18,15,12,14,20,21,19,26,23,23,25,38,27,31,24,16,22,7,7,29,25,19,31,10,23,18,39,26,28,21,25,33,27,25,27,27,25,6,18,13,25,21,30,30,21,29,30,22,28,41,21,12,14,30,33,24,31,13,22,35,18,12,25,27,24,19,23,17,25,11,23,13,14,30,13,21,31,16,10,16,27,23,17,33,22,31,30,19,28,22,22,37,37,19,29,29,20,9,39,28,19,17,34,19,32,35,19,19,28,12,26,28,23,11,19,18,26,23,10,20,18,32,6,15,34,24,28,11,20,34,13,15,9,22,18,37,21,33,12,31,28,17,26,23,22,17,26,20,18,20,16,20,20,28,19,25,27,23,27,13,15,9,16,24,24,24,16,9,28,9,15,27,25,17,24,12,23,20,20,19,19,27,36,23,15,21,10,13,29,12,12,13,8,14,19,24,29,24,31,10,30,16,7,36,30,32,14,21,25,22,16,17,20,21,28,23,20,24,19,20,20,26,24,24,17,19,8,13,27,17,26,20,24,10,19,21,9,26,33,10,30,6,18,34,26,21,21,31,24,25,32,33,9,37,21,23,16,27,28,28,32,33,13,25,25,23,32,23,26,9,27,19,16,17,15,21,26,3,18,35,12,21,23,29,15,24,16,18,22,21,19,19,22,20,24,18,15,17,35,29,27,20,20,8,14,33,17,18,16,15,15,28,31,20,27,20,20,10,8,34,22,34,16,23,27,20,26,17,30,31,23,34,26,14,26,20,30,18,11,16,9,12,28,37,13,29,34,17,23,30,39,21,12,9,27,15,16,24,31,24,16,19,27,18,16,36,47,23,32,14,20,16,30,15,26,31,14,16,16,29,11,18,24,25,36,19,14,11,11,29,32,21,14,24,16,21,19,18,21,26,27,26,36,18,7,20,19,16,18,12,22,17,16,8,10,15,25,21,26,17,16,32,26,21,30,38,13,12,17,16,30,9,18,9,51,42,31,21,22,27,9,32,19,26,16,27,12,23,41,37,34,36,28,12,22,22,26,10,11,21,9,41,27,41,16,17,11,25,27,56,14,22,39,11,26,43,8,35,28,11,13,28,55,12,15,26,15,21,34,34,14,21,20,21,27,24,31,35,17,21,16,18,45,22,8,12,14,13,17,12,38,27,27,17,30,25,30,38,24,23,10,23,21,20,12,15,11,20,18,26,19,26,14,26,30,22,31,43,25,22,17,28,24,30,22,19,36,29,23,26,18,8,21,13,22,34,16,19,31,13,23,29,5,26,25,21,23,21,30,20,17,13,25,27,10,20,10,27,24,12,13,20,24,14,29,27,44,32,26,17,16,31,18,27,14,24,9,11,11,32,21,19,26,31,25,24,10,7,13,40,6,31,37,14,21,18,32,30,24,8,14,21,26,5,23,33,26,13,11,13,17,17,13,33,15,29,20,17,20,25,26,11,42,24,14,18,18,35,28,21,25,12,28,22,9,13,9,27,29,25,26,15,16,13,17,23,14,26,33,29,27,15,16,17,16,21,26,33,32,24,25,17,27,20,30,32,20,18,26,21,17,14,20,16,26,26,21,16,28,30,34,28,21,24,26,12,18,16,14,28,26,29,31,12,31,9,34,24,24,21,8,24,34,9,29,36,8,23,16,31,28,21,12,30,15,14,26,31,13,31,25,20,30,20,17,8,20,28,31,30,28,14,17,27,14,23,25,30,12,14,42,24,27,29,25,11,18,30,12,16,27,41,17,22,22,23,9,8,17,7,27,18,26,18,26,23,29,25,22,10,12,11,19,20,8,23,13,14,15,19,23,14,37,9,22,21,15,18,12,39,29,13,23,24,28,12,33,36,29,18,27,35,16,21,20,18,13,16,22,20,21,28,30,39,13,13,7,20,26,27,16,14,17,13,21,28,24,33,18,30,22,26,10,25,23,14,17,17,25,23,24,28,24,7,24,22,32,34,42,20,23,28,18,39,11,19,24,19,22,38,26,18,31,30,27,17,19,28,14,19,23,26,13,21,14,29,26,23,25,37,32,24,27,17,14,10,22,18,21,18,17,16,20,17,21,36,30,26,21,20,40,29,23,28,24,29,25,25,18,21,18,25,32,27,26,24,27,37,34,15,20,32,25,32,29,25,20,18,27,17,25,18,22,13,11,20,21,17,10,31,16,18,21,26,20,13,16,22,18,14,16,28,27,22,9,9,15,14,27,31,32,31,16,25,17,27,24,17,26,32,20,16,21,15,24,29,24,28,28,21,17,20,24,27,10,23,7,23,15,21,17,30,26,34,18,36,18,17,22,9,18,17,25,23,28,22,9,16,18,15,20,8,9,32,18,18,11,23,10,13,18,15,39,42,27,15,26,24,35,16,22,15,24,25,31,20,29,27,23,11,20,11,28,33,34,25,37,6,27,18,17,29,6,12,26,20,42,20,28,31,34,12,23,11,29,16,22,21,20,28,24,28,34,28,25,10,19,6,23,17,16,21,27,18,22,25,26,26,37,9,7,13,21,43,21,17,14,17,31,39,19,47,21,20,19,13,26,18,23,24,35,45,38,22,15,17,9,26,34,23,24,32,20,28,13,21,29,28,20,28,16,37,43,26,21,28,22,22,34,18,19,41,19,28,15,25,34,20,22,13,25,23,17,19,37,20,22,23,40,22,16,14,10,25,23,29,27,28,21,26,21,31,30,21,21,27,17,27,33,24,12,24,18,24,18,20,16,14,15,16,24,35,22,29,12,25,13,18,23,18,14,20,23,10,29,17,31,28,13,9,9,16,19,20,21,11,15,28,36,16,29,19,20,29,20,14,21,25,20,12,24,19,37,13,28,19,41,19,14,9,21,25,15,11,34,31,18,15,15,22,25,26,22,14,30,39,34,25,20,23,21,17,33,18,18,20,23,16,30,13,22,27,19,14,14,33,24,18,19,10,20,16,17,16,20,10,26,29,30,9,27,24,23,28,35,18,24,26,26,21,24,31,18,23,18,18,18,15,15,22,23,35,16,22,20,20,26,6,31,18,13,17,30,20,11,16,14,16,22,19,27,15,20,22,13,18,23,28,15,4,19,19,22,10,15,12,22,13,19,16,24,9,17,9,16,18,28,23,28,11,11,13,13,20,4,31,18,11,17,22,26,26,29,35,37,15,29,26,26,22,17,23,24,18,23,21,33,15,18,17,12,20,25,20,22,20,22,23,19,32,7,26,23,22,27,14,20,25,12,23,10,10,20,15,14,22,14,15,17,24,22,19,23,22,26,15,16,29,9,16,26,17,17,21,11,18,14,22,16,34,26,34,28,21,14,25,16,20,17,30,24,26,26,34,23,13,21,34,11,27,16,16,16,22,21,15,22,22,23,10,13,20,22,15,33,26,25,27,31,31,18,17,26,30,17,27,27,10,15,17,32,20,27,24,20,24,13,22,23,20,14,9,23,20,5,15,25,16,26,33,23,14,28,35,26,21,21,23,32,21,16,23,31,16,25,7,15,18,28,23,27,29,21,18,19,31,8,18,8,23,33,12,20,20,26,37,16,24,10,23,35,29,21,14,23,15,24,27,18,18,13,20,11,25,21,22,33,24,13,31,17,32,26,17,23,20,12,19,26,19,13,50,25,18,27,24,36,16,42,30,14,20,33,17,17,21,43,25,23,16,28,15,16,30,12,29,24,25,6,6,12,25,20,81,16,21,19,20,23,30,26,30,21,16,20,37,34,21,23,26,9,34,17,18,27,13,14,20,7,20,13,16,15,23,26,28,40,26,9,12,12,29,23,9,26,19,14,20,20,11,21,35,25,29,39,23,18,24,13,9,23,18,19,22,25,18,14,11,21,19,9,8,20,30,23,25,11,18,22,9,21,19,26,28,17,20,16,49,26,22,16,16,23,19,22,10,19,19,27,25,14,28,11,24,17,30,26,15,24,29,32,35,20,29,23,28,13,9,17,20,14,12,24,40,10,21,24,17,26,13,13,31,28,25,14,28,26,25,30,31,18,15,21,30,31,30,19,19,17,13,28,27,10,31,18,18,24,24,11,15,22,17,19,18,36,21,32,24,27,29,16,18,19,23,17,23,38,44,12,39,10,16,20,14,20,17,14,22,20,33,17,14,8,28,11,17,29,19,31,31,28,23,27,26,14,28,19,10,26,22,28,25,23,25,13,5,8,13,24,21,12,13,18,17,29,33,16,25,20,19,13,12,18,18,12,23,19,22,29,17,23,17,31,30,23,11,30,27,32,30,11,14,22,19,12,12,19,29,10,21,15,23,19,38,18,12,8,24,25,33,33,11,32,16,23,27,31,19,29,22,26,23,20,20,29,39,34,31,10,29,36,11,21,17,20,10,10,25,25,9,22,20,16,23,23,28,11,21,27,23,16,26,20,19,20,23,23,17,20,10,37,26,5,6,19,18,33,8,28,16,13,19,14,15,19,19,35,29,26,17,15,13,24,22,19,11,24,14,16,36,14,22,12,13,30,11,31,19,14,29,10,25,23,20,12,19,10,19,10,11,31,21,20,25,26,23,31,13,27,29,18,22,25,28,15,20,26,18,21,26,23,19,15,28,20,24,15,32,14,24,11,26,30,30,18,18,21,23,20,17,21,15,22,16,26,26,38,26,33,28,33,28,17,43,24,9,23,21,22,16,22,28,25,20,30,16,18,17,17,15,26,7,25,19,19,24,26,24,54,18,22,16,25,21,24,20,12,34,16,31,23,10,15,24,31,37,24,15,21,19,28,25,10,25,25,31,19,30,21,39,30,28,13,23,24,26,22,7,13,11,10,21,13,15,19,31,12,27,26,13,39,23,29,19,11,21,18,43,19,30,27,14,14,14,13,15,19,35,22,32,24,6,17,45,21,18,9,19,8,23,28,24,31,22,26,19,13,24,28,13,12,33,23,27,25,16,17,15,8,12,19,23,12,13,14,22,27,27,33,9,46,27,11,13,14,62,7,16,25,25,18,30,12,33,20,23,32,23,18,54,15,33,18,23,31,16,27,18,28,27,22,21,29,11,21,15,24,17,42,17,13,37,33,35,26,18,19,19,22,18,20,26,25,13,20,32,27,18,32,16,45,29,31,37,32,26,22,18,14,18,36,11,28,20,49,5,19,14,29,36,32,21,13,10,7,24,24,31,21,12,16,19,27,18,17,23,23,10,19,27,32,32,24,31,15,23,31,15,19,27,16,24,15,16,15,29,15,16,10,12,38,24,9,17,19,24,16,27,19,26,30,27,28,25,13,31,20,22,19,23,19,36,25,36,39,16,10,18,23,18,22,39,29,26,29,25,17,19,6,16,40,28,17,31,33,15,22,33,28,31,36,24,34,12,20,24,40,15,26,21,35,16,11,30,19,13,26,11,25,22,23,19,7,17,27,16,18,23,17,20,15,7,27,38,23,13,21,22,21,13,20,28,15,28,19,23,41,27,17,27,23,13,28,22,27,36,36,30,14,13,16,21,24,25,23,11,14,15,14,18,22,13,18,14,23,17,31,47,18,25,21,35,29,25,20,13,19,22,9,32,12,32,30,42,23,19,18,25,29,17,21,31,14,13,15,16,22,13,29,16,18,26,18,20,37,30,19,34,22,29,23,16,33,31,31,12,21,9,24,20,16,26,38,9,34,10,13,29,8,18,20,20,31,14,16,14,22,21,34,19,22,19,14,16,38,27,28,11,14,26,21,18,19,16,16,22,25,26,26,12,13,7,21,36,18,27,20,14,29,23,17,17,26,13,26,17,15,17,28,20,28,11,23,19,10,19,20,16,28,11,33,22,15,26,27,20,21,10,21,31,30,17,19,20,17,29,20,12,25,19,17,19,18,30,17,25,29,18,20,21,31,18,13,18,12,28,27,29,8,8,10,14,32,25,34,13,26,8,20,22,27,31,11,17,41,15,28,15,31,27,24,29,26,25,24,24,25,23,18,8,25,20,15,16,20,16,16,35,26,25,19,23,17,17,24,16,23,22,14,21,26,26,30,16,12,18,32,26,14,14,25,23,33,20,21,22,7,22,33,38,21,34,15,18,33,30,25,24,37,14,27,11,31,11,15,18,26,18,13,25,13,17,36,20,4,27,25,23,37,49,34,31,22,16,13,34,12,24,22,12,14,23,17,19,18,21,9,11,25,18,5,29,15,18,27,22,19,13,28,36,20,14,23,22,18,30,13,17,24,37,22,30,26,19,31,42,14,23,27,27,16,21,23,27,25,26,15,38,16,27,28,26,32,21,8,28,14,24,16,17,61,20,52,53,27,35,21,33,35,36,14,49,19,50,9,30,26,19,45,28,22,30,50,35,24,18,25,14,21,24,30,23,19,20,21,15,28,19,15,18,23,29,21,38,36,14,20,24,26,19,27,20,22,10,17,15,29,25,13,19,24,15,9,25,20,19,17,29,17,15,20,28,33,8,32,18,13,31,22,21,30,19,18,24,26,19,21,18,18,22,28,22,22,14,19,23,15,12,32,26,24,14,25,11,22,14,21,25,12,18,22,27,29,24,17,21,35,17,24,29,25,14,21,20,13,18,16,15,17,14,21,19,31,25,30,24,11,24,5,19,26,24,14,28,20,36,16,36,15,29,23,32,17,11,23,11,19,15,20,20,24,10,8,23,18,44,20,14,24,25,27,20,9,21,7,35,20,9,29,23,8,35,14,26,21,32,20,36,23,9,29,30,37,21,26,10,10,14,15,17,23,19,15,21,13,34,39,43,33,23,17,32,28,12,19,17,25,28,45,23,33,14,31,26,31,24,30,41,24,24,23,27,25,28,24,14,22,24,28,23,17,26,19,21,43,20,19,21,7,24,24,32,10,25,9,22,13,19,22,13,10,21,25,38,12,6,10,26,20,14,22,36,14,8,22,16,17,22,25,25,25,16,18,26,29,29,28,24,10,17,33,41,10,22,27,19,24,33,28,26,29,21,20,14,10,18,19,19,23,24,28,17,34,29,38,21,9,22,21,14,13,10,33,14,25,32,26,13,19,23,18,33,7,18,14,26,7,24,24,25,24,32,25,23,27,9,19,9,25,10,23,15,16,12,19,13,28,29,19,24,17,20,16,31,21,29,16,8,10,23,33,47,19,18,21,16,35,40,15,30,27,16,26,34,28,16,36,22,12,10,10,11,15,19,22,16,33,29,18,19,24,14,28,27,30,15,13,33,26,16,20,16,15,19,12,23,35,26,35,24,17,34,17,11,9,7,7,22,12,13,6,22,24,12,20,25,30,26,23,23,15,36,34,23,26,25,25,24,32,38,31,14,16,16,13,17,15,10,27,17,19,24,24,18,18,9,17,20,31,25,34,20,19,25,29,21,7,25,14,14,19,21,18,29,28,22,28,25,9,14,32,24,14,22,14,7,22,9,15,28,9,10,13,30,18,28,18,9,30,28,37,44,24,14,22,27,26,16,10,22,34,25,26,28,24,13,24,41,33,10,32,26,25,17,21,28,11,23,12,14,25,20,10,10,31,32,25,31,11,33,30,16,22,23,31,66,30,49,34,17,27,28,10,23,9,11,13,23,16,22,15,34,36,34,24,11,33,19,17,25,31,22,26,10,36,48,29,21,9,25,25,20,22,13,47,18,22,20,22,30,18,42,17,21,12,23,23,9,6,19,33,33,32,24,11,23,30,32,8,26,11,32,17,23,17,24,10,11,16,21,24,17,25,15,29,29,35,38,14,33,13,7,14,32,11,18,18,17,16,15,10,12,39,12,29,21,24,29,25,29,23,14,32,28,11,19,17,23,24,21,21,24,21,8,20,10,16,22,26,14,16,29,30,18,21,14,22,10,19,22,31,20,17,14,28,13,20,18,17,33,20,17,30,22,21,34,21,23,19,22,20,27,16,20,23,18,14,16,25,12,25,24,21,17,28,26,30,22,16,22,28,27,17,28,25,16,10,17,30,10,24,32,17,15,19,11,28,19,14,28,12,16,12,25,12,13,26,11,14,25,17,15,17,15,28,11,26,32,10,14,22,26,19,29,18,9,49,29,29,39,40,13,30,20,37,21,26,20,17,17,21,15,28,28,15,16,16,20,23,15,12,20,19,28,38,20,11,12,11,30,16,27,10,8,21,10,11,23,19,14,26,29,33,29,18,34,27,17,17,30,25,22,22,21,25,21,26,32,36,26,27,18,13,6,25,21,18,27,25,29,20,25,24,35,25,28,18,16,26,15,28,18,29,29,11,21,12,22,15,22,29,19,20,11,6,12,25,21,20,29,15,14,28,28,32,23,21,19,16,39,21,39,25,18,20,17,27,17,23,26,20,29,11,16,19,25,24,21,27,21,24,28,15,30,27,20,20,16,14,20,19,35,16,14,22,31,14,26,25,21,14,22,11,21,17,10,20,26,19,11,21,26,20,35,21,7,15,21,12,15,30,27,15,34,28,11,12,16,17,11,30,27,25,32,27,20,11,31,8,22,24,26,22,33,11,11,19,22,18,31,16,26,21,26,10,42,18,11,31,13,30,28,20,26,17,32,16,13,22,6,16,33,28,19,25,27,19,30,19,25,34,31,45,19,13,24,26,21,19,22,14,10,25,21,33,17,21,28,29,21,27,23,26,17,36,20,30,20,27,31,13,14,27,12,25,19,36,14,27,14,31,40,18,22,28,17,28,24,22,24,8,20,11,29,27,17,11,13,31,29,15,14,24,18,29,27,28,19,13,15,8,19,10,21,19,38,33,19,17,13,23,34,14,22,25,13,23,14,29,15,28,19,18,29,12,29,20,19,25,13,25,27,22,14,36,27,9,9,23,13,19,19,36,49,19,24,15,24,35,40,15,9,14,22,25,23,43,15,17,33,31,29,41,21,30,25,25,17,17,23,27,17,29,17,12,10,7,24,22,28,13,19,24,20,23,29,8,17,9,22,32,30,14,34,23,23,14,22,14,28,17,14,11,7,25,23,16,12,21,10,23,13,16,42,35,10,31,49,33,12,26,15,13,34,36,10,35,31,23,31,12,60,8,17,20,19,21,23,34,55,30,29,16,41,35,25,16,7,27,23,9,23,23,13,33,21,25,14,11,14,20,4,22,22,29,20,32,22,14,15,21,28,17,12,14,18,20,20,35,9,13,13,50,27,22,11,26,14,23,29,29,22,20,27,21,14,12,10,23,16,18,16,11,17,11,20,11,10,17,11,25,27,11,30,25,29,25,17,25,21,21,22,23,24,29,23,18,24,31,34,13,30,9,29,26,22,13,25,18,26,26,18,14,22,11,27,24,23,27,17,14,28,25,29,39,8,21,20,20,23,27,22,32,25,31,14,27,17,15,24,22,19,22,20,22,31,19,26,19,23,45,31,46,8,27,32,14,26,25,25,35,18,25,9,25,12,18,35,42,18,29,17,12,22,17,25,20,26,26,16,5,25,26,17,25,26,17,23,32,23,26,24,22,34,14,22,12,12,13,26,25,22,25,15,21,36,12,16,31,19,6,10,33,8,32,7,24,13,30,13,26,9,16,18,31,19,38,16,9,27,30,30,22,39,32,25,14,20,29,33,24,18,23,34,15,25,20,15,20,16,18,12,25,25,20,12,21,27,34,24,12,14,24,16,26,12,16,14,11,21,33,26,17,19,9,16,19,16,15,29,32,20,23,23,21,31,29,14,13,23,11,15,22,26,28,24,31,24,30,9,23,31,27,26,18,16,21,20,24,29,15,26,26,20,21,23,14,26,18,38,39,27,40,31,27,30,33,23,16,20,28,24,30,20,17,18,32,15,25,13,24,21,18,22,11,23,19,15,18,21,16,24,20,8,21,25,23,26,21,10,24,21,22,25,22,29,34,28,30,16,23,18,12,19,17,25,27,19,32,33,30,27,23,25,15,20,21,38,33,28,17,20,32,21,12,19,11,16,10,14,26,23,8,21,26,14,6,17,20,19,18,16,21,12,20,30,20,31,25,18,29,16,15,28,13,11,18,30,17,8,4,22,23,22,25,10,11,25,26,36,20,19,14,17,22,12,22,23,29,31,34,30,13,23,18,15,12,11,26,16,27,22,28,21,6,30,19,20,20,31,27,12,26,26,30,27,25,13,16,17,14,22,33,39,21,31,28,33,26,14,13,26,24,22,27,40,25,12,11,10,31,18,33,19,24,27,24,18,12,21,15,32,20,18,24,45,25,26,15,22,31,24,20,21,14,22,20,19,17,7,27,30,21,22,42,22,23,24,30,23,4,16,26,13,13,22,21,23,27,15,26,18,29,43,23,11,21,25,19,37,29,17,23,35,23,23,24,27,7,24,30,31,27,13,16,29,14,31,26,14,17,23,9,20,31,21,26,17,12,12,26,10,22,31,23,10,22,22,22,10,21,17,25,13,29,37,28,27,27,23,12,33,16,37,7,23,21,32,25,38,15,25,15,14,28,23,26,35,11,14,24,28,23,24,8,15,25,21,25,9,10,23,15,26,39,14,12,24,17,18,32,34,26,30,26,22,26,12,9,21,15,25,20,25,23,26,25,14,10,19,27,34,28,22,15,31,45,31,59,20,27,25,7,22,49,29,20,25,22,18,44,26,34,38,28,23,5,17,21,20,20,27,39,63,32,35,25,37,18,17,12,24,21,13,22,15,17,21,19,18,22,27,34,19,27,24,27,23,15,20,32,22,20,20,12,36,30,21,23,26,14,28,25,11,23,24,21,18,19,14,26,16,22,24,11,16,16,17,19,14,24,19,23,24,22,27,12,22,20,37,30,24,15,19,34,15,12,17,22,29,33,38,32,18,17,13,32,30,29,35,22,17,13,12,19,20,9,23,8,23,20,6,7,8,25,13,11,12,19,18,9,19,9,19,23,31,27,28,15,9,36,30,15,19,22,37,23,26,35,14,10,24,21,9,26,26,29,24,31,28,23,22,24,23,11,28,23,22,19,13,18,19,14,26,24,19,22,22,20,11,14,23,29,19,16,31,11,33,30,19,30,19,21,15,24,21,15,16,10,10,21,27,31,17,14,14,33,19,14,24,41,22,17,14,21,24,10,34,10,28,23,18,36,24,19,38,29,14,27,19,24,25,21,28,34,23,15,33,18,9,28,20,25,25,9,16,21,18,17,9,32,15,30,27,10,28,44,17,9,30,20,29,15,19,20,16,12,34,21,21,34,27,26,9,24,16,24,24,13,9,7,17,14,21,20,18,20,30,23,11,31,34,23,12,14,25,24,24,17,31,20,12,23,52,34,10,18,28,28,40,7,33,31,28,31,21,14,18,11,21,44,26,22,30,33,28,24,18,19,14,19,25,20,27,24,25,23,15,16,21,19,29,9,14,17,38,25,33,20,17,17,28,13,29,16,19,33,9,22,33,23,22,35,13,6,24,10,31,8,35,23,24,16,10,25,33,35,14,27,21,26,23,14,24,23,25,22,11,33,44,36,23,26,26,17,23,24,29,32,24,20,16,22,23,20,26,32,20,19,34,16,16,13,16,18,25,17,25,25,22,18,14,19,11,29,25,20,23,13,35,33,23,19,20,19,24,12,10,15,11,14,16,7,26,17,27,28,14,20,34,16,37,37,19,26,22,16,32,24,21,18,25,8,18,5,15,16,19,15,15,20,15,12,10,20,22,20,15,28,23,33,15,24,29,38,20,18,26,21,18,16,25,30,32,20,13,17,18,43,14,31,28,13,16,25,16,24,15,45,22,32,22,29,24,17,14,19,13,15,23,31,19,11,19,22,20,23,17,13,5,21,19,18,25,24,14,19,19,18,19,11,21,28,18,23,14,18,33,17,22,36,30,29,36,26,29,30,29,24,30,29,19,24,10,28,19,28,15,23,20,18,10,25,30,13,21,19,21,36,23,23,25,24,16,10,2,9,27,17,41,19,20,7,31,33,13,21,45,22,20,25,9,19,28,13,36,20,8,14,14,8,41,13,34,15,18,41,16,13,9,35,17,17,5,32,15,26,13,16,31,21,18,16,15,14,27,17,28,27,25,28,18,19,23,16,28,21,14,20,29,33,27,28,12,30,18,18,22,34,28,11,43,27,41,13,27,11,12,20,24,19,29,29,15,24,8,23,10,18,17,24,17,26,23,26,31,12,14,24,24,20,22,6,33,25,18,23,9,11,25,22,10,16,22,26,26,26,24,19,18,13,29,29,16,9,11,20,30,28,21,28,21,18,19,15,18,23,16,21,8,47,27,18,19,12,12,15,14,20,11,11,36,23,20,18,38,27,25,24,30,24,22,33,21,19,25,25,16,25,21,35,20,14,19,16,25,21,39,29,35,35,19,26,18,27,12,30,27,22,22,27,25,27,20,21,16,12,10,8,23,22,12,17,25,12,34,28,34,19,27,11,24,28,28,26,26,21,26,12,28,25,18,20,15,31,29,19,23,22,28,14,34,10,9,28,20,26,24,21,16,17,10,16,23,16,17,18,32,26,13,16,35,17,32,32,35,34,29,26,17,28,21,32,18,26,24,18,27,21,8,16,15,28,23,26,27,20,11,24,32,22,26,19,18,27,20,6,17,28,30,15,19,9,13,27,14,33,41,26,14,14,23,30,12,27,25,24,26,25,18,28,12,18,7,34,17,13,26,9,20,25,34,17,19,15,7,19,34,23,25,31,19,22,25,19,27,22,23,16,39,36,11,23,21,19,9,39,15,16,35,21,21,9,33,15,15,23,18,13,35,13,20,20,33,24,39,24,12,31,37,23,34,18,23,24,19,25,23,24,27,19,22,36,11,8,25,25,21,24,28,16,19,19,26,22,46,27,19,23,29,33,24,23,22,11,15,31,17,24,32,18,17,22,4,24,21,39,11,22,15,31,37,25,20,20,23,11,31,23,23,37,30,36,30,11,20,30,12,15,28,27,33,30,38,25,27,25,11,29,31,6,24,31,18,29,21,19,19,16,19,21,8,12,20,12,5,27,19,19,17,28,26,8,26,33,24,21,21,22,20,22,12,19,13,8,22,16,21,18,22,24,14,9,40,10,16,35,8,35,12,16,17,23,32,19,22,23,18,22,25,31,12,31,33,19,23,20,32,30,32,5,22,17,33,24,14,14,21,28,20,11,21,20,24,24,16,23,14,36,25,39,22,16,30,24,23,27,30,27,14,22,30,20,7,23,19,17,8,27,38,22,39,22,15,16,16,30,30,24,17,21,10,12,15,32,37,28,27,21,28,26,15,36,20,33,35,26,19,19,36,18,28,23,31,31,31,27,46,29,26,26,21,22,25,17,15,38,30,42,18,28,23,6,18,19,8,17,20,26,16,4,11,5,7,17,17,12,17,28,34,19,29,29,26,31,27,24,20,20,12,16,11,18,28,26,27,15,19,10,16,32,8,7,21,28,14,13,11,19,26,8,37,23,6,12,21,9,24,33,33,16,22,21,18,32,27,16,26,8,19,22,18,22,32,22,36,23,11,27,14,29,22,15,19,27,20,27,21,32,32,17,26,26,9,20,21,19,27,33,24,27,13,16,16,25,14,23,23,22,20,17,34,28,28,21,33,21,8,23,32,21,21,39,22,27,8,22,18,25,28,23,22,22,16,23,28,10,8,20,24,23,34,14,23,20,32,25,16,20,36,29,7,12,19,22,21,26,24,14,27,23,28,35,14,20,27,7,20,41,17,20,29,23,24,22,31,29,12,27,24,19,24,22,10,15,26,21,25,16,15,31,28,24,27,17,24,11,24,25,30,32,12,17,22,29,14,15,25,19,22,18,25,21,15,25,18,19,5,30,15,32,12,14,22,17,17,31,13,12,14,31,28,10,29,18,23,16,10,15,24,26,20,21,14,13,24,9,23,31,13,27,19,19,11,24,22,33,20,15,20,7,24,9,28,19,17,33,19,26,27,13,17,28,9,19,8,40,17,18,20,9,12,25,13,16,22,29,19,24,21,12,18,10,26,18,26,24,12,21,18,34,27,23,24,21,28,26,29,21,6,23,21,28,25,35,31,15,11,23,29,24,17,38,15,17,21,35,18,39,36,18,14,28,27,17,27,24,26,18,12,17,31,36,17,32,26,13,19,23,17,20,21,32,19,27,19,25,22,21,18,35,35,30,27,25,18,30,25,14,36,21,41,29,25,31,24,23,29,16,25,24,10,10,25,19,27,11,29,23,28,20,20,19,17,21,14,16,21,17,15,21,28,22,30,38,19,34,19,9,28,23,28,17,9,11,19,32,38,11,12,11,12,27,27,25,31,15,17,17,17,15,14,28,37,33,17,17,26,20,12,15,24,30,15,17,30,24,15,22,16,18,23,7,11,15,9,28,22,7,11,19,24,27,21,33,17,27,14,19,21,12,22,37,21,17,22,26,25,15,26,36,11,16,42,11,10,21,23,16,25,27,15,20,22,24,28,23,6,26,26,18,19,29,18,30,41,22,40,24,35,16,22,33,21,39,10,10,26,13,29,23,23,25,24,19,16,26,22,25,14,7,22,5,18,14,24,31,28,28,24,25,16,14,17,23,22,8,9,6,23,18,27,18,37,31,28,15,29,22,17,18,25,16,24,12,17,27,20,12,35,18,10,11,15,26,6,22,17,29,19,15,21,14,13,14,18,24,31,12,12,29,25,24,17,32,9,13,19,25,22,15,13,21,9,9,22,7,15,41,25,30,18,13,10,38,18,31,56,32,13,24,7,9,18,22,19,25,29,39,56,21,44,49,15,15,26,31,19,25,13,24,23,7,21,18,15,18,20,30,11,11,13,23,13,28,8,7,29,20,23,33,12,27,26,32,23,26,24,24,16,25,27,20,20,24,25,27,14,29,22,17,24,30,22,27,14,21,31,26,34,22,26,17,13,30,15,18,10,16,35,19,32,13,38,34,37,32,22,6,30,23,25,27,27,25,23,32,18,28,11,23,20,12,32,14,21,32,27,33,22,27,21,23,8,7,23,30,36,29,20,20,16,14,31,27,29,21,24,25,30,19,22,37,34,25,35,32,25,25,18,34,21,33,28,24,25,14,25,11,15,28,28,21,8,17,29,24,30,32,33,10,20,21,18,22,28,11,14,14,27,14,36,32,27,23,20,16,35,11,26,21,29,24,24,21,24,12,9,19,22,32,42,27,19,39,19,13,21,27,20,21,40,31,23,24,32,20,28,33,15,19,29,28,12,17,22,23,25,25,16,9,21,7,22,19,11,25,32,21,22,39,28,18,50,21,29,38,20,18,14,23,31,24,22,21,23,12,13,21,36,30,26,17,20,21,36,38,30,29,18,8,41,38,33,20,22,23,12,24,11,40,20,25,25,22,9,17,25,18,30,27,22,39,26,20,22,14,36,23,31,14,22,32,10,16,10,13,16,9,27,22,33,12,24,20,39,41,30,7,6,28,23,23,29,13,27,11,17,40,20,24,20,10,20,15,23,16,9,29,20,23,22,21,28,39,12,30,34,27,20,21,29,27,16,20,33,8,30,30,23,21,36,23,31,23,27,14,19,21,26,16,21,14,37,32,28,20,23,14,21,23,23,18,24,16,8,15,20,19,20,25,32,34,16,25,31,25,29,31,24,35,21,35,24,13,32,26,30,16,17,26,9,31,46,22,17,16,20,22,16,16,13,36,17,25,13,18,18,19,26,18,42,21,18,13,23,27,30,21,8,16,20,23,30,36,30,19,23,14,30,16,18,30,19,29,28,15,20,15,29,14,12,22,25,13,36,16,8,25,35,21,7,27,33,20,25,13,22,21,27,25,20,28,22,23,15,37,24,10,11,23,26,18,5,20,43,15,29,31,22,24,28,21,23,25,17,11,31,16,14,19,18,20,11,19,26,25,31,24,31,30,18,18,20,22,19,15,15,24,26,27,40,28,29,31,16,30,29,18,15,32,12,18,21,16,47,19,23,18,34,24,30,20,25,34,21,18,22,13,26,24,21,28,17,9,19,24,26,29,47,6,31,23,25,26,8,30,32,42,40,9,21,26,26,23,21,13,14,17,38,20,11,7,7,31,9,21,11,8,1,5,26,20,22,28,18,20,18,24,36,17,22,20,14,11,36,41,12,40,24,23,21,7,36,23,23,18,21,12,18,22,23,25,34,35,17,13,15,37,38,31,28,17,34,19,26,25,13,18,19,27,22,14,17,24,26,16,24,10,19,27,17,22,18,20,10,31,13,11,29,32,33,36,19,15,18,19,17,15,20,15,33,13,19,32,20,12,26,21,29,11,22,21,13,13,13,14,11,24,17,13,12,13,12,22,16,13,29,13,24,9,22,22,26,13,14,15,17,15,13,28,31,15,40,23,19,38,10,17,31,17,25,18,11,16,19,18,17,17,9,18,20,23,20,16,24,18,22,25,26,22,28,23,13,19,27,18,16,18,27,26,12,14,21,24,18,20,18,30,10,20,25,29,20,22,22,21,33,22,31,22,11,24,19,17,15,16,11,26,21,11,23,6,15,24,20,12,20,26,21,16,20,31,23,33,20,20,20,15,15,26,26,11,33,18,28,19,30,12,18,36,28,24,18,27,24,14,30,36,16,37,18,33,33,11,27,26,25,37,12,24,29,17,21,33,16,20,22,26,26,6,18,16,24,19,17,20,14,13,33,38,31,27,22,16,26,23,26,34,23,33,26,14,30,21,18,27,31,21,11,15,20,17,7,26,31,28,48,27,14,21,24,14,15,25,35,14,17,12,29,28,37,23,22,26,23,32,23,26,7,38,24,20,7,33,23,21,22,28,14,25,16,26,13,15,12,26,35,17,27,8,30,24,16,11,20,19,22,22,25,19,25,7,30,7,15,29,27,29,15,17,21,18,30,17,37,18,24,13,19,14,25,18,21,17,19,14,11,29,28,21,22,12,35,21,25,20,15,14,8,28,24,23,48,18,25,28,28,24,27,23,15,7,35,26,8,18,15,14,12,24,34,38,26,20,17,27,28,36,7,30,21,25,23,26,14,22,22,20,12,6,28,12,14,9,21,9,13,25,13,26,29,48,30,29,21,22,34,50,39,14,22,15,27,24,21,18,18,26,17,28,21,25,19,30,22,17,15,19,18,9,20,27,29,12,21,16,28,34,29,29,7,19,23,27,29,29,21,21,31,26,43,27,15,21,26,22,5,19,21,27,23,14,31,7,22,29,17,23,22,20,30,21,18,9,10,20,17,22,10,17,11,17,33,25,18,22,9,23,23,21,23,6,19,8,17,8,8,14,20,44,23,27,29,25,30,15,12,28,23,18,27,20,29,10,30,10,30,35,21,21,16,25,18,23,33,13,28,17,11,23,23,19,19,30,30,19,11,9,33,22,19,8,27,29,29,33,18,31,11,14,6,30,29,16,19,21,21,20,18,37,28,19,34,34,24,23,19,27,34,20,15,16,18,20,16,25,30,22,35,13,16,15,17,25,26,26,15,27,38,32,40,21,25,19,31,18,10,18,23,13,19,27,30,22,13,16,27,27,13,33,25,22,19,23,18,28,27,47,16,24,22,8,16,9,21,13,12,14,10,33,36,23,32,15,21,18,14,29,38,8,25,22,24,25,26,19,36,34,25,42,31,35,32,16,21,14,45,9,39,42,34,21,23,11,7,15,9,10,29,23,17,28,25,34,20,22,16,27,31,15,25,18,20,25,15,22,20,27,11,25,19,29,16,36,17,30,20,25,24,13,17,17,22,26,17,14,14,28,12,27,22,19,25,28,10,28,35,28,20,20,29,23,22,10,31,25,18,14,40,30,7,28,24,10,30,28,20,27,25,26,24,16,15,27,19,8,24,30,34,26,24,15,32,24,33,20,20,17,20,18,13,14,23,20,43,23,21,24,23,13,12,18,13,21,24,18,24,11,17,24,25,22,21,35,10,17,15,25,32,34,31,15,25,25,16,12,31,20,32,18,11,8,20,10,13,9,8,23,22,11,15,10,9,13,30,8,18,21,18,21,24,27,17,6,26,11,31,27,10,41,36,20,39,10,12,25,13,14,15,22,9,14,14,22,19,17,18,22,11,27,37,32,23,10,30,23,24,18,30,12,31,36,25,20,25,34,25,19,16,38,24,14,30,16,22,29,21,26,19,30,18,32,36,28,37,32,36,21,23,16,24,33,37,26,40,27,19,25,28,26,23,15,24,29,12,19,15,23,24,39,13,19,14,19,15,23,14,20,36,15,31,15,14,11,18,2,26,16,25,21,19,31,30,29,8,12,23,16,26,32,32,25,31,12,26,25,25,28,34,26,19,29,27,26,23,19,29,31,23,19,18,22,16,14,23,22,26,17,25,26,21,21,8,29,26,35,30,25,27,20,22,18,23,28,40,32,36,15,24,15,23,32,20,23,27,19,30,26,13,41,13,21,17,14,14,27,6,21,10,15,16,18,19,16,20,24,17,17,18,24,22,30,6,23,22,14,11,9,15,20,21,19,18,19,10,10,25,19,17,28,34,42,22,19,29,20,37,7,31,23,9,16,16,14,22,31,32,5,36,22,12,25,13,10,20,20,10,17,15,16,33,19,15,23,29,36,12,21,18,14,32,12,32,12,16,18,31,20,35,31,25,34,25,18,21,19,49,11,24,22,12,8,13,34,33,23,19,28,23,19,21,27,15,24,19,37,30,32,24,21,23,27,31,26,17,31,5,27,20,32,19,26,24,21,9,20,26,32,17,25,31,21,20,15,20,16,21,16,16,14,9,15,21,24,18,22,12,16,21,23,27,18,16,25,33,16,21,19,9,17,33,24,20,27,32,31,27,17,13,29,24,31,17,37,25,18,15,27,27,28,25,8,16,14,10,6,19,21,22,7,27,15,28,20,73,19,32,19,33,31,27,22,21,11,32,7,21,20,5,18,21,25,13,6,23,20,24,19,16,22,30,24,18,19,20,22,26,28,19,17,32,24,12,23,33,14,15,22,17,31,25,13,18,19,24,10,22,7,5,19,28,18,20,19,20,33,18,17,20,10,52,21,29,16,27,12,39,22,26,33,38,32,39,42,41,24,25,43,18,50,10,20,14,35,30,24,9,6,7,17,2,36,10,32,26,10,27,33,26,8,22,19,25,32,22,17,26,23,45,10,17,26,17,18,20,19,25,27,25,34,34,6,30,31,24,15,25,12,25,11,32,18,14,26,15,15,9,17,29,36,23,22,27,32,39,8,27,27,12,30,25,22,21,8,19,27,35,31,22,26,39,24,14,30,28,29,35,23,12,13,7,24,19,17,26,35,25,35,17,38,27,25,26,32,28,33,38,26,26,26,17,19,33,24,22,8,14,9,20,18,22,33,21,29,12,30,23,12,10,21,20,20,19,21,8,16,14,25,20,17,20,34,20,24,25,21,15,27,9,17,25,22,29,18,23,15,20,16,19,13,24,27,14,25,22,17,16,22,23,21,27,28,7,29,15,21,33,15,24,25,20,13,34,25,27,24,28,28,25,25,19,10,20,25,13,25,32,29,19,11,21,19,28,25,21,17,24,23,27,17,27,25,20,29,39,18,30,8,31,23,7,27,27,18,18,26,36,16,13,24,25,9,15,18,11,12,22,15,23,20,20,27,8,28,17,10,21,11,18,11,10,27,23,14,22,33,25,29,24,15,19,9,12,23,31,27,25,23,23,23,27,24,28,20,29,20,19,29,16,29,14,30,20,19,18,35,25,8,26,10,16,22,21,19,13,11,21,21,25,29,16,13,20,18,28,32,26,31,24,29,20,31,31,23,24,19,20,23,28,12,23,21,46,14,17,23,43,12,46,21,21,27,24,22,28,25,27,18,21,33,20,24,16,14,22,15,10,21,27,32,30,22,28,19,21,18,25,15,16,10,22,11,35,34,11,19,21,33,31,27,32,25,30,22,26,22,27,12,20,15,15,24,15,22,29,23,16,38,12,36,6,22,13,19,25,27,14,25,20,27,21,31,18,35,30,41,42,42,26,16,47,19,12,14,11,16,29,21,18,14,13,19,26,22,30,23,26,13,23,17,31,36,23,12,21,28,23,16,20,14,24,21,34,21,24,21,22,24,13,20,11,18,24,13,12,19,16,26,26,14,25,39,27,15,9,21,13,25,16,20,21,20,16,9,25,22,13,18,17,12,37,44,27,22,32,20,20,26,21,24,30,15,28,23,15,18,18,29,16,24,16,21,16,20,23,24,21,26,17,27,24,28,13,20,20,25,22,33,36,28,44,19,17,12,9,20,23,43,35,37,24,27,48,41,42,28,37,35,43,36,17,21,13,24,29,25,15,30,20,11,13,13,56,18,40,27,23,13,33,40,16,19,19,11,25,42,43,28,16,25,22,11,12,21,34,11,23,36,18,20,31,14,28,36,10,23,24,21,38,20,22,14,25,29,29,22,18,14,34,22,30,31,24,21,20,23,29,34,20,16,13,23,19,26,20,15,15,26,44,15,31,27,13,21,26,27,30,27,33,21,24,11,22,22,17,7,26,30,11,23,24,14,31,20,19,25,18,30,24,14,8,16,13,19,16,21,15,20,18,28,20,25,17,10,19,14,27,18,20,15,26,16,9,24,26,26,23,26,26,13,26,17,17,33,31,31,38,23,7,30,17,13,14,21,32,25,25,23,29,19,22,44,25,34,15,10,21,30,23,18,25,32,20,22,10,18,20,15,28,30,14,34,17,28,25,13,20,18,34,32,19,24,23,29,28,16,18,19,32,32,37,32,16,28,13,31,43,19,25,32,32,27,12,5,21,12,18,7,20,15,25,25,20,24,22,12,30,23,20,37,26,8,18,28,31,15,25,20,12,9,28,28,23,26,25,34,29,10,27,28,25,29,32,25,24,25,15,27,25,13,6,13,25,26,10,19,13,25,22,34,25,36,30,19,29,15,33,17,25,13,21,35,18,11,25,13,22,19,18,29,11,20,20,21,25,29,25,34,31,33,23,25,16,39,33,36,17,19,26,21,26,18,20,18,23,13,15,9,23,25,22,22,17,16,19,19,39,27,21,16,13,25,14,24,32,13,11,25,17,18,19,27,14,8,12,12,14,17,33,44,21,13,16,13,21,18,18,34,27,20,25,17,19,15,22,24,24,27,21,17,12,38,15,14,16,24,28,38,21,20,24,19,17,19,12,22,18,7,15,24,13,21,27,35,27,31,29,23,17,19,8,17,10,14,11,16,16,10,23,35,16,9,12,29,18,26,27,38,25,37,30,15,11,15,16,20,29,14,26,17,20,25,22,14,28,13,10,11,22,19,9,18,18,21,28,21,36,26,14,33,19,22,36,26,25,22,9,28,30,23,24,19,15,14,11,16,17,13,12,16,15,36,10,40,20,23,22,31,16,17,17,18,13,16,20,16,27,14,23,24,21,19,11,20,11,11,17,19,13,7,31,27,10,16,16,34,28,26,28,22,20,15,21,12,18,29,17,34,35,6,19,8,17,34,19,15,19,17,9,30,27,24,6,32,27,27,20,6,17,12,10,33,35,20,14,17,19,13,25,31,28,15,29,15,19,21,24,31,27,34,21,21,23,14,46,20,11,26,24,16,11,22,19,14,23,26,13,25,23,16,24,22,10,11,29,18,14,15,23,19,20,19,25,17,10,26,28,13,40,25,27,25,27,17,15,32,33,26,22,17,17,12,20,24,27,35,20,18,12,21,19,31,10,21,6,19,9,19,8,26,5,33,19,31,21,17,27,11,19,26,12,15,31,24,22,19,7,9,25,22,20,17,14,25,7,23,32,18,13,9,21,13,11,33,28,37,23,20,20,32,22,22,22,20,31,45,30,35,30,50,16,36,18,25,12,15,31,16,20,28,13,29,20,34,31,23,30,53,24,21,28,12,17,42,25,14,23,21,28,15,43,31,27,30,7,15,21,42,9,29,25,25,18,28,24,24,17,18,16,13,10,12,27,24,28,24,19,19,22,22,37,14,24,25,28,18,11,15,22,24,18,15,22,28,12,21,13,33,51,8,14,22,18,38,22,26,23,19,23,19,16,5,14,36,33,29,14,24,24,31,20,26,24,15,26,18,18,23,18,31,19,26,29,30,35,25,23,20,29,15,16,19,40,18,22,16,19,16,16,16,21,27,18,20,29,24,8,29,18,18,16,24,16,26,30,40,42,14,10,25,18,35,39,22,13,14,14,20,20,24,9,41,25,17,18,31,34,18,21,29,11,23,31,29,21,26,24,18,26,14,22,29,9,26,24,11,31,24,4,20,13,18,18,16,14,17,22,26,21,24,28,18,17,20,19,29,21,30,25,16,16,14,17,27,28,24,35,23,14,16,15,22,14,22,20,12,17,34,28,20,10,11,14,22,31,16,25,26,13,14,11,22,18,25,10,29,20,26,22,21,9,30,9,36,20,27,41,28,31,24,17,23,30,28,30,21,18,10,15,24,26,29,27,18,26,25,24,22,24,14,17,17,25,26,31,20,27,24,16,26,15,15,18,15,28,20,13,27,27,20,13,22,17,21,23,30,17,24,19,27,30,9,24,20,11,18,19,20,17,19,27,15,25,6,27,17,47,16,17,17,13,26,9,27,19,20,17,14,14,32,7,27,7,21,18,18,22,24,15,16,27,27,13,29,23,14,35,30,38,24,31,27,29,27,13,11,13,20,23,14,25,17,15,9,19,17,26,7,24,17,10,12,22,14,17,11,21,17,16,25,23,21,27,19,22,21,19,22,13,20,25,8,24,19,21,10,23,13,20,22,11,20,17,20,17,24,12,10,40,24,16,36,22,31,11,25,21,22,17,11,24,33,21,22,27,30,35,11,14,19,18,36,25,28,12,15,13,15,31,26,33,17,13,22,15,33,27,34,19,30,16,25,15,14,29,14,27,16,25,29,12,10,10,13,8,53,28,18,28,19,23,17,25,21,21,24,35,15,21,36,41,21,31,22,16,5,15,25,18,20,12,10,23,24,13,25,19,5,13,13,29,12,23,17,16,20,12,19,14,28,34,41,17,20,22,12,17,35,26,36,20,9,31,36,20,29,21,21,39,28,27,23,28,26,30,20,31,30,23,7,35,28,11,33,27,23,19,21,18,23,36,37,28,28,19,23,33,38,24,37,27,34,30,16,22,28,18,30,39,35,6,26,15,18,33,19,16,10,24,27,13,24,15,26,28,20,19,27,16,17,9,24,29,25,21,7,24,25,25,22,23,9,35,14,16,16,30,14,23,9,20,21,28,19,8,19,16,34,16,19,21,20,22,11,22,27,8,12,13,19,23,27,29,38,10,23,11,15,21,15,19,13,24,14,12,25,22,35,37,27,15,19,14,18,16,21,20,20,21,14,20,14,27,13,23,17,30,22,19,7,25,25,16,23,27,28,15,25,25,29,22,38,10,25,30,12,19,22,13,30,13,49,40,41,22,30,36,26,22,14,22,31,26,44,24,29,21,44,26,23,17,24,14,29,18,41,39,16,37,31,51,10,30,30,11,18,16,20,21,20,28,29,19,17,27,23,16,11,23,27,20,24,18,9,23,7,16,21,34,10,31,26,35,37,22,25,17,40,31,31,23,11,30,21,24,24,20,28,20,27,12,14,30,4,21,16,11,15,28,19,34,41,34,21,32,32,30,18,16,14,18,13,32,22,16,27,12,20,18,28,22,40,13,32,23,26,19,13,26,25,27,26,11,19,15,27,20,25,13,13,26,11,28,19,24,17,10,12,26,15,19,41,23,21,21,14,15,38,6,29,44,25,9,19,13,26,23,48,32,29,19,14,9,13,11,25,13,24,43,13,29,38,30,22,20,14,16,21,23,25,16,29,29,16,21,20,23,12,31,25,22,26,20,17,31,15,28,10,24,17,18,18,10,19,16,30,23,24,10,23,11,24,27,34,14,4,24,24,14,13,22,21,21,30,41,37,17,27,22,31,32,12,20,18,27,23,29,21,21,25,15,19,22,30,30,17,13,25,28,22,25,12,19,29,25,19,10,19,22,28,16,17,17,20,21,26,13,29,24,27,18,27,24,40,19,23,26,18,22,29,22,25,13,20,11,9,26,25,21,20,24,16,28,20,26,17,28,9,7,20,24,25,20,21,41,18,23,22,28,23,23,25,22,19,15,22,15,10,16,16,22,25,12,16,12,20,13,15,28,24,31,15,25,26,27,38,33,35,18,32,32,22,32,27,18,25,26,18,20,30,15,8,23,16,15,15,23,22,39,23,17,13,23,29,35,8,7,27,13,10,27,25,37,24,18,31,28,29,40,22,12,35,28,26,19,13,12,18,13,17,18,33,20,10,18,23,32,38,23,26,18,18,8,33,20,32,33,28,13,38,21,18,20,19,26,8,20,14,13,17,20,22,32,28,24,18,20,17,16,31,14,12,28,23,16,16,27,12,11,29,20,21,16,26,21,15,17,21,27,27,15,8,32,31,18,7,18,22,19,28,13,17,15,19,18,28,19,24,23,21,31,25,21,17,19,15,28,28,19,22,32,12,24,31,33,26,19,13,22,22,9,21,34,17,23,14,29,18,20,27,32,26,35,33,16,22,21,15,16,14,22,18,19,29,31,32,18,12,30,18,21,21,29,19,27,36,25,27,14,16,30,20,19,21,8,23,24,33,19,28,15,29,21,35,27,16,11,17,26,29,27,22,29,25,12,19,19,28,6,21,13,13,15,17,29,12,14,18,13,26,18,21,16,15,16,20,38,13,33,24,16,7,15,20,15,25,13,13,23,22,24,12,8,30,14,23,14,18,25,26,46,20,21,32,23,42,26,24,31,18,27,38,27,13,25,27,23,38,28,27,44,25,22,18,26,14,43,16,8,21,17,13,14,14,14,31,43,14,33,22,14,16,12,18,21,14,22,19,15,10,8,24,10,28,12,15,16,30,13,20,24,33,13,27,28,21,23,15,23,30,15,23,13,28,20,19,12,27,16,25,20,21,15,31,31,18,23,11,17,19,13,19,19,18,13,42,21,37,30,38,16,20,22,17,17,30,17,18,6,21,25,32,14,15,34,23,19,34,17,25,21,29,23,15,15,10,19,27,15,26,18,24,31,12,30,15,14,15,8,14,26,24,16,23,5,30,23,27,28,24,12,20,35,8,14,20,20,31,35,23,23,20,16,9,28,35,27,19,9,22,11,28,21,29,23,22,19,31,45,28,28,13,12,23,53,35,11,18,29,13,29,10,11,28,10,16,17,9,28,11,14,6,16,25,24,34,28,42,14,26,27,31,19,25,13,40,18,26,32,15,6,15,17,28,20,28,31,11,15,17,12,20,22,27,25,16,11,18,25,17,6,23,19,16,28,9,19,11,23,27,25,28,37,37,20,41,36,24,29,27,10,20,21,24,11,31,26,12,8,10,26,28,24,22,17,34,21,29,21,34,21,14,20,30,16,24,4,18,16,12,11,24,20,29,25,20,23,22,20,26,17,15,16,24,20,29,14,10,13,9,9,19,9,9,13,36,40,33,23,26,25,7,8,15,25,32,21,20,25,13,25,21,14,19,28,15,23,12,27,20,18,22,15,11,22,22,18,28,12,17,18,11,17,19,12,16,32,29,18,14,18,18,19,22,14,34,39,14,18,20,20,30,28,24,21,16,22,24,22,35,19,10,18,27,4,22,17,17,29,42,36,24,31,26,20,21,30,19,18,28,27,26,31,31,23,9,17,24,27,18,19,26,21,19,24,16,16,11,15,26,22,16,17,28,13,13,24,12,26,26,25,27,20,10,32,33,21,27,21,25,15,20,19,8,16,13,25,12,14,20,37,23,21,12,26,24,18,20,26,20,17,14,20,31,13,17,29,19,23,11,31,21,29,35,25,28,15,21,33,14,14,23,11,13,24,27,9,17,29,29,16,27,18,11,22,16,22,20,32,26,14,20,26,18,32,20,26,35,21,25,20,18,28,18,19,17,16,25,25,18,17,20,17,26,21,23,29,25,15,22,14,24,14,16,17,26,19,21,20,11,20,24,10,15,9,33,21,32,30,39,18,20,23,15,8,12,27,30,25,24,22,22,20,24,21,13,12,9,16,19,19,25,22,11,24,30,14,23,20,17,14,24,32,21,35,15,20,27,23,24,19,23,20,27,13,31,26,31,18,31,16,27,21,6,10,11,38,16,27,13,34,15,6,27,12,10,12,13,16,19,12,7,27,13,29,24,18,30,21,21,8,21,31,28,36,29,27,17,16,28,14,32,22,11,27,32,14,25,16,35,17,46,18,23,26,14,27,12,15,23,46,34,20,23,37,21,26,24,21,21,24,25,19,12,20,22,27,43,27,18,22,23,29,25,18,25,23,29,23,18,5,26,11,23,17,10,19,25,15,19,19,19,25,29,11,22,30,10,23,21,23,31,14,25,22,18,12,7,29,22,14,22,29,24,40,21,11,30,29,12,8,29,21,19,25,17,25,17,26,22,21,30,24,13,16,16,20,19,17,14,18,25,16,31,17,20,16,17,17,22,26,18,17,21,8,16,23,17,15,25,23,15,26,25,25,23,26,27,29,18,14,23,26,31,18,16,21,15,37,27,15,21,35,9,28,31,18,21,24,14,17,30,16,32,9,29,35,25,17,20,18,11,15,20,21,9,24,23,16,20,32,13,26,31,40,29,25,26,27,14,20,25,19,43,21,30,12,21,31,25,26,41,20,22,17,17,26,27,5,24,19,13,19,24,29,27,28,17,10,5,14,27,19,24,27,18,21,14,14,14,10,24,14,22,34,35,32,16,21,15,29,14,18,46,20,35,29,28,16,19,27,11,16,39,55,21,27,10,19,18,28,7,22,20,17,17,20,27,13,18,16,22,24,18,25,17,18,35,29,31,16,26,28,36,25,8,32,15,28,34,8,33,8,36,22,23,16,10,21,19,29,17,23,45,27,25,35,26,19,26,23,16,19,24,6,28,22,20,26,25,40,22,27,20,30,21,32,17,15,18,25,28,22,29,9,18,16,25,36,10,14,17,29,14,23,23,14,25,27,23,20,20,26,12,11,34,23,17,11,21,33,22,21,25,15,13,11,6,25,17,19,19,12,22,25,29,35,18,18,12,27,11,34,21,32,29,10,20,18,6,22,21,24,17,19,7,23,24,22,39,27,14,19,22,17,29,28,13,25,27,13,37,16,20,25,10,9,14,15,16,17,39,18,30,34,23,24,23,7,28,26,12,14,18,19,22,23,17,12,29,14,23,35,19,28,22,32,21,16,10,34,14,24,25,19,14,19,21,8,19,19,22,21,26,14,11,9,9,20,21,14,11,16,29,19,16,18,27,31,22,20,32,36,24,22,22,27,16,27,18,22,25,26,26,21,31,27,13,23,41,11,23,21,20,28,17,23,18,20,23,30,28,11,22,29,21,10,35,19,18,32,33,27,28,10,17,20,34,23,32,19,31,22,23,21,14,17,12,18,14,23,19,22,21,20,22,23,22,13,13,12,24,24,23,12,18,8,23,33,12,37,19,30,23,12,31,22,17,13,10,17,12,27,33,16,24,13,24,31,22,18,25,20,28,25,17,10,24,17,15,31,27,20,21,28,35,20,27,22,27,15,23,22,37,56,24,17,12,9,20,8,15,32,17,17,27,22,30,32,40,17,12,38,7,7,6,8,10,7,4,7,10,19,21,25,16,40,32,35,13,30,13,21,28,32,19,8,32,29,36,16,15,10,22,28,20,25,20,39,21,21,51,15,41,30,35,13,16,25,15,17,29,26,21,17,27,23,32,31,43,14,25,14,19,23,37,21,37,24,27,27,28,23,22,12,22,21,18,11,14,11,31,32,17,21,25,29,27,29,33,21,23,27,13,17,24,27,23,12,28,25,20,32,21,27,23,32,27,23,28,33,28,13,11,9,22,24,15,21,12,18,24,31,17,37,23,17,21,26,41,33,27,25,15,14,17,25,18,24,23,19,11,23,11,34,16,19,24,23,13,27,13,16,30,16,22,18,21,21,24,18,24,20,19,30,28,10,15,16,16,15,20,32,23,22,24,39,22,27,20,37,26,19,17,26,15,20,22,12,19,12,21,29,28,20,24,24,16,16,18,17,28,23,24,12,5,10,7,10,5,5,14,28,27,29,37,24,19,25,14,19,15,14,16,24,26,29,13,10,10,10,16,26,12,35,28,13,23,20,17,21,24,14,22,13,23,30,32,33,33,12,19,15,7,17,19,11,18,15,31,23,19,29,13,27,27,25,15,18,22,30,27,15,19,27,29,32,22,16,26,21,14,18,20,16,11,27,23,25,23,29,31,28,28,18,16,7,24,12,24,31,14,8,18,20,19,18,39,12,28,27,32,10,20,12,20,13,19,55,21,13,38,14,20,18,9,22,10,12,19,12,20,34,17,38,24,19,18,24,7,8,20,22,36,10,26,30,24,15,22,26,29,21,16,13,11,8,32,14,23,21,8,14,16,24,28,14,14,8,28,13,18,20,22,23,10,27,12,20,28,7,27,19,27,13,14,12,7,23,19,36,14,20,26,10,20,28,19,37,28,9,21,10,12,16,12,13,29,16,13,29,16,21,21,15,19,18,17,19,52,24,30,10,21,29,26,10,29,14,26,22,39,23,28,28,23,21,13,25,14,24,20,12,25,18,8,31,27,21,31,16,11,46,23,31,25,13,29,24,20,16,19,7,27,32,17,21,20,19,22,12,12,13,9,17,29,30,11,14,19,15,31,13,21,11,28,24,14,14,33,24,29,24,27,31,25,18,48,25,47,18,27,16,17,23,9,22,19,18,24,25,17,30,22,34,19,18,24,33,34,28,39,25,27,15,16,18,14,11,11,22,17,17,36,20,12,28,32,16,27,18,10,30,17,15,27,14,7,8,15,14,23,31,24,20,26,19,21,9,16,22,14,20,23,20,25,34,8,8,8,13,16,29,26,14,16,30,24,19,29,24,28,29,20,30,33,18,29,14,15,16,16,19,29,17,23,26,22,15,40,26,33,12,18,13,30,33,15,25,17,17,23,16,15,22,25,21,17,27,8,22,27,26,22,22,31,18,26,27,8,15,13,16,20,37,18,32,11,24,27,9,43,27,45,15,41,19,13,33,11,23,28,24,39,11,20,27,21,21,20,38,15,45,18,33,31,16,25,30,14,34,25,36,34,23,26,20,21,34,16,6,34,12,24,19,14,17,15,22,22,26,9,24,22,24,18,26,10,8,17,31,10,26,18,31,19,23,21,25,28,19,15,25,21,32,25,13,21,24,30,17,19,19,23,20,22,11,17,22,25,20,25,16,10,11,23,14,14,15,11,11,7,23,21,17,32,35,22,18,15,28,16,17,29,28,23,28,20,27,11,31,9,16,22,26,11,11,28,17,24,25,42,29,20,10,30,24,27,24,23,24,24,21,32,29,23,35,38,26,36,27,26,21,21,20,25,35,23,27,17,19,38,37,29,35,30,20,20,14,22,19,18,21,33,22,32,26,13,21,22,25,12,20,16,11,24,33,20,14,37,18,28,13,28,27,13,14,32,32,24,21,26,8,24,13,10,15,11,21,21,13,21,28,26,27,20,33,12,27,18,29,29,17,19,32,31,14,10,16,24,37,21,32,18,14,22,28,10,16,15,9,24,18,15,39,21,5,42,12,15,24,31,44,13,20,24,20,26,19,19,27,23,31,21,19,44,12,9,19,11,16,17,25,13,11,21,27,38,27,15,10,16,21,26,16,19,18,11,18,20,13,23,31,37,13,25,6,21,17,25,22,21,10,12,24,25,23,28,10,21,31,25,18,28,20,24,16,28,25,17,20,20,14,19,24,17,23,18,16,27,8,27,19,25,33,23,30,28,21,15,28,26,15,23,12,22,26,26,20,20,33,29,28,25,16,16,36,31,29,23,40,24,21,21,15,25,30,20,10,26,24,28,36,28,32,34,16,36,20,13,29,36,17,13,39,27,28,21,19,22,24,21,15,13,18,8,21,24,16,19,14,13,26,21,34,25,29,24,10,18,30,21,17,24,10,10,35,38,27,44,16,22,35,20,18,24,19,33,22,32,19,21,12,19,12,16,13,20,24,19,23,20,29,24,24,33,21,14,9,12,23,17,24,10,32,16,30,28,25,15,31,31,31,20,20,38,26,37,25,24,15,27,19,11,31,11,38,21,31,20,46,17,35,16,22,18,11,25,28,30,18,10,16,32,32,27,21,38,19,21,26,15,6,24,23,12,33,24,25,20,24,17,26,12,32,14,26,30,28,20,19,12,23,18,7,13,13,15,20,11,14,30,29,30,18,16,16,13,16,17,19,20,25,17,26,17,12,26,18,28,30,14,39,15,21,22,6,26,14,30,8,29,19,24,18,16,29,23,29,19,21,10,34,22,25,36,24,12,40,17,41,12,25,15,7,24,13,22,16,18,18,19,14,14,11,7,9,17,23,20,26,18,14,17,10,14,21,20,17,24,12,17,12,17,12,24,29,23,22,17,25,19,19,36,23,39,20,20,8,22,24,16,42,8,23,23,12,9,21,17,24,29,39,26,27,28,30,32,25,34,14,24,32,27,12,15,15,14,19,21,16,14,14,24,19,24,14,21,15,23,25,7,28,37,15,16,22,16,18,32,14,17,27,22,15,10,24,21,31,17,25,21,27,33,23,24,28,30,42,33,14,40,14,43,21,36,36,6,23,27,15,24,12,11,38,30,38,10,28,22,15,16,21,9,29,38,28,22,18,20,22,38,26,18,21,23,23,16,46,21,21,13,24,37,30,20,31,23,32,31,19,33,17,17,29,16,25,17,7,22,9,17,10,26,28,15,26,29,16,26,30,10,16,20,21,23,11,11,12,18,17,8,6,34,29,29,20,10,20,17,19,33,19,11,23,20,17,30,19,27,19,25,17,25,30,31,17,27,30,29,16,11,29,21,17,25,26,20,29,33,36,35,13,27,38,23,20,33,18,16,13,14,19,30,17,21,18,15,35,24,28,5,28,23,27,10,10,17,13,21,22,23,19,14,25,35,28,31,25,21,19,11,12,14,16,27,15,24,19,22,17,17,27,27,21,39,24,21,14,23,23,22,9,21,24,22,15,24,24,16,25,34,24,19,18,19,18,10,26,17,30,23,12,14,25,23,25,28,20,19,17,25,18,15,14,17,14,22,15,20,25,26,27,12,18,20,18,21,22,16,20,34,44,27,17,14,19,24,18,29,18,28,33,25,23,8,28,27,34,25,21,7,12,22,12,30,22,25,21,8,11,19,38,24,11,32,33,30,17,24,25,39,21,10,15,30,29,27,12,21,19,21,20,27,13,19,31,14,24,22,18,11,27,17,13,13,35,11,36,14,14,22,24,37,10,22,34,7,17,28,16,29,25,24,19,10,22,18,23,17,18,17,27,32,30,23,25,9,18,19,21,29,22,12,28,29,24,21,18,15,18,37,6,24,35,15,39,22,30,18,13,24,17,21,14,20,30,15,22,16,15,10,24,22,24,31,8,25,11,26,22,28,19,26,9,26,33,6,33,22,22,13,9,20,15,24,28,21,14,24,23,17,20,13,15,22,30,25,13,34,20,21,22,29,33,14,32,23,30,10,10,15,31,17,14,22,42,31,12,13,22,28,22,18,35,17,28,29,21,20,22,16,25,16,22,20,39,31,11,25,27,8,19,25,25,19,26,29,8,42,18,19,30,20,6,18,26,33,29,22,23,23,28,14,15,19,33,30,21,17,12,26,24,8,10,28,7,8,31,26,20,16,20,22,27,30,41,25,17,22,4,9,10,14,29,31,31,36,50,14,20,25,28,26,30,31,24,13,17,23,24,18,13,13,18,15,23,17,31,14,18,15,6,32,16,35,24,30,7,31,40,22,20,17,10,19,20,20,11,31,19,37,18,26,26,19,22,9,23,24,27,33,10,7,27,22,38,20,16,17,15,22,24,20,27,28,40,37,40,22,14,18,24,6,23,21,23,44,29,49,30,42,32,17,19,51,21,12,14,19,21,19,23,34,17,12,38,30,25,11,13,21,18,22,21,20,29,21,15,19,13,22,22,21,10,37,27,11,16,35,12,23,27,25,27,25,15,27,26,12,18,19,23,9,23,25,16,8,17,30,29,25,18,11,18,30,30,43,23,23,18,17,29,31,12,18,10,14,28,17,16,16,10,26,26,32,17,26,15,19,32,19,14,21,22,27,15,22,18,25,10,42,30,34,30,15,23,22,16,24,19,17,16,11,20,17,22,16,19,24,17,35,15,25,33,16,10,18,21,13,5,35,42,30,16,22,26,16,17,12,40,21,21,6,22,28,22,26,27,21,17,12,11,23,9,22,18,25,22,12,10,22,28,29,25,32,37,26,18,14,32,17,28,16,21,36,27,23,29,21,13,23,20,14,46,32,23,23,7,21,9,19,18,22,20,14,23,17,16,11,27,22,24,19,17,11,20,22,28,13,30,9,16,20,29,18,22,20,12,14,31,29,18,16,17,27,24,19,32,24,23,16,17,21,25,24,21,18,15,13,11,29,20,7,17,31,23,29,19,20,17,30,20,14,24,24,20,13,10,11,20,18,28,12,21,25,25,25,30,17,19,19,21,17,21,12,19,31,19,24,34,23,25,20,25,15,25,14,25,19,19,31,13,26,29,23,24,24,21,26,22,20,14,20,25,36,27,32,11,40,7,26,25,33,26,16,18,21,18,34,22,23,12,17,22,20,24,12,23,33,21,38,14,23,20,21,15,30,22,24,8,29,24,16,21,19,30,24,14,36,22,23,18,22,22,21,28,11,19,23,19,21,17,30,31,17,16,12,17,15,34,17,12,27,16,30,19,21,28,20,18,17,34,29,40,30,12,21,30,6,32,30,32,21,17,34,35,28,7,17,16,18,30,40,19,27,36,22,26,26,24,25,16,20,26,19,22,19,23,20,15,31,16,22,12,25,21,18,12,18,29,28,25,31,15,21,18,21,30,20,16,12,20,21,25,16,13,19,20,19,17,32,38,22,31,31,31,35,24,11,24,25,24,21,17,36,30,34,22,16,7,9,19,25,29,18,19,34,29,8,27,22,30,9,28,16,25,25,12,21,15,19,13,23,18,33,22,30,9,29,29,32,11,10,35,25,42,36,11,20,13,23,24,16,31,32,28,29,19,18,15,25,34,14,12,23,26,26,23,43,27,15,10,22,26,22,25,27,22,20,18,10,28,18,15,16,17,13,7,11,29,13,17,19,22,13,28,31,27,17,4,34,15,14,25,22,30,12,11,33,25,26,16,16,19,24,17,26,34,25,14,36,9,22,18,19,22,24,26,24,32,26,45,24,20,20,26,18,70,23,30,25,28,34,10,18,22,16,15,17,20,24,24,11,23,11,20,26,21,22,20,26,21,13,19,20,40,39,31,30,43,23,18,18,17,21,27,26,27,34,14,23,17,13,25,16,13,26,31,35,19,27,13,20,23,29,26,19,24,27,17,47,13,17,15,31,15,13,13,14,15,6,10,11,18,27,20,21,4,22,27,9,20,25,21,20,20,28,31,26,16,34,19,26,33,23,14,8,26,15,14,31,20,18,18,18,28,19,16,10,14,14,25,34,22,11,20,24,19,22,21,27,8,23,16,23,12,30,25,30,17,34,15,17,18,21,29,24,26,26,25,31,10,21,28,22,24,21,8,20,16,16,26,11,30,11,31,22,32,14,18,13,27,6,13,16,15,27,25,10,14,15,24,16,25,19,22,18,19,31,16,20,38,20,15,21,25,23,28,6,22,20,32,25,20,14,31,26,31,30,32,24,23,11,18,23,23,18,9,17,22,21,28,17,20,19,30,35,37,22,30,24,32,12,25,39,22,21,23,23,20,19,33,30,26,28,21,19,13,12,18,14,13,12,34,29,25,35,25,23,28,24,24,25,14,31,19,15,13,15,24,14,11,10,25,23,12,24,14,26,41,23,23,15,18,19,18,18,16,27,27,32,12,16,16,17,14,27,18,26,35,11,30,15,27,18,22,13,28,7,17,22,30,11,18,24,18,16,32,28,23,31,26,15,13,19,31,31,13,27,14,25,6,18,33,25,27,18,15,9,11,20,15,30,16,26,14,14,24,25,14,10,23,24,12,12,18,21,24,21,20,24,21,18,28,21,20,27,14,11,28,33,20,26,27,9,17,39,18,14,14,17,22,12,14,39,32,24,16,22,40,41,18,22,15,21,22,25,23,16,30,34,18,15,33,28,27,19,23,11,15,38,29,44,40,26,17,27,23,15,39,28,30,21,28,50,12,14,20,29,21,20,12,21,27,22,8,33,12,21,15,27,13,16,17,21,25,31,17,32,24,17,32,20,14,26,22,12,21,22,14,20,29,16,22,29,22,21,34,17,9,26,17,16,29,26,13,27,15,28,35,24,40,40,16,17,13,27,36,11,33,29,27,20,12,12,28,24,13,20,22,17,18,31,29,16,31,22,25,15,17,24,27,19,17,15,19,26,29,30,34,18,24,18,22,18,25,26,20,13,22,18,29,31,21,22,22,35,22,18,20,12,17,13,28,27,40,18,18,49,20,25,15,21,35,9,44,15,22,32,14,12,29,32,18,36,44,26,16,39,48,24,45,33,38,30,30,17,23,35,25,24,23,18,31,47,13,20,20,25,23,29,31,27,23,46,40,13,28,21,27,28,16,20,26,31,25,24,17,18,23,19,24,17,19,29,15,26,26,16,14,10,26,18,20,16,23,12,12,22,17,11,23,22,19,21,14,19,23,26,9,9,12,14,9,30,20,37,13,18,20,23,10,30,27,32,10,13,26,17,32,42,14,7,24,14,11,28,5,34,18,7,29,26,25,27,21,10,12,17,19,19,17,22,17,16,23,25,23,21,13,10,19,21,20,14,29,21,8,14,19,23,26,11,25,17,29,25,18,20,14,23,33,11,18,33,21,12,29,21,15,22,31,30,25,20,19,12,11,10,22,11,28,14,19,38,23,37,15,28,15,27,26,21,30,19,27,22,14,14,22,9,7,10,22,15,34,34,49,21,13,16,13,14,20,16,22,17,20,33,16,18,17,16,16,18,17,34,25,17,19,15,26,23,28,9,24,18,16,16,29,35,21,32,36,16,16,15,20,22,29,15,23,23,30,21,26,23,18,30,11,29,14,26,24,13,9,20,27,38,27,32,21,20,17,25,21,24,26,18,12,19,34,22,23,17,25,12,14,15,24,23,16,5,31,30,21,39,9,23,18,28,12,24,12,23,20,26,21,28,34,25,14,26,14,27,26,8,30,16,13,14,17,24,24,8,28,14,13,8,27,40,16,33,22,21,21,16,40,29,15,32,35,27,30,18,24,38,22,28,26,13,26,33,30,39,18,13,34,24,22,16,13,22,22,37,25,29,22,14,9,24,30,38,12,29,22,30,27,21,12,21,19,22,29,32,32,33,10,9,16,21,15,17,9,15,10,17,23,24,15,22,13,45,33,31,22,25,27,28,29,35,6,33,5,22,15,9,16,6,22,11,15,25,32,23,36,24,25,21,17,16,16,13,18,33,28,15,18,19,10,12,24,20,16,10,27,24,17,25,14,21,20,31,10,27,27,24,20,33,11,21,24,9,22,16,26,18,21,25,31,25,23,6,13,18,16,7,38,33,17,20,22,22,22,28,8,28,16,24,18,12,26,23,22,25,23,13,13,21,24,20,10,33,10,30,25,23,11,27,20,12,25,29,24,11,21,18,31,21,25,22,12,17,27,33,30,29,19,37,25,32,19,14,14,10,24,20,17,15,17,14,13,11,21,25,28,27,32,15,26,25,17,16,23,9,18,26,13,25,22,30,20,14,13,17,13,32,30,26,22,16,13,20,24,11,12,32,12,15,14,23,22,14,6,24,32,9,23,29,35,22,26,30,22,13,25,19,27,22,17,26,14,14,36,31,34,11,22,27,14,32,23,14,7,11,26,16,19,15,18,14,21,16,14,13,20,23,21,32,24,22,12,22,17,12,23,26,18,17,25,35,31,13,19,36,20,24,34,17,19,35,28,26,12,28,11,25,25,23,27,15,27,22,25,19,37,20,25,12,22,22,23,36,20,15,18,24,14,28,18,12,19,9,19,33,18,27,25,23,24,17,18,27,32,26,32,9,34,21,30,20,15,24,19,27,29,15,16,21,21,27,19,18,31,26,15,24,24,23,17,22,19,12,19,24,37,17,15,21,13,22,24,34,24,17,13,24,18,29,18,21,28,14,53,23,26,32,10,14,32,18,31,34,12,17,20,22,31,27,29,31,16,27,24,42,25,29,35,35,11,18,24,33,31,25,21,22,17,24,24,12,6,17,30,22,36,17,25,21,12,21,32,7,14,17,6,13,20,27,20,28,29,30,32,35,17,21,34,16,10,12,18,7,20,20,26,27,22,27,23,13,15,13,13,21,15,22,21,23,12,22,28,24,27,26,27,26,22,28,18,28,12,32,27,16,11,11,17,18,20,19,16,6,13,23,14,8,13,13,12,30,33,12,29,39,20,18,15,16,17,25,22,16,34,29,20,24,11,11,8],\"xaxis\":\"x\",\"yaxis\":\"y\",\"type\":\"histogram\"}],                        {\"template\":{\"data\":{\"histogram2dcontour\":[{\"type\":\"histogram2dcontour\",\"colorbar\":{\"outlinewidth\":0,\"ticks\":\"\"},\"colorscale\":[[0.0,\"#0d0887\"],[0.1111111111111111,\"#46039f\"],[0.2222222222222222,\"#7201a8\"],[0.3333333333333333,\"#9c179e\"],[0.4444444444444444,\"#bd3786\"],[0.5555555555555556,\"#d8576b\"],[0.6666666666666666,\"#ed7953\"],[0.7777777777777778,\"#fb9f3a\"],[0.8888888888888888,\"#fdca26\"],[1.0,\"#f0f921\"]]}],\"choropleth\":[{\"type\":\"choropleth\",\"colorbar\":{\"outlinewidth\":0,\"ticks\":\"\"}}],\"histogram2d\":[{\"type\":\"histogram2d\",\"colorbar\":{\"outlinewidth\":0,\"ticks\":\"\"},\"colorscale\":[[0.0,\"#0d0887\"],[0.1111111111111111,\"#46039f\"],[0.2222222222222222,\"#7201a8\"],[0.3333333333333333,\"#9c179e\"],[0.4444444444444444,\"#bd3786\"],[0.5555555555555556,\"#d8576b\"],[0.6666666666666666,\"#ed7953\"],[0.7777777777777778,\"#fb9f3a\"],[0.8888888888888888,\"#fdca26\"],[1.0,\"#f0f921\"]]}],\"heatmap\":[{\"type\":\"heatmap\",\"colorbar\":{\"outlinewidth\":0,\"ticks\":\"\"},\"colorscale\":[[0.0,\"#0d0887\"],[0.1111111111111111,\"#46039f\"],[0.2222222222222222,\"#7201a8\"],[0.3333333333333333,\"#9c179e\"],[0.4444444444444444,\"#bd3786\"],[0.5555555555555556,\"#d8576b\"],[0.6666666666666666,\"#ed7953\"],[0.7777777777777778,\"#fb9f3a\"],[0.8888888888888888,\"#fdca26\"],[1.0,\"#f0f921\"]]}],\"heatmapgl\":[{\"type\":\"heatmapgl\",\"colorbar\":{\"outlinewidth\":0,\"ticks\":\"\"},\"colorscale\":[[0.0,\"#0d0887\"],[0.1111111111111111,\"#46039f\"],[0.2222222222222222,\"#7201a8\"],[0.3333333333333333,\"#9c179e\"],[0.4444444444444444,\"#bd3786\"],[0.5555555555555556,\"#d8576b\"],[0.6666666666666666,\"#ed7953\"],[0.7777777777777778,\"#fb9f3a\"],[0.8888888888888888,\"#fdca26\"],[1.0,\"#f0f921\"]]}],\"contourcarpet\":[{\"type\":\"contourcarpet\",\"colorbar\":{\"outlinewidth\":0,\"ticks\":\"\"}}],\"contour\":[{\"type\":\"contour\",\"colorbar\":{\"outlinewidth\":0,\"ticks\":\"\"},\"colorscale\":[[0.0,\"#0d0887\"],[0.1111111111111111,\"#46039f\"],[0.2222222222222222,\"#7201a8\"],[0.3333333333333333,\"#9c179e\"],[0.4444444444444444,\"#bd3786\"],[0.5555555555555556,\"#d8576b\"],[0.6666666666666666,\"#ed7953\"],[0.7777777777777778,\"#fb9f3a\"],[0.8888888888888888,\"#fdca26\"],[1.0,\"#f0f921\"]]}],\"surface\":[{\"type\":\"surface\",\"colorbar\":{\"outlinewidth\":0,\"ticks\":\"\"},\"colorscale\":[[0.0,\"#0d0887\"],[0.1111111111111111,\"#46039f\"],[0.2222222222222222,\"#7201a8\"],[0.3333333333333333,\"#9c179e\"],[0.4444444444444444,\"#bd3786\"],[0.5555555555555556,\"#d8576b\"],[0.6666666666666666,\"#ed7953\"],[0.7777777777777778,\"#fb9f3a\"],[0.8888888888888888,\"#fdca26\"],[1.0,\"#f0f921\"]]}],\"mesh3d\":[{\"type\":\"mesh3d\",\"colorbar\":{\"outlinewidth\":0,\"ticks\":\"\"}}],\"scatter\":[{\"fillpattern\":{\"fillmode\":\"overlay\",\"size\":10,\"solidity\":0.2},\"type\":\"scatter\"}],\"parcoords\":[{\"type\":\"parcoords\",\"line\":{\"colorbar\":{\"outlinewidth\":0,\"ticks\":\"\"}}}],\"scatterpolargl\":[{\"type\":\"scatterpolargl\",\"marker\":{\"colorbar\":{\"outlinewidth\":0,\"ticks\":\"\"}}}],\"bar\":[{\"error_x\":{\"color\":\"#2a3f5f\"},\"error_y\":{\"color\":\"#2a3f5f\"},\"marker\":{\"line\":{\"color\":\"#E5ECF6\",\"width\":0.5},\"pattern\":{\"fillmode\":\"overlay\",\"size\":10,\"solidity\":0.2}},\"type\":\"bar\"}],\"scattergeo\":[{\"type\":\"scattergeo\",\"marker\":{\"colorbar\":{\"outlinewidth\":0,\"ticks\":\"\"}}}],\"scatterpolar\":[{\"type\":\"scatterpolar\",\"marker\":{\"colorbar\":{\"outlinewidth\":0,\"ticks\":\"\"}}}],\"histogram\":[{\"marker\":{\"pattern\":{\"fillmode\":\"overlay\",\"size\":10,\"solidity\":0.2}},\"type\":\"histogram\"}],\"scattergl\":[{\"type\":\"scattergl\",\"marker\":{\"colorbar\":{\"outlinewidth\":0,\"ticks\":\"\"}}}],\"scatter3d\":[{\"type\":\"scatter3d\",\"line\":{\"colorbar\":{\"outlinewidth\":0,\"ticks\":\"\"}},\"marker\":{\"colorbar\":{\"outlinewidth\":0,\"ticks\":\"\"}}}],\"scattermapbox\":[{\"type\":\"scattermapbox\",\"marker\":{\"colorbar\":{\"outlinewidth\":0,\"ticks\":\"\"}}}],\"scatterternary\":[{\"type\":\"scatterternary\",\"marker\":{\"colorbar\":{\"outlinewidth\":0,\"ticks\":\"\"}}}],\"scattercarpet\":[{\"type\":\"scattercarpet\",\"marker\":{\"colorbar\":{\"outlinewidth\":0,\"ticks\":\"\"}}}],\"carpet\":[{\"aaxis\":{\"endlinecolor\":\"#2a3f5f\",\"gridcolor\":\"white\",\"linecolor\":\"white\",\"minorgridcolor\":\"white\",\"startlinecolor\":\"#2a3f5f\"},\"baxis\":{\"endlinecolor\":\"#2a3f5f\",\"gridcolor\":\"white\",\"linecolor\":\"white\",\"minorgridcolor\":\"white\",\"startlinecolor\":\"#2a3f5f\"},\"type\":\"carpet\"}],\"table\":[{\"cells\":{\"fill\":{\"color\":\"#EBF0F8\"},\"line\":{\"color\":\"white\"}},\"header\":{\"fill\":{\"color\":\"#C8D4E3\"},\"line\":{\"color\":\"white\"}},\"type\":\"table\"}],\"barpolar\":[{\"marker\":{\"line\":{\"color\":\"#E5ECF6\",\"width\":0.5},\"pattern\":{\"fillmode\":\"overlay\",\"size\":10,\"solidity\":0.2}},\"type\":\"barpolar\"}],\"pie\":[{\"automargin\":true,\"type\":\"pie\"}]},\"layout\":{\"autotypenumbers\":\"strict\",\"colorway\":[\"#636efa\",\"#EF553B\",\"#00cc96\",\"#ab63fa\",\"#FFA15A\",\"#19d3f3\",\"#FF6692\",\"#B6E880\",\"#FF97FF\",\"#FECB52\"],\"font\":{\"color\":\"#2a3f5f\"},\"hovermode\":\"closest\",\"hoverlabel\":{\"align\":\"left\"},\"paper_bgcolor\":\"white\",\"plot_bgcolor\":\"#E5ECF6\",\"polar\":{\"bgcolor\":\"#E5ECF6\",\"angularaxis\":{\"gridcolor\":\"white\",\"linecolor\":\"white\",\"ticks\":\"\"},\"radialaxis\":{\"gridcolor\":\"white\",\"linecolor\":\"white\",\"ticks\":\"\"}},\"ternary\":{\"bgcolor\":\"#E5ECF6\",\"aaxis\":{\"gridcolor\":\"white\",\"linecolor\":\"white\",\"ticks\":\"\"},\"baxis\":{\"gridcolor\":\"white\",\"linecolor\":\"white\",\"ticks\":\"\"},\"caxis\":{\"gridcolor\":\"white\",\"linecolor\":\"white\",\"ticks\":\"\"}},\"coloraxis\":{\"colorbar\":{\"outlinewidth\":0,\"ticks\":\"\"}},\"colorscale\":{\"sequential\":[[0.0,\"#0d0887\"],[0.1111111111111111,\"#46039f\"],[0.2222222222222222,\"#7201a8\"],[0.3333333333333333,\"#9c179e\"],[0.4444444444444444,\"#bd3786\"],[0.5555555555555556,\"#d8576b\"],[0.6666666666666666,\"#ed7953\"],[0.7777777777777778,\"#fb9f3a\"],[0.8888888888888888,\"#fdca26\"],[1.0,\"#f0f921\"]],\"sequentialminus\":[[0.0,\"#0d0887\"],[0.1111111111111111,\"#46039f\"],[0.2222222222222222,\"#7201a8\"],[0.3333333333333333,\"#9c179e\"],[0.4444444444444444,\"#bd3786\"],[0.5555555555555556,\"#d8576b\"],[0.6666666666666666,\"#ed7953\"],[0.7777777777777778,\"#fb9f3a\"],[0.8888888888888888,\"#fdca26\"],[1.0,\"#f0f921\"]],\"diverging\":[[0,\"#8e0152\"],[0.1,\"#c51b7d\"],[0.2,\"#de77ae\"],[0.3,\"#f1b6da\"],[0.4,\"#fde0ef\"],[0.5,\"#f7f7f7\"],[0.6,\"#e6f5d0\"],[0.7,\"#b8e186\"],[0.8,\"#7fbc41\"],[0.9,\"#4d9221\"],[1,\"#276419\"]]},\"xaxis\":{\"gridcolor\":\"white\",\"linecolor\":\"white\",\"ticks\":\"\",\"title\":{\"standoff\":15},\"zerolinecolor\":\"white\",\"automargin\":true,\"zerolinewidth\":2},\"yaxis\":{\"gridcolor\":\"white\",\"linecolor\":\"white\",\"ticks\":\"\",\"title\":{\"standoff\":15},\"zerolinecolor\":\"white\",\"automargin\":true,\"zerolinewidth\":2},\"scene\":{\"xaxis\":{\"backgroundcolor\":\"#E5ECF6\",\"gridcolor\":\"white\",\"linecolor\":\"white\",\"showbackground\":true,\"ticks\":\"\",\"zerolinecolor\":\"white\",\"gridwidth\":2},\"yaxis\":{\"backgroundcolor\":\"#E5ECF6\",\"gridcolor\":\"white\",\"linecolor\":\"white\",\"showbackground\":true,\"ticks\":\"\",\"zerolinecolor\":\"white\",\"gridwidth\":2},\"zaxis\":{\"backgroundcolor\":\"#E5ECF6\",\"gridcolor\":\"white\",\"linecolor\":\"white\",\"showbackground\":true,\"ticks\":\"\",\"zerolinecolor\":\"white\",\"gridwidth\":2}},\"shapedefaults\":{\"line\":{\"color\":\"#2a3f5f\"}},\"annotationdefaults\":{\"arrowcolor\":\"#2a3f5f\",\"arrowhead\":0,\"arrowwidth\":1},\"geo\":{\"bgcolor\":\"white\",\"landcolor\":\"#E5ECF6\",\"subunitcolor\":\"white\",\"showland\":true,\"showlakes\":true,\"lakecolor\":\"white\"},\"title\":{\"x\":0.05},\"mapbox\":{\"style\":\"light\"}}},\"xaxis\":{\"anchor\":\"y\",\"domain\":[0.0,1.0],\"title\":{\"text\":\"Token Count\"}},\"yaxis\":{\"anchor\":\"x\",\"domain\":[0.0,1.0],\"title\":{\"text\":\"count\"}},\"legend\":{\"tracegroupgap\":0},\"title\":{\"text\":\"Distribution of Tokens per Sentence\"},\"barmode\":\"relative\"},                        {\"responsive\": true}                    ).then(function(){\n",
              "                            \n",
              "var gd = document.getElementById('c108dcc0-c93e-4ec1-ad07-3c9c6ac8a36b');\n",
              "var x = new MutationObserver(function (mutations, observer) {{\n",
              "        var display = window.getComputedStyle(gd).display;\n",
              "        if (!display || display === 'none') {{\n",
              "            console.log([gd, 'removed!']);\n",
              "            Plotly.purge(gd);\n",
              "            observer.disconnect();\n",
              "        }}\n",
              "}});\n",
              "\n",
              "// Listen for the removal of the full notebook cells\n",
              "var notebookContainer = gd.closest('#notebook-container');\n",
              "if (notebookContainer) {{\n",
              "    x.observe(notebookContainer, {childList: true});\n",
              "}}\n",
              "\n",
              "// Listen for the clearing of the current output cell\n",
              "var outputEl = gd.closest('.output');\n",
              "if (outputEl) {{\n",
              "    x.observe(outputEl, {childList: true});\n",
              "}}\n",
              "\n",
              "                        })                };                            </script>        </div>\n",
              "</body>\n",
              "</html>"
            ]
          },
          "metadata": {}
        }
      ]
    },
    {
      "cell_type": "markdown",
      "source": [
        "# NER tag distribution in tabular format"
      ],
      "metadata": {
        "id": "kXd29TODeQsk"
      }
    },
    {
      "cell_type": "code",
      "source": [
        "# Plotly table for NER tag distribution\n",
        "fig = go.Figure(data=[go.Table(\n",
        "    header=dict(values=list(ner_counts.columns),\n",
        "                fill_color='paleturquoise',\n",
        "                align='left'),\n",
        "    cells=dict(values=[ner_counts['NER'], ner_counts['Count']],\n",
        "               fill_color='lavender',\n",
        "               align='left'))\n",
        "])\n",
        "\n",
        "fig.update_layout(title='NER Tag Distribution Table')\n",
        "fig.show()"
      ],
      "metadata": {
        "colab": {
          "base_uri": "https://localhost:8080/"
        },
        "id": "9KF8jgFLFbWI",
        "outputId": "067cc21b-3ff2-4675-f571-8e7e6003fa6e"
      },
      "execution_count": null,
      "outputs": [
        {
          "output_type": "display_data",
          "data": {
            "text/html": [
              "<html>\n",
              "<head><meta charset=\"utf-8\" /></head>\n",
              "<body>\n",
              "    <div>            <script src=\"https://cdnjs.cloudflare.com/ajax/libs/mathjax/2.7.5/MathJax.js?config=TeX-AMS-MML_SVG\"></script><script type=\"text/javascript\">if (window.MathJax && window.MathJax.Hub && window.MathJax.Hub.Config) {window.MathJax.Hub.Config({SVG: {font: \"STIX-Web\"}});}</script>                <script type=\"text/javascript\">window.PlotlyConfig = {MathJaxConfig: 'local'};</script>\n",
              "        <script charset=\"utf-8\" src=\"https://cdn.plot.ly/plotly-2.24.1.min.js\"></script>                <div id=\"7a2c77e4-c267-469e-bb67-db9ea3ae4974\" class=\"plotly-graph-div\" style=\"height:525px; width:100%;\"></div>            <script type=\"text/javascript\">                                    window.PLOTLYENV=window.PLOTLYENV || {};                                    if (document.getElementById(\"7a2c77e4-c267-469e-bb67-db9ea3ae4974\")) {                    Plotly.newPlot(                        \"7a2c77e4-c267-469e-bb67-db9ea3ae4974\",                        [{\"cells\":{\"align\":\"left\",\"fill\":{\"color\":\"lavender\"},\"values\":[[\"O\",\"B-geo\",\"B-tim\",\"B-org\",\"I-per\",\"B-per\",\"I-org\",\"B-gpe\",\"I-geo\",\"I-tim\",\"B-art\",\"B-eve\",\"I-art\",\"I-eve\",\"B-nat\",\"I-gpe\",\"I-nat\"],[887889,37644,20333,20143,17251,16990,16783,15870,7414,6527,402,308,297,253,201,198,51]]},\"header\":{\"align\":\"left\",\"fill\":{\"color\":\"paleturquoise\"},\"values\":[\"NER\",\"Count\"]},\"type\":\"table\"}],                        {\"template\":{\"data\":{\"histogram2dcontour\":[{\"type\":\"histogram2dcontour\",\"colorbar\":{\"outlinewidth\":0,\"ticks\":\"\"},\"colorscale\":[[0.0,\"#0d0887\"],[0.1111111111111111,\"#46039f\"],[0.2222222222222222,\"#7201a8\"],[0.3333333333333333,\"#9c179e\"],[0.4444444444444444,\"#bd3786\"],[0.5555555555555556,\"#d8576b\"],[0.6666666666666666,\"#ed7953\"],[0.7777777777777778,\"#fb9f3a\"],[0.8888888888888888,\"#fdca26\"],[1.0,\"#f0f921\"]]}],\"choropleth\":[{\"type\":\"choropleth\",\"colorbar\":{\"outlinewidth\":0,\"ticks\":\"\"}}],\"histogram2d\":[{\"type\":\"histogram2d\",\"colorbar\":{\"outlinewidth\":0,\"ticks\":\"\"},\"colorscale\":[[0.0,\"#0d0887\"],[0.1111111111111111,\"#46039f\"],[0.2222222222222222,\"#7201a8\"],[0.3333333333333333,\"#9c179e\"],[0.4444444444444444,\"#bd3786\"],[0.5555555555555556,\"#d8576b\"],[0.6666666666666666,\"#ed7953\"],[0.7777777777777778,\"#fb9f3a\"],[0.8888888888888888,\"#fdca26\"],[1.0,\"#f0f921\"]]}],\"heatmap\":[{\"type\":\"heatmap\",\"colorbar\":{\"outlinewidth\":0,\"ticks\":\"\"},\"colorscale\":[[0.0,\"#0d0887\"],[0.1111111111111111,\"#46039f\"],[0.2222222222222222,\"#7201a8\"],[0.3333333333333333,\"#9c179e\"],[0.4444444444444444,\"#bd3786\"],[0.5555555555555556,\"#d8576b\"],[0.6666666666666666,\"#ed7953\"],[0.7777777777777778,\"#fb9f3a\"],[0.8888888888888888,\"#fdca26\"],[1.0,\"#f0f921\"]]}],\"heatmapgl\":[{\"type\":\"heatmapgl\",\"colorbar\":{\"outlinewidth\":0,\"ticks\":\"\"},\"colorscale\":[[0.0,\"#0d0887\"],[0.1111111111111111,\"#46039f\"],[0.2222222222222222,\"#7201a8\"],[0.3333333333333333,\"#9c179e\"],[0.4444444444444444,\"#bd3786\"],[0.5555555555555556,\"#d8576b\"],[0.6666666666666666,\"#ed7953\"],[0.7777777777777778,\"#fb9f3a\"],[0.8888888888888888,\"#fdca26\"],[1.0,\"#f0f921\"]]}],\"contourcarpet\":[{\"type\":\"contourcarpet\",\"colorbar\":{\"outlinewidth\":0,\"ticks\":\"\"}}],\"contour\":[{\"type\":\"contour\",\"colorbar\":{\"outlinewidth\":0,\"ticks\":\"\"},\"colorscale\":[[0.0,\"#0d0887\"],[0.1111111111111111,\"#46039f\"],[0.2222222222222222,\"#7201a8\"],[0.3333333333333333,\"#9c179e\"],[0.4444444444444444,\"#bd3786\"],[0.5555555555555556,\"#d8576b\"],[0.6666666666666666,\"#ed7953\"],[0.7777777777777778,\"#fb9f3a\"],[0.8888888888888888,\"#fdca26\"],[1.0,\"#f0f921\"]]}],\"surface\":[{\"type\":\"surface\",\"colorbar\":{\"outlinewidth\":0,\"ticks\":\"\"},\"colorscale\":[[0.0,\"#0d0887\"],[0.1111111111111111,\"#46039f\"],[0.2222222222222222,\"#7201a8\"],[0.3333333333333333,\"#9c179e\"],[0.4444444444444444,\"#bd3786\"],[0.5555555555555556,\"#d8576b\"],[0.6666666666666666,\"#ed7953\"],[0.7777777777777778,\"#fb9f3a\"],[0.8888888888888888,\"#fdca26\"],[1.0,\"#f0f921\"]]}],\"mesh3d\":[{\"type\":\"mesh3d\",\"colorbar\":{\"outlinewidth\":0,\"ticks\":\"\"}}],\"scatter\":[{\"fillpattern\":{\"fillmode\":\"overlay\",\"size\":10,\"solidity\":0.2},\"type\":\"scatter\"}],\"parcoords\":[{\"type\":\"parcoords\",\"line\":{\"colorbar\":{\"outlinewidth\":0,\"ticks\":\"\"}}}],\"scatterpolargl\":[{\"type\":\"scatterpolargl\",\"marker\":{\"colorbar\":{\"outlinewidth\":0,\"ticks\":\"\"}}}],\"bar\":[{\"error_x\":{\"color\":\"#2a3f5f\"},\"error_y\":{\"color\":\"#2a3f5f\"},\"marker\":{\"line\":{\"color\":\"#E5ECF6\",\"width\":0.5},\"pattern\":{\"fillmode\":\"overlay\",\"size\":10,\"solidity\":0.2}},\"type\":\"bar\"}],\"scattergeo\":[{\"type\":\"scattergeo\",\"marker\":{\"colorbar\":{\"outlinewidth\":0,\"ticks\":\"\"}}}],\"scatterpolar\":[{\"type\":\"scatterpolar\",\"marker\":{\"colorbar\":{\"outlinewidth\":0,\"ticks\":\"\"}}}],\"histogram\":[{\"marker\":{\"pattern\":{\"fillmode\":\"overlay\",\"size\":10,\"solidity\":0.2}},\"type\":\"histogram\"}],\"scattergl\":[{\"type\":\"scattergl\",\"marker\":{\"colorbar\":{\"outlinewidth\":0,\"ticks\":\"\"}}}],\"scatter3d\":[{\"type\":\"scatter3d\",\"line\":{\"colorbar\":{\"outlinewidth\":0,\"ticks\":\"\"}},\"marker\":{\"colorbar\":{\"outlinewidth\":0,\"ticks\":\"\"}}}],\"scattermapbox\":[{\"type\":\"scattermapbox\",\"marker\":{\"colorbar\":{\"outlinewidth\":0,\"ticks\":\"\"}}}],\"scatterternary\":[{\"type\":\"scatterternary\",\"marker\":{\"colorbar\":{\"outlinewidth\":0,\"ticks\":\"\"}}}],\"scattercarpet\":[{\"type\":\"scattercarpet\",\"marker\":{\"colorbar\":{\"outlinewidth\":0,\"ticks\":\"\"}}}],\"carpet\":[{\"aaxis\":{\"endlinecolor\":\"#2a3f5f\",\"gridcolor\":\"white\",\"linecolor\":\"white\",\"minorgridcolor\":\"white\",\"startlinecolor\":\"#2a3f5f\"},\"baxis\":{\"endlinecolor\":\"#2a3f5f\",\"gridcolor\":\"white\",\"linecolor\":\"white\",\"minorgridcolor\":\"white\",\"startlinecolor\":\"#2a3f5f\"},\"type\":\"carpet\"}],\"table\":[{\"cells\":{\"fill\":{\"color\":\"#EBF0F8\"},\"line\":{\"color\":\"white\"}},\"header\":{\"fill\":{\"color\":\"#C8D4E3\"},\"line\":{\"color\":\"white\"}},\"type\":\"table\"}],\"barpolar\":[{\"marker\":{\"line\":{\"color\":\"#E5ECF6\",\"width\":0.5},\"pattern\":{\"fillmode\":\"overlay\",\"size\":10,\"solidity\":0.2}},\"type\":\"barpolar\"}],\"pie\":[{\"automargin\":true,\"type\":\"pie\"}]},\"layout\":{\"autotypenumbers\":\"strict\",\"colorway\":[\"#636efa\",\"#EF553B\",\"#00cc96\",\"#ab63fa\",\"#FFA15A\",\"#19d3f3\",\"#FF6692\",\"#B6E880\",\"#FF97FF\",\"#FECB52\"],\"font\":{\"color\":\"#2a3f5f\"},\"hovermode\":\"closest\",\"hoverlabel\":{\"align\":\"left\"},\"paper_bgcolor\":\"white\",\"plot_bgcolor\":\"#E5ECF6\",\"polar\":{\"bgcolor\":\"#E5ECF6\",\"angularaxis\":{\"gridcolor\":\"white\",\"linecolor\":\"white\",\"ticks\":\"\"},\"radialaxis\":{\"gridcolor\":\"white\",\"linecolor\":\"white\",\"ticks\":\"\"}},\"ternary\":{\"bgcolor\":\"#E5ECF6\",\"aaxis\":{\"gridcolor\":\"white\",\"linecolor\":\"white\",\"ticks\":\"\"},\"baxis\":{\"gridcolor\":\"white\",\"linecolor\":\"white\",\"ticks\":\"\"},\"caxis\":{\"gridcolor\":\"white\",\"linecolor\":\"white\",\"ticks\":\"\"}},\"coloraxis\":{\"colorbar\":{\"outlinewidth\":0,\"ticks\":\"\"}},\"colorscale\":{\"sequential\":[[0.0,\"#0d0887\"],[0.1111111111111111,\"#46039f\"],[0.2222222222222222,\"#7201a8\"],[0.3333333333333333,\"#9c179e\"],[0.4444444444444444,\"#bd3786\"],[0.5555555555555556,\"#d8576b\"],[0.6666666666666666,\"#ed7953\"],[0.7777777777777778,\"#fb9f3a\"],[0.8888888888888888,\"#fdca26\"],[1.0,\"#f0f921\"]],\"sequentialminus\":[[0.0,\"#0d0887\"],[0.1111111111111111,\"#46039f\"],[0.2222222222222222,\"#7201a8\"],[0.3333333333333333,\"#9c179e\"],[0.4444444444444444,\"#bd3786\"],[0.5555555555555556,\"#d8576b\"],[0.6666666666666666,\"#ed7953\"],[0.7777777777777778,\"#fb9f3a\"],[0.8888888888888888,\"#fdca26\"],[1.0,\"#f0f921\"]],\"diverging\":[[0,\"#8e0152\"],[0.1,\"#c51b7d\"],[0.2,\"#de77ae\"],[0.3,\"#f1b6da\"],[0.4,\"#fde0ef\"],[0.5,\"#f7f7f7\"],[0.6,\"#e6f5d0\"],[0.7,\"#b8e186\"],[0.8,\"#7fbc41\"],[0.9,\"#4d9221\"],[1,\"#276419\"]]},\"xaxis\":{\"gridcolor\":\"white\",\"linecolor\":\"white\",\"ticks\":\"\",\"title\":{\"standoff\":15},\"zerolinecolor\":\"white\",\"automargin\":true,\"zerolinewidth\":2},\"yaxis\":{\"gridcolor\":\"white\",\"linecolor\":\"white\",\"ticks\":\"\",\"title\":{\"standoff\":15},\"zerolinecolor\":\"white\",\"automargin\":true,\"zerolinewidth\":2},\"scene\":{\"xaxis\":{\"backgroundcolor\":\"#E5ECF6\",\"gridcolor\":\"white\",\"linecolor\":\"white\",\"showbackground\":true,\"ticks\":\"\",\"zerolinecolor\":\"white\",\"gridwidth\":2},\"yaxis\":{\"backgroundcolor\":\"#E5ECF6\",\"gridcolor\":\"white\",\"linecolor\":\"white\",\"showbackground\":true,\"ticks\":\"\",\"zerolinecolor\":\"white\",\"gridwidth\":2},\"zaxis\":{\"backgroundcolor\":\"#E5ECF6\",\"gridcolor\":\"white\",\"linecolor\":\"white\",\"showbackground\":true,\"ticks\":\"\",\"zerolinecolor\":\"white\",\"gridwidth\":2}},\"shapedefaults\":{\"line\":{\"color\":\"#2a3f5f\"}},\"annotationdefaults\":{\"arrowcolor\":\"#2a3f5f\",\"arrowhead\":0,\"arrowwidth\":1},\"geo\":{\"bgcolor\":\"white\",\"landcolor\":\"#E5ECF6\",\"subunitcolor\":\"white\",\"showland\":true,\"showlakes\":true,\"lakecolor\":\"white\"},\"title\":{\"x\":0.05},\"mapbox\":{\"style\":\"light\"}}},\"title\":{\"text\":\"NER Tag Distribution Table\"}},                        {\"responsive\": true}                    ).then(function(){\n",
              "                            \n",
              "var gd = document.getElementById('7a2c77e4-c267-469e-bb67-db9ea3ae4974');\n",
              "var x = new MutationObserver(function (mutations, observer) {{\n",
              "        var display = window.getComputedStyle(gd).display;\n",
              "        if (!display || display === 'none') {{\n",
              "            console.log([gd, 'removed!']);\n",
              "            Plotly.purge(gd);\n",
              "            observer.disconnect();\n",
              "        }}\n",
              "}});\n",
              "\n",
              "// Listen for the removal of the full notebook cells\n",
              "var notebookContainer = gd.closest('#notebook-container');\n",
              "if (notebookContainer) {{\n",
              "    x.observe(notebookContainer, {childList: true});\n",
              "}}\n",
              "\n",
              "// Listen for the clearing of the current output cell\n",
              "var outputEl = gd.closest('.output');\n",
              "if (outputEl) {{\n",
              "    x.observe(outputEl, {childList: true});\n",
              "}}\n",
              "\n",
              "                        })                };                            </script>        </div>\n",
              "</body>\n",
              "</html>"
            ]
          },
          "metadata": {}
        }
      ]
    },
    {
      "cell_type": "markdown",
      "source": [
        "# Preprocessing to convert the dataset to readable format"
      ],
      "metadata": {
        "id": "VuuALOhweeaP"
      }
    },
    {
      "cell_type": "code",
      "source": [
        "tokens_stats = tokens_per_sentence.describe().reset_index()\n",
        "tokens_stats"
      ],
      "metadata": {
        "colab": {
          "base_uri": "https://localhost:8080/"
        },
        "id": "T8pWmi_pFvxB",
        "outputId": "91819943-f2b2-42e6-8a37-6c6ef94a6f8b"
      },
      "execution_count": null,
      "outputs": [
        {
          "output_type": "execute_result",
          "data": {
            "text/plain": [
              "   index    Sentence #   Token Count\n",
              "0  count  47959.000000  47959.000000\n",
              "1   mean  23979.000000     21.863550\n",
              "2    std  13844.715117      7.963066\n",
              "3    min      0.000000      1.000000\n",
              "4    25%  11989.500000     16.000000\n",
              "5    50%  23979.000000     21.000000\n",
              "6    75%  35968.500000     27.000000\n",
              "7    max  47958.000000    104.000000"
            ],
            "text/html": [
              "\n",
              "  <div id=\"df-a57de379-6266-473b-a5da-328d8df38caf\" class=\"colab-df-container\">\n",
              "    <div>\n",
              "<style scoped>\n",
              "    .dataframe tbody tr th:only-of-type {\n",
              "        vertical-align: middle;\n",
              "    }\n",
              "\n",
              "    .dataframe tbody tr th {\n",
              "        vertical-align: top;\n",
              "    }\n",
              "\n",
              "    .dataframe thead th {\n",
              "        text-align: right;\n",
              "    }\n",
              "</style>\n",
              "<table border=\"1\" class=\"dataframe\">\n",
              "  <thead>\n",
              "    <tr style=\"text-align: right;\">\n",
              "      <th></th>\n",
              "      <th>index</th>\n",
              "      <th>Sentence #</th>\n",
              "      <th>Token Count</th>\n",
              "    </tr>\n",
              "  </thead>\n",
              "  <tbody>\n",
              "    <tr>\n",
              "      <th>0</th>\n",
              "      <td>count</td>\n",
              "      <td>47959.000000</td>\n",
              "      <td>47959.000000</td>\n",
              "    </tr>\n",
              "    <tr>\n",
              "      <th>1</th>\n",
              "      <td>mean</td>\n",
              "      <td>23979.000000</td>\n",
              "      <td>21.863550</td>\n",
              "    </tr>\n",
              "    <tr>\n",
              "      <th>2</th>\n",
              "      <td>std</td>\n",
              "      <td>13844.715117</td>\n",
              "      <td>7.963066</td>\n",
              "    </tr>\n",
              "    <tr>\n",
              "      <th>3</th>\n",
              "      <td>min</td>\n",
              "      <td>0.000000</td>\n",
              "      <td>1.000000</td>\n",
              "    </tr>\n",
              "    <tr>\n",
              "      <th>4</th>\n",
              "      <td>25%</td>\n",
              "      <td>11989.500000</td>\n",
              "      <td>16.000000</td>\n",
              "    </tr>\n",
              "    <tr>\n",
              "      <th>5</th>\n",
              "      <td>50%</td>\n",
              "      <td>23979.000000</td>\n",
              "      <td>21.000000</td>\n",
              "    </tr>\n",
              "    <tr>\n",
              "      <th>6</th>\n",
              "      <td>75%</td>\n",
              "      <td>35968.500000</td>\n",
              "      <td>27.000000</td>\n",
              "    </tr>\n",
              "    <tr>\n",
              "      <th>7</th>\n",
              "      <td>max</td>\n",
              "      <td>47958.000000</td>\n",
              "      <td>104.000000</td>\n",
              "    </tr>\n",
              "  </tbody>\n",
              "</table>\n",
              "</div>\n",
              "    <div class=\"colab-df-buttons\">\n",
              "\n",
              "  <div class=\"colab-df-container\">\n",
              "    <button class=\"colab-df-convert\" onclick=\"convertToInteractive('df-a57de379-6266-473b-a5da-328d8df38caf')\"\n",
              "            title=\"Convert this dataframe to an interactive table.\"\n",
              "            style=\"display:none;\">\n",
              "\n",
              "  <svg xmlns=\"http://www.w3.org/2000/svg\" height=\"24px\" viewBox=\"0 -960 960 960\">\n",
              "    <path d=\"M120-120v-720h720v720H120Zm60-500h600v-160H180v160Zm220 220h160v-160H400v160Zm0 220h160v-160H400v160ZM180-400h160v-160H180v160Zm440 0h160v-160H620v160ZM180-180h160v-160H180v160Zm440 0h160v-160H620v160Z\"/>\n",
              "  </svg>\n",
              "    </button>\n",
              "\n",
              "  <style>\n",
              "    .colab-df-container {\n",
              "      display:flex;\n",
              "      gap: 12px;\n",
              "    }\n",
              "\n",
              "    .colab-df-convert {\n",
              "      background-color: #E8F0FE;\n",
              "      border: none;\n",
              "      border-radius: 50%;\n",
              "      cursor: pointer;\n",
              "      display: none;\n",
              "      fill: #1967D2;\n",
              "      height: 32px;\n",
              "      padding: 0 0 0 0;\n",
              "      width: 32px;\n",
              "    }\n",
              "\n",
              "    .colab-df-convert:hover {\n",
              "      background-color: #E2EBFA;\n",
              "      box-shadow: 0px 1px 2px rgba(60, 64, 67, 0.3), 0px 1px 3px 1px rgba(60, 64, 67, 0.15);\n",
              "      fill: #174EA6;\n",
              "    }\n",
              "\n",
              "    .colab-df-buttons div {\n",
              "      margin-bottom: 4px;\n",
              "    }\n",
              "\n",
              "    [theme=dark] .colab-df-convert {\n",
              "      background-color: #3B4455;\n",
              "      fill: #D2E3FC;\n",
              "    }\n",
              "\n",
              "    [theme=dark] .colab-df-convert:hover {\n",
              "      background-color: #434B5C;\n",
              "      box-shadow: 0px 1px 3px 1px rgba(0, 0, 0, 0.15);\n",
              "      filter: drop-shadow(0px 1px 2px rgba(0, 0, 0, 0.3));\n",
              "      fill: #FFFFFF;\n",
              "    }\n",
              "  </style>\n",
              "\n",
              "    <script>\n",
              "      const buttonEl =\n",
              "        document.querySelector('#df-a57de379-6266-473b-a5da-328d8df38caf button.colab-df-convert');\n",
              "      buttonEl.style.display =\n",
              "        google.colab.kernel.accessAllowed ? 'block' : 'none';\n",
              "\n",
              "      async function convertToInteractive(key) {\n",
              "        const element = document.querySelector('#df-a57de379-6266-473b-a5da-328d8df38caf');\n",
              "        const dataTable =\n",
              "          await google.colab.kernel.invokeFunction('convertToInteractive',\n",
              "                                                    [key], {});\n",
              "        if (!dataTable) return;\n",
              "\n",
              "        const docLinkHtml = 'Like what you see? Visit the ' +\n",
              "          '<a target=\"_blank\" href=https://colab.research.google.com/notebooks/data_table.ipynb>data table notebook</a>'\n",
              "          + ' to learn more about interactive tables.';\n",
              "        element.innerHTML = '';\n",
              "        dataTable['output_type'] = 'display_data';\n",
              "        await google.colab.output.renderOutput(dataTable, element);\n",
              "        const docLink = document.createElement('div');\n",
              "        docLink.innerHTML = docLinkHtml;\n",
              "        element.appendChild(docLink);\n",
              "      }\n",
              "    </script>\n",
              "  </div>\n",
              "\n",
              "\n",
              "<div id=\"df-b0fbb955-0531-4cc6-a243-f5044eed2f81\">\n",
              "  <button class=\"colab-df-quickchart\" onclick=\"quickchart('df-b0fbb955-0531-4cc6-a243-f5044eed2f81')\"\n",
              "            title=\"Suggest charts\"\n",
              "            style=\"display:none;\">\n",
              "\n",
              "<svg xmlns=\"http://www.w3.org/2000/svg\" height=\"24px\"viewBox=\"0 0 24 24\"\n",
              "     width=\"24px\">\n",
              "    <g>\n",
              "        <path d=\"M19 3H5c-1.1 0-2 .9-2 2v14c0 1.1.9 2 2 2h14c1.1 0 2-.9 2-2V5c0-1.1-.9-2-2-2zM9 17H7v-7h2v7zm4 0h-2V7h2v10zm4 0h-2v-4h2v4z\"/>\n",
              "    </g>\n",
              "</svg>\n",
              "  </button>\n",
              "\n",
              "<style>\n",
              "  .colab-df-quickchart {\n",
              "      --bg-color: #E8F0FE;\n",
              "      --fill-color: #1967D2;\n",
              "      --hover-bg-color: #E2EBFA;\n",
              "      --hover-fill-color: #174EA6;\n",
              "      --disabled-fill-color: #AAA;\n",
              "      --disabled-bg-color: #DDD;\n",
              "  }\n",
              "\n",
              "  [theme=dark] .colab-df-quickchart {\n",
              "      --bg-color: #3B4455;\n",
              "      --fill-color: #D2E3FC;\n",
              "      --hover-bg-color: #434B5C;\n",
              "      --hover-fill-color: #FFFFFF;\n",
              "      --disabled-bg-color: #3B4455;\n",
              "      --disabled-fill-color: #666;\n",
              "  }\n",
              "\n",
              "  .colab-df-quickchart {\n",
              "    background-color: var(--bg-color);\n",
              "    border: none;\n",
              "    border-radius: 50%;\n",
              "    cursor: pointer;\n",
              "    display: none;\n",
              "    fill: var(--fill-color);\n",
              "    height: 32px;\n",
              "    padding: 0;\n",
              "    width: 32px;\n",
              "  }\n",
              "\n",
              "  .colab-df-quickchart:hover {\n",
              "    background-color: var(--hover-bg-color);\n",
              "    box-shadow: 0 1px 2px rgba(60, 64, 67, 0.3), 0 1px 3px 1px rgba(60, 64, 67, 0.15);\n",
              "    fill: var(--button-hover-fill-color);\n",
              "  }\n",
              "\n",
              "  .colab-df-quickchart-complete:disabled,\n",
              "  .colab-df-quickchart-complete:disabled:hover {\n",
              "    background-color: var(--disabled-bg-color);\n",
              "    fill: var(--disabled-fill-color);\n",
              "    box-shadow: none;\n",
              "  }\n",
              "\n",
              "  .colab-df-spinner {\n",
              "    border: 2px solid var(--fill-color);\n",
              "    border-color: transparent;\n",
              "    border-bottom-color: var(--fill-color);\n",
              "    animation:\n",
              "      spin 1s steps(1) infinite;\n",
              "  }\n",
              "\n",
              "  @keyframes spin {\n",
              "    0% {\n",
              "      border-color: transparent;\n",
              "      border-bottom-color: var(--fill-color);\n",
              "      border-left-color: var(--fill-color);\n",
              "    }\n",
              "    20% {\n",
              "      border-color: transparent;\n",
              "      border-left-color: var(--fill-color);\n",
              "      border-top-color: var(--fill-color);\n",
              "    }\n",
              "    30% {\n",
              "      border-color: transparent;\n",
              "      border-left-color: var(--fill-color);\n",
              "      border-top-color: var(--fill-color);\n",
              "      border-right-color: var(--fill-color);\n",
              "    }\n",
              "    40% {\n",
              "      border-color: transparent;\n",
              "      border-right-color: var(--fill-color);\n",
              "      border-top-color: var(--fill-color);\n",
              "    }\n",
              "    60% {\n",
              "      border-color: transparent;\n",
              "      border-right-color: var(--fill-color);\n",
              "    }\n",
              "    80% {\n",
              "      border-color: transparent;\n",
              "      border-right-color: var(--fill-color);\n",
              "      border-bottom-color: var(--fill-color);\n",
              "    }\n",
              "    90% {\n",
              "      border-color: transparent;\n",
              "      border-bottom-color: var(--fill-color);\n",
              "    }\n",
              "  }\n",
              "</style>\n",
              "\n",
              "  <script>\n",
              "    async function quickchart(key) {\n",
              "      const quickchartButtonEl =\n",
              "        document.querySelector('#' + key + ' button');\n",
              "      quickchartButtonEl.disabled = true;  // To prevent multiple clicks.\n",
              "      quickchartButtonEl.classList.add('colab-df-spinner');\n",
              "      try {\n",
              "        const charts = await google.colab.kernel.invokeFunction(\n",
              "            'suggestCharts', [key], {});\n",
              "      } catch (error) {\n",
              "        console.error('Error during call to suggestCharts:', error);\n",
              "      }\n",
              "      quickchartButtonEl.classList.remove('colab-df-spinner');\n",
              "      quickchartButtonEl.classList.add('colab-df-quickchart-complete');\n",
              "    }\n",
              "    (() => {\n",
              "      let quickchartButtonEl =\n",
              "        document.querySelector('#df-b0fbb955-0531-4cc6-a243-f5044eed2f81 button');\n",
              "      quickchartButtonEl.style.display =\n",
              "        google.colab.kernel.accessAllowed ? 'block' : 'none';\n",
              "    })();\n",
              "  </script>\n",
              "</div>\n",
              "\n",
              "  <div id=\"id_160a3911-80ce-4ff3-b1c5-b6cd0a4c0312\">\n",
              "    <style>\n",
              "      .colab-df-generate {\n",
              "        background-color: #E8F0FE;\n",
              "        border: none;\n",
              "        border-radius: 50%;\n",
              "        cursor: pointer;\n",
              "        display: none;\n",
              "        fill: #1967D2;\n",
              "        height: 32px;\n",
              "        padding: 0 0 0 0;\n",
              "        width: 32px;\n",
              "      }\n",
              "\n",
              "      .colab-df-generate:hover {\n",
              "        background-color: #E2EBFA;\n",
              "        box-shadow: 0px 1px 2px rgba(60, 64, 67, 0.3), 0px 1px 3px 1px rgba(60, 64, 67, 0.15);\n",
              "        fill: #174EA6;\n",
              "      }\n",
              "\n",
              "      [theme=dark] .colab-df-generate {\n",
              "        background-color: #3B4455;\n",
              "        fill: #D2E3FC;\n",
              "      }\n",
              "\n",
              "      [theme=dark] .colab-df-generate:hover {\n",
              "        background-color: #434B5C;\n",
              "        box-shadow: 0px 1px 3px 1px rgba(0, 0, 0, 0.15);\n",
              "        filter: drop-shadow(0px 1px 2px rgba(0, 0, 0, 0.3));\n",
              "        fill: #FFFFFF;\n",
              "      }\n",
              "    </style>\n",
              "    <button class=\"colab-df-generate\" onclick=\"generateWithVariable('tokens_stats')\"\n",
              "            title=\"Generate code using this dataframe.\"\n",
              "            style=\"display:none;\">\n",
              "\n",
              "  <svg xmlns=\"http://www.w3.org/2000/svg\" height=\"24px\"viewBox=\"0 0 24 24\"\n",
              "       width=\"24px\">\n",
              "    <path d=\"M7,19H8.4L18.45,9,17,7.55,7,17.6ZM5,21V16.75L18.45,3.32a2,2,0,0,1,2.83,0l1.4,1.43a1.91,1.91,0,0,1,.58,1.4,1.91,1.91,0,0,1-.58,1.4L9.25,21ZM18.45,9,17,7.55Zm-12,3A5.31,5.31,0,0,0,4.9,8.1,5.31,5.31,0,0,0,1,6.5,5.31,5.31,0,0,0,4.9,4.9,5.31,5.31,0,0,0,6.5,1,5.31,5.31,0,0,0,8.1,4.9,5.31,5.31,0,0,0,12,6.5,5.46,5.46,0,0,0,6.5,12Z\"/>\n",
              "  </svg>\n",
              "    </button>\n",
              "    <script>\n",
              "      (() => {\n",
              "      const buttonEl =\n",
              "        document.querySelector('#id_160a3911-80ce-4ff3-b1c5-b6cd0a4c0312 button.colab-df-generate');\n",
              "      buttonEl.style.display =\n",
              "        google.colab.kernel.accessAllowed ? 'block' : 'none';\n",
              "\n",
              "      buttonEl.onclick = () => {\n",
              "        google.colab.notebook.generateWithVariable('tokens_stats');\n",
              "      }\n",
              "      })();\n",
              "    </script>\n",
              "  </div>\n",
              "\n",
              "    </div>\n",
              "  </div>\n"
            ],
            "application/vnd.google.colaboratory.intrinsic+json": {
              "type": "dataframe",
              "variable_name": "tokens_stats",
              "summary": "{\n  \"name\": \"tokens_stats\",\n  \"rows\": 8,\n  \"fields\": [\n    {\n      \"column\": \"index\",\n      \"properties\": {\n        \"dtype\": \"string\",\n        \"num_unique_values\": 8,\n        \"samples\": [\n          \"mean\",\n          \"50%\",\n          \"count\"\n        ],\n        \"semantic_type\": \"\",\n        \"description\": \"\"\n      }\n    },\n    {\n      \"column\": \"Sentence #\",\n      \"properties\": {\n        \"dtype\": \"number\",\n        \"std\": 17284.436658474748,\n        \"min\": 0.0,\n        \"max\": 47959.0,\n        \"num_unique_values\": 7,\n        \"samples\": [\n          47959.0,\n          23979.0,\n          35968.5\n        ],\n        \"semantic_type\": \"\",\n        \"description\": \"\"\n      }\n    },\n    {\n      \"column\": \"Token Count\",\n      \"properties\": {\n        \"dtype\": \"number\",\n        \"std\": 16946.05488169738,\n        \"min\": 1.0,\n        \"max\": 47959.0,\n        \"num_unique_values\": 8,\n        \"samples\": [\n          21.863550115723847,\n          21.0,\n          47959.0\n        ],\n        \"semantic_type\": \"\",\n        \"description\": \"\"\n      }\n    }\n  ]\n}"
            }
          },
          "metadata": {},
          "execution_count": 16
        }
      ]
    },
    {
      "cell_type": "markdown",
      "source": [
        "## Top N Tokens with Most Frequent NER Tags\n"
      ],
      "metadata": {
        "id": "HsLxtSaze8v_"
      }
    },
    {
      "cell_type": "code",
      "source": [
        "top_n = 10\n",
        "top_tokens = df[df['NER'] != 'O']['Token'].value_counts().nlargest(top_n).reset_index()\n",
        "top_tokens.columns = ['Token', 'Count']\n",
        "\n",
        "fig = px.bar(top_tokens, x='Token', y='Count', title=f'Top {top_n} Tokens with Most Frequent NER Tags')\n",
        "fig.show()"
      ],
      "metadata": {
        "colab": {
          "base_uri": "https://localhost:8080/"
        },
        "id": "ffS4L-yHGKBw",
        "outputId": "e090a7a7-82a5-47cf-e711-c4a67a1b9185"
      },
      "execution_count": null,
      "outputs": [
        {
          "output_type": "display_data",
          "data": {
            "text/html": [
              "<html>\n",
              "<head><meta charset=\"utf-8\" /></head>\n",
              "<body>\n",
              "    <div>            <script src=\"https://cdnjs.cloudflare.com/ajax/libs/mathjax/2.7.5/MathJax.js?config=TeX-AMS-MML_SVG\"></script><script type=\"text/javascript\">if (window.MathJax && window.MathJax.Hub && window.MathJax.Hub.Config) {window.MathJax.Hub.Config({SVG: {font: \"STIX-Web\"}});}</script>                <script type=\"text/javascript\">window.PlotlyConfig = {MathJaxConfig: 'local'};</script>\n",
              "        <script charset=\"utf-8\" src=\"https://cdn.plot.ly/plotly-2.24.1.min.js\"></script>                <div id=\"f97fe690-c048-4f51-af24-05be27cbe98d\" class=\"plotly-graph-div\" style=\"height:525px; width:100%;\"></div>            <script type=\"text/javascript\">                                    window.PLOTLYENV=window.PLOTLYENV || {};                                    if (document.getElementById(\"f97fe690-c048-4f51-af24-05be27cbe98d\")) {                    Plotly.newPlot(                        \"f97fe690-c048-4f51-af24-05be27cbe98d\",                        [{\"alignmentgroup\":\"True\",\"hovertemplate\":\"Token=%{x}\\u003cbr\\u003eCount=%{y}\\u003cextra\\u003e\\u003c\\u002fextra\\u003e\",\"legendgroup\":\"\",\"marker\":{\"color\":\"#636efa\",\"pattern\":{\"shape\":\"\"}},\"name\":\"\",\"offsetgroup\":\"\",\"orientation\":\"v\",\"showlegend\":false,\"textposition\":\"auto\",\"x\":[\"U.S.\",\"Mr.\",\"President\",\"United\",\"Iraq\",\"Tuesday\",\"States\",\"Thursday\",\"Iran\",\"Friday\"],\"xaxis\":\"x\",\"y\":[4129,3086,2475,2019,1738,1394,1374,1333,1304,1279],\"yaxis\":\"y\",\"type\":\"bar\"}],                        {\"template\":{\"data\":{\"histogram2dcontour\":[{\"type\":\"histogram2dcontour\",\"colorbar\":{\"outlinewidth\":0,\"ticks\":\"\"},\"colorscale\":[[0.0,\"#0d0887\"],[0.1111111111111111,\"#46039f\"],[0.2222222222222222,\"#7201a8\"],[0.3333333333333333,\"#9c179e\"],[0.4444444444444444,\"#bd3786\"],[0.5555555555555556,\"#d8576b\"],[0.6666666666666666,\"#ed7953\"],[0.7777777777777778,\"#fb9f3a\"],[0.8888888888888888,\"#fdca26\"],[1.0,\"#f0f921\"]]}],\"choropleth\":[{\"type\":\"choropleth\",\"colorbar\":{\"outlinewidth\":0,\"ticks\":\"\"}}],\"histogram2d\":[{\"type\":\"histogram2d\",\"colorbar\":{\"outlinewidth\":0,\"ticks\":\"\"},\"colorscale\":[[0.0,\"#0d0887\"],[0.1111111111111111,\"#46039f\"],[0.2222222222222222,\"#7201a8\"],[0.3333333333333333,\"#9c179e\"],[0.4444444444444444,\"#bd3786\"],[0.5555555555555556,\"#d8576b\"],[0.6666666666666666,\"#ed7953\"],[0.7777777777777778,\"#fb9f3a\"],[0.8888888888888888,\"#fdca26\"],[1.0,\"#f0f921\"]]}],\"heatmap\":[{\"type\":\"heatmap\",\"colorbar\":{\"outlinewidth\":0,\"ticks\":\"\"},\"colorscale\":[[0.0,\"#0d0887\"],[0.1111111111111111,\"#46039f\"],[0.2222222222222222,\"#7201a8\"],[0.3333333333333333,\"#9c179e\"],[0.4444444444444444,\"#bd3786\"],[0.5555555555555556,\"#d8576b\"],[0.6666666666666666,\"#ed7953\"],[0.7777777777777778,\"#fb9f3a\"],[0.8888888888888888,\"#fdca26\"],[1.0,\"#f0f921\"]]}],\"heatmapgl\":[{\"type\":\"heatmapgl\",\"colorbar\":{\"outlinewidth\":0,\"ticks\":\"\"},\"colorscale\":[[0.0,\"#0d0887\"],[0.1111111111111111,\"#46039f\"],[0.2222222222222222,\"#7201a8\"],[0.3333333333333333,\"#9c179e\"],[0.4444444444444444,\"#bd3786\"],[0.5555555555555556,\"#d8576b\"],[0.6666666666666666,\"#ed7953\"],[0.7777777777777778,\"#fb9f3a\"],[0.8888888888888888,\"#fdca26\"],[1.0,\"#f0f921\"]]}],\"contourcarpet\":[{\"type\":\"contourcarpet\",\"colorbar\":{\"outlinewidth\":0,\"ticks\":\"\"}}],\"contour\":[{\"type\":\"contour\",\"colorbar\":{\"outlinewidth\":0,\"ticks\":\"\"},\"colorscale\":[[0.0,\"#0d0887\"],[0.1111111111111111,\"#46039f\"],[0.2222222222222222,\"#7201a8\"],[0.3333333333333333,\"#9c179e\"],[0.4444444444444444,\"#bd3786\"],[0.5555555555555556,\"#d8576b\"],[0.6666666666666666,\"#ed7953\"],[0.7777777777777778,\"#fb9f3a\"],[0.8888888888888888,\"#fdca26\"],[1.0,\"#f0f921\"]]}],\"surface\":[{\"type\":\"surface\",\"colorbar\":{\"outlinewidth\":0,\"ticks\":\"\"},\"colorscale\":[[0.0,\"#0d0887\"],[0.1111111111111111,\"#46039f\"],[0.2222222222222222,\"#7201a8\"],[0.3333333333333333,\"#9c179e\"],[0.4444444444444444,\"#bd3786\"],[0.5555555555555556,\"#d8576b\"],[0.6666666666666666,\"#ed7953\"],[0.7777777777777778,\"#fb9f3a\"],[0.8888888888888888,\"#fdca26\"],[1.0,\"#f0f921\"]]}],\"mesh3d\":[{\"type\":\"mesh3d\",\"colorbar\":{\"outlinewidth\":0,\"ticks\":\"\"}}],\"scatter\":[{\"fillpattern\":{\"fillmode\":\"overlay\",\"size\":10,\"solidity\":0.2},\"type\":\"scatter\"}],\"parcoords\":[{\"type\":\"parcoords\",\"line\":{\"colorbar\":{\"outlinewidth\":0,\"ticks\":\"\"}}}],\"scatterpolargl\":[{\"type\":\"scatterpolargl\",\"marker\":{\"colorbar\":{\"outlinewidth\":0,\"ticks\":\"\"}}}],\"bar\":[{\"error_x\":{\"color\":\"#2a3f5f\"},\"error_y\":{\"color\":\"#2a3f5f\"},\"marker\":{\"line\":{\"color\":\"#E5ECF6\",\"width\":0.5},\"pattern\":{\"fillmode\":\"overlay\",\"size\":10,\"solidity\":0.2}},\"type\":\"bar\"}],\"scattergeo\":[{\"type\":\"scattergeo\",\"marker\":{\"colorbar\":{\"outlinewidth\":0,\"ticks\":\"\"}}}],\"scatterpolar\":[{\"type\":\"scatterpolar\",\"marker\":{\"colorbar\":{\"outlinewidth\":0,\"ticks\":\"\"}}}],\"histogram\":[{\"marker\":{\"pattern\":{\"fillmode\":\"overlay\",\"size\":10,\"solidity\":0.2}},\"type\":\"histogram\"}],\"scattergl\":[{\"type\":\"scattergl\",\"marker\":{\"colorbar\":{\"outlinewidth\":0,\"ticks\":\"\"}}}],\"scatter3d\":[{\"type\":\"scatter3d\",\"line\":{\"colorbar\":{\"outlinewidth\":0,\"ticks\":\"\"}},\"marker\":{\"colorbar\":{\"outlinewidth\":0,\"ticks\":\"\"}}}],\"scattermapbox\":[{\"type\":\"scattermapbox\",\"marker\":{\"colorbar\":{\"outlinewidth\":0,\"ticks\":\"\"}}}],\"scatterternary\":[{\"type\":\"scatterternary\",\"marker\":{\"colorbar\":{\"outlinewidth\":0,\"ticks\":\"\"}}}],\"scattercarpet\":[{\"type\":\"scattercarpet\",\"marker\":{\"colorbar\":{\"outlinewidth\":0,\"ticks\":\"\"}}}],\"carpet\":[{\"aaxis\":{\"endlinecolor\":\"#2a3f5f\",\"gridcolor\":\"white\",\"linecolor\":\"white\",\"minorgridcolor\":\"white\",\"startlinecolor\":\"#2a3f5f\"},\"baxis\":{\"endlinecolor\":\"#2a3f5f\",\"gridcolor\":\"white\",\"linecolor\":\"white\",\"minorgridcolor\":\"white\",\"startlinecolor\":\"#2a3f5f\"},\"type\":\"carpet\"}],\"table\":[{\"cells\":{\"fill\":{\"color\":\"#EBF0F8\"},\"line\":{\"color\":\"white\"}},\"header\":{\"fill\":{\"color\":\"#C8D4E3\"},\"line\":{\"color\":\"white\"}},\"type\":\"table\"}],\"barpolar\":[{\"marker\":{\"line\":{\"color\":\"#E5ECF6\",\"width\":0.5},\"pattern\":{\"fillmode\":\"overlay\",\"size\":10,\"solidity\":0.2}},\"type\":\"barpolar\"}],\"pie\":[{\"automargin\":true,\"type\":\"pie\"}]},\"layout\":{\"autotypenumbers\":\"strict\",\"colorway\":[\"#636efa\",\"#EF553B\",\"#00cc96\",\"#ab63fa\",\"#FFA15A\",\"#19d3f3\",\"#FF6692\",\"#B6E880\",\"#FF97FF\",\"#FECB52\"],\"font\":{\"color\":\"#2a3f5f\"},\"hovermode\":\"closest\",\"hoverlabel\":{\"align\":\"left\"},\"paper_bgcolor\":\"white\",\"plot_bgcolor\":\"#E5ECF6\",\"polar\":{\"bgcolor\":\"#E5ECF6\",\"angularaxis\":{\"gridcolor\":\"white\",\"linecolor\":\"white\",\"ticks\":\"\"},\"radialaxis\":{\"gridcolor\":\"white\",\"linecolor\":\"white\",\"ticks\":\"\"}},\"ternary\":{\"bgcolor\":\"#E5ECF6\",\"aaxis\":{\"gridcolor\":\"white\",\"linecolor\":\"white\",\"ticks\":\"\"},\"baxis\":{\"gridcolor\":\"white\",\"linecolor\":\"white\",\"ticks\":\"\"},\"caxis\":{\"gridcolor\":\"white\",\"linecolor\":\"white\",\"ticks\":\"\"}},\"coloraxis\":{\"colorbar\":{\"outlinewidth\":0,\"ticks\":\"\"}},\"colorscale\":{\"sequential\":[[0.0,\"#0d0887\"],[0.1111111111111111,\"#46039f\"],[0.2222222222222222,\"#7201a8\"],[0.3333333333333333,\"#9c179e\"],[0.4444444444444444,\"#bd3786\"],[0.5555555555555556,\"#d8576b\"],[0.6666666666666666,\"#ed7953\"],[0.7777777777777778,\"#fb9f3a\"],[0.8888888888888888,\"#fdca26\"],[1.0,\"#f0f921\"]],\"sequentialminus\":[[0.0,\"#0d0887\"],[0.1111111111111111,\"#46039f\"],[0.2222222222222222,\"#7201a8\"],[0.3333333333333333,\"#9c179e\"],[0.4444444444444444,\"#bd3786\"],[0.5555555555555556,\"#d8576b\"],[0.6666666666666666,\"#ed7953\"],[0.7777777777777778,\"#fb9f3a\"],[0.8888888888888888,\"#fdca26\"],[1.0,\"#f0f921\"]],\"diverging\":[[0,\"#8e0152\"],[0.1,\"#c51b7d\"],[0.2,\"#de77ae\"],[0.3,\"#f1b6da\"],[0.4,\"#fde0ef\"],[0.5,\"#f7f7f7\"],[0.6,\"#e6f5d0\"],[0.7,\"#b8e186\"],[0.8,\"#7fbc41\"],[0.9,\"#4d9221\"],[1,\"#276419\"]]},\"xaxis\":{\"gridcolor\":\"white\",\"linecolor\":\"white\",\"ticks\":\"\",\"title\":{\"standoff\":15},\"zerolinecolor\":\"white\",\"automargin\":true,\"zerolinewidth\":2},\"yaxis\":{\"gridcolor\":\"white\",\"linecolor\":\"white\",\"ticks\":\"\",\"title\":{\"standoff\":15},\"zerolinecolor\":\"white\",\"automargin\":true,\"zerolinewidth\":2},\"scene\":{\"xaxis\":{\"backgroundcolor\":\"#E5ECF6\",\"gridcolor\":\"white\",\"linecolor\":\"white\",\"showbackground\":true,\"ticks\":\"\",\"zerolinecolor\":\"white\",\"gridwidth\":2},\"yaxis\":{\"backgroundcolor\":\"#E5ECF6\",\"gridcolor\":\"white\",\"linecolor\":\"white\",\"showbackground\":true,\"ticks\":\"\",\"zerolinecolor\":\"white\",\"gridwidth\":2},\"zaxis\":{\"backgroundcolor\":\"#E5ECF6\",\"gridcolor\":\"white\",\"linecolor\":\"white\",\"showbackground\":true,\"ticks\":\"\",\"zerolinecolor\":\"white\",\"gridwidth\":2}},\"shapedefaults\":{\"line\":{\"color\":\"#2a3f5f\"}},\"annotationdefaults\":{\"arrowcolor\":\"#2a3f5f\",\"arrowhead\":0,\"arrowwidth\":1},\"geo\":{\"bgcolor\":\"white\",\"landcolor\":\"#E5ECF6\",\"subunitcolor\":\"white\",\"showland\":true,\"showlakes\":true,\"lakecolor\":\"white\"},\"title\":{\"x\":0.05},\"mapbox\":{\"style\":\"light\"}}},\"xaxis\":{\"anchor\":\"y\",\"domain\":[0.0,1.0],\"title\":{\"text\":\"Token\"}},\"yaxis\":{\"anchor\":\"x\",\"domain\":[0.0,1.0],\"title\":{\"text\":\"Count\"}},\"legend\":{\"tracegroupgap\":0},\"title\":{\"text\":\"Top 10 Tokens with Most Frequent NER Tags\"},\"barmode\":\"relative\"},                        {\"responsive\": true}                    ).then(function(){\n",
              "                            \n",
              "var gd = document.getElementById('f97fe690-c048-4f51-af24-05be27cbe98d');\n",
              "var x = new MutationObserver(function (mutations, observer) {{\n",
              "        var display = window.getComputedStyle(gd).display;\n",
              "        if (!display || display === 'none') {{\n",
              "            console.log([gd, 'removed!']);\n",
              "            Plotly.purge(gd);\n",
              "            observer.disconnect();\n",
              "        }}\n",
              "}});\n",
              "\n",
              "// Listen for the removal of the full notebook cells\n",
              "var notebookContainer = gd.closest('#notebook-container');\n",
              "if (notebookContainer) {{\n",
              "    x.observe(notebookContainer, {childList: true});\n",
              "}}\n",
              "\n",
              "// Listen for the clearing of the current output cell\n",
              "var outputEl = gd.closest('.output');\n",
              "if (outputEl) {{\n",
              "    x.observe(outputEl, {childList: true});\n",
              "}}\n",
              "\n",
              "                        })                };                            </script>        </div>\n",
              "</body>\n",
              "</html>"
            ]
          },
          "metadata": {}
        }
      ]
    },
    {
      "cell_type": "markdown",
      "source": [
        "##  Average Sentence Length by NER Tag"
      ],
      "metadata": {
        "id": "VB8CZnj8e5mA"
      }
    },
    {
      "cell_type": "code",
      "source": [
        "ner_sentence_lengths = df.groupby('NER').apply(lambda x: x.groupby('Sentence #').size().mean()).reset_index()\n",
        "ner_sentence_lengths.columns = ['NER', 'Average Sentence Length']\n",
        "\n",
        "fig = px.bar(ner_sentence_lengths, x='NER', y='Average Sentence Length', title='Average Sentence Length by NER Tag')\n",
        "fig.show()"
      ],
      "metadata": {
        "colab": {
          "base_uri": "https://localhost:8080/"
        },
        "id": "4kfAK_KkHUOS",
        "outputId": "007ccf2e-fd07-4696-e1f7-c6599063e4d8"
      },
      "execution_count": null,
      "outputs": [
        {
          "output_type": "display_data",
          "data": {
            "text/html": [
              "<html>\n",
              "<head><meta charset=\"utf-8\" /></head>\n",
              "<body>\n",
              "    <div>            <script src=\"https://cdnjs.cloudflare.com/ajax/libs/mathjax/2.7.5/MathJax.js?config=TeX-AMS-MML_SVG\"></script><script type=\"text/javascript\">if (window.MathJax && window.MathJax.Hub && window.MathJax.Hub.Config) {window.MathJax.Hub.Config({SVG: {font: \"STIX-Web\"}});}</script>                <script type=\"text/javascript\">window.PlotlyConfig = {MathJaxConfig: 'local'};</script>\n",
              "        <script charset=\"utf-8\" src=\"https://cdn.plot.ly/plotly-2.24.1.min.js\"></script>                <div id=\"ff5daec3-5fc1-4930-8b6e-a2be8d157bf5\" class=\"plotly-graph-div\" style=\"height:525px; width:100%;\"></div>            <script type=\"text/javascript\">                                    window.PLOTLYENV=window.PLOTLYENV || {};                                    if (document.getElementById(\"ff5daec3-5fc1-4930-8b6e-a2be8d157bf5\")) {                    Plotly.newPlot(                        \"ff5daec3-5fc1-4930-8b6e-a2be8d157bf5\",                        [{\"alignmentgroup\":\"True\",\"hovertemplate\":\"NER=%{x}\\u003cbr\\u003eAverage Sentence Length=%{y}\\u003cextra\\u003e\\u003c\\u002fextra\\u003e\",\"legendgroup\":\"\",\"marker\":{\"color\":\"#636efa\",\"pattern\":{\"shape\":\"\"}},\"name\":\"\",\"offsetgroup\":\"\",\"orientation\":\"v\",\"showlegend\":false,\"textposition\":\"auto\",\"x\":[\"B-art\",\"B-eve\",\"B-geo\",\"B-gpe\",\"B-nat\",\"B-org\",\"B-per\",\"B-tim\",\"I-art\",\"I-eve\",\"I-geo\",\"I-gpe\",\"I-nat\",\"I-org\",\"I-per\",\"I-tim\",\"O\"],\"xaxis\":\"x\",\"y\":[1.1754385964912282,1.080701754385965,1.5420916799803368,1.2369446609508963,1.1166666666666667,1.2781902404974934,1.257400828892836,1.1781782361803221,1.7891566265060241,1.5714285714285714,1.2276867030965393,1.1123595505617978,1.186046511627907,1.9793607736761412,1.616927547099072,1.535764705882353,18.516589852140726],\"yaxis\":\"y\",\"type\":\"bar\"}],                        {\"template\":{\"data\":{\"histogram2dcontour\":[{\"type\":\"histogram2dcontour\",\"colorbar\":{\"outlinewidth\":0,\"ticks\":\"\"},\"colorscale\":[[0.0,\"#0d0887\"],[0.1111111111111111,\"#46039f\"],[0.2222222222222222,\"#7201a8\"],[0.3333333333333333,\"#9c179e\"],[0.4444444444444444,\"#bd3786\"],[0.5555555555555556,\"#d8576b\"],[0.6666666666666666,\"#ed7953\"],[0.7777777777777778,\"#fb9f3a\"],[0.8888888888888888,\"#fdca26\"],[1.0,\"#f0f921\"]]}],\"choropleth\":[{\"type\":\"choropleth\",\"colorbar\":{\"outlinewidth\":0,\"ticks\":\"\"}}],\"histogram2d\":[{\"type\":\"histogram2d\",\"colorbar\":{\"outlinewidth\":0,\"ticks\":\"\"},\"colorscale\":[[0.0,\"#0d0887\"],[0.1111111111111111,\"#46039f\"],[0.2222222222222222,\"#7201a8\"],[0.3333333333333333,\"#9c179e\"],[0.4444444444444444,\"#bd3786\"],[0.5555555555555556,\"#d8576b\"],[0.6666666666666666,\"#ed7953\"],[0.7777777777777778,\"#fb9f3a\"],[0.8888888888888888,\"#fdca26\"],[1.0,\"#f0f921\"]]}],\"heatmap\":[{\"type\":\"heatmap\",\"colorbar\":{\"outlinewidth\":0,\"ticks\":\"\"},\"colorscale\":[[0.0,\"#0d0887\"],[0.1111111111111111,\"#46039f\"],[0.2222222222222222,\"#7201a8\"],[0.3333333333333333,\"#9c179e\"],[0.4444444444444444,\"#bd3786\"],[0.5555555555555556,\"#d8576b\"],[0.6666666666666666,\"#ed7953\"],[0.7777777777777778,\"#fb9f3a\"],[0.8888888888888888,\"#fdca26\"],[1.0,\"#f0f921\"]]}],\"heatmapgl\":[{\"type\":\"heatmapgl\",\"colorbar\":{\"outlinewidth\":0,\"ticks\":\"\"},\"colorscale\":[[0.0,\"#0d0887\"],[0.1111111111111111,\"#46039f\"],[0.2222222222222222,\"#7201a8\"],[0.3333333333333333,\"#9c179e\"],[0.4444444444444444,\"#bd3786\"],[0.5555555555555556,\"#d8576b\"],[0.6666666666666666,\"#ed7953\"],[0.7777777777777778,\"#fb9f3a\"],[0.8888888888888888,\"#fdca26\"],[1.0,\"#f0f921\"]]}],\"contourcarpet\":[{\"type\":\"contourcarpet\",\"colorbar\":{\"outlinewidth\":0,\"ticks\":\"\"}}],\"contour\":[{\"type\":\"contour\",\"colorbar\":{\"outlinewidth\":0,\"ticks\":\"\"},\"colorscale\":[[0.0,\"#0d0887\"],[0.1111111111111111,\"#46039f\"],[0.2222222222222222,\"#7201a8\"],[0.3333333333333333,\"#9c179e\"],[0.4444444444444444,\"#bd3786\"],[0.5555555555555556,\"#d8576b\"],[0.6666666666666666,\"#ed7953\"],[0.7777777777777778,\"#fb9f3a\"],[0.8888888888888888,\"#fdca26\"],[1.0,\"#f0f921\"]]}],\"surface\":[{\"type\":\"surface\",\"colorbar\":{\"outlinewidth\":0,\"ticks\":\"\"},\"colorscale\":[[0.0,\"#0d0887\"],[0.1111111111111111,\"#46039f\"],[0.2222222222222222,\"#7201a8\"],[0.3333333333333333,\"#9c179e\"],[0.4444444444444444,\"#bd3786\"],[0.5555555555555556,\"#d8576b\"],[0.6666666666666666,\"#ed7953\"],[0.7777777777777778,\"#fb9f3a\"],[0.8888888888888888,\"#fdca26\"],[1.0,\"#f0f921\"]]}],\"mesh3d\":[{\"type\":\"mesh3d\",\"colorbar\":{\"outlinewidth\":0,\"ticks\":\"\"}}],\"scatter\":[{\"fillpattern\":{\"fillmode\":\"overlay\",\"size\":10,\"solidity\":0.2},\"type\":\"scatter\"}],\"parcoords\":[{\"type\":\"parcoords\",\"line\":{\"colorbar\":{\"outlinewidth\":0,\"ticks\":\"\"}}}],\"scatterpolargl\":[{\"type\":\"scatterpolargl\",\"marker\":{\"colorbar\":{\"outlinewidth\":0,\"ticks\":\"\"}}}],\"bar\":[{\"error_x\":{\"color\":\"#2a3f5f\"},\"error_y\":{\"color\":\"#2a3f5f\"},\"marker\":{\"line\":{\"color\":\"#E5ECF6\",\"width\":0.5},\"pattern\":{\"fillmode\":\"overlay\",\"size\":10,\"solidity\":0.2}},\"type\":\"bar\"}],\"scattergeo\":[{\"type\":\"scattergeo\",\"marker\":{\"colorbar\":{\"outlinewidth\":0,\"ticks\":\"\"}}}],\"scatterpolar\":[{\"type\":\"scatterpolar\",\"marker\":{\"colorbar\":{\"outlinewidth\":0,\"ticks\":\"\"}}}],\"histogram\":[{\"marker\":{\"pattern\":{\"fillmode\":\"overlay\",\"size\":10,\"solidity\":0.2}},\"type\":\"histogram\"}],\"scattergl\":[{\"type\":\"scattergl\",\"marker\":{\"colorbar\":{\"outlinewidth\":0,\"ticks\":\"\"}}}],\"scatter3d\":[{\"type\":\"scatter3d\",\"line\":{\"colorbar\":{\"outlinewidth\":0,\"ticks\":\"\"}},\"marker\":{\"colorbar\":{\"outlinewidth\":0,\"ticks\":\"\"}}}],\"scattermapbox\":[{\"type\":\"scattermapbox\",\"marker\":{\"colorbar\":{\"outlinewidth\":0,\"ticks\":\"\"}}}],\"scatterternary\":[{\"type\":\"scatterternary\",\"marker\":{\"colorbar\":{\"outlinewidth\":0,\"ticks\":\"\"}}}],\"scattercarpet\":[{\"type\":\"scattercarpet\",\"marker\":{\"colorbar\":{\"outlinewidth\":0,\"ticks\":\"\"}}}],\"carpet\":[{\"aaxis\":{\"endlinecolor\":\"#2a3f5f\",\"gridcolor\":\"white\",\"linecolor\":\"white\",\"minorgridcolor\":\"white\",\"startlinecolor\":\"#2a3f5f\"},\"baxis\":{\"endlinecolor\":\"#2a3f5f\",\"gridcolor\":\"white\",\"linecolor\":\"white\",\"minorgridcolor\":\"white\",\"startlinecolor\":\"#2a3f5f\"},\"type\":\"carpet\"}],\"table\":[{\"cells\":{\"fill\":{\"color\":\"#EBF0F8\"},\"line\":{\"color\":\"white\"}},\"header\":{\"fill\":{\"color\":\"#C8D4E3\"},\"line\":{\"color\":\"white\"}},\"type\":\"table\"}],\"barpolar\":[{\"marker\":{\"line\":{\"color\":\"#E5ECF6\",\"width\":0.5},\"pattern\":{\"fillmode\":\"overlay\",\"size\":10,\"solidity\":0.2}},\"type\":\"barpolar\"}],\"pie\":[{\"automargin\":true,\"type\":\"pie\"}]},\"layout\":{\"autotypenumbers\":\"strict\",\"colorway\":[\"#636efa\",\"#EF553B\",\"#00cc96\",\"#ab63fa\",\"#FFA15A\",\"#19d3f3\",\"#FF6692\",\"#B6E880\",\"#FF97FF\",\"#FECB52\"],\"font\":{\"color\":\"#2a3f5f\"},\"hovermode\":\"closest\",\"hoverlabel\":{\"align\":\"left\"},\"paper_bgcolor\":\"white\",\"plot_bgcolor\":\"#E5ECF6\",\"polar\":{\"bgcolor\":\"#E5ECF6\",\"angularaxis\":{\"gridcolor\":\"white\",\"linecolor\":\"white\",\"ticks\":\"\"},\"radialaxis\":{\"gridcolor\":\"white\",\"linecolor\":\"white\",\"ticks\":\"\"}},\"ternary\":{\"bgcolor\":\"#E5ECF6\",\"aaxis\":{\"gridcolor\":\"white\",\"linecolor\":\"white\",\"ticks\":\"\"},\"baxis\":{\"gridcolor\":\"white\",\"linecolor\":\"white\",\"ticks\":\"\"},\"caxis\":{\"gridcolor\":\"white\",\"linecolor\":\"white\",\"ticks\":\"\"}},\"coloraxis\":{\"colorbar\":{\"outlinewidth\":0,\"ticks\":\"\"}},\"colorscale\":{\"sequential\":[[0.0,\"#0d0887\"],[0.1111111111111111,\"#46039f\"],[0.2222222222222222,\"#7201a8\"],[0.3333333333333333,\"#9c179e\"],[0.4444444444444444,\"#bd3786\"],[0.5555555555555556,\"#d8576b\"],[0.6666666666666666,\"#ed7953\"],[0.7777777777777778,\"#fb9f3a\"],[0.8888888888888888,\"#fdca26\"],[1.0,\"#f0f921\"]],\"sequentialminus\":[[0.0,\"#0d0887\"],[0.1111111111111111,\"#46039f\"],[0.2222222222222222,\"#7201a8\"],[0.3333333333333333,\"#9c179e\"],[0.4444444444444444,\"#bd3786\"],[0.5555555555555556,\"#d8576b\"],[0.6666666666666666,\"#ed7953\"],[0.7777777777777778,\"#fb9f3a\"],[0.8888888888888888,\"#fdca26\"],[1.0,\"#f0f921\"]],\"diverging\":[[0,\"#8e0152\"],[0.1,\"#c51b7d\"],[0.2,\"#de77ae\"],[0.3,\"#f1b6da\"],[0.4,\"#fde0ef\"],[0.5,\"#f7f7f7\"],[0.6,\"#e6f5d0\"],[0.7,\"#b8e186\"],[0.8,\"#7fbc41\"],[0.9,\"#4d9221\"],[1,\"#276419\"]]},\"xaxis\":{\"gridcolor\":\"white\",\"linecolor\":\"white\",\"ticks\":\"\",\"title\":{\"standoff\":15},\"zerolinecolor\":\"white\",\"automargin\":true,\"zerolinewidth\":2},\"yaxis\":{\"gridcolor\":\"white\",\"linecolor\":\"white\",\"ticks\":\"\",\"title\":{\"standoff\":15},\"zerolinecolor\":\"white\",\"automargin\":true,\"zerolinewidth\":2},\"scene\":{\"xaxis\":{\"backgroundcolor\":\"#E5ECF6\",\"gridcolor\":\"white\",\"linecolor\":\"white\",\"showbackground\":true,\"ticks\":\"\",\"zerolinecolor\":\"white\",\"gridwidth\":2},\"yaxis\":{\"backgroundcolor\":\"#E5ECF6\",\"gridcolor\":\"white\",\"linecolor\":\"white\",\"showbackground\":true,\"ticks\":\"\",\"zerolinecolor\":\"white\",\"gridwidth\":2},\"zaxis\":{\"backgroundcolor\":\"#E5ECF6\",\"gridcolor\":\"white\",\"linecolor\":\"white\",\"showbackground\":true,\"ticks\":\"\",\"zerolinecolor\":\"white\",\"gridwidth\":2}},\"shapedefaults\":{\"line\":{\"color\":\"#2a3f5f\"}},\"annotationdefaults\":{\"arrowcolor\":\"#2a3f5f\",\"arrowhead\":0,\"arrowwidth\":1},\"geo\":{\"bgcolor\":\"white\",\"landcolor\":\"#E5ECF6\",\"subunitcolor\":\"white\",\"showland\":true,\"showlakes\":true,\"lakecolor\":\"white\"},\"title\":{\"x\":0.05},\"mapbox\":{\"style\":\"light\"}}},\"xaxis\":{\"anchor\":\"y\",\"domain\":[0.0,1.0],\"title\":{\"text\":\"NER\"}},\"yaxis\":{\"anchor\":\"x\",\"domain\":[0.0,1.0],\"title\":{\"text\":\"Average Sentence Length\"}},\"legend\":{\"tracegroupgap\":0},\"title\":{\"text\":\"Average Sentence Length by NER Tag\"},\"barmode\":\"relative\"},                        {\"responsive\": true}                    ).then(function(){\n",
              "                            \n",
              "var gd = document.getElementById('ff5daec3-5fc1-4930-8b6e-a2be8d157bf5');\n",
              "var x = new MutationObserver(function (mutations, observer) {{\n",
              "        var display = window.getComputedStyle(gd).display;\n",
              "        if (!display || display === 'none') {{\n",
              "            console.log([gd, 'removed!']);\n",
              "            Plotly.purge(gd);\n",
              "            observer.disconnect();\n",
              "        }}\n",
              "}});\n",
              "\n",
              "// Listen for the removal of the full notebook cells\n",
              "var notebookContainer = gd.closest('#notebook-container');\n",
              "if (notebookContainer) {{\n",
              "    x.observe(notebookContainer, {childList: true});\n",
              "}}\n",
              "\n",
              "// Listen for the clearing of the current output cell\n",
              "var outputEl = gd.closest('.output');\n",
              "if (outputEl) {{\n",
              "    x.observe(outputEl, {childList: true});\n",
              "}}\n",
              "\n",
              "                        })                };                            </script>        </div>\n",
              "</body>\n",
              "</html>"
            ]
          },
          "metadata": {}
        }
      ]
    },
    {
      "cell_type": "markdown",
      "source": [
        "## Unique Tokens and Their Frequency"
      ],
      "metadata": {
        "id": "a3PPWWFKf9wR"
      }
    },
    {
      "cell_type": "code",
      "source": [
        "\n",
        "unique_tokens = df['Token'].value_counts().reset_index()\n",
        "unique_tokens.columns = ['Token', 'Count']\n",
        "\n",
        "fig = px.bar(unique_tokens.head(20), x='Token', y='Count', title='Top 20 Unique Tokens by Frequency')\n",
        "fig.show()"
      ],
      "metadata": {
        "colab": {
          "base_uri": "https://localhost:8080/"
        },
        "id": "q86TQh3bHhe8",
        "outputId": "74549c32-4764-42d4-d604-4bc35c032dfb"
      },
      "execution_count": null,
      "outputs": [
        {
          "output_type": "display_data",
          "data": {
            "text/html": [
              "<html>\n",
              "<head><meta charset=\"utf-8\" /></head>\n",
              "<body>\n",
              "    <div>            <script src=\"https://cdnjs.cloudflare.com/ajax/libs/mathjax/2.7.5/MathJax.js?config=TeX-AMS-MML_SVG\"></script><script type=\"text/javascript\">if (window.MathJax && window.MathJax.Hub && window.MathJax.Hub.Config) {window.MathJax.Hub.Config({SVG: {font: \"STIX-Web\"}});}</script>                <script type=\"text/javascript\">window.PlotlyConfig = {MathJaxConfig: 'local'};</script>\n",
              "        <script charset=\"utf-8\" src=\"https://cdn.plot.ly/plotly-2.24.1.min.js\"></script>                <div id=\"a356ca25-be10-43dd-9f0a-c620904c3b80\" class=\"plotly-graph-div\" style=\"height:525px; width:100%;\"></div>            <script type=\"text/javascript\">                                    window.PLOTLYENV=window.PLOTLYENV || {};                                    if (document.getElementById(\"a356ca25-be10-43dd-9f0a-c620904c3b80\")) {                    Plotly.newPlot(                        \"a356ca25-be10-43dd-9f0a-c620904c3b80\",                        [{\"alignmentgroup\":\"True\",\"hovertemplate\":\"Token=%{x}\\u003cbr\\u003eCount=%{y}\\u003cextra\\u003e\\u003c\\u002fextra\\u003e\",\"legendgroup\":\"\",\"marker\":{\"color\":\"#636efa\",\"pattern\":{\"shape\":\"\"}},\"name\":\"\",\"offsetgroup\":\"\",\"orientation\":\"v\",\"showlegend\":false,\"textposition\":\"auto\",\"x\":[\"the\",\".\",\",\",\"of\",\"in\",\"to\",\"a\",\"and\",\"The\",\"'s\",\"for\",\"has\",\"is\",\"on\",\"that\",\"have\",\"with\",\"said\",\"was\",\"says\"],\"xaxis\":\"x\",\"y\":[52573,47761,32754,26354,26323,23213,20481,19936,11313,10923,8498,7216,6746,6710,6301,5485,5381,5321,4878,4640],\"yaxis\":\"y\",\"type\":\"bar\"}],                        {\"template\":{\"data\":{\"histogram2dcontour\":[{\"type\":\"histogram2dcontour\",\"colorbar\":{\"outlinewidth\":0,\"ticks\":\"\"},\"colorscale\":[[0.0,\"#0d0887\"],[0.1111111111111111,\"#46039f\"],[0.2222222222222222,\"#7201a8\"],[0.3333333333333333,\"#9c179e\"],[0.4444444444444444,\"#bd3786\"],[0.5555555555555556,\"#d8576b\"],[0.6666666666666666,\"#ed7953\"],[0.7777777777777778,\"#fb9f3a\"],[0.8888888888888888,\"#fdca26\"],[1.0,\"#f0f921\"]]}],\"choropleth\":[{\"type\":\"choropleth\",\"colorbar\":{\"outlinewidth\":0,\"ticks\":\"\"}}],\"histogram2d\":[{\"type\":\"histogram2d\",\"colorbar\":{\"outlinewidth\":0,\"ticks\":\"\"},\"colorscale\":[[0.0,\"#0d0887\"],[0.1111111111111111,\"#46039f\"],[0.2222222222222222,\"#7201a8\"],[0.3333333333333333,\"#9c179e\"],[0.4444444444444444,\"#bd3786\"],[0.5555555555555556,\"#d8576b\"],[0.6666666666666666,\"#ed7953\"],[0.7777777777777778,\"#fb9f3a\"],[0.8888888888888888,\"#fdca26\"],[1.0,\"#f0f921\"]]}],\"heatmap\":[{\"type\":\"heatmap\",\"colorbar\":{\"outlinewidth\":0,\"ticks\":\"\"},\"colorscale\":[[0.0,\"#0d0887\"],[0.1111111111111111,\"#46039f\"],[0.2222222222222222,\"#7201a8\"],[0.3333333333333333,\"#9c179e\"],[0.4444444444444444,\"#bd3786\"],[0.5555555555555556,\"#d8576b\"],[0.6666666666666666,\"#ed7953\"],[0.7777777777777778,\"#fb9f3a\"],[0.8888888888888888,\"#fdca26\"],[1.0,\"#f0f921\"]]}],\"heatmapgl\":[{\"type\":\"heatmapgl\",\"colorbar\":{\"outlinewidth\":0,\"ticks\":\"\"},\"colorscale\":[[0.0,\"#0d0887\"],[0.1111111111111111,\"#46039f\"],[0.2222222222222222,\"#7201a8\"],[0.3333333333333333,\"#9c179e\"],[0.4444444444444444,\"#bd3786\"],[0.5555555555555556,\"#d8576b\"],[0.6666666666666666,\"#ed7953\"],[0.7777777777777778,\"#fb9f3a\"],[0.8888888888888888,\"#fdca26\"],[1.0,\"#f0f921\"]]}],\"contourcarpet\":[{\"type\":\"contourcarpet\",\"colorbar\":{\"outlinewidth\":0,\"ticks\":\"\"}}],\"contour\":[{\"type\":\"contour\",\"colorbar\":{\"outlinewidth\":0,\"ticks\":\"\"},\"colorscale\":[[0.0,\"#0d0887\"],[0.1111111111111111,\"#46039f\"],[0.2222222222222222,\"#7201a8\"],[0.3333333333333333,\"#9c179e\"],[0.4444444444444444,\"#bd3786\"],[0.5555555555555556,\"#d8576b\"],[0.6666666666666666,\"#ed7953\"],[0.7777777777777778,\"#fb9f3a\"],[0.8888888888888888,\"#fdca26\"],[1.0,\"#f0f921\"]]}],\"surface\":[{\"type\":\"surface\",\"colorbar\":{\"outlinewidth\":0,\"ticks\":\"\"},\"colorscale\":[[0.0,\"#0d0887\"],[0.1111111111111111,\"#46039f\"],[0.2222222222222222,\"#7201a8\"],[0.3333333333333333,\"#9c179e\"],[0.4444444444444444,\"#bd3786\"],[0.5555555555555556,\"#d8576b\"],[0.6666666666666666,\"#ed7953\"],[0.7777777777777778,\"#fb9f3a\"],[0.8888888888888888,\"#fdca26\"],[1.0,\"#f0f921\"]]}],\"mesh3d\":[{\"type\":\"mesh3d\",\"colorbar\":{\"outlinewidth\":0,\"ticks\":\"\"}}],\"scatter\":[{\"fillpattern\":{\"fillmode\":\"overlay\",\"size\":10,\"solidity\":0.2},\"type\":\"scatter\"}],\"parcoords\":[{\"type\":\"parcoords\",\"line\":{\"colorbar\":{\"outlinewidth\":0,\"ticks\":\"\"}}}],\"scatterpolargl\":[{\"type\":\"scatterpolargl\",\"marker\":{\"colorbar\":{\"outlinewidth\":0,\"ticks\":\"\"}}}],\"bar\":[{\"error_x\":{\"color\":\"#2a3f5f\"},\"error_y\":{\"color\":\"#2a3f5f\"},\"marker\":{\"line\":{\"color\":\"#E5ECF6\",\"width\":0.5},\"pattern\":{\"fillmode\":\"overlay\",\"size\":10,\"solidity\":0.2}},\"type\":\"bar\"}],\"scattergeo\":[{\"type\":\"scattergeo\",\"marker\":{\"colorbar\":{\"outlinewidth\":0,\"ticks\":\"\"}}}],\"scatterpolar\":[{\"type\":\"scatterpolar\",\"marker\":{\"colorbar\":{\"outlinewidth\":0,\"ticks\":\"\"}}}],\"histogram\":[{\"marker\":{\"pattern\":{\"fillmode\":\"overlay\",\"size\":10,\"solidity\":0.2}},\"type\":\"histogram\"}],\"scattergl\":[{\"type\":\"scattergl\",\"marker\":{\"colorbar\":{\"outlinewidth\":0,\"ticks\":\"\"}}}],\"scatter3d\":[{\"type\":\"scatter3d\",\"line\":{\"colorbar\":{\"outlinewidth\":0,\"ticks\":\"\"}},\"marker\":{\"colorbar\":{\"outlinewidth\":0,\"ticks\":\"\"}}}],\"scattermapbox\":[{\"type\":\"scattermapbox\",\"marker\":{\"colorbar\":{\"outlinewidth\":0,\"ticks\":\"\"}}}],\"scatterternary\":[{\"type\":\"scatterternary\",\"marker\":{\"colorbar\":{\"outlinewidth\":0,\"ticks\":\"\"}}}],\"scattercarpet\":[{\"type\":\"scattercarpet\",\"marker\":{\"colorbar\":{\"outlinewidth\":0,\"ticks\":\"\"}}}],\"carpet\":[{\"aaxis\":{\"endlinecolor\":\"#2a3f5f\",\"gridcolor\":\"white\",\"linecolor\":\"white\",\"minorgridcolor\":\"white\",\"startlinecolor\":\"#2a3f5f\"},\"baxis\":{\"endlinecolor\":\"#2a3f5f\",\"gridcolor\":\"white\",\"linecolor\":\"white\",\"minorgridcolor\":\"white\",\"startlinecolor\":\"#2a3f5f\"},\"type\":\"carpet\"}],\"table\":[{\"cells\":{\"fill\":{\"color\":\"#EBF0F8\"},\"line\":{\"color\":\"white\"}},\"header\":{\"fill\":{\"color\":\"#C8D4E3\"},\"line\":{\"color\":\"white\"}},\"type\":\"table\"}],\"barpolar\":[{\"marker\":{\"line\":{\"color\":\"#E5ECF6\",\"width\":0.5},\"pattern\":{\"fillmode\":\"overlay\",\"size\":10,\"solidity\":0.2}},\"type\":\"barpolar\"}],\"pie\":[{\"automargin\":true,\"type\":\"pie\"}]},\"layout\":{\"autotypenumbers\":\"strict\",\"colorway\":[\"#636efa\",\"#EF553B\",\"#00cc96\",\"#ab63fa\",\"#FFA15A\",\"#19d3f3\",\"#FF6692\",\"#B6E880\",\"#FF97FF\",\"#FECB52\"],\"font\":{\"color\":\"#2a3f5f\"},\"hovermode\":\"closest\",\"hoverlabel\":{\"align\":\"left\"},\"paper_bgcolor\":\"white\",\"plot_bgcolor\":\"#E5ECF6\",\"polar\":{\"bgcolor\":\"#E5ECF6\",\"angularaxis\":{\"gridcolor\":\"white\",\"linecolor\":\"white\",\"ticks\":\"\"},\"radialaxis\":{\"gridcolor\":\"white\",\"linecolor\":\"white\",\"ticks\":\"\"}},\"ternary\":{\"bgcolor\":\"#E5ECF6\",\"aaxis\":{\"gridcolor\":\"white\",\"linecolor\":\"white\",\"ticks\":\"\"},\"baxis\":{\"gridcolor\":\"white\",\"linecolor\":\"white\",\"ticks\":\"\"},\"caxis\":{\"gridcolor\":\"white\",\"linecolor\":\"white\",\"ticks\":\"\"}},\"coloraxis\":{\"colorbar\":{\"outlinewidth\":0,\"ticks\":\"\"}},\"colorscale\":{\"sequential\":[[0.0,\"#0d0887\"],[0.1111111111111111,\"#46039f\"],[0.2222222222222222,\"#7201a8\"],[0.3333333333333333,\"#9c179e\"],[0.4444444444444444,\"#bd3786\"],[0.5555555555555556,\"#d8576b\"],[0.6666666666666666,\"#ed7953\"],[0.7777777777777778,\"#fb9f3a\"],[0.8888888888888888,\"#fdca26\"],[1.0,\"#f0f921\"]],\"sequentialminus\":[[0.0,\"#0d0887\"],[0.1111111111111111,\"#46039f\"],[0.2222222222222222,\"#7201a8\"],[0.3333333333333333,\"#9c179e\"],[0.4444444444444444,\"#bd3786\"],[0.5555555555555556,\"#d8576b\"],[0.6666666666666666,\"#ed7953\"],[0.7777777777777778,\"#fb9f3a\"],[0.8888888888888888,\"#fdca26\"],[1.0,\"#f0f921\"]],\"diverging\":[[0,\"#8e0152\"],[0.1,\"#c51b7d\"],[0.2,\"#de77ae\"],[0.3,\"#f1b6da\"],[0.4,\"#fde0ef\"],[0.5,\"#f7f7f7\"],[0.6,\"#e6f5d0\"],[0.7,\"#b8e186\"],[0.8,\"#7fbc41\"],[0.9,\"#4d9221\"],[1,\"#276419\"]]},\"xaxis\":{\"gridcolor\":\"white\",\"linecolor\":\"white\",\"ticks\":\"\",\"title\":{\"standoff\":15},\"zerolinecolor\":\"white\",\"automargin\":true,\"zerolinewidth\":2},\"yaxis\":{\"gridcolor\":\"white\",\"linecolor\":\"white\",\"ticks\":\"\",\"title\":{\"standoff\":15},\"zerolinecolor\":\"white\",\"automargin\":true,\"zerolinewidth\":2},\"scene\":{\"xaxis\":{\"backgroundcolor\":\"#E5ECF6\",\"gridcolor\":\"white\",\"linecolor\":\"white\",\"showbackground\":true,\"ticks\":\"\",\"zerolinecolor\":\"white\",\"gridwidth\":2},\"yaxis\":{\"backgroundcolor\":\"#E5ECF6\",\"gridcolor\":\"white\",\"linecolor\":\"white\",\"showbackground\":true,\"ticks\":\"\",\"zerolinecolor\":\"white\",\"gridwidth\":2},\"zaxis\":{\"backgroundcolor\":\"#E5ECF6\",\"gridcolor\":\"white\",\"linecolor\":\"white\",\"showbackground\":true,\"ticks\":\"\",\"zerolinecolor\":\"white\",\"gridwidth\":2}},\"shapedefaults\":{\"line\":{\"color\":\"#2a3f5f\"}},\"annotationdefaults\":{\"arrowcolor\":\"#2a3f5f\",\"arrowhead\":0,\"arrowwidth\":1},\"geo\":{\"bgcolor\":\"white\",\"landcolor\":\"#E5ECF6\",\"subunitcolor\":\"white\",\"showland\":true,\"showlakes\":true,\"lakecolor\":\"white\"},\"title\":{\"x\":0.05},\"mapbox\":{\"style\":\"light\"}}},\"xaxis\":{\"anchor\":\"y\",\"domain\":[0.0,1.0],\"title\":{\"text\":\"Token\"}},\"yaxis\":{\"anchor\":\"x\",\"domain\":[0.0,1.0],\"title\":{\"text\":\"Count\"}},\"legend\":{\"tracegroupgap\":0},\"title\":{\"text\":\"Top 20 Unique Tokens by Frequency\"},\"barmode\":\"relative\"},                        {\"responsive\": true}                    ).then(function(){\n",
              "                            \n",
              "var gd = document.getElementById('a356ca25-be10-43dd-9f0a-c620904c3b80');\n",
              "var x = new MutationObserver(function (mutations, observer) {{\n",
              "        var display = window.getComputedStyle(gd).display;\n",
              "        if (!display || display === 'none') {{\n",
              "            console.log([gd, 'removed!']);\n",
              "            Plotly.purge(gd);\n",
              "            observer.disconnect();\n",
              "        }}\n",
              "}});\n",
              "\n",
              "// Listen for the removal of the full notebook cells\n",
              "var notebookContainer = gd.closest('#notebook-container');\n",
              "if (notebookContainer) {{\n",
              "    x.observe(notebookContainer, {childList: true});\n",
              "}}\n",
              "\n",
              "// Listen for the clearing of the current output cell\n",
              "var outputEl = gd.closest('.output');\n",
              "if (outputEl) {{\n",
              "    x.observe(outputEl, {childList: true});\n",
              "}}\n",
              "\n",
              "                        })                };                            </script>        </div>\n",
              "</body>\n",
              "</html>"
            ]
          },
          "metadata": {}
        }
      ]
    },
    {
      "cell_type": "code",
      "source": [
        "def create_cooccurrence_matrix(df):\n",
        "    cooccurrence = Counter()\n",
        "    for sentence in df.groupby('Sentence #'):\n",
        "        tokens = sentence[1]['NER'].values\n",
        "        pairs = combinations(tokens, 2)\n",
        "        for pair in pairs:\n",
        "            if pair[0] != 'O' and pair[1] != 'O':\n",
        "                cooccurrence[pair] += 1\n",
        "    return cooccurrence"
      ],
      "metadata": {
        "id": "7cfzZkV8HwYo"
      },
      "execution_count": null,
      "outputs": []
    },
    {
      "cell_type": "markdown",
      "source": [
        "## Co-occurrence of NER Tags"
      ],
      "metadata": {
        "id": "bWao73IcglvR"
      }
    },
    {
      "cell_type": "code",
      "source": [
        "cooccurrence_matrix = create_cooccurrence_matrix(df)\n",
        "\n",
        "# Convert to DataFrame for Plotly\n",
        "cooccurrence_df = pd.DataFrame(list(cooccurrence_matrix.items()), columns=['Pair', 'Count'])\n",
        "cooccurrence_df['NER1'] = cooccurrence_df['Pair'].apply(lambda x: x[0])\n",
        "cooccurrence_df['NER2'] = cooccurrence_df['Pair'].apply(lambda x: x[1])\n",
        "\n",
        "fig = px.imshow(pd.pivot_table(cooccurrence_df, values='Count', index='NER1', columns='NER2', fill_value=0),\n",
        "                title='NER Tag Co-occurrence Matrix')\n",
        "fig.show()"
      ],
      "metadata": {
        "colab": {
          "base_uri": "https://localhost:8080/"
        },
        "id": "q6RiE7iCJGKU",
        "outputId": "0090f034-ea3b-47fe-de77-b8dc89b13d52"
      },
      "execution_count": null,
      "outputs": [
        {
          "output_type": "display_data",
          "data": {
            "text/html": [
              "<html>\n",
              "<head><meta charset=\"utf-8\" /></head>\n",
              "<body>\n",
              "    <div>            <script src=\"https://cdnjs.cloudflare.com/ajax/libs/mathjax/2.7.5/MathJax.js?config=TeX-AMS-MML_SVG\"></script><script type=\"text/javascript\">if (window.MathJax && window.MathJax.Hub && window.MathJax.Hub.Config) {window.MathJax.Hub.Config({SVG: {font: \"STIX-Web\"}});}</script>                <script type=\"text/javascript\">window.PlotlyConfig = {MathJaxConfig: 'local'};</script>\n",
              "        <script charset=\"utf-8\" src=\"https://cdn.plot.ly/plotly-2.24.1.min.js\"></script>                <div id=\"6210d14f-4904-4ff4-ac82-031ac69df815\" class=\"plotly-graph-div\" style=\"height:525px; width:100%;\"></div>            <script type=\"text/javascript\">                                    window.PLOTLYENV=window.PLOTLYENV || {};                                    if (document.getElementById(\"6210d14f-4904-4ff4-ac82-031ac69df815\")) {                    Plotly.newPlot(                        \"6210d14f-4904-4ff4-ac82-031ac69df815\",                        [{\"coloraxis\":\"coloraxis\",\"name\":\"0\",\"x\":[\"B-art\",\"B-eve\",\"B-geo\",\"B-gpe\",\"B-nat\",\"B-org\",\"B-per\",\"B-tim\",\"I-art\",\"I-eve\",\"I-geo\",\"I-gpe\",\"I-nat\",\"I-org\",\"I-per\",\"I-tim\"],\"y\":[\"B-art\",\"B-eve\",\"B-geo\",\"B-gpe\",\"B-nat\",\"B-org\",\"B-per\",\"B-tim\",\"I-art\",\"I-eve\",\"I-geo\",\"I-gpe\",\"I-nat\",\"I-org\",\"I-per\",\"I-tim\"],\"z\":[[100,4,136,38,1,67,64,120,341,2,30,1,0,52,59,79],[4,27,165,32,1,44,27,86,3,271,27,0,1,24,17,26],[80,151,19364,4911,69,5696,3818,8811,44,93,11449,30,18,4807,4130,3171],[61,77,8383,3778,23,3491,4002,4471,41,45,1723,277,3,2510,5636,1385],[0,0,68,8,22,21,3,34,0,0,41,0,56,13,0,16],[114,90,10176,3131,46,5398,3908,6109,82,76,2110,48,11,20789,4199,2073],[127,106,9316,2879,27,4175,4179,5723,130,98,1839,30,11,3451,21694,1751],[87,94,8451,2765,31,3649,2746,3566,85,77,1827,23,8,3228,2924,8345],[46,2,93,27,0,39,38,81,219,0,18,0,0,43,40,49],[5,27,139,33,1,36,24,77,5,121,17,0,1,27,19,29],[17,29,3672,736,25,1003,560,1688,6,18,1952,6,8,903,587,676],[3,1,80,68,3,44,39,56,2,0,18,22,1,32,58,28],[0,0,17,2,10,6,2,9,0,0,19,0,9,6,0,6],[64,55,8757,2393,64,4624,3033,5462,56,48,1874,28,11,15398,3156,1703],[109,99,9392,3054,32,3858,3762,5774,88,91,1880,34,16,3431,10224,1618],[19,60,1952,538,11,867,506,1330,18,29,543,13,4,717,516,3733]],\"type\":\"heatmap\",\"xaxis\":\"x\",\"yaxis\":\"y\",\"hovertemplate\":\"NER2: %{x}\\u003cbr\\u003eNER1: %{y}\\u003cbr\\u003ecolor: %{z}\\u003cextra\\u003e\\u003c\\u002fextra\\u003e\"}],                        {\"template\":{\"data\":{\"histogram2dcontour\":[{\"type\":\"histogram2dcontour\",\"colorbar\":{\"outlinewidth\":0,\"ticks\":\"\"},\"colorscale\":[[0.0,\"#0d0887\"],[0.1111111111111111,\"#46039f\"],[0.2222222222222222,\"#7201a8\"],[0.3333333333333333,\"#9c179e\"],[0.4444444444444444,\"#bd3786\"],[0.5555555555555556,\"#d8576b\"],[0.6666666666666666,\"#ed7953\"],[0.7777777777777778,\"#fb9f3a\"],[0.8888888888888888,\"#fdca26\"],[1.0,\"#f0f921\"]]}],\"choropleth\":[{\"type\":\"choropleth\",\"colorbar\":{\"outlinewidth\":0,\"ticks\":\"\"}}],\"histogram2d\":[{\"type\":\"histogram2d\",\"colorbar\":{\"outlinewidth\":0,\"ticks\":\"\"},\"colorscale\":[[0.0,\"#0d0887\"],[0.1111111111111111,\"#46039f\"],[0.2222222222222222,\"#7201a8\"],[0.3333333333333333,\"#9c179e\"],[0.4444444444444444,\"#bd3786\"],[0.5555555555555556,\"#d8576b\"],[0.6666666666666666,\"#ed7953\"],[0.7777777777777778,\"#fb9f3a\"],[0.8888888888888888,\"#fdca26\"],[1.0,\"#f0f921\"]]}],\"heatmap\":[{\"type\":\"heatmap\",\"colorbar\":{\"outlinewidth\":0,\"ticks\":\"\"},\"colorscale\":[[0.0,\"#0d0887\"],[0.1111111111111111,\"#46039f\"],[0.2222222222222222,\"#7201a8\"],[0.3333333333333333,\"#9c179e\"],[0.4444444444444444,\"#bd3786\"],[0.5555555555555556,\"#d8576b\"],[0.6666666666666666,\"#ed7953\"],[0.7777777777777778,\"#fb9f3a\"],[0.8888888888888888,\"#fdca26\"],[1.0,\"#f0f921\"]]}],\"heatmapgl\":[{\"type\":\"heatmapgl\",\"colorbar\":{\"outlinewidth\":0,\"ticks\":\"\"},\"colorscale\":[[0.0,\"#0d0887\"],[0.1111111111111111,\"#46039f\"],[0.2222222222222222,\"#7201a8\"],[0.3333333333333333,\"#9c179e\"],[0.4444444444444444,\"#bd3786\"],[0.5555555555555556,\"#d8576b\"],[0.6666666666666666,\"#ed7953\"],[0.7777777777777778,\"#fb9f3a\"],[0.8888888888888888,\"#fdca26\"],[1.0,\"#f0f921\"]]}],\"contourcarpet\":[{\"type\":\"contourcarpet\",\"colorbar\":{\"outlinewidth\":0,\"ticks\":\"\"}}],\"contour\":[{\"type\":\"contour\",\"colorbar\":{\"outlinewidth\":0,\"ticks\":\"\"},\"colorscale\":[[0.0,\"#0d0887\"],[0.1111111111111111,\"#46039f\"],[0.2222222222222222,\"#7201a8\"],[0.3333333333333333,\"#9c179e\"],[0.4444444444444444,\"#bd3786\"],[0.5555555555555556,\"#d8576b\"],[0.6666666666666666,\"#ed7953\"],[0.7777777777777778,\"#fb9f3a\"],[0.8888888888888888,\"#fdca26\"],[1.0,\"#f0f921\"]]}],\"surface\":[{\"type\":\"surface\",\"colorbar\":{\"outlinewidth\":0,\"ticks\":\"\"},\"colorscale\":[[0.0,\"#0d0887\"],[0.1111111111111111,\"#46039f\"],[0.2222222222222222,\"#7201a8\"],[0.3333333333333333,\"#9c179e\"],[0.4444444444444444,\"#bd3786\"],[0.5555555555555556,\"#d8576b\"],[0.6666666666666666,\"#ed7953\"],[0.7777777777777778,\"#fb9f3a\"],[0.8888888888888888,\"#fdca26\"],[1.0,\"#f0f921\"]]}],\"mesh3d\":[{\"type\":\"mesh3d\",\"colorbar\":{\"outlinewidth\":0,\"ticks\":\"\"}}],\"scatter\":[{\"fillpattern\":{\"fillmode\":\"overlay\",\"size\":10,\"solidity\":0.2},\"type\":\"scatter\"}],\"parcoords\":[{\"type\":\"parcoords\",\"line\":{\"colorbar\":{\"outlinewidth\":0,\"ticks\":\"\"}}}],\"scatterpolargl\":[{\"type\":\"scatterpolargl\",\"marker\":{\"colorbar\":{\"outlinewidth\":0,\"ticks\":\"\"}}}],\"bar\":[{\"error_x\":{\"color\":\"#2a3f5f\"},\"error_y\":{\"color\":\"#2a3f5f\"},\"marker\":{\"line\":{\"color\":\"#E5ECF6\",\"width\":0.5},\"pattern\":{\"fillmode\":\"overlay\",\"size\":10,\"solidity\":0.2}},\"type\":\"bar\"}],\"scattergeo\":[{\"type\":\"scattergeo\",\"marker\":{\"colorbar\":{\"outlinewidth\":0,\"ticks\":\"\"}}}],\"scatterpolar\":[{\"type\":\"scatterpolar\",\"marker\":{\"colorbar\":{\"outlinewidth\":0,\"ticks\":\"\"}}}],\"histogram\":[{\"marker\":{\"pattern\":{\"fillmode\":\"overlay\",\"size\":10,\"solidity\":0.2}},\"type\":\"histogram\"}],\"scattergl\":[{\"type\":\"scattergl\",\"marker\":{\"colorbar\":{\"outlinewidth\":0,\"ticks\":\"\"}}}],\"scatter3d\":[{\"type\":\"scatter3d\",\"line\":{\"colorbar\":{\"outlinewidth\":0,\"ticks\":\"\"}},\"marker\":{\"colorbar\":{\"outlinewidth\":0,\"ticks\":\"\"}}}],\"scattermapbox\":[{\"type\":\"scattermapbox\",\"marker\":{\"colorbar\":{\"outlinewidth\":0,\"ticks\":\"\"}}}],\"scatterternary\":[{\"type\":\"scatterternary\",\"marker\":{\"colorbar\":{\"outlinewidth\":0,\"ticks\":\"\"}}}],\"scattercarpet\":[{\"type\":\"scattercarpet\",\"marker\":{\"colorbar\":{\"outlinewidth\":0,\"ticks\":\"\"}}}],\"carpet\":[{\"aaxis\":{\"endlinecolor\":\"#2a3f5f\",\"gridcolor\":\"white\",\"linecolor\":\"white\",\"minorgridcolor\":\"white\",\"startlinecolor\":\"#2a3f5f\"},\"baxis\":{\"endlinecolor\":\"#2a3f5f\",\"gridcolor\":\"white\",\"linecolor\":\"white\",\"minorgridcolor\":\"white\",\"startlinecolor\":\"#2a3f5f\"},\"type\":\"carpet\"}],\"table\":[{\"cells\":{\"fill\":{\"color\":\"#EBF0F8\"},\"line\":{\"color\":\"white\"}},\"header\":{\"fill\":{\"color\":\"#C8D4E3\"},\"line\":{\"color\":\"white\"}},\"type\":\"table\"}],\"barpolar\":[{\"marker\":{\"line\":{\"color\":\"#E5ECF6\",\"width\":0.5},\"pattern\":{\"fillmode\":\"overlay\",\"size\":10,\"solidity\":0.2}},\"type\":\"barpolar\"}],\"pie\":[{\"automargin\":true,\"type\":\"pie\"}]},\"layout\":{\"autotypenumbers\":\"strict\",\"colorway\":[\"#636efa\",\"#EF553B\",\"#00cc96\",\"#ab63fa\",\"#FFA15A\",\"#19d3f3\",\"#FF6692\",\"#B6E880\",\"#FF97FF\",\"#FECB52\"],\"font\":{\"color\":\"#2a3f5f\"},\"hovermode\":\"closest\",\"hoverlabel\":{\"align\":\"left\"},\"paper_bgcolor\":\"white\",\"plot_bgcolor\":\"#E5ECF6\",\"polar\":{\"bgcolor\":\"#E5ECF6\",\"angularaxis\":{\"gridcolor\":\"white\",\"linecolor\":\"white\",\"ticks\":\"\"},\"radialaxis\":{\"gridcolor\":\"white\",\"linecolor\":\"white\",\"ticks\":\"\"}},\"ternary\":{\"bgcolor\":\"#E5ECF6\",\"aaxis\":{\"gridcolor\":\"white\",\"linecolor\":\"white\",\"ticks\":\"\"},\"baxis\":{\"gridcolor\":\"white\",\"linecolor\":\"white\",\"ticks\":\"\"},\"caxis\":{\"gridcolor\":\"white\",\"linecolor\":\"white\",\"ticks\":\"\"}},\"coloraxis\":{\"colorbar\":{\"outlinewidth\":0,\"ticks\":\"\"}},\"colorscale\":{\"sequential\":[[0.0,\"#0d0887\"],[0.1111111111111111,\"#46039f\"],[0.2222222222222222,\"#7201a8\"],[0.3333333333333333,\"#9c179e\"],[0.4444444444444444,\"#bd3786\"],[0.5555555555555556,\"#d8576b\"],[0.6666666666666666,\"#ed7953\"],[0.7777777777777778,\"#fb9f3a\"],[0.8888888888888888,\"#fdca26\"],[1.0,\"#f0f921\"]],\"sequentialminus\":[[0.0,\"#0d0887\"],[0.1111111111111111,\"#46039f\"],[0.2222222222222222,\"#7201a8\"],[0.3333333333333333,\"#9c179e\"],[0.4444444444444444,\"#bd3786\"],[0.5555555555555556,\"#d8576b\"],[0.6666666666666666,\"#ed7953\"],[0.7777777777777778,\"#fb9f3a\"],[0.8888888888888888,\"#fdca26\"],[1.0,\"#f0f921\"]],\"diverging\":[[0,\"#8e0152\"],[0.1,\"#c51b7d\"],[0.2,\"#de77ae\"],[0.3,\"#f1b6da\"],[0.4,\"#fde0ef\"],[0.5,\"#f7f7f7\"],[0.6,\"#e6f5d0\"],[0.7,\"#b8e186\"],[0.8,\"#7fbc41\"],[0.9,\"#4d9221\"],[1,\"#276419\"]]},\"xaxis\":{\"gridcolor\":\"white\",\"linecolor\":\"white\",\"ticks\":\"\",\"title\":{\"standoff\":15},\"zerolinecolor\":\"white\",\"automargin\":true,\"zerolinewidth\":2},\"yaxis\":{\"gridcolor\":\"white\",\"linecolor\":\"white\",\"ticks\":\"\",\"title\":{\"standoff\":15},\"zerolinecolor\":\"white\",\"automargin\":true,\"zerolinewidth\":2},\"scene\":{\"xaxis\":{\"backgroundcolor\":\"#E5ECF6\",\"gridcolor\":\"white\",\"linecolor\":\"white\",\"showbackground\":true,\"ticks\":\"\",\"zerolinecolor\":\"white\",\"gridwidth\":2},\"yaxis\":{\"backgroundcolor\":\"#E5ECF6\",\"gridcolor\":\"white\",\"linecolor\":\"white\",\"showbackground\":true,\"ticks\":\"\",\"zerolinecolor\":\"white\",\"gridwidth\":2},\"zaxis\":{\"backgroundcolor\":\"#E5ECF6\",\"gridcolor\":\"white\",\"linecolor\":\"white\",\"showbackground\":true,\"ticks\":\"\",\"zerolinecolor\":\"white\",\"gridwidth\":2}},\"shapedefaults\":{\"line\":{\"color\":\"#2a3f5f\"}},\"annotationdefaults\":{\"arrowcolor\":\"#2a3f5f\",\"arrowhead\":0,\"arrowwidth\":1},\"geo\":{\"bgcolor\":\"white\",\"landcolor\":\"#E5ECF6\",\"subunitcolor\":\"white\",\"showland\":true,\"showlakes\":true,\"lakecolor\":\"white\"},\"title\":{\"x\":0.05},\"mapbox\":{\"style\":\"light\"}}},\"xaxis\":{\"anchor\":\"y\",\"domain\":[0.0,1.0],\"scaleanchor\":\"y\",\"constrain\":\"domain\",\"title\":{\"text\":\"NER2\"}},\"yaxis\":{\"anchor\":\"x\",\"domain\":[0.0,1.0],\"autorange\":\"reversed\",\"constrain\":\"domain\",\"title\":{\"text\":\"NER1\"}},\"coloraxis\":{\"colorscale\":[[0.0,\"#0d0887\"],[0.1111111111111111,\"#46039f\"],[0.2222222222222222,\"#7201a8\"],[0.3333333333333333,\"#9c179e\"],[0.4444444444444444,\"#bd3786\"],[0.5555555555555556,\"#d8576b\"],[0.6666666666666666,\"#ed7953\"],[0.7777777777777778,\"#fb9f3a\"],[0.8888888888888888,\"#fdca26\"],[1.0,\"#f0f921\"]]},\"title\":{\"text\":\"NER Tag Co-occurrence Matrix\"}},                        {\"responsive\": true}                    ).then(function(){\n",
              "                            \n",
              "var gd = document.getElementById('6210d14f-4904-4ff4-ac82-031ac69df815');\n",
              "var x = new MutationObserver(function (mutations, observer) {{\n",
              "        var display = window.getComputedStyle(gd).display;\n",
              "        if (!display || display === 'none') {{\n",
              "            console.log([gd, 'removed!']);\n",
              "            Plotly.purge(gd);\n",
              "            observer.disconnect();\n",
              "        }}\n",
              "}});\n",
              "\n",
              "// Listen for the removal of the full notebook cells\n",
              "var notebookContainer = gd.closest('#notebook-container');\n",
              "if (notebookContainer) {{\n",
              "    x.observe(notebookContainer, {childList: true});\n",
              "}}\n",
              "\n",
              "// Listen for the clearing of the current output cell\n",
              "var outputEl = gd.closest('.output');\n",
              "if (outputEl) {{\n",
              "    x.observe(outputEl, {childList: true});\n",
              "}}\n",
              "\n",
              "                        })                };                            </script>        </div>\n",
              "</body>\n",
              "</html>"
            ]
          },
          "metadata": {}
        }
      ]
    },
    {
      "cell_type": "code",
      "source": [
        "# @title\n",
        "pivot_table = pd.pivot_table(cooccurrence_df, values='Count', index='NER1', columns='NER2', fill_value=0)\n",
        "print(\"Co-occurrence Matrix:\")\n",
        "print(pivot_table)"
      ],
      "metadata": {
        "colab": {
          "base_uri": "https://localhost:8080/"
        },
        "cellView": "form",
        "collapsed": true,
        "id": "jomCMMYgg1_G",
        "outputId": "d9745bed-8af8-47a4-c1fc-cee60de733dd"
      },
      "execution_count": null,
      "outputs": [
        {
          "output_type": "stream",
          "name": "stdout",
          "text": [
            "Co-occurrence Matrix:\n",
            "NER2   B-art  B-eve  B-geo  B-gpe  B-nat  B-org  B-per  B-tim  I-art  I-eve  \\\n",
            "NER1                                                                          \n",
            "B-art    100      4    136     38      1     67     64    120    341      2   \n",
            "B-eve      4     27    165     32      1     44     27     86      3    271   \n",
            "B-geo     80    151  19364   4911     69   5696   3818   8811     44     93   \n",
            "B-gpe     61     77   8383   3778     23   3491   4002   4471     41     45   \n",
            "B-nat      0      0     68      8     22     21      3     34      0      0   \n",
            "B-org    114     90  10176   3131     46   5398   3908   6109     82     76   \n",
            "B-per    127    106   9316   2879     27   4175   4179   5723    130     98   \n",
            "B-tim     87     94   8451   2765     31   3649   2746   3566     85     77   \n",
            "I-art     46      2     93     27      0     39     38     81    219      0   \n",
            "I-eve      5     27    139     33      1     36     24     77      5    121   \n",
            "I-geo     17     29   3672    736     25   1003    560   1688      6     18   \n",
            "I-gpe      3      1     80     68      3     44     39     56      2      0   \n",
            "I-nat      0      0     17      2     10      6      2      9      0      0   \n",
            "I-org     64     55   8757   2393     64   4624   3033   5462     56     48   \n",
            "I-per    109     99   9392   3054     32   3858   3762   5774     88     91   \n",
            "I-tim     19     60   1952    538     11    867    506   1330     18     29   \n",
            "\n",
            "NER2   I-geo  I-gpe  I-nat  I-org  I-per  I-tim  \n",
            "NER1                                             \n",
            "B-art     30      1      0     52     59     79  \n",
            "B-eve     27      0      1     24     17     26  \n",
            "B-geo  11449     30     18   4807   4130   3171  \n",
            "B-gpe   1723    277      3   2510   5636   1385  \n",
            "B-nat     41      0     56     13      0     16  \n",
            "B-org   2110     48     11  20789   4199   2073  \n",
            "B-per   1839     30     11   3451  21694   1751  \n",
            "B-tim   1827     23      8   3228   2924   8345  \n",
            "I-art     18      0      0     43     40     49  \n",
            "I-eve     17      0      1     27     19     29  \n",
            "I-geo   1952      6      8    903    587    676  \n",
            "I-gpe     18     22      1     32     58     28  \n",
            "I-nat     19      0      9      6      0      6  \n",
            "I-org   1874     28     11  15398   3156   1703  \n",
            "I-per   1880     34     16   3431  10224   1618  \n",
            "I-tim    543     13      4    717    516   3733  \n"
          ]
        }
      ]
    },
    {
      "cell_type": "code",
      "source": [
        "# Get unique tags from the DataFrame\n",
        "unique_tags = df['NER'].unique()\n",
        "tag_to_class = {tag: i for i, tag in enumerate(sorted(unique_tags))}\n",
        "\n",
        "print(\"Unique tags and their class numbers:\", tag_to_class)"
      ],
      "metadata": {
        "colab": {
          "base_uri": "https://localhost:8080/"
        },
        "id": "_46QdVHZ0RAh",
        "outputId": "81416856-558e-4bc1-fa24-e2be36598004"
      },
      "execution_count": null,
      "outputs": [
        {
          "output_type": "stream",
          "name": "stdout",
          "text": [
            "Unique tags and their class numbers: {'B-art': 0, 'B-eve': 1, 'B-geo': 2, 'B-gpe': 3, 'B-nat': 4, 'B-org': 5, 'B-per': 6, 'B-tim': 7, 'I-art': 8, 'I-eve': 9, 'I-geo': 10, 'I-gpe': 11, 'I-nat': 12, 'I-org': 13, 'I-per': 14, 'I-tim': 15, 'O': 16}\n"
          ]
        }
      ]
    },
    {
      "cell_type": "markdown",
      "source": [
        "## Function to convert IOB2 to SpaCy format"
      ],
      "metadata": {
        "id": "JgMGYAMNhPQf"
      }
    },
    {
      "cell_type": "code",
      "source": [
        "\n",
        "def iob_to_spacy_format(sentences):\n",
        "    spacy_format = []\n",
        "    for sentence in sentences:\n",
        "        text = \" \".join([token for token, _ in sentence])\n",
        "        entities = []\n",
        "        offset = 0\n",
        "        for token, label in sentence:\n",
        "            if label != 'O':\n",
        "                start = text.find(token, offset)\n",
        "                end = start + len(token)\n",
        "                entities.append((start, end, label))\n",
        "            offset += len(token) + 1  # +1 for the space\n",
        "        spacy_format.append((text, {'entities': entities}))\n",
        "    return spacy_format"
      ],
      "metadata": {
        "id": "T8DwnswU42tB"
      },
      "execution_count": 39,
      "outputs": []
    },
    {
      "cell_type": "code",
      "source": [
        "spacy_format = iob_to_spacy_format(sentences)"
      ],
      "metadata": {
        "id": "ipnhxLRy51-P"
      },
      "execution_count": 40,
      "outputs": []
    },
    {
      "cell_type": "code",
      "source": [
        "spacy_format[0]"
      ],
      "metadata": {
        "colab": {
          "base_uri": "https://localhost:8080/"
        },
        "id": "Wegxj9AI83E2",
        "outputId": "49f1649f-f110-4895-a364-e3918e39c8c8"
      },
      "execution_count": 41,
      "outputs": [
        {
          "output_type": "execute_result",
          "data": {
            "text/plain": [
              "('Thousands of demonstrators have marched through London to protest the war in Iraq and demand the withdrawal of British troops from that country .',\n",
              " {'entities': [(48, 54, 'B-geo'), (77, 81, 'B-geo'), (111, 118, 'B-gpe')]})"
            ]
          },
          "metadata": {},
          "execution_count": 41
        }
      ]
    },
    {
      "cell_type": "code",
      "source": [
        "spacy_format[0][0][48:54]"
      ],
      "metadata": {
        "colab": {
          "base_uri": "https://localhost:8080/",
          "height": 35
        },
        "id": "pmm5z4Bd-5RV",
        "outputId": "ef0b93e4-2e6e-4f86-f7fc-7e28345fea53"
      },
      "execution_count": 43,
      "outputs": [
        {
          "output_type": "execute_result",
          "data": {
            "text/plain": [
              "'London'"
            ],
            "application/vnd.google.colaboratory.intrinsic+json": {
              "type": "string"
            }
          },
          "metadata": {},
          "execution_count": 43
        }
      ]
    },
    {
      "cell_type": "markdown",
      "source": [
        "## Split data to train/val/test"
      ],
      "metadata": {
        "id": "oLIvT9rZhZln"
      }
    },
    {
      "cell_type": "code",
      "source": [
        "def ensure_labels_in_train(spacy_format):\n",
        "    unique_labels = set()\n",
        "    for _, annotations in spacy_format:\n",
        "        for _, _, label in annotations['entities']:\n",
        "            unique_labels.add(label)\n",
        "\n",
        "    # Collect examples ensuring all labels are present in training\n",
        "    label_to_examples = {label: [] for label in unique_labels}\n",
        "    for example in spacy_format:\n",
        "        text, annotations = example\n",
        "        labels = set(label for _, _, label in annotations['entities'])\n",
        "        for label in labels:\n",
        "            label_to_examples[label].append(example)\n",
        "\n",
        "    # Collect at least one example for each label\n",
        "    train_set = []\n",
        "    for examples in label_to_examples.values():\n",
        "        train_set.append(random.choice(examples))\n",
        "\n",
        "    # Collect the rest of the examples\n",
        "    rest_set = [example for example in spacy_format if example not in train_set]\n",
        "\n",
        "    return train_set, rest_set\n",
        "\n",
        "def split_data(rest_set):\n",
        "    train_rest, test_set = train_test_split(rest_set, test_size=0.2, random_state=42)\n",
        "    train_set, val_set = train_test_split(train_rest, test_size=0.1/(1-0.1), random_state=42)\n",
        "    return train_set, val_set, test_set"
      ],
      "metadata": {
        "id": "804DThz5_HKl"
      },
      "execution_count": 48,
      "outputs": []
    },
    {
      "cell_type": "code",
      "source": [
        "def load_json_split(folder_path):\n",
        "  split_names = ['train','val','test']\n",
        "  sets = []\n",
        "  for split_name in split_names:\n",
        "    split_file_path = os.path.join(folder_path, f'{split_name}.json')\n",
        "    with open(split_file_path, 'r') as f:\n",
        "        data = json.load(f)\n",
        "    data = [(item['text'], {'entities': item['entities']}) for item in data]\n",
        "    sets.append(data)\n",
        "  return sets\n",
        "\n",
        "# if not os.path.exists('/content/drive/MyDrive/sapient/train.json'):\n",
        "train_set, rest_set = ensure_labels_in_train(spacy_format)\n",
        "train_set, val_set, test_set = split_data(rest_set)\n",
        "final_train_set = train_set + val_set\n",
        "# else:\n",
        "#   train_set,val_set,test_set = load_json_split('/content/drive/MyDrive/sapient')\n",
        "#   final_train_set = train_set + val_set"
      ],
      "metadata": {
        "id": "v6dWv_fp_0g1"
      },
      "execution_count": 49,
      "outputs": []
    },
    {
      "cell_type": "markdown",
      "source": [
        "## Store the data split in json for future usage"
      ],
      "metadata": {
        "id": "t4Ev-NCOhwjR"
      }
    },
    {
      "cell_type": "code",
      "source": [
        "splits = [('train',train_set),('val',val_set),('test',test_set)]\n",
        "path = \"/content/drive/MyDrive/sapient\"\n",
        "for split in splits:\n",
        "  split_name,split = split\n",
        "  # Convert to a serializable format\n",
        "  data_serializable = [{'text': text, 'entities': entities['entities']} for text, entities in split]\n",
        "  save_path = os.path.join(path, f'{split_name}_split.json')\n",
        "  # Save to a JSON file\n",
        "  with open(save_path, 'w') as f:\n",
        "      json.dump(data_serializable, f, indent=4)"
      ],
      "metadata": {
        "id": "M9OXLAPOqgZo"
      },
      "execution_count": 50,
      "outputs": []
    },
    {
      "cell_type": "code",
      "source": [
        "print(len(train_set),len(val_set),len(test_set))"
      ],
      "metadata": {
        "colab": {
          "base_uri": "https://localhost:8080/"
        },
        "id": "OiYruU_n_5kF",
        "outputId": "a3d627fb-f9b2-4896-f38e-b2b9f5925d00"
      },
      "execution_count": 51,
      "outputs": [
        {
          "output_type": "stream",
          "name": "stdout",
          "text": [
            "34092 4262 9589\n"
          ]
        }
      ]
    },
    {
      "cell_type": "code",
      "source": [
        "def extract_entity_tags(data):\n",
        "    entity_tags = []\n",
        "    for text, annotations in data:\n",
        "        entities = annotations['entities']\n",
        "        for start, end, label in entities:\n",
        "            entity_tags.append(label)\n",
        "    return entity_tags\n",
        "\n",
        "def calculate_entity_distribution(data, dataset_name):\n",
        "    entity_tags = extract_entity_tags(data)\n",
        "    entity_counter = Counter(entity_tags)\n",
        "    total_entities = sum(entity_counter.values())\n",
        "    entity_percentages = {label: (count / total_entities) * 100 for label, count in entity_counter.items()}\n",
        "    return pd.DataFrame(list(entity_percentages.items()), columns=['Entity', 'Percentage']).assign(Dataset=dataset_name)\n"
      ],
      "metadata": {
        "id": "S6Jro4aiAw9N"
      },
      "execution_count": 52,
      "outputs": []
    },
    {
      "cell_type": "markdown",
      "source": [
        "## Percentage of samples by tags in train,val,test"
      ],
      "metadata": {
        "id": "jtAgQbRLjbmX"
      }
    },
    {
      "cell_type": "code",
      "source": [
        "# Calculate distributions\n",
        "train_distribution = calculate_entity_distribution(train_set, 'Train')\n",
        "val_distribution = calculate_entity_distribution(val_set, 'Validation')\n",
        "test_distribution = calculate_entity_distribution(test_set, 'Test')\n",
        "\n",
        "# Combine distributions into a single DataFrame\n",
        "combined_distribution = pd.concat([train_distribution, val_distribution, test_distribution])\n",
        "\n",
        "# Create Plotly bar graph to visualize the distribution\n",
        "fig = px.bar(combined_distribution, x='Entity', y='Percentage', color='Dataset', barmode='group',\n",
        "             title='Entity Distribution in Train, Validation, and Test Data (Percentage)',\n",
        "             labels={'Entity': 'Entity Type', 'Percentage': 'Percentage (%)'})\n",
        "fig.show()\n"
      ],
      "metadata": {
        "id": "mhBrtW13BZDl",
        "colab": {
          "base_uri": "https://localhost:8080/",
          "height": 542
        },
        "outputId": "d4bf46c5-e17c-4d59-f234-a25a031c5ff1"
      },
      "execution_count": null,
      "outputs": [
        {
          "output_type": "display_data",
          "data": {
            "text/html": [
              "<html>\n",
              "<head><meta charset=\"utf-8\" /></head>\n",
              "<body>\n",
              "    <div>            <script src=\"https://cdnjs.cloudflare.com/ajax/libs/mathjax/2.7.5/MathJax.js?config=TeX-AMS-MML_SVG\"></script><script type=\"text/javascript\">if (window.MathJax && window.MathJax.Hub && window.MathJax.Hub.Config) {window.MathJax.Hub.Config({SVG: {font: \"STIX-Web\"}});}</script>                <script type=\"text/javascript\">window.PlotlyConfig = {MathJaxConfig: 'local'};</script>\n",
              "        <script charset=\"utf-8\" src=\"https://cdn.plot.ly/plotly-2.24.1.min.js\"></script>                <div id=\"17fe532f-c214-47de-9906-2602706e4513\" class=\"plotly-graph-div\" style=\"height:525px; width:100%;\"></div>            <script type=\"text/javascript\">                                    window.PLOTLYENV=window.PLOTLYENV || {};                                    if (document.getElementById(\"17fe532f-c214-47de-9906-2602706e4513\")) {                    Plotly.newPlot(                        \"17fe532f-c214-47de-9906-2602706e4513\",                        [{\"alignmentgroup\":\"True\",\"hovertemplate\":\"Dataset=Train\\u003cbr\\u003eEntity Type=%{x}\\u003cbr\\u003ePercentage (%)=%{y}\\u003cextra\\u003e\\u003c\\u002fextra\\u003e\",\"legendgroup\":\"Train\",\"marker\":{\"color\":\"#636efa\",\"pattern\":{\"shape\":\"\"}},\"name\":\"Train\",\"offsetgroup\":\"Train\",\"orientation\":\"v\",\"showlegend\":true,\"textposition\":\"auto\",\"x\":[\"B-org\",\"I-org\",\"B-geo\",\"B-tim\",\"B-per\",\"I-per\",\"I-geo\",\"B-gpe\",\"B-eve\",\"I-eve\",\"I-tim\",\"I-gpe\",\"B-art\",\"I-art\",\"B-nat\",\"I-nat\"],\"xaxis\":\"x\",\"y\":[12.525826847493438,10.489195445153873,23.413493653974616,12.650106414379145,10.631340199779405,10.77969893274922,4.592906743719998,9.86546736884622,0.18952633950070685,0.15224246943499403,4.010346273943235,0.12816330335088782,0.243121902720169,0.17321464634695746,0.12427956688570939,0.031069891721427347],\"yaxis\":\"y\",\"type\":\"bar\"},{\"alignmentgroup\":\"True\",\"hovertemplate\":\"Dataset=Validation\\u003cbr\\u003eEntity Type=%{x}\\u003cbr\\u003ePercentage (%)=%{y}\\u003cextra\\u003e\\u003c\\u002fextra\\u003e\",\"legendgroup\":\"Validation\",\"marker\":{\"color\":\"#EF553B\",\"pattern\":{\"shape\":\"\"}},\"name\":\"Validation\",\"offsetgroup\":\"Validation\",\"orientation\":\"v\",\"showlegend\":true,\"textposition\":\"auto\",\"x\":[\"B-org\",\"B-per\",\"B-gpe\",\"B-geo\",\"B-tim\",\"I-org\",\"I-per\",\"I-geo\",\"I-tim\",\"B-art\",\"I-art\",\"B-nat\",\"B-eve\",\"I-eve\",\"I-nat\",\"I-gpe\"],\"xaxis\":\"x\",\"y\":[12.632171682412563,10.69886754676844,9.697803916661453,23.44991553525621,12.757304636175936,10.08571607332791,10.780203966714634,4.317086904836389,4.592379403115811,0.2440092598385785,0.17518613526872304,0.10010636301069886,0.20646937370956642,0.1251329537633736,0.0312832384408434,0.10636301069886754],\"yaxis\":\"y\",\"type\":\"bar\"},{\"alignmentgroup\":\"True\",\"hovertemplate\":\"Dataset=Test\\u003cbr\\u003eEntity Type=%{x}\\u003cbr\\u003ePercentage (%)=%{y}\\u003cextra\\u003e\\u003c\\u002fextra\\u003e\",\"legendgroup\":\"Test\",\"marker\":{\"color\":\"#00cc96\",\"pattern\":{\"shape\":\"\"}},\"name\":\"Test\",\"offsetgroup\":\"Test\",\"orientation\":\"v\",\"showlegend\":true,\"textposition\":\"auto\",\"x\":[\"B-geo\",\"B-gpe\",\"I-geo\",\"B-per\",\"I-per\",\"B-org\",\"I-org\",\"B-tim\",\"I-tim\",\"B-art\",\"I-art\",\"I-gpe\",\"B-eve\",\"I-eve\",\"B-nat\",\"I-nat\"],\"xaxis\":\"x\",\"y\":[23.634526741175726,10.197638441624045,5.108290711624677,10.001894298162531,10.36181094904338,12.5086821999116,10.450211529961482,12.61602576245501,3.927511523647156,0.28414472437961735,0.2462587611290017,0.09471490812653913,0.1831154890446423,0.22100145229525794,0.1389151985855907,0.025257308833743764],\"yaxis\":\"y\",\"type\":\"bar\"}],                        {\"template\":{\"data\":{\"histogram2dcontour\":[{\"type\":\"histogram2dcontour\",\"colorbar\":{\"outlinewidth\":0,\"ticks\":\"\"},\"colorscale\":[[0.0,\"#0d0887\"],[0.1111111111111111,\"#46039f\"],[0.2222222222222222,\"#7201a8\"],[0.3333333333333333,\"#9c179e\"],[0.4444444444444444,\"#bd3786\"],[0.5555555555555556,\"#d8576b\"],[0.6666666666666666,\"#ed7953\"],[0.7777777777777778,\"#fb9f3a\"],[0.8888888888888888,\"#fdca26\"],[1.0,\"#f0f921\"]]}],\"choropleth\":[{\"type\":\"choropleth\",\"colorbar\":{\"outlinewidth\":0,\"ticks\":\"\"}}],\"histogram2d\":[{\"type\":\"histogram2d\",\"colorbar\":{\"outlinewidth\":0,\"ticks\":\"\"},\"colorscale\":[[0.0,\"#0d0887\"],[0.1111111111111111,\"#46039f\"],[0.2222222222222222,\"#7201a8\"],[0.3333333333333333,\"#9c179e\"],[0.4444444444444444,\"#bd3786\"],[0.5555555555555556,\"#d8576b\"],[0.6666666666666666,\"#ed7953\"],[0.7777777777777778,\"#fb9f3a\"],[0.8888888888888888,\"#fdca26\"],[1.0,\"#f0f921\"]]}],\"heatmap\":[{\"type\":\"heatmap\",\"colorbar\":{\"outlinewidth\":0,\"ticks\":\"\"},\"colorscale\":[[0.0,\"#0d0887\"],[0.1111111111111111,\"#46039f\"],[0.2222222222222222,\"#7201a8\"],[0.3333333333333333,\"#9c179e\"],[0.4444444444444444,\"#bd3786\"],[0.5555555555555556,\"#d8576b\"],[0.6666666666666666,\"#ed7953\"],[0.7777777777777778,\"#fb9f3a\"],[0.8888888888888888,\"#fdca26\"],[1.0,\"#f0f921\"]]}],\"heatmapgl\":[{\"type\":\"heatmapgl\",\"colorbar\":{\"outlinewidth\":0,\"ticks\":\"\"},\"colorscale\":[[0.0,\"#0d0887\"],[0.1111111111111111,\"#46039f\"],[0.2222222222222222,\"#7201a8\"],[0.3333333333333333,\"#9c179e\"],[0.4444444444444444,\"#bd3786\"],[0.5555555555555556,\"#d8576b\"],[0.6666666666666666,\"#ed7953\"],[0.7777777777777778,\"#fb9f3a\"],[0.8888888888888888,\"#fdca26\"],[1.0,\"#f0f921\"]]}],\"contourcarpet\":[{\"type\":\"contourcarpet\",\"colorbar\":{\"outlinewidth\":0,\"ticks\":\"\"}}],\"contour\":[{\"type\":\"contour\",\"colorbar\":{\"outlinewidth\":0,\"ticks\":\"\"},\"colorscale\":[[0.0,\"#0d0887\"],[0.1111111111111111,\"#46039f\"],[0.2222222222222222,\"#7201a8\"],[0.3333333333333333,\"#9c179e\"],[0.4444444444444444,\"#bd3786\"],[0.5555555555555556,\"#d8576b\"],[0.6666666666666666,\"#ed7953\"],[0.7777777777777778,\"#fb9f3a\"],[0.8888888888888888,\"#fdca26\"],[1.0,\"#f0f921\"]]}],\"surface\":[{\"type\":\"surface\",\"colorbar\":{\"outlinewidth\":0,\"ticks\":\"\"},\"colorscale\":[[0.0,\"#0d0887\"],[0.1111111111111111,\"#46039f\"],[0.2222222222222222,\"#7201a8\"],[0.3333333333333333,\"#9c179e\"],[0.4444444444444444,\"#bd3786\"],[0.5555555555555556,\"#d8576b\"],[0.6666666666666666,\"#ed7953\"],[0.7777777777777778,\"#fb9f3a\"],[0.8888888888888888,\"#fdca26\"],[1.0,\"#f0f921\"]]}],\"mesh3d\":[{\"type\":\"mesh3d\",\"colorbar\":{\"outlinewidth\":0,\"ticks\":\"\"}}],\"scatter\":[{\"fillpattern\":{\"fillmode\":\"overlay\",\"size\":10,\"solidity\":0.2},\"type\":\"scatter\"}],\"parcoords\":[{\"type\":\"parcoords\",\"line\":{\"colorbar\":{\"outlinewidth\":0,\"ticks\":\"\"}}}],\"scatterpolargl\":[{\"type\":\"scatterpolargl\",\"marker\":{\"colorbar\":{\"outlinewidth\":0,\"ticks\":\"\"}}}],\"bar\":[{\"error_x\":{\"color\":\"#2a3f5f\"},\"error_y\":{\"color\":\"#2a3f5f\"},\"marker\":{\"line\":{\"color\":\"#E5ECF6\",\"width\":0.5},\"pattern\":{\"fillmode\":\"overlay\",\"size\":10,\"solidity\":0.2}},\"type\":\"bar\"}],\"scattergeo\":[{\"type\":\"scattergeo\",\"marker\":{\"colorbar\":{\"outlinewidth\":0,\"ticks\":\"\"}}}],\"scatterpolar\":[{\"type\":\"scatterpolar\",\"marker\":{\"colorbar\":{\"outlinewidth\":0,\"ticks\":\"\"}}}],\"histogram\":[{\"marker\":{\"pattern\":{\"fillmode\":\"overlay\",\"size\":10,\"solidity\":0.2}},\"type\":\"histogram\"}],\"scattergl\":[{\"type\":\"scattergl\",\"marker\":{\"colorbar\":{\"outlinewidth\":0,\"ticks\":\"\"}}}],\"scatter3d\":[{\"type\":\"scatter3d\",\"line\":{\"colorbar\":{\"outlinewidth\":0,\"ticks\":\"\"}},\"marker\":{\"colorbar\":{\"outlinewidth\":0,\"ticks\":\"\"}}}],\"scattermapbox\":[{\"type\":\"scattermapbox\",\"marker\":{\"colorbar\":{\"outlinewidth\":0,\"ticks\":\"\"}}}],\"scatterternary\":[{\"type\":\"scatterternary\",\"marker\":{\"colorbar\":{\"outlinewidth\":0,\"ticks\":\"\"}}}],\"scattercarpet\":[{\"type\":\"scattercarpet\",\"marker\":{\"colorbar\":{\"outlinewidth\":0,\"ticks\":\"\"}}}],\"carpet\":[{\"aaxis\":{\"endlinecolor\":\"#2a3f5f\",\"gridcolor\":\"white\",\"linecolor\":\"white\",\"minorgridcolor\":\"white\",\"startlinecolor\":\"#2a3f5f\"},\"baxis\":{\"endlinecolor\":\"#2a3f5f\",\"gridcolor\":\"white\",\"linecolor\":\"white\",\"minorgridcolor\":\"white\",\"startlinecolor\":\"#2a3f5f\"},\"type\":\"carpet\"}],\"table\":[{\"cells\":{\"fill\":{\"color\":\"#EBF0F8\"},\"line\":{\"color\":\"white\"}},\"header\":{\"fill\":{\"color\":\"#C8D4E3\"},\"line\":{\"color\":\"white\"}},\"type\":\"table\"}],\"barpolar\":[{\"marker\":{\"line\":{\"color\":\"#E5ECF6\",\"width\":0.5},\"pattern\":{\"fillmode\":\"overlay\",\"size\":10,\"solidity\":0.2}},\"type\":\"barpolar\"}],\"pie\":[{\"automargin\":true,\"type\":\"pie\"}]},\"layout\":{\"autotypenumbers\":\"strict\",\"colorway\":[\"#636efa\",\"#EF553B\",\"#00cc96\",\"#ab63fa\",\"#FFA15A\",\"#19d3f3\",\"#FF6692\",\"#B6E880\",\"#FF97FF\",\"#FECB52\"],\"font\":{\"color\":\"#2a3f5f\"},\"hovermode\":\"closest\",\"hoverlabel\":{\"align\":\"left\"},\"paper_bgcolor\":\"white\",\"plot_bgcolor\":\"#E5ECF6\",\"polar\":{\"bgcolor\":\"#E5ECF6\",\"angularaxis\":{\"gridcolor\":\"white\",\"linecolor\":\"white\",\"ticks\":\"\"},\"radialaxis\":{\"gridcolor\":\"white\",\"linecolor\":\"white\",\"ticks\":\"\"}},\"ternary\":{\"bgcolor\":\"#E5ECF6\",\"aaxis\":{\"gridcolor\":\"white\",\"linecolor\":\"white\",\"ticks\":\"\"},\"baxis\":{\"gridcolor\":\"white\",\"linecolor\":\"white\",\"ticks\":\"\"},\"caxis\":{\"gridcolor\":\"white\",\"linecolor\":\"white\",\"ticks\":\"\"}},\"coloraxis\":{\"colorbar\":{\"outlinewidth\":0,\"ticks\":\"\"}},\"colorscale\":{\"sequential\":[[0.0,\"#0d0887\"],[0.1111111111111111,\"#46039f\"],[0.2222222222222222,\"#7201a8\"],[0.3333333333333333,\"#9c179e\"],[0.4444444444444444,\"#bd3786\"],[0.5555555555555556,\"#d8576b\"],[0.6666666666666666,\"#ed7953\"],[0.7777777777777778,\"#fb9f3a\"],[0.8888888888888888,\"#fdca26\"],[1.0,\"#f0f921\"]],\"sequentialminus\":[[0.0,\"#0d0887\"],[0.1111111111111111,\"#46039f\"],[0.2222222222222222,\"#7201a8\"],[0.3333333333333333,\"#9c179e\"],[0.4444444444444444,\"#bd3786\"],[0.5555555555555556,\"#d8576b\"],[0.6666666666666666,\"#ed7953\"],[0.7777777777777778,\"#fb9f3a\"],[0.8888888888888888,\"#fdca26\"],[1.0,\"#f0f921\"]],\"diverging\":[[0,\"#8e0152\"],[0.1,\"#c51b7d\"],[0.2,\"#de77ae\"],[0.3,\"#f1b6da\"],[0.4,\"#fde0ef\"],[0.5,\"#f7f7f7\"],[0.6,\"#e6f5d0\"],[0.7,\"#b8e186\"],[0.8,\"#7fbc41\"],[0.9,\"#4d9221\"],[1,\"#276419\"]]},\"xaxis\":{\"gridcolor\":\"white\",\"linecolor\":\"white\",\"ticks\":\"\",\"title\":{\"standoff\":15},\"zerolinecolor\":\"white\",\"automargin\":true,\"zerolinewidth\":2},\"yaxis\":{\"gridcolor\":\"white\",\"linecolor\":\"white\",\"ticks\":\"\",\"title\":{\"standoff\":15},\"zerolinecolor\":\"white\",\"automargin\":true,\"zerolinewidth\":2},\"scene\":{\"xaxis\":{\"backgroundcolor\":\"#E5ECF6\",\"gridcolor\":\"white\",\"linecolor\":\"white\",\"showbackground\":true,\"ticks\":\"\",\"zerolinecolor\":\"white\",\"gridwidth\":2},\"yaxis\":{\"backgroundcolor\":\"#E5ECF6\",\"gridcolor\":\"white\",\"linecolor\":\"white\",\"showbackground\":true,\"ticks\":\"\",\"zerolinecolor\":\"white\",\"gridwidth\":2},\"zaxis\":{\"backgroundcolor\":\"#E5ECF6\",\"gridcolor\":\"white\",\"linecolor\":\"white\",\"showbackground\":true,\"ticks\":\"\",\"zerolinecolor\":\"white\",\"gridwidth\":2}},\"shapedefaults\":{\"line\":{\"color\":\"#2a3f5f\"}},\"annotationdefaults\":{\"arrowcolor\":\"#2a3f5f\",\"arrowhead\":0,\"arrowwidth\":1},\"geo\":{\"bgcolor\":\"white\",\"landcolor\":\"#E5ECF6\",\"subunitcolor\":\"white\",\"showland\":true,\"showlakes\":true,\"lakecolor\":\"white\"},\"title\":{\"x\":0.05},\"mapbox\":{\"style\":\"light\"}}},\"xaxis\":{\"anchor\":\"y\",\"domain\":[0.0,1.0],\"title\":{\"text\":\"Entity Type\"}},\"yaxis\":{\"anchor\":\"x\",\"domain\":[0.0,1.0],\"title\":{\"text\":\"Percentage (%)\"}},\"legend\":{\"title\":{\"text\":\"Dataset\"},\"tracegroupgap\":0},\"title\":{\"text\":\"Entity Distribution in Train, Validation, and Test Data (Percentage)\"},\"barmode\":\"group\"},                        {\"responsive\": true}                    ).then(function(){\n",
              "                            \n",
              "var gd = document.getElementById('17fe532f-c214-47de-9906-2602706e4513');\n",
              "var x = new MutationObserver(function (mutations, observer) {{\n",
              "        var display = window.getComputedStyle(gd).display;\n",
              "        if (!display || display === 'none') {{\n",
              "            console.log([gd, 'removed!']);\n",
              "            Plotly.purge(gd);\n",
              "            observer.disconnect();\n",
              "        }}\n",
              "}});\n",
              "\n",
              "// Listen for the removal of the full notebook cells\n",
              "var notebookContainer = gd.closest('#notebook-container');\n",
              "if (notebookContainer) {{\n",
              "    x.observe(notebookContainer, {childList: true});\n",
              "}}\n",
              "\n",
              "// Listen for the clearing of the current output cell\n",
              "var outputEl = gd.closest('.output');\n",
              "if (outputEl) {{\n",
              "    x.observe(outputEl, {childList: true});\n",
              "}}\n",
              "\n",
              "                        })                };                            </script>        </div>\n",
              "</body>\n",
              "</html>"
            ]
          },
          "metadata": {}
        }
      ]
    },
    {
      "cell_type": "code",
      "source": [
        "output_dir=Path(\"/content/drive/MyDrive/sapient\")"
      ],
      "metadata": {
        "id": "5VAnonzMA9m8"
      },
      "execution_count": 53,
      "outputs": []
    },
    {
      "cell_type": "markdown",
      "source": [
        "## Method to create data in spacy format"
      ],
      "metadata": {
        "id": "WIk45AAtjuSO"
      }
    },
    {
      "cell_type": "code",
      "source": [
        "def create_data(data):\n",
        "  nlp = spacy.blank(\"en\")\n",
        "  doc_bin = DocBin()\n",
        "  for example in tqdm(data):\n",
        "     text = example[0]\n",
        "     labels = example[1]['entities']\n",
        "     doc = nlp.make_doc(text)\n",
        "     ents = []\n",
        "     for start, end, label in labels:\n",
        "         span = doc.char_span(start, end, label=label, alignment_mode=\"contract\")\n",
        "         if span is None:\n",
        "             print(\"Skipping entity\")\n",
        "         else:\n",
        "             ents.append(span)\n",
        "     filtered_ents = filter_spans(ents)\n",
        "     doc.ents = filtered_ents\n",
        "     doc_bin.add(doc)\n",
        "  return doc_bin"
      ],
      "metadata": {
        "id": "ZXaCYO8JBnoV"
      },
      "execution_count": 54,
      "outputs": []
    },
    {
      "cell_type": "markdown",
      "source": [
        "## Store the spaCy format data to disk"
      ],
      "metadata": {
        "id": "aPziv4nTj0et"
      }
    },
    {
      "cell_type": "code",
      "source": [
        "#doc_bin.to_disk(\"train.spacy\")\n",
        "train_bin = create_data(train_set)\n",
        "val_bin = create_data(val_set)\n",
        "test_bin = create_data(test_set)\n",
        "train_bin.to_disk(output_dir / \"train_split.spacy\")\n",
        "val_bin.to_disk(output_dir / \"val_split.spacy\")\n",
        "test_bin.to_disk(output_dir / \"test_split.spacy\")"
      ],
      "metadata": {
        "colab": {
          "base_uri": "https://localhost:8080/"
        },
        "id": "uqnvouP0CaAY",
        "outputId": "f0e15979-286c-48e4-c5a7-022bc037a93e"
      },
      "execution_count": 55,
      "outputs": [
        {
          "output_type": "stream",
          "name": "stderr",
          "text": [
            "100%|██████████| 34092/34092 [00:09<00:00, 3706.78it/s]\n",
            "100%|██████████| 4262/4262 [00:01<00:00, 3149.84it/s]\n",
            "100%|██████████| 9589/9589 [00:02<00:00, 3570.39it/s]\n"
          ]
        }
      ]
    },
    {
      "cell_type": "markdown",
      "source": [
        "## Initilize a config from base config"
      ],
      "metadata": {
        "id": "zLxTJQTukGWP"
      }
    },
    {
      "cell_type": "code",
      "source": [
        "!pip install 'spacy[transformers]'"
      ],
      "metadata": {
        "colab": {
          "base_uri": "https://localhost:8080/"
        },
        "collapsed": true,
        "id": "18Aw__yN-atR",
        "outputId": "2a26c11b-c545-4ec9-930a-4b63922ee859"
      },
      "execution_count": 58,
      "outputs": [
        {
          "output_type": "stream",
          "name": "stdout",
          "text": [
            "Requirement already satisfied: spacy[transformers] in /usr/local/lib/python3.10/dist-packages (3.7.5)\n",
            "Requirement already satisfied: spacy-legacy<3.1.0,>=3.0.11 in /usr/local/lib/python3.10/dist-packages (from spacy[transformers]) (3.0.12)\n",
            "Requirement already satisfied: spacy-loggers<2.0.0,>=1.0.0 in /usr/local/lib/python3.10/dist-packages (from spacy[transformers]) (1.0.5)\n",
            "Requirement already satisfied: murmurhash<1.1.0,>=0.28.0 in /usr/local/lib/python3.10/dist-packages (from spacy[transformers]) (1.0.10)\n",
            "Requirement already satisfied: cymem<2.1.0,>=2.0.2 in /usr/local/lib/python3.10/dist-packages (from spacy[transformers]) (2.0.8)\n",
            "Requirement already satisfied: preshed<3.1.0,>=3.0.2 in /usr/local/lib/python3.10/dist-packages (from spacy[transformers]) (3.0.9)\n",
            "Requirement already satisfied: thinc<8.3.0,>=8.2.2 in /usr/local/lib/python3.10/dist-packages (from spacy[transformers]) (8.2.5)\n",
            "Requirement already satisfied: wasabi<1.2.0,>=0.9.1 in /usr/local/lib/python3.10/dist-packages (from spacy[transformers]) (1.1.3)\n",
            "Requirement already satisfied: srsly<3.0.0,>=2.4.3 in /usr/local/lib/python3.10/dist-packages (from spacy[transformers]) (2.4.8)\n",
            "Requirement already satisfied: catalogue<2.1.0,>=2.0.6 in /usr/local/lib/python3.10/dist-packages (from spacy[transformers]) (2.0.10)\n",
            "Requirement already satisfied: weasel<0.5.0,>=0.1.0 in /usr/local/lib/python3.10/dist-packages (from spacy[transformers]) (0.4.1)\n",
            "Requirement already satisfied: typer<1.0.0,>=0.3.0 in /usr/local/lib/python3.10/dist-packages (from spacy[transformers]) (0.12.3)\n",
            "Requirement already satisfied: tqdm<5.0.0,>=4.38.0 in /usr/local/lib/python3.10/dist-packages (from spacy[transformers]) (4.66.4)\n",
            "Requirement already satisfied: requests<3.0.0,>=2.13.0 in /usr/local/lib/python3.10/dist-packages (from spacy[transformers]) (2.31.0)\n",
            "Requirement already satisfied: pydantic!=1.8,!=1.8.1,<3.0.0,>=1.7.4 in /usr/local/lib/python3.10/dist-packages (from spacy[transformers]) (2.8.2)\n",
            "Requirement already satisfied: jinja2 in /usr/local/lib/python3.10/dist-packages (from spacy[transformers]) (3.1.4)\n",
            "Requirement already satisfied: setuptools in /usr/local/lib/python3.10/dist-packages (from spacy[transformers]) (67.7.2)\n",
            "Requirement already satisfied: packaging>=20.0 in /usr/local/lib/python3.10/dist-packages (from spacy[transformers]) (24.1)\n",
            "Requirement already satisfied: langcodes<4.0.0,>=3.2.0 in /usr/local/lib/python3.10/dist-packages (from spacy[transformers]) (3.4.0)\n",
            "Requirement already satisfied: numpy>=1.19.0 in /usr/local/lib/python3.10/dist-packages (from spacy[transformers]) (1.25.2)\n",
            "Collecting spacy-transformers<1.4.0,>=1.1.2 (from spacy[transformers])\n",
            "  Downloading spacy_transformers-1.3.5-cp310-cp310-manylinux_2_17_x86_64.manylinux2014_x86_64.whl (197 kB)\n",
            "\u001b[2K     \u001b[90m━━━━━━━━━━━━━━━━━━━━━━━━━━━━━━━━━━━━━━━━\u001b[0m \u001b[32m197.8/197.8 kB\u001b[0m \u001b[31m6.5 MB/s\u001b[0m eta \u001b[36m0:00:00\u001b[0m\n",
            "\u001b[?25hRequirement already satisfied: language-data>=1.2 in /usr/local/lib/python3.10/dist-packages (from langcodes<4.0.0,>=3.2.0->spacy[transformers]) (1.2.0)\n",
            "Requirement already satisfied: annotated-types>=0.4.0 in /usr/local/lib/python3.10/dist-packages (from pydantic!=1.8,!=1.8.1,<3.0.0,>=1.7.4->spacy[transformers]) (0.7.0)\n",
            "Requirement already satisfied: pydantic-core==2.20.1 in /usr/local/lib/python3.10/dist-packages (from pydantic!=1.8,!=1.8.1,<3.0.0,>=1.7.4->spacy[transformers]) (2.20.1)\n",
            "Requirement already satisfied: typing-extensions>=4.6.1 in /usr/local/lib/python3.10/dist-packages (from pydantic!=1.8,!=1.8.1,<3.0.0,>=1.7.4->spacy[transformers]) (4.12.2)\n",
            "Requirement already satisfied: charset-normalizer<4,>=2 in /usr/local/lib/python3.10/dist-packages (from requests<3.0.0,>=2.13.0->spacy[transformers]) (3.3.2)\n",
            "Requirement already satisfied: idna<4,>=2.5 in /usr/local/lib/python3.10/dist-packages (from requests<3.0.0,>=2.13.0->spacy[transformers]) (3.7)\n",
            "Requirement already satisfied: urllib3<3,>=1.21.1 in /usr/local/lib/python3.10/dist-packages (from requests<3.0.0,>=2.13.0->spacy[transformers]) (2.0.7)\n",
            "Requirement already satisfied: certifi>=2017.4.17 in /usr/local/lib/python3.10/dist-packages (from requests<3.0.0,>=2.13.0->spacy[transformers]) (2024.7.4)\n",
            "Collecting transformers<4.37.0,>=3.4.0 (from spacy-transformers<1.4.0,>=1.1.2->spacy[transformers])\n",
            "  Downloading transformers-4.36.2-py3-none-any.whl (8.2 MB)\n",
            "\u001b[2K     \u001b[90m━━━━━━━━━━━━━━━━━━━━━━━━━━━━━━━━━━━━━━━━\u001b[0m \u001b[32m8.2/8.2 MB\u001b[0m \u001b[31m98.5 MB/s\u001b[0m eta \u001b[36m0:00:00\u001b[0m\n",
            "\u001b[?25hRequirement already satisfied: torch>=1.8.0 in /usr/local/lib/python3.10/dist-packages (from spacy-transformers<1.4.0,>=1.1.2->spacy[transformers]) (2.3.1+cu121)\n",
            "Collecting spacy-alignments<1.0.0,>=0.7.2 (from spacy-transformers<1.4.0,>=1.1.2->spacy[transformers])\n",
            "  Downloading spacy_alignments-0.9.1-cp310-cp310-manylinux_2_17_x86_64.manylinux2014_x86_64.whl (313 kB)\n",
            "\u001b[2K     \u001b[90m━━━━━━━━━━━━━━━━━━━━━━━━━━━━━━━━━━━━━━━━\u001b[0m \u001b[32m314.0/314.0 kB\u001b[0m \u001b[31m41.8 MB/s\u001b[0m eta \u001b[36m0:00:00\u001b[0m\n",
            "\u001b[?25hRequirement already satisfied: blis<0.8.0,>=0.7.8 in /usr/local/lib/python3.10/dist-packages (from thinc<8.3.0,>=8.2.2->spacy[transformers]) (0.7.11)\n",
            "Requirement already satisfied: confection<1.0.0,>=0.0.1 in /usr/local/lib/python3.10/dist-packages (from thinc<8.3.0,>=8.2.2->spacy[transformers]) (0.1.5)\n",
            "Requirement already satisfied: click>=8.0.0 in /usr/local/lib/python3.10/dist-packages (from typer<1.0.0,>=0.3.0->spacy[transformers]) (8.1.7)\n",
            "Requirement already satisfied: shellingham>=1.3.0 in /usr/local/lib/python3.10/dist-packages (from typer<1.0.0,>=0.3.0->spacy[transformers]) (1.5.4)\n",
            "Requirement already satisfied: rich>=10.11.0 in /usr/local/lib/python3.10/dist-packages (from typer<1.0.0,>=0.3.0->spacy[transformers]) (13.7.1)\n",
            "Requirement already satisfied: cloudpathlib<1.0.0,>=0.7.0 in /usr/local/lib/python3.10/dist-packages (from weasel<0.5.0,>=0.1.0->spacy[transformers]) (0.18.1)\n",
            "Requirement already satisfied: smart-open<8.0.0,>=5.2.1 in /usr/local/lib/python3.10/dist-packages (from weasel<0.5.0,>=0.1.0->spacy[transformers]) (7.0.4)\n",
            "Requirement already satisfied: MarkupSafe>=2.0 in /usr/local/lib/python3.10/dist-packages (from jinja2->spacy[transformers]) (2.1.5)\n",
            "Requirement already satisfied: marisa-trie>=0.7.7 in /usr/local/lib/python3.10/dist-packages (from language-data>=1.2->langcodes<4.0.0,>=3.2.0->spacy[transformers]) (1.2.0)\n",
            "Requirement already satisfied: markdown-it-py>=2.2.0 in /usr/local/lib/python3.10/dist-packages (from rich>=10.11.0->typer<1.0.0,>=0.3.0->spacy[transformers]) (3.0.0)\n",
            "Requirement already satisfied: pygments<3.0.0,>=2.13.0 in /usr/local/lib/python3.10/dist-packages (from rich>=10.11.0->typer<1.0.0,>=0.3.0->spacy[transformers]) (2.16.1)\n",
            "Requirement already satisfied: wrapt in /usr/local/lib/python3.10/dist-packages (from smart-open<8.0.0,>=5.2.1->weasel<0.5.0,>=0.1.0->spacy[transformers]) (1.14.1)\n",
            "Requirement already satisfied: filelock in /usr/local/lib/python3.10/dist-packages (from torch>=1.8.0->spacy-transformers<1.4.0,>=1.1.2->spacy[transformers]) (3.15.4)\n",
            "Requirement already satisfied: sympy in /usr/local/lib/python3.10/dist-packages (from torch>=1.8.0->spacy-transformers<1.4.0,>=1.1.2->spacy[transformers]) (1.13.0)\n",
            "Requirement already satisfied: networkx in /usr/local/lib/python3.10/dist-packages (from torch>=1.8.0->spacy-transformers<1.4.0,>=1.1.2->spacy[transformers]) (3.3)\n",
            "Requirement already satisfied: fsspec in /usr/local/lib/python3.10/dist-packages (from torch>=1.8.0->spacy-transformers<1.4.0,>=1.1.2->spacy[transformers]) (2023.6.0)\n",
            "Collecting nvidia-cuda-nvrtc-cu12==12.1.105 (from torch>=1.8.0->spacy-transformers<1.4.0,>=1.1.2->spacy[transformers])\n",
            "  Using cached nvidia_cuda_nvrtc_cu12-12.1.105-py3-none-manylinux1_x86_64.whl (23.7 MB)\n",
            "Collecting nvidia-cuda-runtime-cu12==12.1.105 (from torch>=1.8.0->spacy-transformers<1.4.0,>=1.1.2->spacy[transformers])\n",
            "  Using cached nvidia_cuda_runtime_cu12-12.1.105-py3-none-manylinux1_x86_64.whl (823 kB)\n",
            "Collecting nvidia-cuda-cupti-cu12==12.1.105 (from torch>=1.8.0->spacy-transformers<1.4.0,>=1.1.2->spacy[transformers])\n",
            "  Using cached nvidia_cuda_cupti_cu12-12.1.105-py3-none-manylinux1_x86_64.whl (14.1 MB)\n",
            "Collecting nvidia-cudnn-cu12==8.9.2.26 (from torch>=1.8.0->spacy-transformers<1.4.0,>=1.1.2->spacy[transformers])\n",
            "  Using cached nvidia_cudnn_cu12-8.9.2.26-py3-none-manylinux1_x86_64.whl (731.7 MB)\n",
            "Collecting nvidia-cublas-cu12==12.1.3.1 (from torch>=1.8.0->spacy-transformers<1.4.0,>=1.1.2->spacy[transformers])\n",
            "  Using cached nvidia_cublas_cu12-12.1.3.1-py3-none-manylinux1_x86_64.whl (410.6 MB)\n",
            "Collecting nvidia-cufft-cu12==11.0.2.54 (from torch>=1.8.0->spacy-transformers<1.4.0,>=1.1.2->spacy[transformers])\n",
            "  Using cached nvidia_cufft_cu12-11.0.2.54-py3-none-manylinux1_x86_64.whl (121.6 MB)\n",
            "Collecting nvidia-curand-cu12==10.3.2.106 (from torch>=1.8.0->spacy-transformers<1.4.0,>=1.1.2->spacy[transformers])\n",
            "  Using cached nvidia_curand_cu12-10.3.2.106-py3-none-manylinux1_x86_64.whl (56.5 MB)\n",
            "Collecting nvidia-cusolver-cu12==11.4.5.107 (from torch>=1.8.0->spacy-transformers<1.4.0,>=1.1.2->spacy[transformers])\n",
            "  Using cached nvidia_cusolver_cu12-11.4.5.107-py3-none-manylinux1_x86_64.whl (124.2 MB)\n",
            "Collecting nvidia-cusparse-cu12==12.1.0.106 (from torch>=1.8.0->spacy-transformers<1.4.0,>=1.1.2->spacy[transformers])\n",
            "  Using cached nvidia_cusparse_cu12-12.1.0.106-py3-none-manylinux1_x86_64.whl (196.0 MB)\n",
            "Collecting nvidia-nccl-cu12==2.20.5 (from torch>=1.8.0->spacy-transformers<1.4.0,>=1.1.2->spacy[transformers])\n",
            "  Using cached nvidia_nccl_cu12-2.20.5-py3-none-manylinux2014_x86_64.whl (176.2 MB)\n",
            "Collecting nvidia-nvtx-cu12==12.1.105 (from torch>=1.8.0->spacy-transformers<1.4.0,>=1.1.2->spacy[transformers])\n",
            "  Using cached nvidia_nvtx_cu12-12.1.105-py3-none-manylinux1_x86_64.whl (99 kB)\n",
            "Requirement already satisfied: triton==2.3.1 in /usr/local/lib/python3.10/dist-packages (from torch>=1.8.0->spacy-transformers<1.4.0,>=1.1.2->spacy[transformers]) (2.3.1)\n",
            "Collecting nvidia-nvjitlink-cu12 (from nvidia-cusolver-cu12==11.4.5.107->torch>=1.8.0->spacy-transformers<1.4.0,>=1.1.2->spacy[transformers])\n",
            "  Downloading nvidia_nvjitlink_cu12-12.5.82-py3-none-manylinux2014_x86_64.whl (21.3 MB)\n",
            "\u001b[2K     \u001b[90m━━━━━━━━━━━━━━━━━━━━━━━━━━━━━━━━━━━━━━━━\u001b[0m \u001b[32m21.3/21.3 MB\u001b[0m \u001b[31m72.1 MB/s\u001b[0m eta \u001b[36m0:00:00\u001b[0m\n",
            "\u001b[?25hRequirement already satisfied: huggingface-hub<1.0,>=0.19.3 in /usr/local/lib/python3.10/dist-packages (from transformers<4.37.0,>=3.4.0->spacy-transformers<1.4.0,>=1.1.2->spacy[transformers]) (0.23.5)\n",
            "Requirement already satisfied: pyyaml>=5.1 in /usr/local/lib/python3.10/dist-packages (from transformers<4.37.0,>=3.4.0->spacy-transformers<1.4.0,>=1.1.2->spacy[transformers]) (6.0.1)\n",
            "Requirement already satisfied: regex!=2019.12.17 in /usr/local/lib/python3.10/dist-packages (from transformers<4.37.0,>=3.4.0->spacy-transformers<1.4.0,>=1.1.2->spacy[transformers]) (2024.5.15)\n",
            "Collecting tokenizers<0.19,>=0.14 (from transformers<4.37.0,>=3.4.0->spacy-transformers<1.4.0,>=1.1.2->spacy[transformers])\n",
            "  Downloading tokenizers-0.15.2-cp310-cp310-manylinux_2_17_x86_64.manylinux2014_x86_64.whl (3.6 MB)\n",
            "\u001b[2K     \u001b[90m━━━━━━━━━━━━━━━━━━━━━━━━━━━━━━━━━━━━━━━━\u001b[0m \u001b[32m3.6/3.6 MB\u001b[0m \u001b[31m82.7 MB/s\u001b[0m eta \u001b[36m0:00:00\u001b[0m\n",
            "\u001b[?25hRequirement already satisfied: safetensors>=0.3.1 in /usr/local/lib/python3.10/dist-packages (from transformers<4.37.0,>=3.4.0->spacy-transformers<1.4.0,>=1.1.2->spacy[transformers]) (0.4.3)\n",
            "Requirement already satisfied: mdurl~=0.1 in /usr/local/lib/python3.10/dist-packages (from markdown-it-py>=2.2.0->rich>=10.11.0->typer<1.0.0,>=0.3.0->spacy[transformers]) (0.1.2)\n",
            "Requirement already satisfied: mpmath<1.4,>=1.1.0 in /usr/local/lib/python3.10/dist-packages (from sympy->torch>=1.8.0->spacy-transformers<1.4.0,>=1.1.2->spacy[transformers]) (1.3.0)\n",
            "Installing collected packages: spacy-alignments, nvidia-nvtx-cu12, nvidia-nvjitlink-cu12, nvidia-nccl-cu12, nvidia-curand-cu12, nvidia-cufft-cu12, nvidia-cuda-runtime-cu12, nvidia-cuda-nvrtc-cu12, nvidia-cuda-cupti-cu12, nvidia-cublas-cu12, nvidia-cusparse-cu12, nvidia-cudnn-cu12, tokenizers, nvidia-cusolver-cu12, transformers, spacy-transformers\n",
            "  Attempting uninstall: tokenizers\n",
            "    Found existing installation: tokenizers 0.19.1\n",
            "    Uninstalling tokenizers-0.19.1:\n",
            "      Successfully uninstalled tokenizers-0.19.1\n",
            "  Attempting uninstall: transformers\n",
            "    Found existing installation: transformers 4.42.4\n",
            "    Uninstalling transformers-4.42.4:\n",
            "      Successfully uninstalled transformers-4.42.4\n",
            "Successfully installed nvidia-cublas-cu12-12.1.3.1 nvidia-cuda-cupti-cu12-12.1.105 nvidia-cuda-nvrtc-cu12-12.1.105 nvidia-cuda-runtime-cu12-12.1.105 nvidia-cudnn-cu12-8.9.2.26 nvidia-cufft-cu12-11.0.2.54 nvidia-curand-cu12-10.3.2.106 nvidia-cusolver-cu12-11.4.5.107 nvidia-cusparse-cu12-12.1.0.106 nvidia-nccl-cu12-2.20.5 nvidia-nvjitlink-cu12-12.5.82 nvidia-nvtx-cu12-12.1.105 spacy-alignments-0.9.1 spacy-transformers-1.3.5 tokenizers-0.15.2 transformers-4.36.2\n"
          ]
        }
      ]
    },
    {
      "cell_type": "code",
      "source": [
        "!nvcc --version"
      ],
      "metadata": {
        "colab": {
          "base_uri": "https://localhost:8080/"
        },
        "id": "bL2SccmJ-goO",
        "outputId": "19f6b11a-d553-4b07-b80f-c939c28ed5b5"
      },
      "execution_count": 59,
      "outputs": [
        {
          "output_type": "stream",
          "name": "stdout",
          "text": [
            "nvcc: NVIDIA (R) Cuda compiler driver\n",
            "Copyright (c) 2005-2023 NVIDIA Corporation\n",
            "Built on Tue_Aug_15_22:02:13_PDT_2023\n",
            "Cuda compilation tools, release 12.2, V12.2.140\n",
            "Build cuda_12.2.r12.2/compiler.33191640_0\n"
          ]
        }
      ]
    },
    {
      "cell_type": "code",
      "source": [
        "!python -m spacy init fill-config /content/drive/MyDrive/sapient/base_config_split.cfg /content/drive/MyDrive/sapient/config_split.cfg"
      ],
      "metadata": {
        "colab": {
          "base_uri": "https://localhost:8080/"
        },
        "id": "jIuUvle5CtUE",
        "outputId": "97b7677a-a84d-4869-b2fc-67d14a1e11c5"
      },
      "execution_count": 60,
      "outputs": [
        {
          "output_type": "stream",
          "name": "stdout",
          "text": [
            "/usr/local/lib/python3.10/dist-packages/transformers/utils/generic.py:441: UserWarning: torch.utils._pytree._register_pytree_node is deprecated. Please use torch.utils._pytree.register_pytree_node instead.\n",
            "  _torch_pytree._register_pytree_node(\n",
            "/usr/local/lib/python3.10/dist-packages/transformers/utils/generic.py:309: UserWarning: torch.utils._pytree._register_pytree_node is deprecated. Please use torch.utils._pytree.register_pytree_node instead.\n",
            "  _torch_pytree._register_pytree_node(\n",
            "\u001b[38;5;2m✔ Auto-filled config with all values\u001b[0m\n",
            "\u001b[38;5;2m✔ Saved config\u001b[0m\n",
            "/content/drive/MyDrive/sapient/config_split.cfg\n",
            "You can now add your data and train your pipeline:\n",
            "python -m spacy train config_split.cfg --paths.train ./train.spacy --paths.dev ./dev.spacy\n"
          ]
        }
      ]
    },
    {
      "cell_type": "code",
      "source": [
        "!python -m spacy train /content/drive/MyDrive/sapient/config_split.cfg --output /content/drive/MyDrive/sapient/split/ --paths.train /content/drive/MyDrive/sapient/train_split.spacy --paths.dev /content/drive/MyDrive/sapient/val_split.spacy --gpu-id 0"
      ],
      "metadata": {
        "colab": {
          "base_uri": "https://localhost:8080/"
        },
        "id": "9KxMtfeOED7u",
        "outputId": "27aa9c3e-503b-489a-9a53-449a84e0de8f"
      },
      "execution_count": 63,
      "outputs": [
        {
          "output_type": "stream",
          "name": "stdout",
          "text": [
            "\u001b[38;5;4mℹ Saving to output directory: /content/drive/MyDrive/sapient/split\u001b[0m\n",
            "\u001b[38;5;4mℹ Using GPU: 0\u001b[0m\n",
            "\u001b[1m\n",
            "=========================== Initializing pipeline ===========================\u001b[0m\n",
            "/usr/local/lib/python3.10/dist-packages/transformers/utils/generic.py:441: UserWarning: torch.utils._pytree._register_pytree_node is deprecated. Please use torch.utils._pytree.register_pytree_node instead.\n",
            "  _torch_pytree._register_pytree_node(\n",
            "/usr/local/lib/python3.10/dist-packages/transformers/utils/generic.py:309: UserWarning: torch.utils._pytree._register_pytree_node is deprecated. Please use torch.utils._pytree.register_pytree_node instead.\n",
            "  _torch_pytree._register_pytree_node(\n",
            "/usr/local/lib/python3.10/dist-packages/huggingface_hub/file_download.py:1132: FutureWarning: `resume_download` is deprecated and will be removed in version 1.0.0. Downloads always resume when possible. If you want to force a new download, use `force_download=True`.\n",
            "  warnings.warn(\n",
            "/usr/local/lib/python3.10/dist-packages/transformers/utils/generic.py:309: UserWarning: torch.utils._pytree._register_pytree_node is deprecated. Please use torch.utils._pytree.register_pytree_node instead.\n",
            "  _torch_pytree._register_pytree_node(\n",
            "Some weights of RobertaModel were not initialized from the model checkpoint at roberta-base and are newly initialized: ['roberta.pooler.dense.weight', 'roberta.pooler.dense.bias']\n",
            "You should probably TRAIN this model on a down-stream task to be able to use it for predictions and inference.\n",
            "\u001b[38;5;2m✔ Initialized pipeline\u001b[0m\n",
            "\u001b[1m\n",
            "============================= Training pipeline =============================\u001b[0m\n",
            "\u001b[38;5;4mℹ Pipeline: ['transformer', 'ner']\u001b[0m\n",
            "\u001b[38;5;4mℹ Initial learn rate: 0.0\u001b[0m\n",
            "E    #       LOSS TRANS...  LOSS NER  ENTS_F  ENTS_P  ENTS_R  SCORE \n",
            "---  ------  -------------  --------  ------  ------  ------  ------\n",
            "  0       0         327.12    672.75    0.08    0.49    0.04    0.00\n",
            "  0     200       32350.35  65457.18   80.35   81.60   79.13    0.80\n",
            "  0     400        9140.80  15328.38   82.67   83.41   81.94    0.83\n",
            "  1     600        7711.39  13722.50   83.39   84.55   82.26    0.83\n",
            "  1     800        6993.06  12839.50   83.96   83.87   84.05    0.84\n",
            "  2    1000        6385.54  11813.49   83.93   83.26   84.61    0.84\n",
            "  2    1200        5841.12  10758.88   84.82   85.33   84.33    0.85\n",
            "  3    1400        5759.42  10501.30   84.77   84.28   85.25    0.85\n",
            "  3    1600        5132.74   9356.71   84.67   84.91   84.43    0.85\n",
            "  3    1800        5125.29   9285.59   85.38   85.48   85.29    0.85\n",
            "  4    2000        4374.97   7875.45   85.16   85.19   85.13    0.85\n",
            "  4    2200        4478.82   7931.26   84.60   83.84   85.37    0.85\n",
            "  5    2400        3950.41   7107.72   84.84   85.21   84.48    0.85\n",
            "  5    2600        3711.21   6660.67   85.20   85.36   85.04    0.85\n",
            "  6    2800        3895.48   6412.89   85.00   84.42   85.60    0.85\n",
            "  6    3000        3260.18   5703.41   85.47   86.53   84.45    0.85\n",
            "  6    3200        3371.00   5848.51   84.45   84.02   84.90    0.84\n",
            "  7    3400        2634.12   4641.48   85.01   84.74   85.28    0.85\n",
            "  7    3600        2821.45   4887.32   85.39   85.18   85.60    0.85\n",
            "\u001b[38;5;2m✔ Saved pipeline to output directory\u001b[0m\n",
            "/content/drive/MyDrive/sapient/split/model-last\n"
          ]
        }
      ]
    },
    {
      "cell_type": "code",
      "source": [
        "# @title\n",
        "import spacy\n",
        "from spacy.training import Example\n",
        "from spacy.scorer import Scorer\n",
        "from spacy.tokens import DocBin\n",
        "\n",
        "# Load the trained model\n",
        "model_path = \"/content/drive/MyDrive/sapient/model-best\"  # Change to your model path\n",
        "nlp = spacy.load(model_path)\n",
        "\n",
        "# Load the test data from .spacy file\n",
        "test_data_path = \"/content/drive/MyDrive/sapient/test.spacy\"  # Change to your test data path\n",
        "doc_bin = DocBin().from_disk(test_data_path)\n",
        "test_docs = list(doc_bin.get_docs(nlp.vocab))\n",
        "\n",
        "# Convert test data to SpaCy Example format\n",
        "def convert_to_examples(docs):\n",
        "    examples = []\n",
        "    for doc in docs:\n",
        "        example = Example.from_dict(doc, {\"entities\": [(ent.start_char, ent.end_char, ent.label_) for ent in doc.ents]})\n",
        "        examples.append(example)\n",
        "    return examples\n",
        "\n",
        "# Prepare test examples\n",
        "test_examples = convert_to_examples(test_docs)\n",
        "\n",
        "# Evaluate the model\n",
        "def evaluate_ner_model(nlp, examples):\n",
        "    scorer = Scorer()\n",
        "    for example in examples:\n",
        "        doc = nlp(example.text)\n",
        "        example.predicted = doc\n",
        "    scores = scorer.score(examples)\n",
        "    return scores\n",
        "\n",
        "# Get evaluation metrics\n",
        "metrics = evaluate_ner_model(nlp, test_examples)\n",
        "\n",
        "# Print the metrics\n",
        "# metrics = scorer.scores\n",
        "print(f\"Precision: {metrics['ents_p']:.4f}\")\n",
        "print(f\"Recall: {metrics['ents_r']:.4f}\")\n",
        "print(f\"F1 Score: {metrics['ents_f']:.4f}\")\n",
        "\n",
        "# Detailed metrics (optional)\n",
        "print(\"\\nDetailed Metrics:\")\n",
        "for entity_type, results in metrics['ents_per_type'].items():\n",
        "    print(f\"{entity_type}:\")\n",
        "    print(f\"  Precision: {results['p']:.4f}\")\n",
        "    print(f\"  Recall: {results['r']:.4f}\")\n",
        "    print(f\"  F1 Score: {results['f']:.4f}\")"
      ],
      "metadata": {
        "colab": {
          "base_uri": "https://localhost:8080/"
        },
        "cellView": "form",
        "collapsed": true,
        "id": "WFm3aAzJXjRR",
        "outputId": "affcc15c-ce75-4210-c14f-c55d57a91a95"
      },
      "execution_count": null,
      "outputs": [
        {
          "output_type": "stream",
          "name": "stdout",
          "text": [
            "Precision: 0.8508\n",
            "Recall: 0.8450\n",
            "F1 Score: 0.8479\n",
            "\n",
            "Detailed Metrics:\n",
            "B-tim:\n",
            "  Precision: 0.9183\n",
            "  Recall: 0.9065\n",
            "  F1 Score: 0.9124\n",
            "B-geo:\n",
            "  Precision: 0.8721\n",
            "  Recall: 0.8942\n",
            "  F1 Score: 0.8830\n",
            "I-geo:\n",
            "  Precision: 0.8457\n",
            "  Recall: 0.7688\n",
            "  F1 Score: 0.8054\n",
            "B-gpe:\n",
            "  Precision: 0.9431\n",
            "  Recall: 0.9401\n",
            "  F1 Score: 0.9416\n",
            "B-per:\n",
            "  Precision: 0.8315\n",
            "  Recall: 0.8130\n",
            "  F1 Score: 0.8222\n",
            "I-per:\n",
            "  Precision: 0.8205\n",
            "  Recall: 0.9203\n",
            "  F1 Score: 0.8675\n",
            "B-org:\n",
            "  Precision: 0.7855\n",
            "  Recall: 0.7422\n",
            "  F1 Score: 0.7632\n",
            "I-tim:\n",
            "  Precision: 0.8007\n",
            "  Recall: 0.8034\n",
            "  F1 Score: 0.8020\n",
            "I-org:\n",
            "  Precision: 0.7970\n",
            "  Recall: 0.7823\n",
            "  F1 Score: 0.7896\n",
            "I-gpe:\n",
            "  Precision: 1.0000\n",
            "  Recall: 0.6429\n",
            "  F1 Score: 0.7826\n",
            "B-nat:\n",
            "  Precision: 0.5556\n",
            "  Recall: 0.3846\n",
            "  F1 Score: 0.4545\n",
            "B-eve:\n",
            "  Precision: 0.7143\n",
            "  Recall: 0.3030\n",
            "  F1 Score: 0.4255\n",
            "B-art:\n",
            "  Precision: 0.0000\n",
            "  Recall: 0.0000\n",
            "  F1 Score: 0.0000\n",
            "I-art:\n",
            "  Precision: 0.0000\n",
            "  Recall: 0.0000\n",
            "  F1 Score: 0.0000\n",
            "I-eve:\n",
            "  Precision: 0.5000\n",
            "  Recall: 0.2500\n",
            "  F1 Score: 0.3333\n",
            "I-nat:\n",
            "  Precision: 0.0000\n",
            "  Recall: 0.0000\n",
            "  F1 Score: 0.0000\n"
          ]
        }
      ]
    },
    {
      "cell_type": "code",
      "source": [
        "!python -m spacy evaluate /content/drive/MyDrive/sapient/split/model-best/ /content/drive/MyDrive/sapient/test_split.spacy --gpu-id 0"
      ],
      "metadata": {
        "colab": {
          "base_uri": "https://localhost:8080/"
        },
        "id": "vmmk-PCqir-F",
        "outputId": "c314f967-e223-4f75-95b1-cb861026edb2"
      },
      "execution_count": 64,
      "outputs": [
        {
          "output_type": "stream",
          "name": "stdout",
          "text": [
            "\u001b[38;5;4mℹ Using GPU: 0\u001b[0m\n",
            "/usr/local/lib/python3.10/dist-packages/transformers/utils/generic.py:441: UserWarning: torch.utils._pytree._register_pytree_node is deprecated. Please use torch.utils._pytree.register_pytree_node instead.\n",
            "  _torch_pytree._register_pytree_node(\n",
            "/usr/local/lib/python3.10/dist-packages/transformers/utils/generic.py:309: UserWarning: torch.utils._pytree._register_pytree_node is deprecated. Please use torch.utils._pytree.register_pytree_node instead.\n",
            "  _torch_pytree._register_pytree_node(\n",
            "/usr/local/lib/python3.10/dist-packages/transformers/utils/generic.py:309: UserWarning: torch.utils._pytree._register_pytree_node is deprecated. Please use torch.utils._pytree.register_pytree_node instead.\n",
            "  _torch_pytree._register_pytree_node(\n",
            "\u001b[1m\n",
            "================================== Results ==================================\u001b[0m\n",
            "\n",
            "TOK     100.00\n",
            "NER P   86.32 \n",
            "NER R   84.59 \n",
            "NER F   85.45 \n",
            "SPEED   7926  \n",
            "\n",
            "\u001b[1m\n",
            "=============================== NER (per type) ===============================\u001b[0m\n",
            "\n",
            "             P       R       F\n",
            "B-geo    88.65   88.87   88.76\n",
            "I-geo    81.37   80.56   80.96\n",
            "B-per    82.82   87.02   84.87\n",
            "I-per    84.06   93.27   88.43\n",
            "B-org    80.30   71.81   75.82\n",
            "B-tim    92.36   88.34   90.31\n",
            "B-gpe    94.98   93.94   94.46\n",
            "I-org    84.02   76.24   79.94\n",
            "I-tim    86.62   74.62   80.17\n",
            "B-art    17.78   10.96   13.56\n",
            "B-eve    48.61   49.30   48.95\n",
            "I-eve    36.73   33.96   35.29\n",
            "I-gpe    73.47   67.92   70.59\n",
            "I-art    20.00    8.93   12.35\n",
            "B-nat    63.64   35.00   45.16\n",
            "I-nat   100.00   25.00   40.00\n",
            "\n"
          ]
        }
      ]
    },
    {
      "cell_type": "code",
      "source": [
        "nlp_ner = spacy.load(\"/content/drive/MyDrive/sapient/model-best\")\n",
        "doc = nlp_ner(test_set[2][0])\n",
        "spacy.displacy.render(doc, style=\"ent\", jupyter=True)\n"
      ],
      "metadata": {
        "colab": {
          "base_uri": "https://localhost:8080/",
          "height": 248
        },
        "id": "nB687dyIKk36",
        "outputId": "e4321523-5371-47a8-f0d6-82ecf98e025e"
      },
      "execution_count": 65,
      "outputs": [
        {
          "output_type": "stream",
          "name": "stderr",
          "text": [
            "/usr/local/lib/python3.10/dist-packages/spacy/util.py:1740: UserWarning:\n",
            "\n",
            "[W111] Jupyter notebook detected: if using `prefer_gpu()` or `require_gpu()`, include it in the same cell right before `spacy.load()` to ensure that the model is loaded on the correct device. More information: http://spacy.io/usage/v3#jupyter-notebook-gpu\n",
            "\n"
          ]
        },
        {
          "output_type": "display_data",
          "data": {
            "text/plain": [
              "<IPython.core.display.HTML object>"
            ],
            "text/html": [
              "<span class=\"tex2jax_ignore\"><div class=\"entities\" style=\"line-height: 2.5; direction: ltr\">\n",
              "<mark class=\"entity\" style=\"background: #ddd; padding: 0.45em 0.6em; margin: 0 0.25em; line-height: 1; border-radius: 0.35em;\">\n",
              "    Congressman\n",
              "    <span style=\"font-size: 0.8em; font-weight: bold; line-height: 1; border-radius: 0.35em; vertical-align: middle; margin-left: 0.5rem\">B-per</span>\n",
              "</mark>\n",
              " \n",
              "<mark class=\"entity\" style=\"background: #ddd; padding: 0.45em 0.6em; margin: 0 0.25em; line-height: 1; border-radius: 0.35em;\">\n",
              "    Tom\n",
              "    <span style=\"font-size: 0.8em; font-weight: bold; line-height: 1; border-radius: 0.35em; vertical-align: middle; margin-left: 0.5rem\">B-per</span>\n",
              "</mark>\n",
              " \n",
              "<mark class=\"entity\" style=\"background: #ddd; padding: 0.45em 0.6em; margin: 0 0.25em; line-height: 1; border-radius: 0.35em;\">\n",
              "    Lantos\n",
              "    <span style=\"font-size: 0.8em; font-weight: bold; line-height: 1; border-radius: 0.35em; vertical-align: middle; margin-left: 0.5rem\">I-per</span>\n",
              "</mark>\n",
              " - a Democrat from the western \n",
              "<mark class=\"entity\" style=\"background: #ddd; padding: 0.45em 0.6em; margin: 0 0.25em; line-height: 1; border-radius: 0.35em;\">\n",
              "    U.S.\n",
              "    <span style=\"font-size: 0.8em; font-weight: bold; line-height: 1; border-radius: 0.35em; vertical-align: middle; margin-left: 0.5rem\">B-geo</span>\n",
              "</mark>\n",
              " state of \n",
              "<mark class=\"entity\" style=\"background: #ddd; padding: 0.45em 0.6em; margin: 0 0.25em; line-height: 1; border-radius: 0.35em;\">\n",
              "    California\n",
              "    <span style=\"font-size: 0.8em; font-weight: bold; line-height: 1; border-radius: 0.35em; vertical-align: middle; margin-left: 0.5rem\">B-geo</span>\n",
              "</mark>\n",
              " - spoke in \n",
              "<mark class=\"entity\" style=\"background: #ddd; padding: 0.45em 0.6em; margin: 0 0.25em; line-height: 1; border-radius: 0.35em;\">\n",
              "    Beijing\n",
              "    <span style=\"font-size: 0.8em; font-weight: bold; line-height: 1; border-radius: 0.35em; vertical-align: middle; margin-left: 0.5rem\">B-geo</span>\n",
              "</mark>\n",
              " \n",
              "<mark class=\"entity\" style=\"background: #ddd; padding: 0.45em 0.6em; margin: 0 0.25em; line-height: 1; border-radius: 0.35em;\">\n",
              "    Tuesday\n",
              "    <span style=\"font-size: 0.8em; font-weight: bold; line-height: 1; border-radius: 0.35em; vertical-align: middle; margin-left: 0.5rem\">B-tim</span>\n",
              "</mark>\n",
              " after \n",
              "<mark class=\"entity\" style=\"background: #ddd; padding: 0.45em 0.6em; margin: 0 0.25em; line-height: 1; border-radius: 0.35em;\">\n",
              "    three\n",
              "    <span style=\"font-size: 0.8em; font-weight: bold; line-height: 1; border-radius: 0.35em; vertical-align: middle; margin-left: 0.5rem\">B-tim</span>\n",
              "</mark>\n",
              " days of talks with high-ranking North \n",
              "<mark class=\"entity\" style=\"background: #ddd; padding: 0.45em 0.6em; margin: 0 0.25em; line-height: 1; border-radius: 0.35em;\">\n",
              "    Korean\n",
              "    <span style=\"font-size: 0.8em; font-weight: bold; line-height: 1; border-radius: 0.35em; vertical-align: middle; margin-left: 0.5rem\">B-gpe</span>\n",
              "</mark>\n",
              " officials including the vice president of the Presidium of the \n",
              "<mark class=\"entity\" style=\"background: #ddd; padding: 0.45em 0.6em; margin: 0 0.25em; line-height: 1; border-radius: 0.35em;\">\n",
              "    Supreme\n",
              "    <span style=\"font-size: 0.8em; font-weight: bold; line-height: 1; border-radius: 0.35em; vertical-align: middle; margin-left: 0.5rem\">B-org</span>\n",
              "</mark>\n",
              " \n",
              "<mark class=\"entity\" style=\"background: #ddd; padding: 0.45em 0.6em; margin: 0 0.25em; line-height: 1; border-radius: 0.35em;\">\n",
              "    People\n",
              "    <span style=\"font-size: 0.8em; font-weight: bold; line-height: 1; border-radius: 0.35em; vertical-align: middle; margin-left: 0.5rem\">I-org</span>\n",
              "</mark>\n",
              " \n",
              "<mark class=\"entity\" style=\"background: #ddd; padding: 0.45em 0.6em; margin: 0 0.25em; line-height: 1; border-radius: 0.35em;\">\n",
              "    's\n",
              "    <span style=\"font-size: 0.8em; font-weight: bold; line-height: 1; border-radius: 0.35em; vertical-align: middle; margin-left: 0.5rem\">I-org</span>\n",
              "</mark>\n",
              " \n",
              "<mark class=\"entity\" style=\"background: #ddd; padding: 0.45em 0.6em; margin: 0 0.25em; line-height: 1; border-radius: 0.35em;\">\n",
              "    Assembly\n",
              "    <span style=\"font-size: 0.8em; font-weight: bold; line-height: 1; border-radius: 0.35em; vertical-align: middle; margin-left: 0.5rem\">I-org</span>\n",
              "</mark>\n",
              " , \n",
              "<mark class=\"entity\" style=\"background: #ddd; padding: 0.45em 0.6em; margin: 0 0.25em; line-height: 1; border-radius: 0.35em;\">\n",
              "    Yang\n",
              "    <span style=\"font-size: 0.8em; font-weight: bold; line-height: 1; border-radius: 0.35em; vertical-align: middle; margin-left: 0.5rem\">B-per</span>\n",
              "</mark>\n",
              " \n",
              "<mark class=\"entity\" style=\"background: #ddd; padding: 0.45em 0.6em; margin: 0 0.25em; line-height: 1; border-radius: 0.35em;\">\n",
              "    Hyong-sop\n",
              "    <span style=\"font-size: 0.8em; font-weight: bold; line-height: 1; border-radius: 0.35em; vertical-align: middle; margin-left: 0.5rem\">I-per</span>\n",
              "</mark>\n",
              " , and Foreign Minister \n",
              "<mark class=\"entity\" style=\"background: #ddd; padding: 0.45em 0.6em; margin: 0 0.25em; line-height: 1; border-radius: 0.35em;\">\n",
              "    Paek\n",
              "    <span style=\"font-size: 0.8em; font-weight: bold; line-height: 1; border-radius: 0.35em; vertical-align: middle; margin-left: 0.5rem\">I-per</span>\n",
              "</mark>\n",
              " \n",
              "<mark class=\"entity\" style=\"background: #ddd; padding: 0.45em 0.6em; margin: 0 0.25em; line-height: 1; border-radius: 0.35em;\">\n",
              "    Nam\n",
              "    <span style=\"font-size: 0.8em; font-weight: bold; line-height: 1; border-radius: 0.35em; vertical-align: middle; margin-left: 0.5rem\">I-per</span>\n",
              "</mark>\n",
              " \n",
              "<mark class=\"entity\" style=\"background: #ddd; padding: 0.45em 0.6em; margin: 0 0.25em; line-height: 1; border-radius: 0.35em;\">\n",
              "    Sun\n",
              "    <span style=\"font-size: 0.8em; font-weight: bold; line-height: 1; border-radius: 0.35em; vertical-align: middle; margin-left: 0.5rem\">I-per</span>\n",
              "</mark>\n",
              " .</div></span>"
            ]
          },
          "metadata": {}
        }
      ]
    },
    {
      "cell_type": "markdown",
      "source": [
        "## Observations and Findings\n",
        "\n",
        "1. **Overall Performance**:\n",
        "   - The model shows good performance on common entity types such as `B-geo`, `B-gpe`, `B-org`, `B-per`, `I-per`, `B-tim`, and `I-tim`, with F1-scores above 75.\n",
        "   - The highest performance is observed in `B-gpe` (F1-score 94.92) and `B-geo` (F1-score 88.41)\n",
        "\n",
        "2. **Low Performance**:\n",
        "   - Certain entity types such as `I-art`, `B-art`, `B-eve`, `I-eve`, `I-nat`, and `B-nat` have very low F1-scores.\n",
        "\n",
        "\n",
        "## Future Improvement Strategy\n",
        "\n",
        "1. **Data Augmentation**:\n",
        "   - Increase the quantity of training data, particularly for underperforming entity types.\n",
        "\n",
        "2. **Class Balancing**:\n",
        "   - Collecting more instances of underrepresented entity types like `I-art`, `B-art`, `B-eve`, `I-eve`, `I-nat`, and `B-nat`.\n",
        "\n",
        "3. **Model Architecture and Hyperparameters**:\n",
        "   - Experiment with different model architectures and hyperparameters.\n",
        "   - Hyperparameter tuning - learning rate, batch size, and the number of epochs to optimize the training process.\n"
      ],
      "metadata": {
        "id": "x7CqD7u73Bu7"
      }
    },
    {
      "cell_type": "code",
      "source": [],
      "metadata": {
        "id": "4gJav1KIpr8_"
      },
      "execution_count": null,
      "outputs": []
    }
  ]
}